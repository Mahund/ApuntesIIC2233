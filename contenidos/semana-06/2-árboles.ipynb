{
 "cells": [
  {
   "cell_type": "markdown",
   "metadata": {},
   "source": [
    "<p>\n",
    "<font size='5' face='Georgia, Arial'>IIC-2233 Apunte Programación Avanzada</font><br>\n",
    "<font size='1'>&copy; 2015-2016 Karim Pichara - Christian Pieringer <sup>1</sup>. Todos los derechos reservados. Editado por Equipo Docente IIC2233 2018-1, 2018-2.</font>\n",
    "</p>"
   ]
  },
  {
   "cell_type": "markdown",
   "metadata": {},
   "source": [
    "# Árboles\n",
    "\n",
    "Un **árbol** corresponde a una estructura de datos _no lineal_. Un árbol es un conjunto de nodos que sigue una estructura **jerárquica**. A diferencia de las estructuras basadas en secuencias (lineales) como listas, colas y pilas, en los árboles los elementos están ordenados de acuerdo a una relación _padre-hijo_ entre los nodos.\n",
    "\n",
    "El primer nodo en el árbol recibe el nombre de **nodo raíz** (_root_). Cada nodo del árbol, salvo el nodo raíz, tiene un **_padre_** (_parent_) y cero o más nodos **_hijos_** (_children_). Los nodos provenientes de un mismo padre se denominan nodos **hermanos**, y los nodos en la línea de descendencia del nodo padre se conocen como **ancestros**. Los nodos que no poseen hijos se denominan nodos **hoja**. Por último, todos los nodos que no son hoja ni raíz se denominan **nodos interiores**.\n",
    "\n",
    "Formalmente, un árbol $T$ que ordena sus elementos bajo una relación _padre-hijo_ tiene las siguientes propiedades:\n",
    "\n",
    "- si $T$ no está vacío, entonces tiene un único nodo _raíz_ que no tiene padres.\n",
    "- cada nodo $c$ en $T$ distinto de la raíz, tiene un único padre $p$, y todos los nodos que tienen por padre a $p$ son hijos de $p$.\n",
    "\n",
    "En la figura a continuación, el árbol mostrado tiene como nodo raíz a _\"Reino Animal\"_. Este nodo tiene dos nodos hijos: _\"Vertebrados\"_ e _\"Invertebrados\"_. Por otro lado, el nodo _\"Gusanos\"_ es un nojo hoja que tiene como padre al nodo _\"Invertebrados\"_.\n",
    "\n",
    "![](img/trees-example.png)\n",
    "\n",
    "\n",
    "Un árbol es una estructura recursiva. Cada nodo es, a su vez, la raíz de un sub-árbol formado por él y sus hijos. En el ejemplo anterior, los nodos _\"Artópodos\"_, _\"Insectos\"_ y _\"Arácnidos\"_ también forman un árbol.\n",
    "\n",
    "\n",
    "Una **arista** corresponde a una conexión directa entre un par de nodos $(u,v)$. Cada nodo tiene una arista que lo conecta con su padre, y una arista que lo conecta con cada uno de sus hijos. Una secuencia ordenada de nodos consecutivos unidos por aristas a lo largo de un árbol $T$ forman un **camino**. En la figura anterior, los nodos _\"Peces\"_ y _\"Oseos\"_ poseen una arista entre ellos, y están en el camino _Reino Animal-Vertebrados-Peces-Oseos_.\n",
    "\n",
    "La **profundidad** (_depth_) de un nodo $u$ corresponde al número de aristas que debe recorrer para llegar a la raíz. La **altura** (_height_) del árbol corresponde al máximo de las profundidades alcanzadas por los nodos hoja. Por ejemplo en la figura anterior, la profundidad del nodo _\"Peces\"_ es 2, y la altura del árbol es 3."
   ]
  },
  {
   "cell_type": "markdown",
   "metadata": {},
   "source": [
    "## Árboles basados en nodos enlazados\n",
    "\n",
    "Definiremos la estructura `Arbol`, modelando cada nodo como un objeto con los siguientes atributos:\n",
    "\n",
    "- `id_nodo`: corresponde a un identificador para el nodo.\n",
    "- `padre`: se usa para hacer referencia al nodo padre.\n",
    "- `hijos`: es una estructura que almacena referencias a los hijos del nodo\n",
    "- `valor`: es lo almacenado en ese nodo.\n",
    "\n",
    "La estructura además tendrá dos métodos:\n",
    "\n",
    "#### `obtener_nodo(id_nodo)` \n",
    "\n",
    "Este método busca y retorna el nodo con identificador `id_nodo`.\n",
    "\n",
    "#### `agregar_nodo(id_nodo, valor, id_padre)`\n",
    "\n",
    "Esta operación permite agregar un nuevo nodo al árbol como hijo del nodo con el _id_ `id_padre`. El nuevo nodo tendrá identificador `id_nodo` y el valor `valor`."
   ]
  },
  {
   "cell_type": "code",
   "execution_count": 5,
   "metadata": {},
   "outputs": [],
   "source": [
    "# textwrap tiene varias funciones convenientes para el manejo de strings\n",
    "from textwrap import indent\n",
    "\n",
    "class Arbol:\n",
    "    \"\"\"\n",
    "    Esta clase representa un árbol\n",
    "    \n",
    "    La estructura es recursiva, de manera que cada nodo es la raíz de un sub-árbol.\n",
    "    Los nodos hijos pueden ser guardados en una estructura, como lista o diccionario.\n",
    "    En este ejemplo, los nodos hijos serán guardados en un diccionario.\n",
    "    \"\"\"\n",
    "\n",
    "    def __init__(self, id_nodo, valor=None, padre=None):\n",
    "        \"\"\"\n",
    "        Inicializa la estructura básica del árbol.\n",
    "        \n",
    "        Tiene un identificador propio, la referencia a su padre, el valor almacenado\n",
    "        y una estructura con sus hijos.\n",
    "        \"\"\"\n",
    "        self.id_nodo = id_nodo\n",
    "        self.padre = padre\n",
    "        self.valor = valor\n",
    "        self.hijos = {}\n",
    "        \n",
    "\n",
    "    def obtener_nodo(self, id_nodo):\n",
    "        \"\"\"\n",
    "        Obtiene el nodo con el id dado, en forma recursiva\n",
    "        \n",
    "        A partir del nodo actual, buscamos el nodo 'id_nodo' entre sus hijos\n",
    "        y lo retornamos si existe.\n",
    "        \"\"\"\n",
    "        # Caso base: ¡Lo encontramos!\n",
    "        if self.id_nodo == id_nodo:\n",
    "            return self\n",
    "\n",
    "        # Buscamos recursivamente entre los hijos\n",
    "        for hijo in self.hijos.values():\n",
    "            nodo = hijo.obtener_nodo(id_nodo)\n",
    "            # Si lo encontró, lo retornamos\n",
    "            if nodo:\n",
    "                return nodo\n",
    "        \n",
    "        # Si no lo encuentra, retorna None\n",
    "        return None\n",
    "\n",
    "\n",
    "    def agregar_nodo(self, id_nodo, valor, id_padre):\n",
    "        \"\"\"Agrega un nodo con el id y valor dado, como hijo del nodo con el id 'id_padre'\"\"\"\n",
    "        # Primero, tenemos que encontrar al padre\n",
    "        padre = self.obtener_nodo(id_padre)\n",
    "        # En caso de que el padre no exista no hacemos nada\n",
    "        if padre is None:\n",
    "            return\n",
    "        \n",
    "        # Creamos el nodo\n",
    "        # Nos aseguramos de que el nodo nuevo sea del mismo tipo que la raíz\n",
    "        # Esto lo ocuparemos cuando heredemos de este árbol\n",
    "        nodo = type(self)(id_nodo, valor, padre)\n",
    "        # Agregamos el nodo como hijo de su padre\n",
    "        padre.hijos[id_nodo] = nodo\n",
    "        \n",
    "        \n",
    "    def __repr__(self):\n",
    "        \"\"\"\n",
    "        Entrega una representación del árbol, en forma recursiva.\n",
    "        \n",
    "        Para ello, tenemos que pedir la representación de cada hijo recursivamente. \n",
    "        Esto nos lleva a recorrer todos los nodos del árbol.\n",
    "        \"\"\"\n",
    "        # Texto de este nodo.\n",
    "        # Si el nodo es hoja, se avisa de ello.\n",
    "        # Si el nodo no es hoja, se deja un salto de línea para poder nombrar a los hijos.\n",
    "        if self.hijos:\n",
    "            texto = f\"id: {self.id_nodo}, valor: {self.valor}\\n\"\n",
    "        else:\n",
    "            texto = f\"id: {self.id_nodo}, valor: {self.valor}, nodo hoja\"\n",
    "\n",
    "        # Extrae el repr a cada hijo, en forma recursiva.\n",
    "        texto_hijos = [repr(hijo) for hijo in self.hijos.values()]\n",
    "        \n",
    "        # Indentamos cada línea del texto de los hijos con dos espacios.\n",
    "        # Esto es para que se note el nivel del nodo.\n",
    "        texto_hijos = [indent(x, \"  \")  for x in texto_hijos]\n",
    "        \n",
    "        return texto + \"\\n\".join(texto_hijos)"
   ]
  },
  {
   "cell_type": "markdown",
   "metadata": {},
   "source": [
    "A continuación utilizaremos la clase `Arbol` para crear y poblar el siguiente árbol de ejemplo.\n",
    "![](img/tree1.png)"
   ]
  },
  {
   "cell_type": "code",
   "execution_count": 6,
   "metadata": {},
   "outputs": [
    {
     "data": {
      "text/plain": [
       "id: 0, valor: 10\n",
       "  id: 1, valor: 8\n",
       "    id: 2, valor: 9\n",
       "      id: 8, valor: 4, nodo hoja\n",
       "  id: 3, valor: 12\n",
       "    id: 4, valor: 5\n",
       "      id: 7, valor: 8, nodo hoja\n",
       "    id: 5, valor: 14, nodo hoja\n",
       "    id: 6, valor: 20\n",
       "      id: 9, valor: 15, nodo hoja\n",
       "      id: 10, valor: 6, nodo hoja"
      ]
     },
     "execution_count": 6,
     "metadata": {},
     "output_type": "execute_result"
    }
   ],
   "source": [
    "T = Arbol(0, 10)\n",
    "T.agregar_nodo(1, 8, 0)\n",
    "T.agregar_nodo(3, 12, 0)\n",
    "T.agregar_nodo(2, 9, 1)\n",
    "T.agregar_nodo(4, 5, 3)\n",
    "T.agregar_nodo(5, 14, 3)\n",
    "T.agregar_nodo(6, 20, 3)\n",
    "T.agregar_nodo(8, 4, 2)\n",
    "T.agregar_nodo(7, 8, 4)\n",
    "T.agregar_nodo(9, 15, 6)\n",
    "T.agregar_nodo(10, 6, 6)\n",
    "\n",
    "T"
   ]
  },
  {
   "cell_type": "markdown",
   "metadata": {},
   "source": [
    "Tal como hemos definido este árbol, no hay restricciones acerca de los contenidos de los valores, o de los identificadores, o del orden de los hijos. En este caso hemos ingresado algunos valores repetidos, hemos ingresado identificadores únicos, y no todos los nodos intermedios tienen la misma cantidad de hijos. En ciencia de la computación existen distintos tipos de árboles que restringen sus reglas de construcción de acuerdo al objetivo que se quiere modelar.\n",
    "\n",
    "En este ejemplo, el método retorna `obtener_nodo(id_nodo)` busca recursivamente un nodo con identificador `id_nodo` a partir de la raíz de un árbol, y retorna un objeto nodo (un `Arbol`)."
   ]
  },
  {
   "cell_type": "code",
   "execution_count": 7,
   "metadata": {},
   "outputs": [
    {
     "data": {
      "text/plain": [
       "'El id del nodo es 6'"
      ]
     },
     "execution_count": 7,
     "metadata": {},
     "output_type": "execute_result"
    }
   ],
   "source": [
    "nodo = T.obtener_nodo(6)\n",
    "f\"El id del nodo es {nodo.id_nodo}\""
   ]
  },
  {
   "cell_type": "code",
   "execution_count": 8,
   "metadata": {},
   "outputs": [
    {
     "data": {
      "text/plain": [
       "'El nodo con id 3 tiene 3 hijos'"
      ]
     },
     "execution_count": 8,
     "metadata": {},
     "output_type": "execute_result"
    }
   ],
   "source": [
    "nodo = T.obtener_nodo(3)\n",
    "f\"El nodo con id {nodo.id_nodo} tiene {len(nodo.hijos)} hijos\""
   ]
  },
  {
   "cell_type": "markdown",
   "metadata": {},
   "source": [
    "## Recorrido de un Árbol\n",
    "\n",
    "Una vez que el árbol está construído una problema importante es cómo recorrer (visitar) todos sus nodos de manera ordenada y sistemática. Este operación se llama **recorrido** de un árbol o **_tree traversal_**.\n",
    "\n",
    "El recorrido de un árbol puede implementarse de manera iterativa, o recursiva aprovechando la naturaleza del árbol. En este curso nosotros revisaremos los métodos **Breadth First Search (BFS)** y **Depth First Search (DFS)**."
   ]
  },
  {
   "cell_type": "markdown",
   "metadata": {},
   "source": [
    "### Bread-First Search (BFS)\n",
    "\n",
    "La estrategia _**Breadth First Search (BFS)**_ o **recorrido en amplitud** consiste en recorrer el árbol **por niveles**. En primer lugar se visita la raíz; a continuación se visitan todos los nodos en el segundo nivel de la jerarquía (los hijos de la raíz); posteriormente se sigue con los del nivel siguiente (los hijos de los hijos de la raíaz), y así sucesivamente hasta haber recorrido todo los nodos. \n",
    "\n",
    "El recorrido _por niveles_ se puede apreciar en la siguiente figura, donde los números en rojo indican el orden en que se visitan los nodos:\n",
    "\n",
    "![](img/tree-bfs.png)\n",
    "\n",
    "La implementación del recorrido BFS utiliza una estructura de **cola** para almacenar los nodos que aún no han sido visitados.\n",
    "\n",
    "En el siguiente _snippet_, hacemos que el árbol sea iterable, tal y como lo vimos en el capítulo de Programación Funcional. La idea es que al iterar el árbol, nos entregue los nodos en orden BFS."
   ]
  },
  {
   "cell_type": "code",
   "execution_count": 9,
   "metadata": {},
   "outputs": [],
   "source": [
    "from collections import deque\n",
    "\n",
    "class ArbolBFS(Arbol):\n",
    "    \"\"\"Heredamos de la clase Arbol para hacerla iterable según el orden con BFS\"\"\"\n",
    "    \n",
    "    def __iter__(self):\n",
    "        \"\"\"Itera el árbol según BFS\"\"\"\n",
    "        # Utilizamos una cola para almacenar los nodos por visitar\n",
    "        cola = deque()\n",
    "        # El primer nodo a visitar será la raíz\n",
    "        cola.append(self)\n",
    "        \n",
    "        # Mientras queden nodos por visitar en la cola\n",
    "        while cola:\n",
    "            # Extraemos el primero de la cola\n",
    "            nodo = cola.popleft()\n",
    "            \n",
    "            # Lo visitamos\n",
    "            yield nodo\n",
    "            \n",
    "            # Agregamos todos los nodos hijos a la cola\n",
    "            for hijo in nodo.hijos.values():\n",
    "                cola.append(hijo)"
   ]
  },
  {
   "cell_type": "markdown",
   "metadata": {},
   "source": [
    "Poblamos el árbol con los datos usados en el ejemplo de la clase `Arbol`"
   ]
  },
  {
   "cell_type": "code",
   "execution_count": 10,
   "metadata": {},
   "outputs": [],
   "source": [
    "T = ArbolBFS(0, 10)\n",
    "T.agregar_nodo(1, 8, 0)\n",
    "T.agregar_nodo(3, 12, 0)\n",
    "T.agregar_nodo(2, 9, 1)\n",
    "T.agregar_nodo(4, 5, 3)\n",
    "T.agregar_nodo(5, 14, 3)\n",
    "T.agregar_nodo(6, 20, 3)\n",
    "T.agregar_nodo(8, 4, 2)\n",
    "T.agregar_nodo(7, 8, 4)\n",
    "T.agregar_nodo(9, 15, 6)\n",
    "T.agregar_nodo(10, 6, 6)"
   ]
  },
  {
   "cell_type": "code",
   "execution_count": 11,
   "metadata": {},
   "outputs": [
    {
     "name": "stdout",
     "output_type": "stream",
     "text": [
      "Recorrido EN AMPLITUD (BFS, o 'por niveles')\n",
      "Número de visita: 0 — visitando nodo con id: 0\n",
      "Número de visita: 1 — visitando nodo con id: 1\n",
      "Número de visita: 2 — visitando nodo con id: 3\n",
      "Número de visita: 3 — visitando nodo con id: 2\n",
      "Número de visita: 4 — visitando nodo con id: 4\n",
      "Número de visita: 5 — visitando nodo con id: 5\n",
      "Número de visita: 6 — visitando nodo con id: 6\n",
      "Número de visita: 7 — visitando nodo con id: 8\n",
      "Número de visita: 8 — visitando nodo con id: 7\n",
      "Número de visita: 9 — visitando nodo con id: 9\n",
      "Número de visita: 10 — visitando nodo con id: 10\n"
     ]
    }
   ],
   "source": [
    "print(\"Recorrido EN AMPLITUD (BFS, o 'por niveles')\")\n",
    "for i, nodo in enumerate(T):\n",
    "    print(f\"Número de visita: {i} — visitando nodo con id: {nodo.id_nodo}\")"
   ]
  },
  {
   "cell_type": "markdown",
   "metadata": {},
   "source": [
    "El código presentado no controla que no visitemos un nodo dos veces. Esto no es necesario, ya que se puede demostrar que un árbol **nunca** tiene ciclos. En la próxima semana veremos una estructura que puede tener ciclos y donde sí necesitaremos verificar que no visitemos un nodo dos veces."
   ]
  },
  {
   "cell_type": "markdown",
   "metadata": {},
   "source": [
    "### Depth First Search (DFS)\n",
    "\n",
    "La estrategia _**Depth First Search (DFS)**_, o **recorrido en profundidad** consiste en recorrer el árbol **por ramas**. Luego de visitar la raíz, se visitan todos sus hijos, pero descendiendo completamente por cada hijo antes de pasar el siguiente.\n",
    "\n",
    "El recorrido _en profundidad_ se puede apreciar en la siguiente figura:\n",
    "\n",
    "![](img/tree-dfs.png)\n",
    "\n",
    "La implementación del recorrido DFS utiliza un **_stack_** para almacenar los nodos que deben ser visitados. En la práctica, el orden de las ramas puede variar dependiendo del orden en que se agregan los hijos al _stack_.\n",
    "\n",
    "En el siguiente trozo de código, hacemos que un árbol sea iterable con el método DFS. Vamos a agregar los hijos al _stack_ en el orden en que aparecen en el diccionario (_i.e_, en el orden en que se agregaron). Como recordarás de un capítulo anterior, esto producirá que saquemos y recorramos primero el último hijo agregado."
   ]
  },
  {
   "cell_type": "code",
   "execution_count": 12,
   "metadata": {},
   "outputs": [],
   "source": [
    "from collections import deque\n",
    "\n",
    "class ArbolDFS(Arbol):\n",
    "    \"\"\"Heredamos de la clase Arbol para hacerla iterable según el orden con DFS\"\"\"\n",
    "    \n",
    "    def __iter__(self):\n",
    "        \"\"\"Itera el árbol según DFS\"\"\"\n",
    "        # Utilizamos un stack para almacenar los nodos por visitar\n",
    "        stack = deque()\n",
    "        # El primer nodo a visitar será la raíz\n",
    "        stack.append(self)\n",
    "        \n",
    "        # Mientras queden nodos por visitar en el stack\n",
    "        while stack:\n",
    "            # Extraemos el que está en el tope del stack\n",
    "            nodo = stack.pop()\n",
    "            \n",
    "            # Lo visitamos\n",
    "            yield nodo\n",
    "            \n",
    "            # Agregamos todos los nodos hijos al stack\n",
    "            for hijo in nodo.hijos.values():\n",
    "                stack.append(hijo)"
   ]
  },
  {
   "cell_type": "markdown",
   "metadata": {},
   "source": [
    "Poblamos el árbol con los datos usados en el ejemplo de la clase `Arbol`"
   ]
  },
  {
   "cell_type": "code",
   "execution_count": 13,
   "metadata": {},
   "outputs": [],
   "source": [
    "T = ArbolDFS(0, 10)\n",
    "T.agregar_nodo(1, 8, 0)\n",
    "T.agregar_nodo(3, 12, 0)\n",
    "T.agregar_nodo(2, 9, 1)\n",
    "T.agregar_nodo(4, 5, 3)\n",
    "T.agregar_nodo(5, 14, 3)\n",
    "T.agregar_nodo(6, 20, 3)\n",
    "T.agregar_nodo(8, 4, 2)\n",
    "T.agregar_nodo(7, 8, 4)\n",
    "T.agregar_nodo(9, 15, 6)\n",
    "T.agregar_nodo(10, 6, 6)"
   ]
  },
  {
   "cell_type": "code",
   "execution_count": 14,
   "metadata": {},
   "outputs": [
    {
     "name": "stdout",
     "output_type": "stream",
     "text": [
      "Recorrido EN PROFUNDIDAD (DFS, o 'por ramas')\n",
      "Número de visita: 0 — visitando nodo con id: 0\n",
      "Número de visita: 1 — visitando nodo con id: 3\n",
      "Número de visita: 2 — visitando nodo con id: 6\n",
      "Número de visita: 3 — visitando nodo con id: 10\n",
      "Número de visita: 4 — visitando nodo con id: 9\n",
      "Número de visita: 5 — visitando nodo con id: 5\n",
      "Número de visita: 6 — visitando nodo con id: 4\n",
      "Número de visita: 7 — visitando nodo con id: 7\n",
      "Número de visita: 8 — visitando nodo con id: 1\n",
      "Número de visita: 9 — visitando nodo con id: 2\n",
      "Número de visita: 10 — visitando nodo con id: 8\n"
     ]
    }
   ],
   "source": [
    "print(\"Recorrido EN PROFUNDIDAD (DFS, o 'por ramas')\")\n",
    "for i, nodo in enumerate(T):\n",
    "    print(f\"Número de visita: {i} — visitando nodo con id: {nodo.id_nodo}\")"
   ]
  },
  {
   "cell_type": "markdown",
   "metadata": {},
   "source": [
    "#### DFS recursivo\n",
    "\n",
    "Es muy sencillo implementar DFS mediante una recursión, tal y como se muestra en el siguiente código:"
   ]
  },
  {
   "cell_type": "code",
   "execution_count": 15,
   "metadata": {},
   "outputs": [],
   "source": [
    "from collections import deque\n",
    "\n",
    "class ArbolDFSRecursivo(Arbol):\n",
    "    \"\"\"Heredamos de la clase Arbol para hacerla iterable según el orden con DFS recursivo\"\"\"\n",
    "    \n",
    "    def __iter__(self):\n",
    "        \"\"\"Itera el árbol según DFS recursivo\"\"\"\n",
    "        # Visitamos el nodo actual\n",
    "        yield self\n",
    "        # Aplicamos esto recursivamente a cada hijo\n",
    "        for hijo in self.hijos.values():\n",
    "            yield from hijo"
   ]
  },
  {
   "cell_type": "markdown",
   "metadata": {},
   "source": [
    "Poblamos el árbol con los datos usados en el ejemplo de la clase `Arbol`"
   ]
  },
  {
   "cell_type": "code",
   "execution_count": 16,
   "metadata": {},
   "outputs": [],
   "source": [
    "T = ArbolDFSRecursivo(0, 10)\n",
    "T.agregar_nodo(1, 8, 0)\n",
    "T.agregar_nodo(3, 12, 0)\n",
    "T.agregar_nodo(2, 9, 1)\n",
    "T.agregar_nodo(4, 5, 3)\n",
    "T.agregar_nodo(5, 14, 3)\n",
    "T.agregar_nodo(6, 20, 3)\n",
    "T.agregar_nodo(8, 4, 2)\n",
    "T.agregar_nodo(7, 8, 4)\n",
    "T.agregar_nodo(9, 15, 6)\n",
    "T.agregar_nodo(10, 6, 6)"
   ]
  },
  {
   "cell_type": "code",
   "execution_count": 17,
   "metadata": {},
   "outputs": [
    {
     "name": "stdout",
     "output_type": "stream",
     "text": [
      "Recorrido EN PROFUNDIDAD (DFS, o 'por ramas')\n",
      "Número de visita: 0 — visitando nodo con id: 0\n",
      "Número de visita: 1 — visitando nodo con id: 1\n",
      "Número de visita: 2 — visitando nodo con id: 2\n",
      "Número de visita: 3 — visitando nodo con id: 8\n",
      "Número de visita: 4 — visitando nodo con id: 3\n",
      "Número de visita: 5 — visitando nodo con id: 4\n",
      "Número de visita: 6 — visitando nodo con id: 7\n",
      "Número de visita: 7 — visitando nodo con id: 5\n",
      "Número de visita: 8 — visitando nodo con id: 6\n",
      "Número de visita: 9 — visitando nodo con id: 9\n",
      "Número de visita: 10 — visitando nodo con id: 10\n"
     ]
    }
   ],
   "source": [
    "print(\"Recorrido EN PROFUNDIDAD (DFS, o 'por ramas')\")\n",
    "for i, nodo in enumerate(T):\n",
    "    print(f\"Número de visita: {i} — visitando nodo con id: {nodo.id_nodo}\")"
   ]
  },
  {
   "cell_type": "markdown",
   "metadata": {},
   "source": [
    "Puedes observar que el orden de visita es un poco diferente al visto en la implementación iterativa, pero aún así está bajo el principio de \"recorrido por ramas\"."
   ]
  },
  {
   "cell_type": "markdown",
   "metadata": {},
   "source": [
    "## Árbol Binario\n",
    "\n",
    "Los **árboles binarios** son un caso particular de las árboles, donde:\n",
    "\n",
    "- cada nodo tiene como máximo **dos nodos hijo**\n",
    "- cada nodo hijo está etiquetado como **hijo-izquierdo**, o bien como **hijo-derecho** (a lo más un hijo izquierdo y a lo más un hijo derecho), y\n",
    "- en términos de precedencia, el hijo-izquierdo **precede** al hijo-derecho.\n",
    "\n",
    "![](img/binary-tree.png)\n",
    "\n",
    "En un árbol binario el máximo número de nodos crece en forma exponencial, según la profundidad. La cantidad de nodos que posee el nivel 0 es 1, ya que solamente la raíz se encuentra ahí. Como la raíz puede tener a lo más dos hijos, entonces la cantidad de nodos máxima en el nivel 1 es 2. Si seguimos haciendo este razonamiento, nos encontraremos que el **nivel $d$ posee a lo más $2^d$ nodos**.\n",
    "\n",
    "Se denomina **árbol binario completo** al árbol binario donde todos los nodos interiores tienen exactamente dos hijos, y todos los nodos hoja están en el mismo nivel. La imagen de arriba es un ejemplo de un árbol binario completo. Podemos calcular cuántos nodos tiene un árbol de este tipo, si consideramos que el nivel máximo de profundidad es $d$:\n",
    "\n",
    "$$\\sum_{i=0}^{d} 2^i = 2^{d + 1} - 1$$\n",
    "\n",
    "\n",
    "Un ejemplo real de árbol binario son los **árboles de decisión** en donde cada nodo interno y además la raíz están asociados a una pregunta, y cuyas respuestas (si, no) quedan representadas en los dos nodos hijos. Otro ejemplo son las **operaciones aritméticas**, en donde las variables son representadas por los nodos hoja, y las operaciones por los nodos interiores."
   ]
  },
  {
   "cell_type": "markdown",
   "metadata": {},
   "source": [
    "### Árbol Binario basado en nodos enlazados"
   ]
  },
  {
   "cell_type": "markdown",
   "metadata": {},
   "source": [
    "En esta implementación de árbol binario, modelaremos cada nodo como un objeto que tendrá por atributos las referencias al nodo padre, hijos, y el elemento en esa posición. Usaremos el valor `None` para señalar que un atributo particular no existe. Por ejemplo, si se modela el nodo raíz, el atributo `padre = None`. \n",
    "\n",
    "\n",
    "Además, vamos a implementar una regla para agregar nodos nuevos: el hijo izquierdo de cada nodo, será menor o igual al valor; mientras que el hijo derecho será estrictamente mayor al valor. A continuación el modelamiento queda de la siguiente forma:"
   ]
  },
  {
   "cell_type": "code",
   "execution_count": 18,
   "metadata": {},
   "outputs": [],
   "source": [
    "class ArbolBinario:\n",
    "    \"\"\"Modela un árbol binario\"\"\"\n",
    "\n",
    "    def __init__(self, valor=None, padre=None):\n",
    "        \"\"\"\n",
    "        Inicializa un árbol binario\n",
    "        \n",
    "        El valor es opcional y se puede llenar con el primer nodo que se intente agregar.\n",
    "        \"\"\"\n",
    "        self.valor = valor\n",
    "        self.padre = padre\n",
    "        self.hijo_izquierdo = None\n",
    "        self.hijo_derecho = None\n",
    "    \n",
    "    def agregar_nodo(self, valor):\n",
    "        \"\"\"\n",
    "        Agrega un nodo nuevo con el valor dado siguiendo ciertas reglas, recursivamente\n",
    "        \n",
    "        Vamos a implementar la regla de que el 'hijo_izquierdo' debe ser menor o igual\n",
    "        que el valor del nodo, y que el 'hijo_derecho' debe ser mayor.\n",
    "        \n",
    "        Como la regla se implementa recursivamente, el árbol que estamos armando tiene\n",
    "        la siguiente propiedad: todo nodo en el subárbol izquierdo tiene un valor menor\n",
    "        o igual al actual, y todo nodo en el subárbol derecho tiene un valor mayor al actual.\n",
    "        \"\"\"\n",
    "        # Si no teníamos valor en el nodo (al crear el árbol), lo ponemos acá\n",
    "        if self.valor is None:\n",
    "            self.valor = valor\n",
    "            return\n",
    "        \n",
    "        # Si el valor es menor o igual, revisamos el hijo izquierdo\n",
    "        if valor <= self.valor:\n",
    "            # Si no existe el hijo izquierdo, lo creamos con ese valor y terminamos\n",
    "            if not self.hijo_izquierdo:\n",
    "                self.hijo_izquierdo = ArbolBinario(valor, self)\n",
    "            # Si existe, le delegamos la labor de agregar el nodo\n",
    "            else:\n",
    "                self.hijo_izquierdo.agregar_nodo(valor)\n",
    "        # Este es el caso en que el valor es mayor al actual\n",
    "        else:\n",
    "             # Si no existe el hijo derecho, lo creamos con ese valor y terminamos\n",
    "            if not self.hijo_derecho:\n",
    "                self.hijo_derecho = ArbolBinario(valor, self)\n",
    "            # Si existe, le delegamos la labor de agregar el nodo\n",
    "            else:\n",
    "                self.hijo_derecho.agregar_nodo(valor)\n",
    "                \n",
    "    def __repr__(self):\n",
    "        \"\"\"Entrega una representación del árbol, en forma recursiva\"\"\"\n",
    "        texto = f\"Valor: {self.valor}\"\n",
    "        texto_izquierdo = indent(repr(self.hijo_izquierdo), \"  \")\n",
    "        texto_derecho = indent(repr(self.hijo_derecho), \"  \")\n",
    "        \n",
    "        return \"\\n\".join([texto, texto_izquierdo, texto_derecho])"
   ]
  },
  {
   "cell_type": "markdown",
   "metadata": {},
   "source": [
    "Vamos a agregar los valores `4`, `4`, `1`, `5`, `3`, y `20` al árbol (en ese orden) y veremos como queda:"
   ]
  },
  {
   "cell_type": "code",
   "execution_count": 19,
   "metadata": {},
   "outputs": [
    {
     "data": {
      "text/plain": [
       "Valor: 4\n",
       "  Valor: 4\n",
       "    Valor: 1\n",
       "      None\n",
       "      Valor: 3\n",
       "        None\n",
       "        None\n",
       "    None\n",
       "  Valor: 5\n",
       "    None\n",
       "    Valor: 20\n",
       "      None\n",
       "      None"
      ]
     },
     "execution_count": 19,
     "metadata": {},
     "output_type": "execute_result"
    }
   ],
   "source": [
    "valores = [4, 4, 1, 5, 3, 20]\n",
    "T = ArbolBinario()\n",
    "for valor in valores:\n",
    "    T.agregar_nodo(valor)\n",
    "\n",
    "T"
   ]
  },
  {
   "cell_type": "markdown",
   "metadata": {},
   "source": [
    "![](img/binary-with-numbers.png)"
   ]
  },
  {
   "cell_type": "markdown",
   "metadata": {},
   "source": [
    "<font size='1' face='Arial'><sup>1</sup>Agradecemos a los ayudantes del curso Belén Saldías, Ivania Donoso, Patricio López, Jaime Castro, Rodrigo Gómez y Marco Bucchi por su colaboración durante la revisión de este material.</font>"
   ]
  }
 ],
 "metadata": {
  "anaconda-cloud": {},
  "kernelspec": {
   "display_name": "Python 3",
   "language": "python",
   "name": "python3"
  },
  "language_info": {
   "codemirror_mode": {
    "name": "ipython",
    "version": 3
   },
   "file_extension": ".py",
   "mimetype": "text/x-python",
   "name": "python",
   "nbconvert_exporter": "python",
   "pygments_lexer": "ipython3",
   "version": "3.6.6"
  }
 },
 "nbformat": 4,
 "nbformat_minor": 1
}
