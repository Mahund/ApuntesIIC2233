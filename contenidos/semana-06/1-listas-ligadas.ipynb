{
 "cells": [
  {
   "cell_type": "markdown",
   "metadata": {},
   "source": [
    "<p>\n",
    "<font size='5' face='Georgia, Arial'>IIC-2233 Apunte Programación Avanzada</font><br>\n",
    "<font size='1'>&copy; 2015-2016 Karim Pichara - Christian Pieringer <sup>1</sup>. Todos los derechos reservados. Editado por equipo docente IIC2233 2018-1, 2018-2.</font>\n",
    "</p>"
   ]
  },
  {
   "cell_type": "markdown",
   "metadata": {},
   "source": [
    "Esta semana estudiaremos un conjunto de estructuras de datos más avanzadas que nos permitirán representar no solamente agrupaciones de datos, sino también las relaciones entre esos datos. Estas estructuras se basan en una unidad base llamada **nodo**. Un **nodo** es una unidad indivisible de datos que identificaremos a través de un atributo _key_. Cada nodo mantiene cero o más referencias con otros nodos a los que llamará _nodos vecinos_ con los que mantiene una relación. Un conjunto de nodos y determinadas reglas sobre sus relaciones nos permitirán definir estructuras de datos más complejas y ricas para representar información.\n",
    "\n",
    "![](img/node.png)"
   ]
  },
  {
   "cell_type": "markdown",
   "metadata": {},
   "source": [
    "## Listas Ligadas\n",
    "\n",
    "La primera estructura que analizaremos es la **lista ligada**. Una lista ligada es una estructura que almacena nodos en un orden secuencial (como las listas, _stacks_, y colas), en que cada nodo posee una referencia a un único **sucesor** (_nodo hijo_, o _descendiente_). El primer nodo de una lista ligada es denominado **cabeza** (_head_) de la lista, y el último, que no posee sucesor, es denominado **cola**<sup>2</sup> (_tail_).\n",
    "\n",
    "Para modelar un nodo de una lista ligada, utilizaremos una clase `Nodo` que tendrá como atributos un valor almacenado en el nodo (`valor`) y una referencia a su nodo sucesor (`siguiente`, también llamado `next`). Para el caso del nodo cola, su atributo `siguiente` será `None`.\n",
    "\n",
    "\n",
    "![](img/linkedlist.png)"
   ]
  },
  {
   "cell_type": "code",
   "execution_count": 13,
   "metadata": {},
   "outputs": [],
   "source": [
    "class Nodo:\n",
    "    \"\"\"Esta clase representa un nodo de una lista ligada\"\"\"\n",
    "    def __init__(self, valor=None):\n",
    "        \"\"\"Inicializa la estructura del nodo\"\"\"\n",
    "        self.valor = valor\n",
    "        self.siguiente = None"
   ]
  },
  {
   "cell_type": "markdown",
   "metadata": {},
   "source": [
    "Definiremos la estructura `ListaLigada`, usando una clase que referencia directamente a los nodos _cabeza_ y _cola_ de la lista ligada. La estructura tendrá tres métodos:\n",
    "\n",
    "#### `agregar(valor)`\n",
    "\n",
    "Este método permite agregar un nuevo nodo al final de la lista ligada con el valor `valor`. Esto se puede implementar de manera muy eficiente siguiendo los siguientes pasos: \n",
    "\n",
    "1. Crear un nodo nuevo, con el valor dado.\n",
    "2. Al \"nodo cola\" actual, añadirle como sucesor el nodo recién creado. \n",
    "3. Modificar el atributo `cola` de la lista ligada, para que sea el nodo nuevo.\n",
    "\n",
    "#### `obtener(posicion)`\n",
    "\n",
    "Esta operación permite recuperar el valor almacenado en el nodo que está en la posición `posicion` de la lista ligada. A diferencia de la estructura _list_ de Python, no hay acceso indexado, por lo que es necesario recorrer cada elemento hasta encontrar la posición deseada.\n",
    "\n",
    "#### `insertar(valor, posicion)`\n",
    "\n",
    "Esta función permite agregar un nuevo nodo con valor `valor` en la posición `posicion` de la la lista ligada. Esto se puede implementar de la siguiente manera:\n",
    "\n",
    "1. Crear un nodo nuevo, con el valor dado.\n",
    "2. Buscar el nodo de la posición en la que se quiere insertar ($n_{\\text{aft}}$), que va a quedar \"después\" del nodo nuevo. \n",
    "3. Buscar el nodo anterior a la posición en que se quiere insertar ($n_{\\text{pre}}$), que va a quedar \"antes\" del nodo nuevo.\n",
    "3. Hacer que el nodo siguiente del nodo nuevo sea $n_{\\text{aft}}$.\n",
    "4. Hacer que el nodo siguiente de $n_{\\text{pre}}$ sea el nodo nuevo.\n",
    "\n",
    "Por ejemplo, en la siguiente animación se quiere insertar un nodo en la posición 2:\n",
    "\n",
    "![animación fabulosa de linkedlist](./img/linkedlist-insertion.gif)\n",
    "Fuente: [VisuAlgo](https://visualgo.net/en/list)"
   ]
  },
  {
   "cell_type": "markdown",
   "metadata": {},
   "source": [
    "Ahora, implementamos la lista ligada y cada una de las operaciones en el siguiente _snippet_ de código:"
   ]
  },
  {
   "cell_type": "code",
   "execution_count": 11,
   "metadata": {},
   "outputs": [],
   "source": [
    "class ListaLigada:\n",
    "    \"\"\"Clase que representa una lista ligada\"\"\"\n",
    "\n",
    "    \n",
    "    def __init__(self):\n",
    "        \"\"\"Inicializa una lista ligada, con una referencia vacía a su cabeza y cola\"\"\"\n",
    "        self.cabeza = None\n",
    "        self.cola = None\n",
    "\n",
    "        \n",
    "    def agregar(self, valor):\n",
    "        \"\"\"Agrega un nodo al final de la cola, similar a lista.append\"\"\"\n",
    "        # Inicializamos el nuevo nodo\n",
    "        nuevo = Nodo(valor)\n",
    "        # Si la lista está vacía (no hay cabeza)\n",
    "        if not self.cabeza:\n",
    "            # Agregamos el nuevo nodo como cabeza y como nodo cola\n",
    "            self.cabeza = nuevo\n",
    "            self.cola = self.cabeza\n",
    "        else:\n",
    "            # Agregamos el nuevo nodo como sucesor del nodo cola actual,\n",
    "            # y actualizamos la referencia al nodo cola.\n",
    "            # Debemos hacerlo en este orden.\n",
    "            self.cola.siguiente = nuevo\n",
    "            self.cola = self.cola.siguiente\n",
    "\n",
    "            \n",
    "    def obtener(self, posicion):\n",
    "        \"\"\"Busca el valor del nodo que está en la posición indicada, partiendo de 0\"\"\"\n",
    "        # Empezamos en la cabeza\n",
    "        nodo_actual = self.cabeza\n",
    "\n",
    "        # Recorremos secuencialmente la lista ligada siguiendo los punteros\n",
    "        # al nodo siguiente.\n",
    "        for i in range(posicion):\n",
    "            if nodo_actual:\n",
    "                nodo_actual = nodo_actual.siguiente\n",
    "        \n",
    "        # Si buscamos una posición mayor a la longitud de la lista ligada\n",
    "        if not nodo_actual:\n",
    "            return \"Posición no encontrada\"\n",
    "        return nodo_actual.valor\n",
    "\n",
    "    \n",
    "    def insertar(self, valor, posicion):\n",
    "        \"\"\"Inserta un valor nuevo en una posición arbitraria\"\"\"\n",
    "        # Inicializamos el nuevo nodo\n",
    "        nodo_nuevo = Nodo(valor)\n",
    "        # Empezamos en la cabeza\n",
    "        nodo_actual = self.cabeza\n",
    "        \n",
    "        # Caso particular: insertar en la cabeza\n",
    "        if posicion == 0:\n",
    "            # Actualizamos la cabeza\n",
    "            nodo_nuevo.siguiente = self.cabeza\n",
    "            self.cabeza = nodo_nuevo\n",
    "            # Caso más particular. Si era el primer nodo, actualizamos la cola\n",
    "            if nodo_nuevo.siguiente is None:\n",
    "                self.cola = nodo_nuevo\n",
    "            # Terminamos de ejecutar la función\n",
    "            return\n",
    "\n",
    "        # Buscamos el nodo predecesor\n",
    "        for i in range(posicion - 1):\n",
    "            if nodo_actual:\n",
    "                nodo_actual = nodo_actual.siguiente\n",
    "\n",
    "        # Si encontramos el predecesor, actualizamos las referencias\n",
    "        if nodo_actual is not None:\n",
    "            # Si no lo hacemos en este orden perdemos la referencia\n",
    "            # al resto de la lista ligada\n",
    "            nodo_nuevo.siguiente = nodo_actual.siguiente        \n",
    "            nodo_actual.siguiente = nodo_nuevo\n",
    "            # Caso particular: si es que insertamos en la última posición\n",
    "            if nodo_nuevo.siguiente is None:\n",
    "                self.cola = nodo_nuevo\n",
    "\n",
    "                \n",
    "    def __repr__(self):\n",
    "        \"\"\"Forma una representación de la lista\"\"\"\n",
    "        string = \"\"\n",
    "        nodo_actual = self.cabeza\n",
    "        while nodo_actual:\n",
    "            #print(f\"{string}{nodo_actual.valor} → \")\n",
    "            string += f\"{nodo_actual.valor} → \"\n",
    "            nodo_actual = nodo_actual.siguiente\n",
    "        return string"
   ]
  },
  {
   "cell_type": "markdown",
   "metadata": {},
   "source": [
    "Acá probamos que nuestra lista ligada funciona:"
   ]
  },
  {
   "cell_type": "code",
   "execution_count": 12,
   "metadata": {},
   "outputs": [
    {
     "name": "stdout",
     "output_type": "stream",
     "text": [
      "2 → 3 → 5 → 7 → 11.0 → \n",
      "Posición 2: 5\n",
      "Posición 1: 3\n",
      "2 → 3 → cuatro → 5 → 7 → 11.0 → \n",
      "cero → 2 → 3 → cuatro → 5 → 7 → 11.0 → \n",
      "cero → uno → 2 → 3 → cuatro → 5 → 7 → 11.0 → \n",
      "cero → uno → 2 → 3 → cuatro → 5 → 7 → 11.0 → trece → \n",
      "cero → uno → 2 → 3 → cuatro → 5 → 7 → 11.0 → trece → \n"
     ]
    }
   ],
   "source": [
    "lista = ListaLigada()\n",
    "lista.agregar(2)\n",
    "lista.agregar(3)\n",
    "lista.agregar(5)\n",
    "lista.agregar(7)\n",
    "lista.agregar(11.0)\n",
    "\n",
    "print(lista)\n",
    "print(f\"Posición {2}: {lista.obtener(2)}\")\n",
    "print(f\"Posición {1}: {lista.obtener(1)}\")\n",
    "lista.insertar(\"cuatro\", 2)\n",
    "print(lista)\n",
    "lista.insertar(\"cero\", 0)\n",
    "print(lista)\n",
    "lista.insertar(\"uno\", 1)\n",
    "print(lista)\n",
    "lista.insertar(\"trece\", 8)\n",
    "print(lista)\n",
    "lista.insertar(\"veinte\", 20)\n",
    "print(lista)"
   ]
  },
  {
   "cell_type": "markdown",
   "metadata": {},
   "source": [
    "<font size='1' face='Arial'><sup>1</sup>Agradecemos a los ayudantes del curso Belén Saldías, Ivania Donoso, Patricio López, Jaime Castro, Rodrigo Gómez y Marco Bucchi por su colaboración durante la revisión de este material.</font>\n",
    "<br/>\n",
    "<font size='1' face='Arial'><sup>2</sup>Este concepto de **cola** se refiere a la denominación del último elemento de una lista (_tail_), y no a la estructura secuencial que, en inglés, denominamos _queue_. Para evitar confusiones cuando sea necesario, nos referiremos a él como _nodo cola_.</font>"
   ]
  }
 ],
 "metadata": {
  "anaconda-cloud": {},
  "kernelspec": {
   "display_name": "Python 3",
   "language": "python",
   "name": "python3"
  },
  "language_info": {
   "codemirror_mode": {
    "name": "ipython",
    "version": 3
   },
   "file_extension": ".py",
   "mimetype": "text/x-python",
   "name": "python",
   "nbconvert_exporter": "python",
   "pygments_lexer": "ipython3",
   "version": "3.6.6"
  }
 },
 "nbformat": 4,
 "nbformat_minor": 1
}
