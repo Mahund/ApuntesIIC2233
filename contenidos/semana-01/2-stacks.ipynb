{
 "cells": [
  {
   "cell_type": "markdown",
   "metadata": {
    "colab_type": "text",
    "id": "5EWH_v04jmET"
   },
   "source": [
    "<p>\n",
    "<font size='5' face='Georgia, Arial'>IIC-2233 Apunte Programación Avanzada</font><br>\n",
    "<font size='1'>&copy; 2015 Karim Pichara - Christian Pieringer. Todos los derechos reservados. Modificado el 2018-1, 2018-2 por Equipo docente IIC2233</font>\n",
    "</p>"
   ]
  },
  {
   "cell_type": "markdown",
   "metadata": {
    "colab_type": "text",
    "id": "LRyPCIxmjmEU"
   },
   "source": [
    "## Stacks"
   ]
  },
  {
   "cell_type": "markdown",
   "metadata": {
    "colab_type": "text",
    "id": "tIuB-cVojmEU"
   },
   "source": [
    "Un _stack_ (o pila, en español) es una estructura de datos que funciona como si fuera una pila de objetos, uno arriba de el otro. Por ejemplo, supongamos que estamos apilando platos para lavarlos. Cada vez que se agrega un plato al montón, éste se coloca arriba de la pila, y cuando queremos sacar un plato para lavarlo sacamos uno de arriba de la pila también, por lo que siempre sacaremos el último que hayamos puesto. \n",
    "\n",
    "Podemos ver que un _stack_ tiene dos operaciones básicas:\n",
    "\n",
    "- _**Push**_: Agrega un elemento al tope del _stack_.\n",
    "- _**Pop**_: Elimina el elemento que está en el tope del _stack_. Esto siempre sacará el último elemento que haya sido agregado.\n",
    "\n",
    "Hay una tercera operación común llamada _**peek**_ que sólo muestra el elemento que está en el tope sin sacarlo del _stack_. También es posible consultar cuántos elementos tiene el _stack_, o si éste se encuentra vacío.\n",
    "\n",
    "![](img/stacks.png)\n",
    "\n",
    "El _stack_ es una estructura de datos de tipo **Last In, First Out** (LIFO), es decir, lo último que entra es lo primero en salir. Como consecuencia, si queremos sacar el primer elemento, antes debemos sacar todos los demás."
   ]
  },
  {
   "cell_type": "markdown",
   "metadata": {
    "colab_type": "text",
    "id": "YTEUVy6AjmEV"
   },
   "source": [
    "### Implementación en Python\n",
    "\n",
    "En Python, los _stacks_ se representan mediante listas. A continuación, vemos una tabla con las operaciones del _stack_ y su implementación en Python:\n",
    "\n",
    "\n",
    "| Operación                                  | Código Python            |Descripción                                           |\n",
    "|--------------------------------------------|--------------------------|------------------------------------------------------|\n",
    "| Crear _stack_                              | `stack = []`             |Crea un _stack_ vacío                                 |\n",
    "| _Push_                                     | `stack.append(elemento)` |Agrega un elemento al tope del _stack_                |\n",
    "| _Pop_                                      | `stack.pop()`            |Retorna y extrae el elemento del tope del _stack_     |\n",
    "| _Peek_                                     | `stack[-1]`              |Retorna el elemento del tope del _stack_ sin extraerlo|\n",
    "| _length_                                   | `len(stack)`             |Retorna la cantidad de elementos en el _stack_        |\n",
    "| *is\\_empty*                                | `len(stack) == 0`        |Retorna `true` si el _stack_ está vacío               |"
   ]
  },
  {
   "cell_type": "markdown",
   "metadata": {
    "colab_type": "text",
    "id": "fkngr6lgjmEX"
   },
   "source": [
    "#### Ejemplo de funcionamiento"
   ]
  },
  {
   "cell_type": "code",
   "execution_count": 1,
   "metadata": {
    "colab": {
     "autoexec": {
      "startup": false,
      "wait_interval": 0
     },
     "base_uri": "https://localhost:8080/",
     "height": 34,
     "output_extras": [
      {
       "item_id": 1
      }
     ]
    },
    "colab_type": "code",
    "executionInfo": {
     "elapsed": 620,
     "status": "ok",
     "timestamp": 1520877919147,
     "user": {
      "displayName": "Jaime Castro Retamal",
      "photoUrl": "//lh5.googleusercontent.com/-d7ImDI1yYBM/AAAAAAAAAAI/AAAAAAAADF4/eQh4r_ES9eE/s50-c-k-no/photo.jpg",
      "userId": "114351437388776670979"
     },
     "user_tz": 180
    },
    "id": "ZFiQDjNajmEX",
    "outputId": "ea586668-7362-4188-bb6a-ada7b363a818"
   },
   "outputs": [
    {
     "data": {
      "text/plain": [
       "[1, 2, 3]"
      ]
     },
     "execution_count": 1,
     "metadata": {},
     "output_type": "execute_result"
    }
   ],
   "source": [
    "# Un stack vacío\n",
    "stack = []\n",
    "\n",
    "# Hacemos push de tres elementos\n",
    "stack.append(1)\n",
    "stack.append(2)\n",
    "stack.append(3)\n",
    "\n",
    "stack"
   ]
  },
  {
   "cell_type": "markdown",
   "metadata": {
    "colab_type": "text",
    "id": "IWLFq1FJWnOw"
   },
   "source": [
    "Ahora, si hacemos _pop_ esperamos obtener el último elemento que agregamos:"
   ]
  },
  {
   "cell_type": "code",
   "execution_count": 2,
   "metadata": {
    "colab": {
     "autoexec": {
      "startup": false,
      "wait_interval": 0
     },
     "base_uri": "https://localhost:8080/",
     "height": 51,
     "output_extras": [
      {
       "item_id": 1
      }
     ]
    },
    "colab_type": "code",
    "executionInfo": {
     "elapsed": 765,
     "status": "ok",
     "timestamp": 1520877919978,
     "user": {
      "displayName": "Jaime Castro Retamal",
      "photoUrl": "//lh5.googleusercontent.com/-d7ImDI1yYBM/AAAAAAAAAAI/AAAAAAAADF4/eQh4r_ES9eE/s50-c-k-no/photo.jpg",
      "userId": "114351437388776670979"
     },
     "user_tz": 180
    },
    "id": "qFNycRYPWjsv",
    "outputId": "99c9fa6b-1372-4380-ab16-abe3b09d7fcd"
   },
   "outputs": [
    {
     "name": "stdout",
     "output_type": "stream",
     "text": [
      "Hicimos pop de 3\n",
      "El stack quedó: [1, 2]\n"
     ]
    }
   ],
   "source": [
    "# Pop\n",
    "elemento = stack.pop()\n",
    "print(f\"Hicimos pop de {elemento}\")\n",
    "print(f\"El stack quedó: {stack}\")"
   ]
  },
  {
   "cell_type": "markdown",
   "metadata": {
    "colab_type": "text",
    "id": "HuzR4L8BW9Ag"
   },
   "source": [
    "Ahora, si hacemos _peek_ veremos el tope del _stack_, pero éste quedará intacto:"
   ]
  },
  {
   "cell_type": "code",
   "execution_count": 3,
   "metadata": {
    "colab": {
     "autoexec": {
      "startup": false,
      "wait_interval": 0
     },
     "base_uri": "https://localhost:8080/",
     "height": 51,
     "output_extras": [
      {
       "item_id": 1
      }
     ]
    },
    "colab_type": "code",
    "executionInfo": {
     "elapsed": 583,
     "status": "ok",
     "timestamp": 1520877920607,
     "user": {
      "displayName": "Jaime Castro Retamal",
      "photoUrl": "//lh5.googleusercontent.com/-d7ImDI1yYBM/AAAAAAAAAAI/AAAAAAAADF4/eQh4r_ES9eE/s50-c-k-no/photo.jpg",
      "userId": "114351437388776670979"
     },
     "user_tz": 180
    },
    "id": "Begzisy6XMxn",
    "outputId": "eba72d96-9ae0-4aef-8637-23d7a19c8b71"
   },
   "outputs": [
    {
     "name": "stdout",
     "output_type": "stream",
     "text": [
      "Tope del stack: 2\n",
      "Stack: [1, 2]\n"
     ]
    }
   ],
   "source": [
    "# Peek\n",
    "tope_stack = stack[-1]\n",
    "print(f\"Tope del stack: {tope_stack}\")\n",
    "print(f\"Stack: {stack}\")"
   ]
  },
  {
   "cell_type": "markdown",
   "metadata": {
    "colab_type": "text",
    "id": "xNbNi1BMXhlb"
   },
   "source": [
    "Por último, podemos ver cuántos elementos hay y si el _stack_ está vacío:"
   ]
  },
  {
   "cell_type": "code",
   "execution_count": 4,
   "metadata": {
    "colab": {
     "autoexec": {
      "startup": false,
      "wait_interval": 0
     },
     "base_uri": "https://localhost:8080/",
     "height": 51,
     "output_extras": [
      {
       "item_id": 1
      }
     ]
    },
    "colab_type": "code",
    "executionInfo": {
     "elapsed": 546,
     "status": "ok",
     "timestamp": 1520877921206,
     "user": {
      "displayName": "Jaime Castro Retamal",
      "photoUrl": "//lh5.googleusercontent.com/-d7ImDI1yYBM/AAAAAAAAAAI/AAAAAAAADF4/eQh4r_ES9eE/s50-c-k-no/photo.jpg",
      "userId": "114351437388776670979"
     },
     "user_tz": 180
    },
    "id": "ebqdRU1jXqem",
    "outputId": "99ec91e7-2fbe-46bd-eca0-c64f83fb6fb2"
   },
   "outputs": [
    {
     "name": "stdout",
     "output_type": "stream",
     "text": [
      "El stack tiene 2 elementos.\n",
      "¿El stack está vacío? False\n"
     ]
    }
   ],
   "source": [
    "# len\n",
    "print(f\"El stack tiene {len(stack)} elementos.\")\n",
    "\n",
    "# Función para revisar si el stack está vacío\n",
    "def is_empty(s):\n",
    "    return len(s) == 0\n",
    "\n",
    "print(f\"¿El stack está vacío? {is_empty(stack)}\")"
   ]
  },
  {
   "cell_type": "code",
   "execution_count": 5,
   "metadata": {
    "colab": {
     "autoexec": {
      "startup": false,
      "wait_interval": 0
     },
     "base_uri": "https://localhost:8080/",
     "height": 51,
     "output_extras": [
      {
       "item_id": 1
      }
     ]
    },
    "colab_type": "code",
    "executionInfo": {
     "elapsed": 587,
     "status": "ok",
     "timestamp": 1520877921845,
     "user": {
      "displayName": "Jaime Castro Retamal",
      "photoUrl": "//lh5.googleusercontent.com/-d7ImDI1yYBM/AAAAAAAAAAI/AAAAAAAADF4/eQh4r_ES9eE/s50-c-k-no/photo.jpg",
      "userId": "114351437388776670979"
     },
     "user_tz": 180
    },
    "id": "wWqYVzTDYfY0",
    "outputId": "42ad8a34-af2a-4db1-f3f3-7c65479b9a66"
   },
   "outputs": [
    {
     "name": "stdout",
     "output_type": "stream",
     "text": [
      "Stack: [1]\n",
      "¿El stack está vacío? False\n"
     ]
    }
   ],
   "source": [
    "stack.pop()\n",
    "print(f\"Stack: {stack}\")\n",
    "print(f\"¿El stack está vacío? {is_empty(stack)}\")"
   ]
  },
  {
   "cell_type": "code",
   "execution_count": 6,
   "metadata": {
    "colab": {
     "autoexec": {
      "startup": false,
      "wait_interval": 0
     },
     "base_uri": "https://localhost:8080/",
     "height": 51,
     "output_extras": [
      {
       "item_id": 1
      }
     ]
    },
    "colab_type": "code",
    "executionInfo": {
     "elapsed": 681,
     "status": "ok",
     "timestamp": 1520877922580,
     "user": {
      "displayName": "Jaime Castro Retamal",
      "photoUrl": "//lh5.googleusercontent.com/-d7ImDI1yYBM/AAAAAAAAAAI/AAAAAAAADF4/eQh4r_ES9eE/s50-c-k-no/photo.jpg",
      "userId": "114351437388776670979"
     },
     "user_tz": 180
    },
    "id": "aHt_gRerYiZ9",
    "outputId": "0150559f-2d74-4ec1-b415-637f480bbe50"
   },
   "outputs": [
    {
     "name": "stdout",
     "output_type": "stream",
     "text": [
      "Stack: []\n",
      "¿El stack está vacío? True\n"
     ]
    }
   ],
   "source": [
    "stack.pop()\n",
    "print(f\"Stack: {stack}\")\n",
    "print(f\"¿El stack está vacío? {is_empty(stack)}\")"
   ]
  },
  {
   "cell_type": "markdown",
   "metadata": {
    "colab_type": "text",
    "id": "CvYs-Za2YyYN"
   },
   "source": [
    "#### Ejemplos de uso real"
   ]
  },
  {
   "cell_type": "markdown",
   "metadata": {
    "colab_type": "text",
    "id": "jPES-gDYjmEd"
   },
   "source": [
    "Un ejemplo real del uso de _stacks_ en una aplicación es el botón *back* en los navegadores de internet. Durante la navegación todas las direcciones van siendo ingresadas en un _stack_. Cuando el usuario presiona el botón para ir atrás, la última dirección es recuperada.\n",
    "\n",
    "![](img/back-button-stacks.png)"
   ]
  },
  {
   "cell_type": "code",
   "execution_count": 7,
   "metadata": {
    "colab": {
     "autoexec": {
      "startup": false,
      "wait_interval": 0
     },
     "base_uri": "https://localhost:8080/",
     "height": 119,
     "output_extras": [
      {
       "item_id": 1
      }
     ]
    },
    "colab_type": "code",
    "executionInfo": {
     "elapsed": 866,
     "status": "ok",
     "timestamp": 1520878173469,
     "user": {
      "displayName": "Jaime Castro Retamal",
      "photoUrl": "//lh5.googleusercontent.com/-d7ImDI1yYBM/AAAAAAAAAAI/AAAAAAAADF4/eQh4r_ES9eE/s50-c-k-no/photo.jpg",
      "userId": "114351437388776670979"
     },
     "user_tz": 180
    },
    "id": "3WQ32ljLjmEf",
    "outputId": "6305f17a-d6f5-4d8f-8e1d-9bf1faee551b"
   },
   "outputs": [
    {
     "name": "stdout",
     "output_type": "stream",
     "text": [
      "Ir -> Cargando URL: http://www.uc.cl\n",
      "Ir -> Cargando URL: http://www.uc.cl/es/programas-de-estudio\n",
      "Ir -> Cargando URL: http://www.uc.cl/es/doctorado\n",
      "Página actual: http://www.uc.cl/es/doctorado\n",
      "Back-> Cargando URL: http://www.uc.cl/es/programas-de-estudio\n",
      "Página actual: http://www.uc.cl/es/programas-de-estudio\n",
      "Ir -> Cargando URL: https://stackoverflow.com/\n",
      "Ir -> Cargando URL: https://github.com/IIC2233/contenidos\n",
      "Back-> Cargando URL: https://stackoverflow.com/\n",
      "Página actual: https://stackoverflow.com/\n"
     ]
    }
   ],
   "source": [
    "class Navegador:\n",
    "    \n",
    "    def __init__(self, current_url='https://www.google.com'):\n",
    "        self.__urls_stack = []\n",
    "        self.__current_url = current_url\n",
    "    \n",
    "    def __cargar_url(self, url):\n",
    "        self.__current_url = url\n",
    "        print(f\"Cargando URL: {url}\")\n",
    "        \n",
    "    def ir(self, url):\n",
    "        self.__urls_stack.append(self.__current_url)\n",
    "        print('Ir ->', end=' ')\n",
    "        self.__cargar_url(url)        \n",
    "    \n",
    "    def volver(self):\n",
    "        last_url = self.__urls_stack.pop()     \n",
    "        print('Back->', end=' ')\n",
    "        self.__cargar_url(last_url)\n",
    "        \n",
    "    def mostrar_pagina_actual(self):\n",
    "        print(f\"Página actual: {self.__current_url}\")\n",
    "    \n",
    "    \n",
    "browser = Navegador()\n",
    "browser.ir('http://www.uc.cl')\n",
    "browser.ir('http://www.uc.cl/es/programas-de-estudio')\n",
    "browser.ir('http://www.uc.cl/es/doctorado')\n",
    "\n",
    "browser.mostrar_pagina_actual()\n",
    "browser.volver()\n",
    "browser.mostrar_pagina_actual()\n",
    "browser.ir('https://stackoverflow.com/')\n",
    "browser.ir('https://github.com/IIC2233/contenidos')\n",
    "browser.volver()\n",
    "browser.mostrar_pagina_actual()"
   ]
  },
  {
   "cell_type": "markdown",
   "metadata": {
    "colab_type": "text",
    "id": "gGDY0MasjmEk"
   },
   "source": [
    "Otro ejemplo para el uso de pilas es revertir secuencias. A continuación una implementación sencilla de este ejemplo."
   ]
  },
  {
   "cell_type": "code",
   "execution_count": 8,
   "metadata": {
    "cellView": "code",
    "colab": {
     "autoexec": {
      "startup": false,
      "wait_interval": 0
     },
     "base_uri": "https://localhost:8080/",
     "height": 238,
     "output_extras": [
      {
       "item_id": 1
      }
     ]
    },
    "colab_type": "code",
    "executionInfo": {
     "elapsed": 597,
     "status": "ok",
     "timestamp": 1520879167226,
     "user": {
      "displayName": "Jaime Castro Retamal",
      "photoUrl": "//lh5.googleusercontent.com/-d7ImDI1yYBM/AAAAAAAAAAI/AAAAAAAADF4/eQh4r_ES9eE/s50-c-k-no/photo.jpg",
      "userId": "114351437388776670979"
     },
     "user_tz": 180
    },
    "id": "4RroPdPPaY_n",
    "outputId": "b735e4f7-3eb4-401c-b324-0f93594d3160"
   },
   "outputs": [
    {
     "name": "stdout",
     "output_type": "stream",
     "text": [
      "Entrada:\n",
      "The friend who can be silent with us\n",
      "in a moment of despair or confusion,\n",
      "who can stay with us in an hour of grief and bereavement, \n",
      "who can tolerate not knowing... not healing, not curing... \n",
      "that is a friend who cares.\n",
      "\n",
      "Salida:\n",
      "that is a friend who cares.\n",
      "who can tolerate not knowing... not healing, not curing... \n",
      "who can stay with us in an hour of grief and bereavement, \n",
      "in a moment of despair or confusion,\n",
      "The friend who can be silent with us\n"
     ]
    }
   ],
   "source": [
    "class Texto:\n",
    "    \n",
    "    def __init__(self, original):\n",
    "        self.pila = []\n",
    "        self.original = original\n",
    "\n",
    "    def invertir_lineas(self):\n",
    "        print('Entrada:')\n",
    "        for linea in self.original.split('\\n'):\n",
    "            print(linea)\n",
    "            self.pila.append(linea)    \n",
    "        print()\n",
    "      \n",
    "        print('Salida:')\n",
    "        while len(self.pila) > 0:\n",
    "            print(self.pila.pop())\n",
    "          \n",
    "          \n",
    "texto_original = \"\"\"The friend who can be silent with us\n",
    "in a moment of despair or confusion,\n",
    "who can stay with us in an hour of grief and bereavement, \n",
    "who can tolerate not knowing... not healing, not curing... \n",
    "that is a friend who cares.\"\"\"\n",
    "            \n",
    "t = Texto(texto_original)\n",
    "t.invertir_lineas()"
   ]
  }
 ],
 "metadata": {
  "colab": {
   "collapsed_sections": [],
   "default_view": {},
   "name": "02-pilas.ipynb",
   "provenance": [],
   "version": "0.3.2",
   "views": {}
  },
  "kernelspec": {
   "display_name": "Python 3",
   "language": "python",
   "name": "python3"
  },
  "language_info": {
   "codemirror_mode": {
    "name": "ipython",
    "version": 3
   },
   "file_extension": ".py",
   "mimetype": "text/x-python",
   "name": "python",
   "nbconvert_exporter": "python",
   "pygments_lexer": "ipython3",
   "version": "3.6.6"
  }
 },
 "nbformat": 4,
 "nbformat_minor": 1
}
