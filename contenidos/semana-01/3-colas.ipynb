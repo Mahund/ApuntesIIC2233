{
 "cells": [
  {
   "cell_type": "markdown",
   "metadata": {
    "colab_type": "text",
    "id": "Q5qNNXkuP6oH"
   },
   "source": [
    "<p>\n",
    "<font size='5' face='Georgia, Arial'>IIC-2233 Apunte Programación Avanzada</font><br>\n",
    "<font size='1'>&copy; 2015 Karim Pichara - Christian Pieringer. Todos los derechos reservados. Modificado el 2018-1, 2018-2 por Equipo docente IIC2233</font>\n",
    "</p>"
   ]
  },
  {
   "cell_type": "markdown",
   "metadata": {
    "colab_type": "text",
    "id": "XMOgdQ2sP6oI"
   },
   "source": [
    "## Colas (_queues_)"
   ]
  },
  {
   "cell_type": "markdown",
   "metadata": {},
   "source": [
    "Una cola es una estructura de datos secuencial que mantiene objetos ordenados de acuerdo a su orden de llegada. Funciona igual a una cola para pagar las cuentas en el mundo real, pues cada vez que llega una persona ésta se coloca al final, y la persona que está al principio es atendida y sale de la fila. Es por esto que una cola es una estructura de tipo _**First-in, First-out**_ (FIFO).\n",
    "\n",
    "![](img/queues.png)\n",
    "\n",
    "Una cola tiene dos operaciones principales:\n",
    "- _**Enqueue**_: Agrega un elemento al final de la cola.\n",
    "- _**Dequeue**_: Saca el elemento que está al inicio de la cola. Esto siempre sacará el elemento que lleva más tiempo en la cola.\n",
    "\n",
    "Además, tiene una operación _**peek**_ que permite ver el primer elemento de la cola sin sacarlo, y es posible revisar la cantidad de elementos en la cola o si ésta se encuentra vacía.\n",
    "\n",
    "Si intentamos implementar una cola usando una lista de Python, encontraremos que implementar el _**enqueue**_ es directo pues basta con realizar un `append` a la lista. Sin embargo, implementar _**dequeue**_ mediante `pop(0)` **no es eficiente**. En una lista con $N$ elementos, al eliminar el elemento de la posición $0$, la lista queda de largo $N-1$, y el espacio que ocupaba ese elemento queda ahora vacío en la memoria del computador. La lista desplaza todos los otros elementos una posición a la izquierda: el de la posición $1$ pasa a la posición $0$, el de la posición $2$ pasa a la posición $1$, $\\dots,$ hasta que el de la posición $N$ pasa a la posición $N-1$. Por lo tanto, al ejecutar `pop(0)` se realizan $N$ operaciones: eliminar el elemento, y mover $N-1$ elementos a la izquierda. Decimos que esto es mucho más _costoso_ que agregar un elemento a la cola (con `append`), donde solo se realiza solo una operación.\n"
   ]
  },
  {
   "cell_type": "markdown",
   "metadata": {
    "colab_type": "text",
    "id": "Q-SENzwJP6oJ"
   },
   "source": [
    "### Implementación en Python\n",
    "\n",
    "El módulo `collections` no provee exactamente la estructura _queue_, sino que una versión con más operaciones llamada  _deque_ (por _double ended queue_). Por ahora, nos limitaremos a indicar cómo implementar las operaciones de las colas con la clase `deque`, y en la siguiente sección profundizaremos en esta estructura.\n",
    "\n",
    "\n",
    "| Operación                 | Código Python           | Descripción                                           |\n",
    "|---------------------------|-------------------------|-------------------------------------------------------|\n",
    "| Crear cola                | `cola = deque()`        | Crea una cola vacía                                   |\n",
    "| Crear cola                | `cola = deque(lista)`   | Crea una cola a partir de los elementos de una lista  |\n",
    "| _Enqueue_                 | `cola.append(elemento)` | Agrega un elemento al final de la cola                |\n",
    "| _Dequeue_                 | `cola.popleft()`        | Retorna y extrae el elemento del principio de la cola |\n",
    "| _Peek_                    | `cola[0]`               | Retorna el primer elemento de la cola sin extraerlo   |\n",
    "| _length_                  | `len(cola)`             | Retorna la cantidad de elementos en la cola           |\n",
    "|*is_empty*                 | `len(cola) == 0`        | Retorna true si la cola está vacía                    |\n",
    "\n",
    "\n",
    "#### Ejemplo básico de funcionamiento"
   ]
  },
  {
   "cell_type": "code",
   "execution_count": 1,
   "metadata": {
    "colab": {
     "autoexec": {
      "startup": false,
      "wait_interval": 0
     },
     "base_uri": "https://localhost:8080/",
     "height": 34,
     "output_extras": [
      {
       "item_id": 1
      }
     ]
    },
    "colab_type": "code",
    "executionInfo": {
     "elapsed": 758,
     "status": "ok",
     "timestamp": 1520887738362,
     "user": {
      "displayName": "Jaime Castro Retamal",
      "photoUrl": "//lh5.googleusercontent.com/-d7ImDI1yYBM/AAAAAAAAAAI/AAAAAAAADF4/eQh4r_ES9eE/s50-c-k-no/photo.jpg",
      "userId": "114351437388776670979"
     },
     "user_tz": 180
    },
    "id": "tFBZ0Fwd86-5",
    "outputId": "c48ab125-f7eb-466d-8682-024e025928a4"
   },
   "outputs": [
    {
     "data": {
      "text/plain": [
       "deque([1, 2, 3])"
      ]
     },
     "execution_count": 1,
     "metadata": {},
     "output_type": "execute_result"
    }
   ],
   "source": [
    "# Importamos deque\n",
    "from collections import deque\n",
    "\n",
    "# Cola vacía\n",
    "cola = deque()\n",
    "\n",
    "# Agregamos elementos a la cola (enqueue)\n",
    "cola.append(1)\n",
    "cola.append(2)\n",
    "cola.append(3)\n",
    "\n",
    "cola"
   ]
  },
  {
   "cell_type": "markdown",
   "metadata": {
    "colab_type": "text",
    "id": "liSWcd_U98MR"
   },
   "source": [
    "Ahora, mostramos como hacer _dequeue_ con `popleft`"
   ]
  },
  {
   "cell_type": "code",
   "execution_count": 2,
   "metadata": {
    "colab": {
     "autoexec": {
      "startup": false,
      "wait_interval": 0
     },
     "base_uri": "https://localhost:8080/",
     "height": 51,
     "output_extras": [
      {
       "item_id": 1
      }
     ]
    },
    "colab_type": "code",
    "executionInfo": {
     "elapsed": 693,
     "status": "ok",
     "timestamp": 1520887740780,
     "user": {
      "displayName": "Jaime Castro Retamal",
      "photoUrl": "//lh5.googleusercontent.com/-d7ImDI1yYBM/AAAAAAAAAAI/AAAAAAAADF4/eQh4r_ES9eE/s50-c-k-no/photo.jpg",
      "userId": "114351437388776670979"
     },
     "user_tz": 180
    },
    "id": "SLsy_EuF-FbJ",
    "outputId": "f9fdc629-99e2-4293-b6ed-14a52bc0a229"
   },
   "outputs": [
    {
     "name": "stdout",
     "output_type": "stream",
     "text": [
      "Hicimos dequeue de 1.\n",
      "La cola quedó: deque([2, 3])\n"
     ]
    }
   ],
   "source": [
    "elemento = cola.popleft()\n",
    "\n",
    "print(f\"Hicimos dequeue de {elemento}.\")\n",
    "print(f\"La cola quedó: {cola}\")"
   ]
  },
  {
   "cell_type": "markdown",
   "metadata": {
    "colab_type": "text",
    "id": "LnaHYqxK-Zjp"
   },
   "source": [
    "Podemos ver el primer elemento de la cola sin extraerlo _(peek)_."
   ]
  },
  {
   "cell_type": "code",
   "execution_count": 3,
   "metadata": {
    "colab": {
     "autoexec": {
      "startup": false,
      "wait_interval": 0
     },
     "base_uri": "https://localhost:8080/",
     "height": 34,
     "output_extras": [
      {
       "item_id": 1
      }
     ]
    },
    "colab_type": "code",
    "executionInfo": {
     "elapsed": 655,
     "status": "ok",
     "timestamp": 1520887827358,
     "user": {
      "displayName": "Jaime Castro Retamal",
      "photoUrl": "//lh5.googleusercontent.com/-d7ImDI1yYBM/AAAAAAAAAAI/AAAAAAAADF4/eQh4r_ES9eE/s50-c-k-no/photo.jpg",
      "userId": "114351437388776670979"
     },
     "user_tz": 180
    },
    "id": "K--hdohN-huo",
    "outputId": "2202763e-efbe-4ec9-9c01-25ceefece1cf"
   },
   "outputs": [
    {
     "name": "stdout",
     "output_type": "stream",
     "text": [
      "Primer elemento de la cola: 2\n"
     ]
    }
   ],
   "source": [
    "print(f\"Primer elemento de la cola: {cola[0]}\")"
   ]
  },
  {
   "cell_type": "markdown",
   "metadata": {
    "colab_type": "text",
    "id": "Gi5Evy7L-tYh"
   },
   "source": [
    "Por último, podemos ver cuántos elementos hay y si la cola está vacía."
   ]
  },
  {
   "cell_type": "code",
   "execution_count": 4,
   "metadata": {
    "colab": {
     "autoexec": {
      "startup": false,
      "wait_interval": 0
     },
     "base_uri": "https://localhost:8080/",
     "height": 51,
     "output_extras": [
      {
       "item_id": 1
      }
     ]
    },
    "colab_type": "code",
    "executionInfo": {
     "elapsed": 791,
     "status": "ok",
     "timestamp": 1520887898194,
     "user": {
      "displayName": "Jaime Castro Retamal",
      "photoUrl": "//lh5.googleusercontent.com/-d7ImDI1yYBM/AAAAAAAAAAI/AAAAAAAADF4/eQh4r_ES9eE/s50-c-k-no/photo.jpg",
      "userId": "114351437388776670979"
     },
     "user_tz": 180
    },
    "id": "ib-4vO35-zJu",
    "outputId": "6bb871de-5b32-4d38-a469-f6fad2c45f14"
   },
   "outputs": [
    {
     "name": "stdout",
     "output_type": "stream",
     "text": [
      "La cola tiene 2 elementos.\n",
      "¿La cola está vacía? False\n"
     ]
    }
   ],
   "source": [
    "# len\n",
    "print(f\"La cola tiene {len(cola)} elementos.\")\n",
    "\n",
    "# Función para revisar si la cola está vacía\n",
    "def is_empty(s):\n",
    "    return len(s) == 0\n",
    "\n",
    "print(f\"¿La cola está vacía? {is_empty(cola)}\")"
   ]
  },
  {
   "cell_type": "code",
   "execution_count": 5,
   "metadata": {
    "colab": {
     "autoexec": {
      "startup": false,
      "wait_interval": 0
     },
     "base_uri": "https://localhost:8080/",
     "height": 51,
     "output_extras": [
      {
       "item_id": 1
      }
     ]
    },
    "colab_type": "code",
    "executionInfo": {
     "elapsed": 656,
     "status": "ok",
     "timestamp": 1520887952487,
     "user": {
      "displayName": "Jaime Castro Retamal",
      "photoUrl": "//lh5.googleusercontent.com/-d7ImDI1yYBM/AAAAAAAAAAI/AAAAAAAADF4/eQh4r_ES9eE/s50-c-k-no/photo.jpg",
      "userId": "114351437388776670979"
     },
     "user_tz": 180
    },
    "id": "Ss3beS5S-9eJ",
    "outputId": "4370826b-b394-4dd6-c2f2-af5215fb46ad"
   },
   "outputs": [
    {
     "name": "stdout",
     "output_type": "stream",
     "text": [
      "Cola: deque([3])\n",
      "¿La cola está vacía? False\n"
     ]
    }
   ],
   "source": [
    "cola.popleft()\n",
    "print(f\"Cola: {cola}\")\n",
    "print(f\"¿La cola está vacía? {is_empty(cola)}\")"
   ]
  },
  {
   "cell_type": "code",
   "execution_count": 6,
   "metadata": {
    "colab": {
     "autoexec": {
      "startup": false,
      "wait_interval": 0
     },
     "base_uri": "https://localhost:8080/",
     "height": 51,
     "output_extras": [
      {
       "item_id": 1
      }
     ]
    },
    "colab_type": "code",
    "executionInfo": {
     "elapsed": 709,
     "status": "ok",
     "timestamp": 1520887960846,
     "user": {
      "displayName": "Jaime Castro Retamal",
      "photoUrl": "//lh5.googleusercontent.com/-d7ImDI1yYBM/AAAAAAAAAAI/AAAAAAAADF4/eQh4r_ES9eE/s50-c-k-no/photo.jpg",
      "userId": "114351437388776670979"
     },
     "user_tz": 180
    },
    "id": "OHvB3nmC_ICu",
    "outputId": "7f6b9d42-e8eb-4706-d9dd-d7410dca5543"
   },
   "outputs": [
    {
     "name": "stdout",
     "output_type": "stream",
     "text": [
      "Cola: deque([])\n",
      "¿La cola está vacía? True\n"
     ]
    }
   ],
   "source": [
    "cola.popleft()\n",
    "print(f\"Cola: {cola}\")\n",
    "print(f\"¿La cola está vacía? {is_empty(cola)}\")"
   ]
  },
  {
   "cell_type": "markdown",
   "metadata": {
    "colab_type": "text",
    "id": "GDnhCGCt_sy5"
   },
   "source": [
    "### Ejemplo de uso\n",
    "\n",
    "Casos de uso típicos de esta estructura de datos son las colas de impresión, atención de clientes, atención en cajeros automáticos, etc. En el ejemplo a continuación veremos un modelo simple para atención en una línea de revisión técnica."
   ]
  },
  {
   "cell_type": "code",
   "execution_count": 7,
   "metadata": {
    "colab": {
     "autoexec": {
      "startup": false,
      "wait_interval": 0
     },
     "base_uri": "https://localhost:8080/",
     "height": 136,
     "output_extras": [
      {
       "item_id": 1
      }
     ]
    },
    "colab_type": "code",
    "executionInfo": {
     "elapsed": 670,
     "status": "ok",
     "timestamp": 1520889783091,
     "user": {
      "displayName": "Jaime Castro Retamal",
      "photoUrl": "//lh5.googleusercontent.com/-d7ImDI1yYBM/AAAAAAAAAAI/AAAAAAAADF4/eQh4r_ES9eE/s50-c-k-no/photo.jpg",
      "userId": "114351437388776670979"
     },
     "user_tz": 180
    },
    "id": "Atb22UvwP6oU",
    "outputId": "5f026eba-0d77-457c-c275-df9e29f011bb"
   },
   "outputs": [
    {
     "name": "stdout",
     "output_type": "stream",
     "text": [
      "Atendiendo: moto\n",
      "Atendiendo: camioneta\n",
      "Atendiendo: camioneta\n",
      "Tiempo promedio de atención:  28.33 minutos y 0 vehiculos aún esperando.\n"
     ]
    }
   ],
   "source": [
    "from collections import deque\n",
    "from random import choice, randrange\n",
    "\n",
    "\n",
    "class Auto:\n",
    "    \"\"\"Esta clase modela los autos que llegan a la revision.\"\"\"\n",
    "    \n",
    "    # Un staticmethod es un método propio de la clase, que no se aplica a una instancia particular\n",
    "    # Su primer argumento NO es una instancia de la clase (al que solemos llamar self)\n",
    "    @staticmethod\n",
    "    def tiempo_revision(tipo):\n",
    "        if tipo == 'auto':\n",
    "            return 10\n",
    "        elif tipo == 'moto':\n",
    "            return 25\n",
    "        return 30\n",
    "    \n",
    "    def __init__(self):\n",
    "        self.tipo_vehiculo = choice(['moto', 'camioneta', 'auto'])\n",
    "        self.tiempo_revision = self.tiempo_revision(self.tipo_vehiculo)\n",
    "        \n",
    "    def __str__(self):\n",
    "        return self.tipo_vehiculo\n",
    "\n",
    "\n",
    "class Taller:\n",
    "    \"\"\"\n",
    "    Esta clase modela la linea de revision en el taller.\n",
    "    \"\"\"\n",
    "    \n",
    "    def __init__(self):\n",
    "        self.auto_actual = None\n",
    "        self.tiempo_actual = 0\n",
    "\n",
    "    def ocupado(self):\n",
    "        \"\"\"\n",
    "        Verifica si el taller está ocupado. \n",
    "        Retorna False cuando está vacío.\n",
    "        \"\"\"\n",
    "        return self.auto_actual != None\n",
    "\n",
    "    def ingresar_auto(self, auto):\n",
    "        self.auto_actual = auto\n",
    "        self.tiempo_actual = 0\n",
    "        print(\"Atendiendo: {}\".format(self.auto_actual))\n",
    "        \n",
    "    def tick(self):\n",
    "        \"\"\"\n",
    "        Realiza el incremento del contador de tiempo \n",
    "        en la simulación.\n",
    "        \"\"\"\n",
    "        if self.auto_actual != None:\n",
    "            self.tiempo_actual += 1\n",
    "            if self.auto_actual.tiempo_revision == self.tiempo_actual:\n",
    "                self.auto_actual = None\n",
    "                self.tiempo_actual = 0\n",
    "\n",
    "        \n",
    "def llega_nuevo_auto():\n",
    "    \"\"\"\n",
    "    La llegada de los vehículos a la línea de \n",
    "    revisión está modelada como un proceso aleatorio.\n",
    "    Por cada intervalo de tiempo, hay un 1% de \n",
    "    probabilidad de que llegue un auto\n",
    "    \"\"\"\n",
    "    return 0 == randrange(0, 100)\n",
    "\n",
    "\n",
    "def revision_tecnica():\n",
    "    \"\"\"Esta función maneja el proceso de revisión.\"\"\"\n",
    "    \n",
    "    planta_revision = Taller()  # Crea una planta de revisión\n",
    "    cola_revision = deque()  # Cola de revision vacia\n",
    "    tiempo_espera = []  # Lista con los tiempos de espera\n",
    "\n",
    "    \n",
    "    # Simulación por 500 intervalos de tiempo\n",
    "    for _ in range(500):\n",
    "        \n",
    "        if llega_nuevo_auto():\n",
    "            auto = Auto()\n",
    "            cola_revision.append(auto)\n",
    "        \n",
    "        if (not planta_revision.ocupado()) and (len(cola_revision) > 0):\n",
    "            # Extrae el próximo auto en la cola de atención y \n",
    "            # lo pasa a la planta de revisión.\n",
    "            proximo_auto = cola_revision.popleft()\n",
    "            tiempo_espera.append(proximo_auto.tiempo_revision)\n",
    "            planta_revision.ingresar_auto(proximo_auto)\n",
    "    \n",
    "        planta_revision.tick()  # Incrementa el tiempo que el auto ha sido atendido\n",
    "\n",
    "    tiempo_promedio = sum(tiempo_espera) / len(tiempo_espera)\n",
    "    print(f\"\"\"Tiempo promedio de atención: {tiempo_promedio:6.2f} minutos \"\"\"\n",
    "          f\"\"\"y {len(cola_revision)} vehiculos aún esperando.\"\"\")\n",
    "\n",
    "\n",
    "revision_tecnica()"
   ]
  },
  {
   "cell_type": "markdown",
   "metadata": {
    "colab_type": "text",
    "id": "PdOXDarUw53z"
   },
   "source": [
    "## Colas de doble extremo (_Deque_)\n",
    "\n",
    "\n",
    "Un _deque_ (_double-ended queue_, lo pronunciamos \"dec\") es una estructura secuencial en la que es posible **agregar y sacar elementos desde ambos extremos en forma eficiente**, con un _costo constante por operación_. Esto quiere decir que, independientemente del largo de un _deque_, si éste tiene $N$ elementos, para agregar y sacar elementos siempre ejecutará _la misma_ cantidad de operaciones. Esto es mucho mejor que si utilizamos una _lista_, en que la cantidad de operaciones depende de la cantidad de elementos en la lista. En Python, esta estructura es provista por la clase `deque` del módulo `collections`. Las principales operaciones que soporta son:\n",
    "\n",
    "| Operación      | Código Python                | Descripción                                                      |\n",
    "|----------------|------------------------------|------------------------------------------------------------------|\n",
    "| Crear _deque_  | `deque()`                    | Crea un _deque_ vacío                                            |\n",
    "| Crear _deque_  | `deque(lista)`               | Crea un _deque_ a partir de los elementos de una lista           |\n",
    "| _Add first_    | `deque.appendleft(elemento)` | Agrega un elemento al inicio del _deque_                         |\n",
    "| _Add last_     | `deque.append(elemento)`     | Agrega un elemento al final del _deque_                          |\n",
    "| _Delete first_ | `deque.popleft()`            | Retorna y extrae el primer elemento del _deque_                  |\n",
    "| _Delete last_  | `deque.pop()`                | Retorna y extrae el último elemento del _deque_                  |\n",
    "| _First_        | `deque[0]`                   | Retorna sin extraer el primer elemento del _deque_               |\n",
    "| _Last_         | `deque[-1]`                  | Retorna sin extraer el último elemento del _deque_               |\n",
    "| _length_       | `len(deque)`                 | Retorna el número de elementos en el _deque_                     |\n",
    "| _Is empty_     | `len(deque) == 0`            | Retorna true si el _deque_ está vacío                            |\n",
    "| _Clear_        | `deque.clear()`              | Limpia el _deque_                                                |\n",
    "| _Remove_       | `deque.remove(elemento)`     | Saca el primer elemento del _deque_ que sea igual a `elemento`   |\n",
    "| _Count_        | `deque.count(elemento)`      | Cuenta el número de elementos iguales a `elemento` en el _deque_ |\n",
    "\n",
    "\n",
    "El _deque_ soporta acceso de lectura y escritura en el elemento de la posición `i`, con la sentencia `deque[i]`. Sin embargo, esta operación _**no es eficiente**_ como en el caso de las listas. En un _deque_, para llegar a la posición `i` el computador inicia en la posición `0` y se va moviendo hasta encontrar la posición `i` para poder leerlo (es decir, requiere recorrer todos los elementos anteriores a `i` para llegar a `i`). "
   ]
  },
  {
   "cell_type": "markdown",
   "metadata": {},
   "source": [
    "#### Comparando `list` y `deque`\n",
    "\n",
    "En el siguiente código vamos a comparar el tiempo que demoran algunas operaciones en un `deque` y en un `list`. Vamos a crear un `deque` y un `list` de 10 millones de enteros cada uno, y luego vamos a comparar (1) el tiempo que toma encontrar el elemento que está en la mitad de cada uno, y (2) el tiempo que toma sacar 1000 elementos del inicio."
   ]
  },
  {
   "cell_type": "code",
   "execution_count": 8,
   "metadata": {
    "colab": {
     "autoexec": {
      "startup": false,
      "wait_interval": 0
     },
     "base_uri": "https://localhost:8080/",
     "height": 51,
     "output_extras": [
      {
       "item_id": 1
      }
     ]
    },
    "colab_type": "code",
    "executionInfo": {
     "elapsed": 2116,
     "status": "ok",
     "timestamp": 1520896161287,
     "user": {
      "displayName": "Jaime Castro Retamal",
      "photoUrl": "//lh5.googleusercontent.com/-d7ImDI1yYBM/AAAAAAAAAAI/AAAAAAAADF4/eQh4r_ES9eE/s50-c-k-no/photo.jpg",
      "userId": "114351437388776670979"
     },
     "user_tz": 180
    },
    "id": "PXm1mt3YZavn",
    "outputId": "98af06d3-f90c-418d-ff40-240e6374def5"
   },
   "outputs": [
    {
     "name": "stdout",
     "output_type": "stream",
     "text": [
      "Buscar el elemento 5000000 en el deque se demoró 0.004431 segundos.\n",
      "Buscar el elemento 5000000 en la lista se demoró 0.000060 segundos.\n",
      "La búsqueda en deque fue 74.35 veces el tiempo de list.\n",
      "\n",
      "Sacar los primeros 1000 elementos del deque se demoró   0.000152 segundos.\n",
      "Sacar los primeros 1000 elementos de la lista se demoró 7.044542 segundos.\n",
      "La extracción en list fue 46457.47 veces el tiempo de deque.\n",
      "\n"
     ]
    }
   ],
   "source": [
    "from collections import deque\n",
    "from time import time\n",
    "\n",
    "ELEMENTS = 10000000\n",
    "\n",
    "# Creamos un deque y una lista con 10.000.000 de enteros\n",
    "number_deque = deque(range(ELEMENTS))\n",
    "number_list = list(range(ELEMENTS))\n",
    "\n",
    "# Vemos el time actual\n",
    "start_time = time()\n",
    "# Buscamos el elemento del medio\n",
    "number_deque[ELEMENTS // 2]\n",
    "finish_time = time()\n",
    "deque_time = finish_time - start_time\n",
    "# Imprimimos el tiempo transcurrido\n",
    "print(f\"\"\"Buscar el elemento {ELEMENTS // 2} en el deque se demoró \"\"\"\n",
    "      f\"\"\"{deque_time:.6f} segundos.\"\"\")\n",
    "\n",
    "\n",
    "# Vemos el time actual\n",
    "start_time = time()\n",
    "# Buscamos el elemento del medio\n",
    "number_list[ELEMENTS // 2]\n",
    "finish_time = time()\n",
    "list_time = finish_time - start_time\n",
    "# Imprimimos el tiempo transcurrido\n",
    "print(f\"\"\"Buscar el elemento {ELEMENTS // 2} en la lista se demoró \"\"\"\n",
    "      f\"\"\"{list_time:.6f} segundos.\"\"\")\n",
    "print(f\"La búsqueda en deque fue {deque_time/list_time:.2f} veces el tiempo de list.\")\n",
    "print()\n",
    "\n",
    "# Vamos a hacer pop de los primeros 1000 elementos del deque\n",
    "start_time = time()\n",
    "N = 1000\n",
    "for i in range(0,N):\n",
    "    number_deque.popleft()\n",
    "finish_time = time()\n",
    "deque_time = finish_time - start_time\n",
    "print(f\"Sacar los primeros {N} elementos del deque se demoró   {deque_time:.6f} segundos.\")\n",
    "\n",
    "# Vamos a hacer pop de los primeros 1000 elementos de la lista\n",
    "start_time = time()\n",
    "N = 1000\n",
    "for i in range(0,N):\n",
    "    number_list.pop(0)\n",
    "finish_time = time()\n",
    "list_time = finish_time - start_time\n",
    "print(f\"Sacar los primeros {N} elementos de la lista se demoró {list_time:.6f} segundos.\")\n",
    "print(f\"La extracción en list fue {list_time/deque_time:.2f} veces el tiempo de deque.\")\n",
    "print()\n"
   ]
  },
  {
   "cell_type": "markdown",
   "metadata": {},
   "source": [
    "Nuestro experimento nos permite apreciar que (1) **acceder a un elemento de la mitad** de una cola implementada con `list` es mucho más rápido que con `deque`, y (2) **extraer un elemento del inicio** de una cola implementada con `deque` es mucho más rápido que con `list`. Es importante conocer estas diferencias al momento de elegir una estructura de datos adecuada para nuestros programas."
   ]
  },
  {
   "cell_type": "markdown",
   "metadata": {
    "colab_type": "text",
    "id": "sBsN-_m4ZWVd"
   },
   "source": [
    "#### Rotación\n",
    "\n",
    "También existe una operación de rotación, que desplaza circularmente el _deque_. En la rotación, los `k` últimos elementos pasan a estar al principio como muestra este ejemplo:"
   ]
  },
  {
   "cell_type": "code",
   "execution_count": 9,
   "metadata": {
    "colab": {
     "autoexec": {
      "startup": false,
      "wait_interval": 0
     },
     "base_uri": "https://localhost:8080/",
     "height": 51,
     "output_extras": [
      {
       "item_id": 1
      }
     ]
    },
    "colab_type": "code",
    "executionInfo": {
     "elapsed": 953,
     "status": "ok",
     "timestamp": 1520895619159,
     "user": {
      "displayName": "Jaime Castro Retamal",
      "photoUrl": "//lh5.googleusercontent.com/-d7ImDI1yYBM/AAAAAAAAAAI/AAAAAAAADF4/eQh4r_ES9eE/s50-c-k-no/photo.jpg",
      "userId": "114351437388776670979"
     },
     "user_tz": 180
    },
    "id": "BLMElHmhP6oZ",
    "outputId": "81f1f115-0a20-41c5-a646-c2315495d86d"
   },
   "outputs": [
    {
     "name": "stdout",
     "output_type": "stream",
     "text": [
      "deque([0, 1, 2, 3, 4, 5, 6])\n",
      "deque([4, 5, 6, 0, 1, 2, 3])\n"
     ]
    }
   ],
   "source": [
    "from collections import deque\n",
    "\n",
    "# Creamos un deque vacio y lo poblamos objeto a objeto.\n",
    "d = deque()\n",
    "d.append(0)\n",
    "d.append(1)\n",
    "d.append(2)\n",
    "d.append(3)\n",
    "d.append(4)\n",
    "d.append(5)\n",
    "d.append(6)\n",
    "\n",
    "print(d)\n",
    "\n",
    "# Rotamos el deque k=3. Los últimos k elementos pasan a ser los primeros\n",
    "d.rotate(3)\n",
    "print(d)"
   ]
  },
  {
   "cell_type": "markdown",
   "metadata": {
    "colab_type": "text",
    "id": "jS8OwLGScvyp"
   },
   "source": [
    "Se puede ver que con un _deque_ es posible simular un _stack_ o una cola como las que ya hemos visto. Esto pues un _deque_ puede hacer todas las operaciones que requieren ambas estructuras con la misma eficiencia. Es por eso que se dice que esta estructura es una **generalización de los _stacks_ y colas**."
   ]
  },
  {
   "cell_type": "markdown",
   "metadata": {
    "colab_type": "text",
    "id": "KIbF_OHcP6oc"
   },
   "source": [
    "### Ejemplo de uso con palíndromos\n",
    "\n",
    "A continuación un ejemplo simple de chequeo de palabras palíndromas usando un _deque_. La palabra es almacenada en un _deque_ y las letras de los extremos son extraidas simultaneamente comparadas hasta que quede una sola letra."
   ]
  },
  {
   "cell_type": "code",
   "execution_count": 7,
   "metadata": {
    "colab": {
     "autoexec": {
      "startup": false,
      "wait_interval": 0
     },
     "base_uri": "https://localhost:8080/",
     "height": 68,
     "output_extras": [
      {
       "item_id": 1
      }
     ]
    },
    "colab_type": "code",
    "executionInfo": {
     "elapsed": 1426,
     "status": "ok",
     "timestamp": 1520895878616,
     "user": {
      "displayName": "Jaime Castro Retamal",
      "photoUrl": "//lh5.googleusercontent.com/-d7ImDI1yYBM/AAAAAAAAAAI/AAAAAAAADF4/eQh4r_ES9eE/s50-c-k-no/photo.jpg",
      "userId": "114351437388776670979"
     },
     "user_tz": 180
    },
    "id": "JSicQvZlP6oc",
    "outputId": "c8fe1ca3-0f98-448f-a6f9-ee142d58c1d3"
   },
   "outputs": [
    {
     "name": "stdout",
     "output_type": "stream",
     "text": [
      "True\n",
      "False\n",
      "True\n",
      "True\n"
     ]
    }
   ],
   "source": [
    "from collections import deque\n",
    "\n",
    "class Palabra:\n",
    "\n",
    "    def __init__(self, palabra = None):\n",
    "        self.letras = deque(palabra)\n",
    "\n",
    "    def es_palindrome_rec(self):\n",
    "        if len(self.letras) > 1:\n",
    "            return self.letras.popleft() == self.letras.pop() \\\n",
    "        and Palabra(self.letras).es_palindrome_rec()\n",
    "        else:\n",
    "            return True\n",
    "\n",
    "p1 = Palabra(\"reconocer\")\n",
    "p2 = Palabra(\"espectaculo\")\n",
    "p3 = Palabra(\"ana\")\n",
    "p4 = Palabra(\"OssO\")\n",
    "\n",
    "print(p1.es_palindrome_rec())\n",
    "print(p2.es_palindrome_rec())\n",
    "print(p3.es_palindrome_rec())\n",
    "print(p4.es_palindrome_rec())\n"
   ]
  },
  {
   "cell_type": "markdown",
   "metadata": {
    "colab_type": "text",
    "id": "IEkGfLLtP6og"
   },
   "source": [
    "**Nota**: En Python lo más directo para chequear si un _string_ es palíndromo es simplemente comparar `palabra == palabra[::-1]`"
   ]
  },
  {
   "cell_type": "code",
   "execution_count": null,
   "metadata": {},
   "outputs": [],
   "source": []
  },
  {
   "cell_type": "code",
   "execution_count": null,
   "metadata": {},
   "outputs": [],
   "source": []
  },
  {
   "cell_type": "code",
   "execution_count": null,
   "metadata": {},
   "outputs": [],
   "source": []
  },
  {
   "cell_type": "code",
   "execution_count": null,
   "metadata": {},
   "outputs": [],
   "source": []
  }
 ],
 "metadata": {
  "colab": {
   "collapsed_sections": [],
   "default_view": {},
   "name": "03-colas.ipynb",
   "provenance": [],
   "version": "0.3.2",
   "views": {}
  },
  "kernelspec": {
   "display_name": "Python 3",
   "language": "python",
   "name": "python3"
  },
  "language_info": {
   "codemirror_mode": {
    "name": "ipython",
    "version": 3
   },
   "file_extension": ".py",
   "mimetype": "text/x-python",
   "name": "python",
   "nbconvert_exporter": "python",
   "pygments_lexer": "ipython3",
   "version": "3.6.6"
  }
 },
 "nbformat": 4,
 "nbformat_minor": 1
}
