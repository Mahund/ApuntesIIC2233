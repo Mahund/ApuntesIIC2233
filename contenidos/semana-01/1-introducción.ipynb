{
 "cells": [
  {
   "cell_type": "markdown",
   "metadata": {
    "colab_type": "text",
    "id": "eWR9iZ8qQeYM"
   },
   "source": [
    "<p>\n",
    "<font size='5' face='Georgia, Arial'>IIC-2233 Apunte Programación Avanzada</font><br>\n",
    "<font size='1'>&copy; 2015 Karim Pichara - Christian Pieringer. Todos los derechos reservados.</font>\n",
    "<br>\n",
    "<font size='1'> Modificado en 2017-2, 2018-1, 2018-2 por Equipo Docente IIC2233</font>\n",
    "</p>"
   ]
  },
  {
   "cell_type": "markdown",
   "metadata": {
    "colab_type": "text",
    "id": "F1mi7f0ESiSU"
   },
   "source": [
    "# Tabla de contenidos"
   ]
  },
  {
   "cell_type": "markdown",
   "metadata": {
    "colab_type": "text",
    "id": "MEbsMjX2QeYN"
   },
   "source": [
    "## Estructuras de datos"
   ]
  },
  {
   "cell_type": "markdown",
   "metadata": {
    "colab_type": "text",
    "id": "JpbSQ296QeYO"
   },
   "source": [
    "Desde IIC1103, debemos recordar que las clases se definen por un conjunto de datos y métodos. Sin embargo, una clase muy simple puede contener solamente datos y no métodos. Esto podría verse como la estructura de datos más simple.\n",
    "\n",
    "En Python, para definir una estructura vacía podemos utilizar la sentencia `pass`. Esta sentencia es una **operación nula** que no produce efectos. Usualmente es utilizada en lugares donde eventualmente planeamos escribir código, pero donde si dejamos el espacio vacío provocaríamos un error sintáctico."
   ]
  },
  {
   "cell_type": "markdown",
   "metadata": {
    "colab_type": "text",
    "id": "OLs0v9iqQeYO"
   },
   "source": [
    "Por lo tanto, se entiende por **estructura de datos** a una forma especializada para agrupar y almacenar datos, de tal modo que éstos puedan ser almacenados, accedidos y utilizados eficientemente. \n",
    "\n",
    "A diferencia de las variables simples, las estructuras de datos involucran un alto nivel de _abstracción_ y por lo tanto tienen una estrecha relación con OOP. En esta semana estudiaremos el modelo conceptual de algunas estructuras de datos típicas utilizadas en ciencia de la computación, así como también su implementación en Python. \n",
    "\n",
    "La decisión de \"qué estructura de datos utilizar\" dependerá tanto del contexto de la aplicación en que se desea usar, como también de su diseño y _eficiencia_ esperada. Al final de esta semana, habremos aprendido que la elección adecuada de una estructura de datos para cada situación es crucial para desarrollar un _software_ eficiente."
   ]
  },
  {
   "cell_type": "code",
   "execution_count": 1,
   "metadata": {
    "colab": {
     "autoexec": {
      "startup": false,
      "wait_interval": 0
     }
    },
    "colab_type": "code",
    "id": "4S6K5HrzQeYQ"
   },
   "outputs": [],
   "source": [
    "# Se crea una clase vacía\n",
    "class Video:\n",
    "    pass"
   ]
  },
  {
   "cell_type": "markdown",
   "metadata": {
    "colab_type": "text",
    "id": "t4JwTD6CRn_N"
   },
   "source": [
    "En Python, una vez que una clase se ha instanciado, es posible agregar atributos nuevos al objeto creado. Esta característica no está soportada en todos los lenguajes. Por ejemplo, lenguajes como Java o C# no la soportan."
   ]
  },
  {
   "cell_type": "code",
   "execution_count": 2,
   "metadata": {
    "colab": {
     "autoexec": {
      "startup": false,
      "wait_interval": 0
     },
     "base_uri": "https://localhost:8080/",
     "height": 34,
     "output_extras": [
      {
       "item_id": 1
      }
     ]
    },
    "colab_type": "code",
    "executionInfo": {
     "elapsed": 654,
     "status": "ok",
     "timestamp": 1520876804602,
     "user": {
      "displayName": "Cristian Ruz",
      "photoUrl": "//lh4.googleusercontent.com/-0WhxkzATSqY/AAAAAAAAAAI/AAAAAAAAIqQ/WE7Rcv4pnN8/s50-c-k-no/photo.jpg",
      "userId": "108117710965209443485"
     },
     "user_tz": 180
    },
    "id": "u9eImSzmRnPQ",
    "outputId": "34dbadf6-bae8-4f88-a16b-48974fbce090"
   },
   "outputs": [
    {
     "data": {
      "text/plain": [
       "('avi', '1024')"
      ]
     },
     "execution_count": 2,
     "metadata": {},
     "output_type": "execute_result"
    }
   ],
   "source": [
    "#instanciamos la clase \n",
    "vid = Video()\n",
    "\n",
    "# Se agregan atributos nuevos, que existen \n",
    "# en este objeto en particular\n",
    "vid.ext = 'avi'\n",
    "vid.size = '1024'\n",
    "\n",
    "(vid.ext, vid.size)"
   ]
  },
  {
   "cell_type": "markdown",
   "metadata": {
    "colab_type": "text",
    "id": "hTdjGWhiffJy"
   },
   "source": [
    "También es posible crear una clase sin métodos, pero con algunos atributos predefinidos. Estos atributos se agregan en el método `__init__` que se ejecuta cada vez que deseamos _inicializar_ una clase."
   ]
  },
  {
   "cell_type": "code",
   "execution_count": 3,
   "metadata": {
    "colab": {
     "autoexec": {
      "startup": false,
      "wait_interval": 0
     }
    },
    "colab_type": "code",
    "id": "NS6ht3MKSAeA"
   },
   "outputs": [],
   "source": [
    "class Imagen:\n",
    "    def __init__(self):\n",
    "        self.ext = ''\n",
    "        self.size = ''\n",
    "        self.data = ''\n",
    "\n",
    "img = Imagen()\n",
    "img.ext = 'bmp'\n",
    "img.size = '8'\n",
    "img.data = [255, 255, 255, 200, 34, 35]"
   ]
  },
  {
   "cell_type": "markdown",
   "metadata": {
    "colab_type": "text",
    "id": "h0E9UfMwfvIX"
   },
   "source": [
    "Nuevamente, es posible agregar atributos nuevos a pesar de no estar declarados inicialmente. Estos atributos nuevos existen solamente dentro del objeto que hemos instanciado."
   ]
  },
  {
   "cell_type": "code",
   "execution_count": 4,
   "metadata": {
    "colab": {
     "autoexec": {
      "startup": false,
      "wait_interval": 0
     },
     "base_uri": "https://localhost:8080/",
     "height": 34,
     "output_extras": [
      {
       "item_id": 1
      }
     ]
    },
    "colab_type": "code",
    "executionInfo": {
     "elapsed": 620,
     "status": "ok",
     "timestamp": 1520879321879,
     "user": {
      "displayName": "Cristian Ruz",
      "photoUrl": "//lh4.googleusercontent.com/-0WhxkzATSqY/AAAAAAAAAAI/AAAAAAAAIqQ/WE7Rcv4pnN8/s50-c-k-no/photo.jpg",
      "userId": "108117710965209443485"
     },
     "user_tz": 180
    },
    "id": "8mkwpXDyf0-Z",
    "outputId": "fc61e268-868e-482f-ab80-62a7d8c69bbb"
   },
   "outputs": [
    {
     "data": {
      "text/plain": [
       "('bmp', '8', [255, 255, 255, 200, 34, 35], 20)"
      ]
     },
     "execution_count": 4,
     "metadata": {},
     "output_type": "execute_result"
    }
   ],
   "source": [
    "# No todas las instancias de Imagen poseen el atributo ids, pero ésta sí\n",
    "img.ids = 20\n",
    "(img.ext, img.size, img.data, img.ids)"
   ]
  },
  {
   "cell_type": "markdown",
   "metadata": {
    "colab_type": "text",
    "id": "y1kgyOnxQeYV"
   },
   "source": [
    "Si bien Python permite manejar clases y, una vez instanciadas, agregar atributos a los objetos, esto **no es una buena práctica**. Al hacer esto el intérprete utiliza más memoria para llevar el registro de los atributos, nombres y valores de potenciales nuevos atributos que puedan ser creados dinámicamente. Por otro lado, también hace que el código sea más difícil de mantener y entender, y ya hemos dicho que el código se lee mucho más veces de las que se escribe.\n",
    "\n",
    "Python posee varias estructuras de datos ya implementadas (*built-ins*) para el manejo eficiente de datos. A continuación estudiaremos las más básicas de ellas: listas (_lists_), tuplas (_tuples_), diccionarios (_dictionaries_), conjuntos (_sets_), pilas (_stacks_) y colas (_queue_)."
   ]
  },
  {
   "cell_type": "markdown",
   "metadata": {
    "colab_type": "text",
    "id": "Ip7wjy55QeYW"
   },
   "source": [
    "## Estructuras secuenciales basadas en arreglos"
   ]
  },
  {
   "cell_type": "markdown",
   "metadata": {
    "colab_type": "text",
    "id": "S8o-99HuQeYW"
   },
   "source": [
    "En esta sección estudiaremos estructuras basadas en un **ordenamiento secuencial** de los elementos, según como son ingresados en la estructura. Todas las estructuras de este tipo se caracterizaon porque soportan **indexación de los elementos** de la forma `secuencia[índice]`, donde el ```índice``` **empieza en 0** y llega hasta el **largo de la secuencia - 1**. \n",
    "\n",
    "En este tipo de estructuras encontramos: ```str```, ```tuple``` y ```list```. Si bien los _strings_ también entran en la categoría de _secuencias basadas en arreglos_, suelen ser considerados más un tipo de variable que una estructura de datos, por lo tanto nos concentraremos en `tuple` y `list`."
   ]
  },
  {
   "cell_type": "markdown",
   "metadata": {
    "colab_type": "text",
    "id": "k5e2nkSHQeYX"
   },
   "source": [
    "### Tuplas"
   ]
  },
  {
   "cell_type": "markdown",
   "metadata": {
    "colab_type": "text",
    "id": "4YBLEUvbQeYX"
   },
   "source": [
    "Las **tuplas** (`tuple`) se utilizan para manejar datos de forma **ordenada** e **inmutable**, es decir, no se pueden cambiar los valores de una tupla. Para acceder a algún elemento de la tupla, es necesario usar índices correlativos al orden en que los valores fueron agregados.\n",
    "\n",
    "![](img/indices_secuencia.png)\n",
    "\n",
    "\n",
    "Las tuplas pueden ser heterogéneas, lo que significa que pueden contener objetos pertenciente a clases o tipos de datos distintos, incluyendo otras tuplas. Las tuplas pueden ser creadas de las siguientes maneras:"
   ]
  },
  {
   "cell_type": "code",
   "execution_count": 5,
   "metadata": {
    "colab": {
     "autoexec": {
      "startup": false,
      "wait_interval": 0
     },
     "base_uri": "https://localhost:8080/",
     "height": 85,
     "output_extras": [
      {
       "item_id": 1
      }
     ]
    },
    "colab_type": "code",
    "executionInfo": {
     "elapsed": 706,
     "status": "ok",
     "timestamp": 1520879324770,
     "user": {
      "displayName": "Cristian Ruz",
      "photoUrl": "//lh4.googleusercontent.com/-0WhxkzATSqY/AAAAAAAAAAI/AAAAAAAAIqQ/WE7Rcv4pnN8/s50-c-k-no/photo.jpg",
      "userId": "108117710965209443485"
     },
     "user_tz": 180
    },
    "id": "N-rV68cLQeYY",
    "outputId": "726687d1-e857-4f59-d7ca-bd3d2b0e0f42"
   },
   "outputs": [
    {
     "name": "stdout",
     "output_type": "stream",
     "text": [
      "()\n",
      "(0, 1, 2)\n",
      "0 1\n",
      "(0,)\n",
      "0 uno\n"
     ]
    }
   ],
   "source": [
    "# Usando tuple() sin ingresar elementos, se crea una tupla vacía (tal como una clase, pues tuple es una clase en Python).\n",
    "a = tuple()\n",
    "\n",
    "# Declarando explícitamente los elementos de la tupla, ingresándolos entre paréntesis.\n",
    "b = (0, 1, 2)\n",
    "\n",
    "# Cuando creamos una tupla de tamaño 1, debemos incluir una coma al final\n",
    "c = (0, )\n",
    "\n",
    "# Pueden ser creadas con objetos de distinto tipo. Al momento de la creación se pueden omitir los paréntesis.\n",
    "d = 0, 'uno'\n",
    "\n",
    "print(a)\n",
    "print(b)\n",
    "print(b[0], b[1])\n",
    "print(c)\n",
    "print(d[0], d[1])"
   ]
  },
  {
   "cell_type": "markdown",
   "metadata": {
    "colab_type": "text",
    "id": "CSWPkYTVQeYc"
   },
   "source": [
    "Las tuplas son estructuras de datos **inmutables**. Esto significa que **no es posible agregar o eliminar elementos**, o bien cambiar el contenido de la tupla una vez que ésta fue creada.\n",
    "\n",
    "En el siguiente ejemplo, la posicion 0 de la tupla `a` contiene originalmente un objeto del tipo `Imagen`. Si intentamos reemplazar el contenido de esta posición por un _string_ (o cualquier otro valor), se genera un *error de tipo* (`TypeError`), debido a que los objetos de la clase `tuple` _no permiten asignación_."
   ]
  },
  {
   "cell_type": "code",
   "execution_count": 6,
   "metadata": {
    "cellView": "code",
    "colab": {
     "autoexec": {
      "startup": false,
      "wait_interval": 0
     },
     "base_uri": "https://localhost:8080/",
     "height": 198,
     "output_extras": [
      {
       "item_id": 1
      }
     ]
    },
    "colab_type": "code",
    "executionInfo": {
     "elapsed": 621,
     "status": "error",
     "timestamp": 1520879327058,
     "user": {
      "displayName": "Cristian Ruz",
      "photoUrl": "//lh4.googleusercontent.com/-0WhxkzATSqY/AAAAAAAAAAI/AAAAAAAAIqQ/WE7Rcv4pnN8/s50-c-k-no/photo.jpg",
      "userId": "108117710965209443485"
     },
     "user_tz": 180
    },
    "id": "DaAmguADQeYd",
    "outputId": "2e4b3fac-f617-4428-fe76-26d32015632f"
   },
   "outputs": [
    {
     "ename": "TypeError",
     "evalue": "'tuple' object does not support item assignment",
     "output_type": "error",
     "traceback": [
      "\u001b[1;31m---------------------------------------------------------------------------\u001b[0m",
      "\u001b[1;31mTypeError\u001b[0m                                 Traceback (most recent call last)",
      "\u001b[1;32m<ipython-input-6-e57ea197fde3>\u001b[0m in \u001b[0;36m<module>\u001b[1;34m()\u001b[0m\n\u001b[0;32m      1\u001b[0m \u001b[0mimg\u001b[0m \u001b[1;33m=\u001b[0m \u001b[0mImagen\u001b[0m\u001b[1;33m(\u001b[0m\u001b[1;33m)\u001b[0m\u001b[1;33m\u001b[0m\u001b[0m\n\u001b[0;32m      2\u001b[0m \u001b[0ma\u001b[0m \u001b[1;33m=\u001b[0m \u001b[1;33m(\u001b[0m\u001b[0mimg\u001b[0m\u001b[1;33m,\u001b[0m \u001b[1;34m'es'\u001b[0m\u001b[1;33m,\u001b[0m \u001b[1;34m'una foto'\u001b[0m\u001b[1;33m)\u001b[0m\u001b[1;33m\u001b[0m\u001b[0m\n\u001b[1;32m----> 3\u001b[1;33m \u001b[0ma\u001b[0m\u001b[1;33m[\u001b[0m\u001b[1;36m0\u001b[0m\u001b[1;33m]\u001b[0m \u001b[1;33m=\u001b[0m \u001b[1;34m'este archivo'\u001b[0m\u001b[1;33m\u001b[0m\u001b[0m\n\u001b[0m",
      "\u001b[1;31mTypeError\u001b[0m: 'tuple' object does not support item assignment"
     ]
    }
   ],
   "source": [
    "img = Imagen()\n",
    "a = (img, 'es', 'una foto')\n",
    "a[0] = 'este archivo' "
   ]
  },
  {
   "cell_type": "markdown",
   "metadata": {
    "colab_type": "text",
    "id": "Y8r_x5yHdaGN"
   },
   "source": [
    "Sin embargo, sí es posible modificar algún valor contenido _dentro_ de un elemento de la tupla, siempre que el tipo de datos lo permita. En el siguiente caso **no** estamos modificando el objeto `tuple`, sino un valor interno al elemento de la posición 0."
   ]
  },
  {
   "cell_type": "code",
   "execution_count": 7,
   "metadata": {
    "colab": {
     "autoexec": {
      "startup": false,
      "wait_interval": 0
     },
     "base_uri": "https://localhost:8080/",
     "height": 34,
     "output_extras": [
      {
       "item_id": 1
      }
     ]
    },
    "colab_type": "code",
    "executionInfo": {
     "elapsed": 732,
     "status": "ok",
     "timestamp": 1520880114636,
     "user": {
      "displayName": "Cristian Ruz",
      "photoUrl": "//lh4.googleusercontent.com/-0WhxkzATSqY/AAAAAAAAAAI/AAAAAAAAIqQ/WE7Rcv4pnN8/s50-c-k-no/photo.jpg",
      "userId": "108117710965209443485"
     },
     "user_tz": 180
    },
    "id": "xgumMpoXd3If",
    "outputId": "815615ff-9bba-4878-fb9e-d575e2b6fe8d"
   },
   "outputs": [
    {
     "data": {
      "text/plain": [
       "('gif', '8', [255, 255, 255, 200, 34, 35], 'es', 'una foto')"
      ]
     },
     "execution_count": 7,
     "metadata": {},
     "output_type": "execute_result"
    }
   ],
   "source": [
    "img = Imagen()\n",
    "img.ext = 'bmp'\n",
    "img.size = '8'\n",
    "img.data = [255,255,255,200,34,35]\n",
    "a = (img, 'es', 'una foto')\n",
    "a[0].ext = 'gif'\n",
    "a[0].ext, a[0].size, a[0].data, a[1], a[2]"
   ]
  },
  {
   "cell_type": "markdown",
   "metadata": {
    "colab_type": "text",
    "id": "QPtgAFHIQeYg"
   },
   "source": [
    "Las tuplas pueden ser **desempaquetadas** en variables individuales. En el siguiente ejemplo creamos una función llamada `calcular_geometria()` que recibe como entrada los lados de un cuadrilátero y retorna algunas medidas geométricas típicas. Cuando las funciones retornan más de un valor, lo hacen empaquetando todos los valores en una tupla. Esto es simplemente un [truco](https://en.wikipedia.org/wiki/Syntactic_sugar) de Python, replicable en otros lenguajes, para aparentar que se entregan múltiples valores de retorno."
   ]
  },
  {
   "cell_type": "code",
   "execution_count": 11,
   "metadata": {
    "colab": {
     "autoexec": {
      "startup": false,
      "wait_interval": 0
     },
     "base_uri": "https://localhost:8080/",
     "height": 85,
     "output_extras": [
      {
       "item_id": 1
      }
     ]
    },
    "colab_type": "code",
    "executionInfo": {
     "elapsed": 653,
     "status": "ok",
     "timestamp": 1520880118274,
     "user": {
      "displayName": "Cristian Ruz",
      "photoUrl": "//lh4.googleusercontent.com/-0WhxkzATSqY/AAAAAAAAAAI/AAAAAAAAIqQ/WE7Rcv4pnN8/s50-c-k-no/photo.jpg",
      "userId": "108117710965209443485"
     },
     "user_tz": 180
    },
    "id": "wB7LtfXeQeYh",
    "outputId": "d18ef0f7-e486-4543-c9b7-e4dc75b2ac71"
   },
   "outputs": [
    {
     "name": "stdout",
     "output_type": "stream",
     "text": [
      "1: <class 'tuple'>\n",
      "2: <class 'float'>\n",
      "3: <class 'float'>, 60.0, 10.0, 5.0\n",
      "4: <class 'float'>, 60.0, 10.0, 5.0\n"
     ]
    }
   ],
   "source": [
    "def calcular_geometria(a, b):\n",
    "    area = a*b\n",
    "    perimeter = (2*a) + (2*b)\n",
    "    mpa = a / 2\n",
    "    mpb = b / 2\n",
    "    return (area, perimeter, mpa, mpb) # Los paréntesis son opcionales, ya que estamos creando una tupla\n",
    "\n",
    "# Obtenemos una tupla con los datos provenientes \n",
    "# de la función.\n",
    "data = calcular_geometria(20.0, 10.0)\n",
    "print(f\"1: {type(data)}\")\n",
    "\n",
    "# Obtenemos un valor desde la tupla directamente \n",
    "# referenciando el índice del dato requerido.\n",
    "p = data[1]\n",
    "print(f\"2: {type(p)}\")\n",
    "\n",
    "# Desempaquetando en variables independientes \n",
    "# los valores contenidos en una tupla\n",
    "a, p, mpa, mpb = data\n",
    "print(f\"3: {type(a)}, {p}, {mpa}, {mpb}\")\n",
    "\n",
    "# Las funciones devuelven el conjunto de valores \n",
    "# como una tupla. Se puede desempaquetar directamente \n",
    "# en variables individuales como en el caso anterior.\n",
    "a, p, mpa, mpb = calcular_geometria(20.0, 10.0)\n",
    "print(f\"4: {type(a)}, {p}, {mpa}, {mpb}\")"
   ]
  },
  {
   "cell_type": "markdown",
   "metadata": {
    "colab_type": "text",
    "id": "lXrSWaH_QeYk"
   },
   "source": [
    "Es posible tomar secciones de la tupla usando la notación de **_slicing_**. En esta notación, los índices no coinciden directamente con la posición del elemento en la secuencia, si no más bien funcionan como márgenes para indicar _desde dónde_ y [_hasta dónde_](https://youtu.be/whLU_Rm2Sds?t=3m01s) deseamos recuperar datos de la tupla. La sintaxis de la notación de _slicing_ es: `secuencia[inicio:término:pasos]`. Por defecto, el número de pasos es 1. La siguiente figura muestra un ejemplo de cómo se deben considerar los indices al usar la notación de _slicing_. \n",
    "![](img/indices_slicing.png)"
   ]
  },
  {
   "cell_type": "markdown",
   "metadata": {
    "colab_type": "text",
    "id": "Fim3_iG0QeYk"
   },
   "source": [
    "Forma general de hacer slicing en Python:\n",
    "\n",
    "- ```a[start:end]```: retorna los elementos desde ```start``` hasta ```end - 1```\n",
    "\n",
    "- ```a[start:]```: retorna los elementos desde ```start``` hasta el final del arreglo\n",
    "\n",
    "- ```a[:end]```: retorna los elementos desde el principio hasta ```end - 1```\n",
    "\n",
    "- ```a[:]```: crea una copia (shallow) del arreglo completo. Es decir, el arreglo retornado está en una nueva dirección de memoria, pero los elementos en el arreglo están hace referencia a la dirección de memoria a los elemenos del arreglo inicial\n",
    "\n",
    "- ```a[start:end:step]```: retorna los elementos desde ```start``` hasta no pasar ```end```, en pasos de a ```step```\n",
    "\n",
    "- ```a[-1]```: retorna el último elemento en el arreglo\n",
    "\n",
    "- ```a[-n:]```:   # últimos ```n``` elementos en el arreglo\n",
    "\n",
    "- ```a[:-n]```: retorna todos los elementos del arreglo menos los últimos ```n``` elementos\n",
    "\n",
    "Veamos algunos ejemplos de *slicing* aplicado a tuplas."
   ]
  },
  {
   "cell_type": "code",
   "execution_count": 9,
   "metadata": {
    "colab": {
     "autoexec": {
      "startup": false,
      "wait_interval": 0
     },
     "base_uri": "https://localhost:8080/",
     "height": 119,
     "output_extras": [
      {
       "item_id": 1
      }
     ]
    },
    "colab_type": "code",
    "executionInfo": {
     "elapsed": 815,
     "status": "ok",
     "timestamp": 1520880316007,
     "user": {
      "displayName": "Cristian Ruz",
      "photoUrl": "//lh4.googleusercontent.com/-0WhxkzATSqY/AAAAAAAAAAI/AAAAAAAAIqQ/WE7Rcv4pnN8/s50-c-k-no/photo.jpg",
      "userId": "108117710965209443485"
     },
     "user_tz": 180
    },
    "id": "WHGTXUp5QeYl",
    "outputId": "1533a126-640c-4007-8a72-bba283c76c93"
   },
   "outputs": [
    {
     "name": "stdout",
     "output_type": "stream",
     "text": [
      "1: (20, 1)\n",
      "2: (4, 10, 11, 12, 500)\n",
      "3: (400, 20, 1, 4, 10)\n",
      "4: (1, 10, 12)\n",
      "5: (20, 4, 11)\n",
      "6: (500, 12, 11, 10, 4, 1, 20, 400)\n"
     ]
    }
   ],
   "source": [
    "# Usando los valores asignados en a, podemos obtener los valores de una sección de la tupla.\n",
    "data = (400, 20, 1, 4, 10, 11, 12, 500)\n",
    "\n",
    "# Recuperamos los elementos que están entre los índices 1 y 3\n",
    "a = data[1:3]\n",
    "print('1: {0}'.format(a))\n",
    "\n",
    "# Recuperamos desde el índice 3 en adelante\n",
    "a = data[3:]\n",
    "print('2: {0}'.format(a))\n",
    "\n",
    "# Recuperamos los valores hasta el índice 5\n",
    "a = data[:5]\n",
    "print('3: {0}'.format(a))\n",
    "\n",
    "# Recuperamos desde el índice 2 en adelante respecto del slice en pasos de a dos\n",
    "a = data[2::2]\n",
    "print('4: {0}'.format(a))\n",
    "\n",
    "# Recuperamos entre los índices 1 y 4, en pasos de a dos\n",
    "a = data[1:6:2]\n",
    "print('5: {0}'.format(a))\n",
    "\n",
    "# Una secuencia puede ser fácilmente invertida\n",
    "a = data[::-1]\n",
    "print('6: {0}'.format(a))"
   ]
  },
  {
   "cell_type": "markdown",
   "metadata": {
    "colab_type": "text",
    "id": "iT_HXzQ7QeYq"
   },
   "source": [
    "### _Named tuples_"
   ]
  },
  {
   "cell_type": "markdown",
   "metadata": {
    "colab_type": "text",
    "id": "QHUD7LyIQeYr"
   },
   "source": [
    "Los [*named tuples*](https://docs.python.org/3/library/collections.html#collections.namedtuple) son estructuras que permiten definir campos para cada una de las posiciones en que han sido ingresados los datos. Son útiles como una forma de agrupar datos. Generalmente se utilizan como alternativa a las clases cuando los datos no tienen un comportamiento asociado. \n",
    "\n",
    "Este tipo de tupla requiere definir un objeto con los nombres de los atributos que tendrá la tupla. Para poder hacer uso de esta estructura se requiere importar el modulo `namedtuple` desde la librería `collections`. La inicialización básica de una `namedtuple` requiere un _string_ con el nombre para el tipo de tupla y el nombre de los campos que tendrá, los que se entregan en una lista de _strings_ como en el siguiente ejemplo:"
   ]
  },
  {
   "cell_type": "code",
   "execution_count": 10,
   "metadata": {
    "colab": {
     "autoexec": {
      "startup": false,
      "wait_interval": 0
     },
     "base_uri": "https://localhost:8080/",
     "height": 68,
     "output_extras": [
      {
       "item_id": 1
      }
     ]
    },
    "colab_type": "code",
    "executionInfo": {
     "elapsed": 641,
     "status": "ok",
     "timestamp": 1520880687215,
     "user": {
      "displayName": "Cristian Ruz",
      "photoUrl": "//lh4.googleusercontent.com/-0WhxkzATSqY/AAAAAAAAAAI/AAAAAAAAIqQ/WE7Rcv4pnN8/s50-c-k-no/photo.jpg",
      "userId": "108117710965209443485"
     },
     "user_tz": 180
    },
    "id": "EPktwjyAQeYt",
    "outputId": "d1ed7fd8-3518-4394-a49f-c4b8d2aac52a"
   },
   "outputs": [
    {
     "name": "stdout",
     "output_type": "stream",
     "text": [
      "13427974-5\n",
      "23066987-2\n",
      "<class '__main__.Register_type'>\n"
     ]
    }
   ],
   "source": [
    "from collections import namedtuple\n",
    "\n",
    "# Asignamos un nombre a la tupla (Register_type), y los nombres de los atributos que tendrá\n",
    "\n",
    "Register = namedtuple('Register_type', ['RUT', 'name', 'age'])\n",
    "\n",
    "# instanciación e inicialización de la tupla\n",
    "c1 = Register('13427974-5', 'Christian', 20) \n",
    "c2 = Register('23066987-2', 'Dante', 5)\n",
    "\n",
    "print(c1.RUT)\n",
    "print(c2.RUT)\n",
    "print(type(c2))"
   ]
  },
  {
   "cell_type": "markdown",
   "metadata": {},
   "source": [
    "Al igual que las tuplas, las _named tuples_ son inmutables."
   ]
  },
  {
   "cell_type": "code",
   "execution_count": 11,
   "metadata": {},
   "outputs": [
    {
     "ename": "AttributeError",
     "evalue": "can't set attribute",
     "output_type": "error",
     "traceback": [
      "\u001b[0;31m---------------------------------------------------------------------------\u001b[0m",
      "\u001b[0;31mAttributeError\u001b[0m                            Traceback (most recent call last)",
      "\u001b[0;32m<ipython-input-11-f16c36bc679a>\u001b[0m in \u001b[0;36m<module>\u001b[0;34m()\u001b[0m\n\u001b[0;32m----> 1\u001b[0;31m \u001b[0mc1\u001b[0m\u001b[0;34m.\u001b[0m\u001b[0mname\u001b[0m \u001b[0;34m=\u001b[0m \u001b[0;34m'Cristian'\u001b[0m\u001b[0;34m\u001b[0m\u001b[0m\n\u001b[0m",
      "\u001b[0;31mAttributeError\u001b[0m: can't set attribute"
     ]
    }
   ],
   "source": [
    "c1.name = 'Cristian'"
   ]
  },
  {
   "cell_type": "markdown",
   "metadata": {
    "colab_type": "text",
    "id": "LcRymyaiQeY1"
   },
   "source": [
    "### Listas"
   ]
  },
  {
   "cell_type": "markdown",
   "metadata": {
    "colab_type": "text",
    "id": "AfxQPd60QeY2"
   },
   "source": [
    "Las **listas** (`list`) se utilizan para manejar datos de forma **ordenada** y **mutable**. Los contenidos pueden ser accedidos utilizando el índice correspondiente al orden en que se encuentran en la lista. A diferencia de las tuplas, el _orden_ de los elementos de una lista, y _los elementos mismos_ pueden cambiar mediante métodos que manipulan la lista.\n",
    "\n",
    "Las listas también pueden ser heterogéneas, lo que significa que pueden contener objetos pertenciente a clases o tipos de datos distintos, incluyendo otras listas. Si bien no hay nada que obligue a que sea así, es más común ver listas con tipos de datos homogéneos que heterogéneos.\n",
    "\n",
    "En una lista, los elementos que se agregan usando `append`, se ponen al final de la lista.\n",
    "\n",
    "Podemos crear listas de las siguientes maneras:\n"
   ]
  },
  {
   "cell_type": "code",
   "execution_count": 12,
   "metadata": {
    "colab": {
     "autoexec": {
      "startup": false,
      "wait_interval": 0
     },
     "base_uri": "https://localhost:8080/",
     "height": 68,
     "output_extras": [
      {
       "item_id": 1
      }
     ]
    },
    "colab_type": "code",
    "executionInfo": {
     "elapsed": 655,
     "status": "ok",
     "timestamp": 1520882213515,
     "user": {
      "displayName": "Cristian Ruz",
      "photoUrl": "//lh4.googleusercontent.com/-0WhxkzATSqY/AAAAAAAAAAI/AAAAAAAAIqQ/WE7Rcv4pnN8/s50-c-k-no/photo.jpg",
      "userId": "108117710965209443485"
     },
     "user_tz": 180
    },
    "id": "UtPo_dwcQeY4",
    "outputId": "e90a7990-8fa4-4529-efea-67b0486b078e"
   },
   "outputs": [
    {
     "name": "stdout",
     "output_type": "stream",
     "text": [
      "[(2015, 3, 14), (2015, 4, 18)]\n",
      "[1, 'string', 20.5, (23, 45), 'ultimo']\n",
      "string\n"
     ]
    }
   ],
   "source": [
    "# Creamos una lista vacía y agregamos elementos incrementalmente. \n",
    "# En este caso agregamos dos tuplas al final de la lista.\n",
    "lista = list()                # También puede ser con lista=[]\n",
    "lista.append((2015, 3, 14))\n",
    "lista.append((2015, 4, 18))\n",
    "print(lista)\n",
    "\n",
    "# Tambien es posible agregar los objetos explicitamente al definirla por primera vez\n",
    "lista = [1, 'string', 20.5, (23, 45)]\n",
    "lista.append('ultimo')\n",
    "print(lista)\n",
    "\n",
    "# Extraemos un el elemento usando el indice respectivo\n",
    "print(lista[1])"
   ]
  },
  {
   "cell_type": "markdown",
   "metadata": {
    "colab_type": "text",
    "id": "Yus8I5QhQeY7"
   },
   "source": [
    "A veces es necesario agregar nuevos elementos contenidos en otras listas. En estos casos resulta muy útil agregar la lista completa y no cada elemento de forma individual con `append()`. Para eso podemos utilizar el método `extend()`."
   ]
  },
  {
   "cell_type": "code",
   "execution_count": 13,
   "metadata": {
    "colab": {
     "autoexec": {
      "startup": false,
      "wait_interval": 0
     },
     "base_uri": "https://localhost:8080/",
     "height": 51,
     "output_extras": [
      {
       "item_id": 1
      }
     ]
    },
    "colab_type": "code",
    "executionInfo": {
     "elapsed": 749,
     "status": "ok",
     "timestamp": 1520882441332,
     "user": {
      "displayName": "Cristian Ruz",
      "photoUrl": "//lh4.googleusercontent.com/-0WhxkzATSqY/AAAAAAAAAAI/AAAAAAAAIqQ/WE7Rcv4pnN8/s50-c-k-no/photo.jpg",
      "userId": "108117710965209443485"
     },
     "user_tz": 180
    },
    "id": "V9TLr6LIQeY9",
    "outputId": "0d152db9-3657-462a-a233-b090e2ef9f04"
   },
   "outputs": [
    {
     "name": "stdout",
     "output_type": "stream",
     "text": [
      "['Addicted to pain', 'Ghost love score', 'As I am']\n",
      "['Addicted to pain', 'Ghost love score', 'As I am', 'Elevate', 'Shine', 'Cry of Achilles']\n"
     ]
    }
   ],
   "source": [
    "canciones = ['Addicted to pain', 'Ghost love score', 'As I am']\n",
    "print(canciones)\n",
    "\n",
    "nuevas_canciones = ['Elevate', 'Shine', 'Cry of Achilles']\n",
    "canciones.extend(nuevas_canciones)\n",
    "print(canciones)"
   ]
  },
  {
   "cell_type": "markdown",
   "metadata": {
    "colab_type": "text",
    "id": "uHQWM4IYQeY_"
   },
   "source": [
    "También es posible insertar elementos en posiciones específicas mediante el método `insert(posicion, elemento)`."
   ]
  },
  {
   "cell_type": "code",
   "execution_count": 14,
   "metadata": {
    "colab": {
     "autoexec": {
      "startup": false,
      "wait_interval": 0
     },
     "base_uri": "https://localhost:8080/",
     "height": 51,
     "output_extras": [
      {
       "item_id": 1
      }
     ]
    },
    "colab_type": "code",
    "executionInfo": {
     "elapsed": 628,
     "status": "ok",
     "timestamp": 1520882442995,
     "user": {
      "displayName": "Cristian Ruz",
      "photoUrl": "//lh4.googleusercontent.com/-0WhxkzATSqY/AAAAAAAAAAI/AAAAAAAAIqQ/WE7Rcv4pnN8/s50-c-k-no/photo.jpg",
      "userId": "108117710965209443485"
     },
     "user_tz": 180
    },
    "id": "gU00_vIgQeZA",
    "outputId": "1dae43fe-a2fa-4af5-a7f3-ef69900de7bf"
   },
   "outputs": [
    {
     "name": "stdout",
     "output_type": "stream",
     "text": [
      "['Addicted to pain', 'Ghost love score', 'As I am', 'Elevate', 'Shine', 'Cry of Achilles']\n",
      "['Addicted to pain', 'Sober', 'Ghost love score', 'As I am', 'Elevate', 'Shine', 'Cry of Achilles']\n"
     ]
    }
   ],
   "source": [
    "print(canciones)\n",
    "canciones.insert(1, 'Sober')\n",
    "print(canciones)"
   ]
  },
  {
   "cell_type": "markdown",
   "metadata": {
    "colab_type": "text",
    "id": "PigJzLMgQeZF"
   },
   "source": [
    "Además podemos extraer mediante indexación un elemento específico desde una lista. Al igual que las tuplas también es posible recuperar una porción completa de la lista utilizando la notación de *slicing*."
   ]
  },
  {
   "cell_type": "code",
   "execution_count": 15,
   "metadata": {
    "colab": {
     "autoexec": {
      "startup": false,
      "wait_interval": 0
     },
     "base_uri": "https://localhost:8080/",
     "height": 102,
     "output_extras": [
      {
       "item_id": 1
      }
     ]
    },
    "colab_type": "code",
    "executionInfo": {
     "elapsed": 837,
     "status": "ok",
     "timestamp": 1520882477154,
     "user": {
      "displayName": "Cristian Ruz",
      "photoUrl": "//lh4.googleusercontent.com/-0WhxkzATSqY/AAAAAAAAAAI/AAAAAAAAIqQ/WE7Rcv4pnN8/s50-c-k-no/photo.jpg",
      "userId": "108117710965209443485"
     },
     "user_tz": 180
    },
    "id": "PFk2lDsEQeZF",
    "outputId": "4bd9bd1a-522b-4a02-c1ac-9c57248a13fe"
   },
   "outputs": [
    {
     "name": "stdout",
     "output_type": "stream",
     "text": [
      "[2, 4, 10, 20]\n",
      "[2, 4, 10, 20, 25]\n",
      "[6, 7, 2, 4, 10]\n",
      "[6, 2, 10]\n",
      "[25, 20, 10, 4, 2, 7, 6]\n"
     ]
    }
   ],
   "source": [
    "# Tomando una tajada particular\n",
    "numeros = [6, 7, 2, 4, 10, 20, 25]\n",
    "print(numeros[2:6])\n",
    "\n",
    "# tomando una seccion hasta el final de la lista\n",
    "print(numeros[2:])\n",
    "\n",
    "# tomando una sección desde el principio hasta un punto específico\n",
    "print(numeros[:5:])\n",
    "\n",
    "# considerando pasos de 2\n",
    "print(numeros[:5:2])\n",
    "\n",
    "# revirtiendo una lista\n",
    "print(numeros[::-1])"
   ]
  },
  {
   "cell_type": "markdown",
   "metadata": {
    "colab_type": "text",
    "id": "UiYd79gOQeZI"
   },
   "source": [
    "Las listas pueden ser ordenadas utilizando el método `sort()`. Esto ordena las listas en sí mismas (_in-place_) y no devuelve nada, es decir, el resultado no es asignable a una nueva lista."
   ]
  },
  {
   "cell_type": "code",
   "execution_count": 16,
   "metadata": {
    "colab": {
     "autoexec": {
      "startup": false,
      "wait_interval": 0
     },
     "base_uri": "https://localhost:8080/",
     "height": 85,
     "output_extras": [
      {
       "item_id": 1
      }
     ]
    },
    "colab_type": "code",
    "executionInfo": {
     "elapsed": 636,
     "status": "ok",
     "timestamp": 1520882562759,
     "user": {
      "displayName": "Cristian Ruz",
      "photoUrl": "//lh4.googleusercontent.com/-0WhxkzATSqY/AAAAAAAAAAI/AAAAAAAAIqQ/WE7Rcv4pnN8/s50-c-k-no/photo.jpg",
      "userId": "108117710965209443485"
     },
     "user_tz": 180
    },
    "id": "MlvMpZaJQeZJ",
    "outputId": "5367f854-d4b0-4ac3-bc89-c96f5ed5f9bc"
   },
   "outputs": [
    {
     "name": "stdout",
     "output_type": "stream",
     "text": [
      "[6, 7, 2, 4, 10, 20, 25]\n",
      "None\n",
      "[2, 4, 6, 7, 10, 20, 25]\n",
      "[25, 20, 10, 7, 6, 4, 2]\n"
     ]
    }
   ],
   "source": [
    "numeros = [6, 7, 2, 4, 10, 20, 25]\n",
    "print(numeros)\n",
    "\n",
    "# Ordenamos eEn sentido ascendente. \n",
    "# Observar como a no recibe ninguna asignacion despues de que la lista numeros es ordenada\n",
    "a = numeros.sort() \n",
    "print(a)\n",
    "print(numeros)\n",
    "\n",
    "# Ordenamos en sentido descendente\n",
    "numeros.sort(reverse=True)\n",
    "print(numeros)"
   ]
  },
  {
   "cell_type": "markdown",
   "metadata": {
    "colab_type": "text",
    "id": "H1uP2UtqQeZN"
   },
   "source": [
    "Las listas han sido optimizadas para ser una estructura flexible y fácil de manejar. También se pueden recorrer con la notación de `for`"
   ]
  },
  {
   "cell_type": "code",
   "execution_count": 17,
   "metadata": {
    "colab": {
     "autoexec": {
      "startup": false,
      "wait_interval": 0
     },
     "base_uri": "https://localhost:8080/",
     "height": 85,
     "output_extras": [
      {
       "item_id": 1
      }
     ]
    },
    "colab_type": "code",
    "executionInfo": {
     "elapsed": 679,
     "status": "ok",
     "timestamp": 1520882774481,
     "user": {
      "displayName": "Cristian Ruz",
      "photoUrl": "//lh4.googleusercontent.com/-0WhxkzATSqY/AAAAAAAAAAI/AAAAAAAAIqQ/WE7Rcv4pnN8/s50-c-k-no/photo.jpg",
      "userId": "108117710965209443485"
     },
     "user_tz": 180
    },
    "id": "bhdy3jWrQeZO",
    "outputId": "4ce9d608-f448-4baf-dc4f-38c4a69d7a77"
   },
   "outputs": [
    {
     "name": "stdout",
     "output_type": "stream",
     "text": [
      "id: 1 - tipo de pieza: Alfil\n",
      "id: 2 - tipo de pieza: Peon\n",
      "id: 3 - tipo de pieza: Rey\n",
      "id: 4 - tipo de pieza: Reina\n"
     ]
    }
   ],
   "source": [
    "class Pieza:\n",
    "    # Los atributos definidos fuera de un metodo son **atributos de clase**.\n",
    "    # Esto significa que son compartidos entre todas las instancias de una clase.\n",
    "    # En este caso, todas las instancias de Pieza lo usan asignar un identificador (id) secuencial.\n",
    "    id_ = 0\n",
    "    \n",
    "    def __init__(self, pieza):\n",
    "        Pieza.id_ += 1\n",
    "        self.id = Pieza.id_\n",
    "        self.tipo = pieza\n",
    "\n",
    "piezas = []\n",
    "piezas.append(Pieza('Alfil'))\n",
    "piezas.append(Pieza('Peon'))\n",
    "piezas.append(Pieza('Rey'))\n",
    "piezas.append(Pieza('Reina'))\n",
    "\n",
    "# Por cada iteración en el ciclo la variable pieza recibe un elemento de la lista,\n",
    "# de acuerdo al orden de la lista\n",
    "for pieza in piezas:\n",
    "    print('id: {0} - tipo de pieza: {1}'.format(pieza.id, pieza.tipo))"
   ]
  },
  {
   "cell_type": "markdown",
   "metadata": {
    "colab_type": "text",
    "id": "d2sXz4t6rX9W"
   },
   "source": [
    "En este ejemplo, cada elemento de la lista `piezas` es un objeto de clase `Pieza`, que ha sido ingresado de manera ordenada dentro de la lista. \n",
    "\n",
    "Cada pieza tiene un identificador único. La manera que utilizamos para generar este identificador único es usando un **atributo de clase** dentro de la definición de la clase `Pieza`. Los atributos de clase se definen fuera de todos los métodos de la clase, y a diferencia de los atributos de objetos, éstos son compartidos entre todas las instancias de la clase. Es por esto que, luego de inicializar cada objeto `Pieza`, el valor de `Pieza.pid` ha cambiado. Al llamar a un atributo de clase, dado que no están asociados a ningún objeto particular, se debe anteponer el nombre de la clase."
   ]
  }
 ],
 "metadata": {
  "colab": {
   "collapsed_sections": [],
   "default_view": {},
   "name": "01-introduccion.ipynb",
   "provenance": [],
   "version": "0.3.2",
   "views": {}
  },
  "kernelspec": {
   "display_name": "Python 3",
   "language": "python",
   "name": "python3"
  },
  "language_info": {
   "codemirror_mode": {
    "name": "ipython",
    "version": 3
   },
   "file_extension": ".py",
   "mimetype": "text/x-python",
   "name": "python",
   "nbconvert_exporter": "python",
   "pygments_lexer": "ipython3",
   "version": "3.6.6"
  }
 },
 "nbformat": 4,
 "nbformat_minor": 1
}
