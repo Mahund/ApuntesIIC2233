{
 "cells": [
  {
   "cell_type": "markdown",
   "metadata": {},
   "source": [
    "<p>\n",
    "<font size='5' face='Georgia, Arial'>IIC-2233 Apunte Programación Avanzada</font><br>\n",
    "<font size='1'>&copy; 2015 Karim Pichara - Christian Pieringer. Todos los derechos reservados. Modificado el 2018-1, 2018-2 por Equipo docente IIC2233</font>\n",
    "</p>"
   ]
  },
  {
   "cell_type": "markdown",
   "metadata": {},
   "source": [
    "## Diccionarios\n",
    "\n",
    "Imaginemos que estamos escribiendo un programa para manejar dinero, y necesitamos saber qué moneda usa el usuario dado el país en que se encuentra. Una posible solución es escribir una función que reciba el nombre del país y que en una trama de `if - elif - else` retorne la moneda correspondiente:"
   ]
  },
  {
   "cell_type": "code",
   "execution_count": 2,
   "metadata": {},
   "outputs": [],
   "source": [
    "def get_moneda(pais):\n",
    "    if pais == \"Chile\":\n",
    "        return \"Peso\"\n",
    "    elif pais == \"Perú\":\n",
    "        return \"Soles\"\n",
    "    elif pais == \"España\" or pais == \"Holanda\":\n",
    "        return \"Euro\"\n",
    "    elif pais == \"Brasil\":\n",
    "        return \"Real\""
   ]
  },
  {
   "cell_type": "markdown",
   "metadata": {},
   "source": [
    "No obstante, esta solución es larga, tediosa de escribir, y muy difícil de mantener. Tampoco nos permite extender o actualizar la información en tiempo de ejecución, con datos que podemos leer desde un archivo o desde un servicio web. Si nos fijamos, lo único que estamos haciendo es asociar un valor que conocemos de antemano con otro valor. Es esto lo que hacen precisamente los **diccionarios**.\n",
    "\n",
    "Un **diccionario** es una estructura de datos **ordenada** (nota importante: es ordenada sólo [a partir de Python 3.6](https://docs.python.org/3/whatsnew/3.6.html#whatsnew36-compactdict)) y **mutable** que permite asociar pares de elementos mediante la relación **llave-valor**. Al diccionario se le consulta por una **llave** y retorna su **valor** asociado. La **llave** y el **valor** (_key-value_) pueden tener distinto tipo en un diccionario. Es importante mencionar que esta estructura de tipo _mapping_ (porque _mapean_ de un valor a otro) existe en muchos otros lenguajes de programación con otros nombres distintos a _diccionario_, y podrían no preservar el orden (como lo hacía Python antes de su versión 3.6).\n",
    "\n",
    "En el ejemplo de las monedas, los países serían las llaves por las que consultamos, y los valores serían las distintas monedas.\n",
    "\n",
    "![](img/hash-table.png)\n",
    "\n",
    "Dado una llave, **buscar su valor** en un diccionario es una operación **muy eficiente** que toma tiempo constante, es decir, no depende de la cantidad de elementos que tenga la estructura. No obstante, esta estructura no está diseñada para buscar (en forma eficiente) una llave teniendo el valor.\n",
    "\n",
    "Los diccionarios están implementados con una estructura llamada _tabla de hash_. En esta estructura, existe una función matemática que se le aplica a la llave para saber en qué lugar guardar un determinado valor. Esa función se llama _función de hash_.\n",
    "\n",
    "### Llaves permitidas\n",
    "\n",
    "No todo elemento puede ser usado como llave en un diccionario. El primer requisito es que las llaves **deben ser únicas** (no pueden repetirse), de lo contrario podría pasar que dos valores queden asociados a la misma llave. El segundo requisito es que la llave debe ser [_hasheable_](https://docs.python.org/3/glossary.html#term-hashable).\n",
    "\n",
    "Un objeto es _hasheable_ si:\n",
    "1. Implementa la función [`__hash__`](https://docs.python.org/3/reference/datamodel.html#object.__hash__). Esta función retorna un entero y sirve de entrada para la función de _hash_ de la _tabla de hash_.\n",
    "2. Implementa la función [`__eq__`](https://docs.python.org/3/reference/datamodel.html#object.__eq__). Esta función compara dos objetos y retorna `True` si éstos deben ser considerados iguales.\n",
    "2. El valor que retorna `__hash__` **no cambia** durante el ciclo de vida del objeto.\n",
    "3. Si dos objetos son iguales según la función `__eq__`, entonces el valor que retorna `__hash__` debe ser el mismo. No es necesario que esto se cumpla al revés. \n",
    "\n",
    "En Python en particular, todos los _built-ins_ que son **inmutables** son _hasheables_. Esto significa que tipos como `int`, `str` o `tuple` se pueden usar como llave en un diccionario. Por el contrario, todos los _built-ins_ mutables no son _hasheables_, por lo que tipos como `list` no pueden ser ocupados como llave.\n",
    "\n",
    "En el ejemplo de abajo, inicializamos dos _strings_ iguales. Primero, vemos que su valor de _hash_ es igual. También vemos que son iguales. Recordemos que el hecho de que dos objetos sean iguales **no significa** que sean el mismo, esto lo podemos ver usando la sentencia `is` que retorna `True` sólo si dos variables apuntan al mismo objeto."
   ]
  },
  {
   "cell_type": "code",
   "execution_count": 3,
   "metadata": {},
   "outputs": [
    {
     "name": "stdout",
     "output_type": "stream",
     "text": [
      "Hash de hello_1: -1768473161\n",
      "Hash de hello_2: -1768473161\n",
      "¿Son iguales? True\n",
      "¿Son el mismo objeto? False\n"
     ]
    }
   ],
   "source": [
    "hello_1 = \"Hello world\"\n",
    "hello_2 = \"Hello world\"\n",
    "\n",
    "print(f\"Hash de hello_1: {hash(hello_1)}\")\n",
    "print(f\"Hash de hello_2: {hash(hello_2)}\")\n",
    "print(f\"¿Son iguales? {hello_1 == hello_2}\")\n",
    "print(f\"¿Son el mismo objeto? {hello_1 is hello_2}\")"
   ]
  },
  {
   "cell_type": "markdown",
   "metadata": {},
   "source": [
    "Notar que una tupla es _hasheable_ sólo si todos los valores que contiene son _hasheables_. Por ejemplo, una tupla que contiene una lista en su interior no es _hasheable_."
   ]
  },
  {
   "cell_type": "code",
   "execution_count": 4,
   "metadata": {},
   "outputs": [
    {
     "ename": "TypeError",
     "evalue": "unhashable type: 'list'",
     "output_type": "error",
     "traceback": [
      "\u001b[1;31m---------------------------------------------------------------------------\u001b[0m",
      "\u001b[1;31mTypeError\u001b[0m                                 Traceback (most recent call last)",
      "\u001b[1;32m<ipython-input-4-7b54f2efe1e7>\u001b[0m in \u001b[0;36m<module>\u001b[1;34m()\u001b[0m\n\u001b[0;32m      1\u001b[0m \u001b[0mtupla\u001b[0m \u001b[1;33m=\u001b[0m \u001b[1;33m(\u001b[0m\u001b[1;36m0\u001b[0m\u001b[1;33m,\u001b[0m \u001b[1;36m1\u001b[0m\u001b[1;33m,\u001b[0m \u001b[1;33m[\u001b[0m\u001b[1;36m2\u001b[0m\u001b[1;33m,\u001b[0m \u001b[1;36m3\u001b[0m\u001b[1;33m]\u001b[0m\u001b[1;33m)\u001b[0m\u001b[1;33m\u001b[0m\u001b[0m\n\u001b[1;32m----> 2\u001b[1;33m \u001b[0mhash\u001b[0m\u001b[1;33m(\u001b[0m\u001b[0mtupla\u001b[0m\u001b[1;33m)\u001b[0m\u001b[1;33m\u001b[0m\u001b[0m\n\u001b[0m",
      "\u001b[1;31mTypeError\u001b[0m: unhashable type: 'list'"
     ]
    }
   ],
   "source": [
    "tupla = (0, 1, [2, 3])\n",
    "hash(tupla)"
   ]
  },
  {
   "cell_type": "markdown",
   "metadata": {},
   "source": [
    "Las instancias de clases creadas por el usuario son _hasheables_ por defecto, puesto que la función `__hash__` retorna un valor único y fijo para cada instancia. Además, la función `__eq__` devuelve `True` sólo si corresponde exactamente al mismo objeto, por lo que no necesitamos que el valor de `__hash__` sea igual al de ningún otro objeto.\n",
    "\n",
    "Podemos ver que los objetos de clases personalizadas son _hasheables_ incluso si almacenan valores no _hasheables_ en alguno de sus atributos:"
   ]
  },
  {
   "cell_type": "code",
   "execution_count": 7,
   "metadata": {
    "scrolled": true
   },
   "outputs": [
    {
     "name": "stdout",
     "output_type": "stream",
     "text": [
      "Hash de dummy_0: 1031709\n",
      "Hash de dummy_1: 1031701\n",
      "Hash de dummy_2: 6476031\n"
     ]
    }
   ],
   "source": [
    "class Dummy:\n",
    "    \n",
    "    def __init__(self, x, y):\n",
    "        self.x = x\n",
    "        self.y = y\n",
    "        \n",
    "dummy_0 = Dummy(4, 5)\n",
    "dummy_1 = Dummy(0, [1, 2])\n",
    "dummy_2 = Dummy(\"Hello\", [\"World\", \"Hold on\"])\n",
    "\n",
    "print(f\"Hash de dummy_0: {hash(dummy_0)}\")\n",
    "print(f\"Hash de dummy_1: {hash(dummy_1)}\")\n",
    "print(f\"Hash de dummy_2: {hash(dummy_2)}\")"
   ]
  },
  {
   "cell_type": "markdown",
   "metadata": {},
   "source": [
    "Esto ocurre porque, en instancias, el valor del _hash_ **no depende** de los valores de los atributos de la instancia."
   ]
  },
  {
   "cell_type": "code",
   "execution_count": 8,
   "metadata": {},
   "outputs": [
    {
     "name": "stdout",
     "output_type": "stream",
     "text": [
      "Hash de dummy_1: 1031701\n"
     ]
    }
   ],
   "source": [
    "dummy_1.x = 33\n",
    "print(f\"Hash de dummy_1: {hash(dummy_1)}\")"
   ]
  },
  {
   "cell_type": "markdown",
   "metadata": {},
   "source": [
    "Por último, los valores del _hash_ para cada objeto son únicos (aunque los valores de los atributos sean iguales)."
   ]
  },
  {
   "cell_type": "code",
   "execution_count": 9,
   "metadata": {},
   "outputs": [
    {
     "name": "stdout",
     "output_type": "stream",
     "text": [
      "Hash de dummy_3: 6475957\n"
     ]
    }
   ],
   "source": [
    "dummy_3 = Dummy(\"Hello\", [\"World\", \"Hold on\"])\n",
    "print(f\"Hash de dummy_3: {hash(dummy_3)}\")"
   ]
  },
  {
   "cell_type": "markdown",
   "metadata": {},
   "source": [
    "### Valores permitidos\n",
    "\n",
    "No hay restricciones respecto a los valores. Los valores pueden ser mutables o inmutables, _hasheables_ o no, e incluso pueden incluir otros diccionarios."
   ]
  },
  {
   "cell_type": "markdown",
   "metadata": {},
   "source": [
    "### Diccionarios en Python\n",
    "\n",
    "En Python, los diccionarios están implementados por la case `dict`. La notación para describir un diccionario es con `{}`, y cada par llave-valor se asocia con `:` como muestra el ejemplo:"
   ]
  },
  {
   "cell_type": "code",
   "execution_count": 7,
   "metadata": {},
   "outputs": [],
   "source": [
    "monedas = {\"Chile\": \"Peso\", \"Perú\": \"Soles\", \"España\": \"Euro\", \n",
    "           \"Holanda\": \"Euro\", \"Brasil\": \"Real\"}"
   ]
  },
  {
   "cell_type": "markdown",
   "metadata": {},
   "source": [
    "Para acceder al valor asociado a una llave, utilizamos la instrucción `diccionario[nombre_llave]`:"
   ]
  },
  {
   "cell_type": "code",
   "execution_count": 8,
   "metadata": {},
   "outputs": [
    {
     "data": {
      "text/plain": [
       "'Peso'"
      ]
     },
     "execution_count": 8,
     "metadata": {},
     "output_type": "execute_result"
    }
   ],
   "source": [
    "monedas[\"Chile\"]"
   ]
  },
  {
   "cell_type": "markdown",
   "metadata": {},
   "source": [
    "Si se intenta consultar por una llave que no existe, obtenemos un error:"
   ]
  },
  {
   "cell_type": "code",
   "execution_count": 9,
   "metadata": {},
   "outputs": [
    {
     "ename": "KeyError",
     "evalue": "'Argentina'",
     "output_type": "error",
     "traceback": [
      "\u001b[0;31m---------------------------------------------------------------------------\u001b[0m",
      "\u001b[0;31mKeyError\u001b[0m                                  Traceback (most recent call last)",
      "\u001b[0;32m<ipython-input-9-36dd29e74b01>\u001b[0m in \u001b[0;36m<module>\u001b[0;34m()\u001b[0m\n\u001b[0;32m----> 1\u001b[0;31m \u001b[0mmonedas\u001b[0m\u001b[0;34m[\u001b[0m\u001b[0;34m\"Argentina\"\u001b[0m\u001b[0;34m]\u001b[0m\u001b[0;34m\u001b[0m\u001b[0m\n\u001b[0m",
      "\u001b[0;31mKeyError\u001b[0m: 'Argentina'"
     ]
    }
   ],
   "source": [
    "monedas[\"Argentina\"]"
   ]
  },
  {
   "cell_type": "markdown",
   "metadata": {},
   "source": [
    "Otra manera de acceder al valor asociado a una llave consiste en utilizar el método [`get`](https://docs.python.org/3/library/stdtypes.html#dict.get) que posee la clase diccionario. Este método requiere dos parámetros: la llave buscada y un valor en caso que la llave no exista."
   ]
  },
  {
   "cell_type": "code",
   "execution_count": 10,
   "metadata": {},
   "outputs": [
    {
     "name": "stdout",
     "output_type": "stream",
     "text": [
      "Peso\n",
      "Soles\n",
      "No tiene moneda\n",
      "False\n"
     ]
    }
   ],
   "source": [
    "print(monedas.get('Chile', 'No tiene moneda'))\n",
    "print(monedas.get('Perú', 0))\n",
    "print(monedas.get('Argentina', 'No tiene moneda'))\n",
    "print(monedas.get('Colombia', False))"
   ]
  },
  {
   "cell_type": "markdown",
   "metadata": {},
   "source": [
    "Como los diccionarios son **mutables**, si se asigna un valor a una llave existen dos comportamientos posibles. Si la llave no existe, ésta se crea y se le asigna un valor."
   ]
  },
  {
   "cell_type": "code",
   "execution_count": 11,
   "metadata": {},
   "outputs": [
    {
     "data": {
      "text/plain": [
       "{'Chile': 'Peso',\n",
       " 'Perú': 'Soles',\n",
       " 'España': 'Euro',\n",
       " 'Holanda': 'Euro',\n",
       " 'Brasil': 'Real',\n",
       " 'Vaticano': 'Lira'}"
      ]
     },
     "execution_count": 11,
     "metadata": {},
     "output_type": "execute_result"
    }
   ],
   "source": [
    "monedas[\"Vaticano\"] = \"Lira\"\n",
    "monedas"
   ]
  },
  {
   "cell_type": "markdown",
   "metadata": {},
   "source": [
    "Si la llave ya existe, se actualiza con el nuevo valor:"
   ]
  },
  {
   "cell_type": "code",
   "execution_count": 12,
   "metadata": {},
   "outputs": [
    {
     "data": {
      "text/plain": [
       "{'Chile': 'Peso',\n",
       " 'Perú': 'Soles',\n",
       " 'España': 'Euro',\n",
       " 'Holanda': 'Euro',\n",
       " 'Brasil': 'Real',\n",
       " 'Vaticano': 'Euro'}"
      ]
     },
     "execution_count": 12,
     "metadata": {},
     "output_type": "execute_result"
    }
   ],
   "source": [
    "monedas[\"Vaticano\"] = \"Euro\"\n",
    "monedas"
   ]
  },
  {
   "cell_type": "markdown",
   "metadata": {},
   "source": [
    "A diferencia de otros lenguajes como C# o Java, en Python no es necesario que las llaves sean todas del mismo tipo. Tampoco es necesario que los valores sean todos del mismo tipo."
   ]
  },
  {
   "cell_type": "code",
   "execution_count": 13,
   "metadata": {},
   "outputs": [
    {
     "data": {
      "text/plain": [
       "{'Chile': 'Peso',\n",
       " 'Perú': 'Soles',\n",
       " 'España': 'Euro',\n",
       " 'Holanda': 'Euro',\n",
       " 'Brasil': 'Real',\n",
       " 'Vaticano': 'Euro',\n",
       " 3.14: ('Peso', 'Dolar')}"
      ]
     },
     "execution_count": 13,
     "metadata": {},
     "output_type": "execute_result"
    }
   ],
   "source": [
    "monedas[3.14] = (\"Peso\", \"Dolar\")\n",
    "monedas"
   ]
  },
  {
   "cell_type": "markdown",
   "metadata": {},
   "source": [
    "Se puede eliminar items desde el diccionario utilizando la sentencia `del` como `del diccionario[<llave>]`."
   ]
  },
  {
   "cell_type": "code",
   "execution_count": 14,
   "metadata": {},
   "outputs": [
    {
     "data": {
      "text/plain": [
       "{'Chile': 'Peso',\n",
       " 'Perú': 'Soles',\n",
       " 'España': 'Euro',\n",
       " 'Holanda': 'Euro',\n",
       " 'Brasil': 'Real',\n",
       " 'Vaticano': 'Euro'}"
      ]
     },
     "execution_count": 14,
     "metadata": {},
     "output_type": "execute_result"
    }
   ],
   "source": [
    "del monedas[3.14]\n",
    "monedas"
   ]
  },
  {
   "cell_type": "markdown",
   "metadata": {},
   "source": [
    "Se puede comprobar la existencia de una llave en el diccionario utilizando la sentencia `in`. El comportamiento por defecto al utilizar sentencias sobre el diccionario es operar sobre los valores de las llaves. En el caso de `in`, devuelve `True` si la llave requerida existe dentro de las llaves en el diccionario."
   ]
  },
  {
   "cell_type": "code",
   "execution_count": 15,
   "metadata": {},
   "outputs": [
    {
     "name": "stdout",
     "output_type": "stream",
     "text": [
      "True\n",
      "False\n",
      "False\n"
     ]
    }
   ],
   "source": [
    "print('Chile' in monedas)\n",
    "print('Argentina' in monedas)\n",
    "print('Peso' in monedas)"
   ]
  },
  {
   "cell_type": "markdown",
   "metadata": {},
   "source": [
    "#### Métodos útiles\n",
    "\n",
    "Tres métodos útiles que existen en los diccionarios son: \n",
    "\n",
    "1. `keys()`: permite obtener una lista con las llaves del diccionario.\n",
    "2. `values()`: permite obtener una lista con los valores del diccionario.\n",
    "3. `items()`: permite obtener una lista con los **pares** que tiene el diccionario. Cada par es una tupla de la forma `(llave, valor)`."
   ]
  },
  {
   "cell_type": "code",
   "execution_count": 16,
   "metadata": {},
   "outputs": [
    {
     "name": "stdout",
     "output_type": "stream",
     "text": [
      "dict_keys(['Chile', 'Perú', 'España', 'Holanda', 'Brasil', 'Vaticano'])\n",
      "dict_values(['Peso', 'Soles', 'Euro', 'Euro', 'Real', 'Euro'])\n",
      "dict_items([('Chile', 'Peso'), ('Perú', 'Soles'), ('España', 'Euro'), ('Holanda', 'Euro'), ('Brasil', 'Real'), ('Vaticano', 'Euro')])\n"
     ]
    }
   ],
   "source": [
    "print(monedas.keys()) # una lista con todas las llaves\n",
    "print(monedas.values()) # una lista con todos los valores\n",
    "print(monedas.items()) # una lista con tuplas de pares llave-valor"
   ]
  },
  {
   "cell_type": "markdown",
   "metadata": {},
   "source": [
    "Estos métodos son prácticos y útiles durante la iteración sobre diccionarios."
   ]
  },
  {
   "cell_type": "code",
   "execution_count": 17,
   "metadata": {},
   "outputs": [
    {
     "name": "stdout",
     "output_type": "stream",
     "text": [
      "Las llaves en el diccionario son las siguientes:\n",
      "Chile\n",
      "Perú\n",
      "España\n",
      "Holanda\n",
      "Brasil\n",
      "Vaticano\n",
      "\n",
      "Chile\n",
      "Perú\n",
      "España\n",
      "Holanda\n",
      "Brasil\n",
      "Vaticano\n"
     ]
    }
   ],
   "source": [
    "print('Las llaves en el diccionario son las siguientes:')\n",
    "\n",
    "for m in monedas.keys():\n",
    "    print(f'{m}')\n",
    "\n",
    "print()\n",
    "\n",
    "for m in monedas: # por defecto, se recorren las llaves\n",
    "    print(f'{m}')"
   ]
  },
  {
   "cell_type": "code",
   "execution_count": 18,
   "metadata": {},
   "outputs": [
    {
     "name": "stdout",
     "output_type": "stream",
     "text": [
      "Los valores en el diccionario:\n",
      "Peso\n",
      "Soles\n",
      "Euro\n",
      "Euro\n",
      "Real\n",
      "Euro\n"
     ]
    }
   ],
   "source": [
    "print('Los valores en el diccionario:')\n",
    "for v in monedas.values():\n",
    "    print(f'{v}')"
   ]
  },
  {
   "cell_type": "code",
   "execution_count": 19,
   "metadata": {},
   "outputs": [
    {
     "name": "stdout",
     "output_type": "stream",
     "text": [
      "Los pares en el diccionario:\n",
      "La moneda de Chile es Peso\n",
      "La moneda de Perú es Soles\n",
      "La moneda de España es Euro\n",
      "La moneda de Holanda es Euro\n",
      "La moneda de Brasil es Real\n",
      "La moneda de Vaticano es Euro\n"
     ]
    }
   ],
   "source": [
    "print('Los pares en el diccionario:')\n",
    "for k, v in monedas.items():\n",
    "    print(f'La moneda de {k} es {v}')"
   ]
  },
  {
   "cell_type": "markdown",
   "metadata": {},
   "source": [
    "### Aplicaciones\n",
    "\n",
    "Una aplicación de diccionarios es para realizar conteos de frecuencia. En el siguiente ejemplo, el código cuenta cuántas veces aparece cada vocal en un _string_."
   ]
  },
  {
   "cell_type": "code",
   "execution_count": 20,
   "metadata": {
    "scrolled": true
   },
   "outputs": [
    {
     "name": "stdout",
     "output_type": "stream",
     "text": [
      "{'u': 1, 'e': 2, 'a': 3, 'i': 6, 'o': 3}\n"
     ]
    }
   ],
   "source": [
    "msg = 'supercalifragilisticoespialidoso'\n",
    "# Crea un diccionario vacío para contabilizar las letras\n",
    "vocales = dict() \n",
    "\n",
    "for letra in msg:\n",
    "    # Revisa si la letra es una vocal\n",
    "    if letra not in 'aeiou': \n",
    "        continue\n",
    "    \n",
    "    # Revisa si letra existe en el diccionario, si no la crea en 0\n",
    "    if letra not in vocales: \n",
    "        vocales[letra] = 0\n",
    "\n",
    "    vocales[letra] += 1 # si ya existe, agrega una cuenta mas\n",
    "\n",
    "print(vocales)"
   ]
  },
  {
   "cell_type": "markdown",
   "metadata": {},
   "source": [
    "## `defaultdicts`\n",
    "\n",
    "Los `defaultdicts` son diccionarios que nos permiten asignar un valor por defecto a cada *key* con la que se llama el diccionario. Esto nos ahorra el problema de tener que escribir código preocupándonos de los casos en que el valor que se intenta obtener el diccionario no existe. \n",
    "\n",
    "Los `defaultdicts` reciben una función (o un _callable_) que debe devolver el valor que se asignará por defecto. Esta función _no debe recibir parámetros_, puede realizar cualquier acción, y puede devolver cualquier objeto, el cual será asignado como valor para el respectivo *key* en el diccionario.\n",
    " \n",
    "Por ejemplo, podemos rehacer el ejemplo de contar las vocales de un _string_."
   ]
  },
  {
   "cell_type": "code",
   "execution_count": 21,
   "metadata": {},
   "outputs": [
    {
     "name": "stdout",
     "output_type": "stream",
     "text": [
      "defaultdict(<class 'int'>, {'u': 1, 'e': 2, 'a': 3, 'i': 6, 'o': 3})\n"
     ]
    }
   ],
   "source": [
    "from collections import defaultdict\n",
    "\n",
    "msg = 'supercalifragilisticoespialidoso'\n",
    "\n",
    "# Crea un defaultdict vacío.\n",
    "vocales = defaultdict(int)  \n",
    "# Pasamos int como callable. El callable se va a llamar sin parámetros\n",
    "# cada vez que se consulte por una key que no existe.\n",
    "# En este caso, int() devolverá el valor por defecto de este tipo (0)\n",
    "\n",
    "for letra in msg:\n",
    "    if letra not in 'aeiou': # Revisa si la letra es una vocal\n",
    "        continue\n",
    "\n",
    "    vocales[letra] += 1 # si ya existe, agrega una cuenta mas\n",
    "\n",
    "print(vocales)"
   ]
  },
  {
   "cell_type": "markdown",
   "metadata": {},
   "source": [
    "También podemos entregar una función que nosotros definamos. En este ejemplo, cada vez que una *key* no exista le asociará un número _random_."
   ]
  },
  {
   "cell_type": "code",
   "execution_count": 22,
   "metadata": {},
   "outputs": [
    {
     "name": "stdout",
     "output_type": "stream",
     "text": [
      "defaultdict(<function funcion_default at 0x7f65b8257a60>, {})\n",
      "defaultdict(<function funcion_default at 0x7f65b8257a60>, {'A': 0.8460487629107208})\n",
      "defaultdict(<function funcion_default at 0x7f65b8257a60>, {'A': 0.8460487629107208, 'B': 0.7174115844799945})\n"
     ]
    }
   ],
   "source": [
    "from random import random\n",
    "\n",
    "def funcion_default():\n",
    "    return random()\n",
    "\n",
    "diccionario = defaultdict(funcion_default)\n",
    "\n",
    "print(diccionario)\n",
    "diccionario['A']\n",
    "print(diccionario)\n",
    "diccionario['B']\n",
    "print(diccionario)"
   ]
  }
 ],
 "metadata": {
  "kernelspec": {
   "display_name": "Python 3",
   "language": "python",
   "name": "python3"
  },
  "language_info": {
   "codemirror_mode": {
    "name": "ipython",
    "version": 3
   },
   "file_extension": ".py",
   "mimetype": "text/x-python",
   "name": "python",
   "nbconvert_exporter": "python",
   "pygments_lexer": "ipython3",
   "version": "3.6.6"
  }
 },
 "nbformat": 4,
 "nbformat_minor": 1
}
