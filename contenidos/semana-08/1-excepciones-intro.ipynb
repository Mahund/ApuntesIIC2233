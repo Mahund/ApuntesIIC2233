{
 "cells": [
  {
   "cell_type": "markdown",
   "metadata": {},
   "source": [
    "<p>\n",
    "<font size='5' face='Georgia, Arial'>IIC-2233 Apunte Programación Avanzada</font><br>\n",
    "<font size='1'>&copy; 2015 Karim Pichara - Christian Pieringer. Todos los derechos reservados.</font>\n",
    "<br>\n",
    "<font size='1'> Modificado en 2017-2, 2018-1, 2018-2 por Equipo Docente IIC2233</font>\n",
    "</p>"
   ]
  },
  {
   "cell_type": "markdown",
   "metadata": {},
   "source": [
    "# Excepciones"
   ]
  },
  {
   "cell_type": "markdown",
   "metadata": {},
   "source": [
    "Las excepciones son **lanzada** cuando **ocurren errores** que interrumpen el flujo normal de un programa durante su **tiempo de ejecución**. Al **atrapar** una excepción es posible controlar posibles errores y prevenir que se caiga el programa.\n",
    "\n",
    "En su mayoría, las excepciones son indicadores de que algo salió mal en la ejecución de una instrucción u operación que debería haber sido *legítima* en ese lenguaje de programación en particular.  \n",
    "\n",
    "Algunas excepciones en Python 3.x pueden deberse a:\n",
    "- Error del usuario al ingresar algún dato\n",
    "- Parámetros de *input* no válidos a llamar una función (cantidad de parámetros, tipo de los parámetros, etc.)\n",
    "- Error de sintaxis, que solo es un problema cuando se intenta llamar a la función mal definida\n",
    "- Intentar utilizar variables inexistentes, que solo es un problema cuando se intenta utilizar esa variable\n",
    "\n",
    "\n",
    "Estos eventos anómalos producen el término inesperado del programa. Comúnmente los lenguajes de programación modelan las excepciones como un objeto.\n",
    "\n",
    "Al ser python un lenguaje interpretado, es necesario traducir cada instrucción a lenguaje entendible por el computador en cada ejecución. Esta traducción, que hace posible que se ejecuten las instrucciones, ocurre en el tiempo de **interpretación** del código. Por lo tanto, cada línea es traducida solo cuando se va a ejecutar y no antes. Esto produce que un programa en python pueda lanzar muchas excepciones durante el tiempo de **interpretación**, ya que es recién ahí cuando se revisa su validez.\n",
    "\n",
    "Por otro lado, los lenguajes **compilados** son traducidos a un lenguaje entendible por el computador antes de ser ejecutados. Esta capacidad de compilar antes de ejecutar permite lanzar excepciones prematuras y detectar errores que en un lenguaje interpretado solo hubiesen aparecido al momento de llamar a esa instrucción erronea. Así, lenguajes compilados como Java, C o C# son preferidos al desarrollar aplicaciones de alto riesgo, ya que la compilación previa reduce mucho la probabilidad de crear bugs."
   ]
  },
  {
   "cell_type": "markdown",
   "metadata": {},
   "source": [
    "# Tipos de excepciones"
   ]
  },
  {
   "cell_type": "markdown",
   "metadata": {},
   "source": [
    "Cada lenguaje posee distintos tipos o clases de excepciones. A continuación veremos algunos ejemplos de las excepciones más comunes que podrían suceder.\n",
    "\n",
    "## `SyntaxError`\n",
    "\n",
    "Es **lanzada** cuando una sentencia en el programa está mal escrita y se violan las reglas sintácticas del lenguaje de programación.\n",
    "\n",
    "Por ejemplo, el uso de la sentencia `print` sin paréntesis es válido en Python 2.x, pero incorrecto en Python3.x."
   ]
  },
  {
   "cell_type": "code",
   "execution_count": 1,
   "metadata": {},
   "outputs": [
    {
     "ename": "SyntaxError",
     "evalue": "Missing parentheses in call to 'print' (<ipython-input-1-d9ec7d547a2c>, line 1)",
     "output_type": "error",
     "traceback": [
      "\u001b[0;36m  File \u001b[0;32m\"<ipython-input-1-d9ec7d547a2c>\"\u001b[0;36m, line \u001b[0;32m1\u001b[0m\n\u001b[0;31m    print \"Hola Mundo\"\u001b[0m\n\u001b[0m                     ^\u001b[0m\n\u001b[0;31mSyntaxError\u001b[0m\u001b[0;31m:\u001b[0m Missing parentheses in call to 'print'\n"
     ]
    }
   ],
   "source": [
    "print \"Hola Mundo\""
   ]
  },
  {
   "cell_type": "markdown",
   "metadata": {},
   "source": [
    "En cambio, el uso de `print` válido en Python3.x. es como una función y require parámetros dentro de paréntesis `()`. En Python2.x `print` es una palabra clave reservada, pero no una función."
   ]
  },
  {
   "cell_type": "code",
   "execution_count": 2,
   "metadata": {},
   "outputs": [
    {
     "name": "stdout",
     "output_type": "stream",
     "text": [
      "Hola Mundo\n"
     ]
    }
   ],
   "source": [
    "print(\"Hola Mundo\")"
   ]
  },
  {
   "cell_type": "markdown",
   "metadata": {},
   "source": [
    "## `NameError`\n",
    "\n",
    "Se lanza cuando no se encuentra una declaración local o global a algún nombre o función. Es decir, cuando se intenta utilizar algo (variable o función) con algún nombre desconocido para el programa.\n",
    "\n",
    "Por ejemplo, la entrada de datos (string del usuario) en Python2.x es distinta a como se realiza en Python3.x."
   ]
  },
  {
   "cell_type": "code",
   "execution_count": 3,
   "metadata": {},
   "outputs": [
    {
     "ename": "NameError",
     "evalue": "name 'raw_input' is not defined",
     "output_type": "error",
     "traceback": [
      "\u001b[0;31m---------------------------------------------------------------------------\u001b[0m",
      "\u001b[0;31mNameError\u001b[0m                                 Traceback (most recent call last)",
      "\u001b[0;32m<ipython-input-3-30dce9498fee>\u001b[0m in \u001b[0;36m<module>\u001b[0;34m()\u001b[0m\n\u001b[0;32m----> 1\u001b[0;31m \u001b[0ma\u001b[0m \u001b[0;34m=\u001b[0m \u001b[0mraw_input\u001b[0m\u001b[0;34m(\u001b[0m\u001b[0;34m\"Ingrese un número: \"\u001b[0m\u001b[0;34m)\u001b[0m\u001b[0;34m\u001b[0m\u001b[0m\n\u001b[0m\u001b[1;32m      2\u001b[0m \u001b[0ma\u001b[0m\u001b[0;34m\u001b[0m\u001b[0m\n",
      "\u001b[0;31mNameError\u001b[0m: name 'raw_input' is not defined"
     ]
    }
   ],
   "source": [
    "a = raw_input(\"Ingrese un número: \")\n",
    "a"
   ]
  },
  {
   "cell_type": "markdown",
   "metadata": {},
   "source": [
    "En Python3.x. la función `raw_input()` fue renombrada a `input()`, por lo tanto la llamada a este primer nombre no puede ser hallado por el intérprete de Python."
   ]
  },
  {
   "cell_type": "code",
   "execution_count": 4,
   "metadata": {},
   "outputs": [
    {
     "name": "stdout",
     "output_type": "stream",
     "text": [
      "Ingrese un número: 2\n"
     ]
    },
    {
     "data": {
      "text/plain": [
       "'2'"
      ]
     },
     "execution_count": 4,
     "metadata": {},
     "output_type": "execute_result"
    }
   ],
   "source": [
    "a = input(\"Ingrese un número: \")\n",
    "a"
   ]
  },
  {
   "cell_type": "markdown",
   "metadata": {},
   "source": [
    "## `ZeroDivisionError`\n",
    "\n",
    "Esta excepción es lanzada cuando el segundo elemento o denominador de una división es cero.\n",
    "\n",
    "En el ejemplo vemos que la función `dividir` está correctamente escrita, sin embargo, los valores ingresados por el usuario producen este error matemático."
   ]
  },
  {
   "cell_type": "code",
   "execution_count": 5,
   "metadata": {},
   "outputs": [
    {
     "ename": "ZeroDivisionError",
     "evalue": "float division by zero",
     "output_type": "error",
     "traceback": [
      "\u001b[0;31m---------------------------------------------------------------------------\u001b[0m",
      "\u001b[0;31mZeroDivisionError\u001b[0m                         Traceback (most recent call last)",
      "\u001b[0;32m<ipython-input-5-689ef859686b>\u001b[0m in \u001b[0;36m<module>\u001b[0;34m()\u001b[0m\n\u001b[1;32m      3\u001b[0m \u001b[0;34m\u001b[0m\u001b[0m\n\u001b[1;32m      4\u001b[0m \u001b[0;34m\u001b[0m\u001b[0m\n\u001b[0;32m----> 5\u001b[0;31m \u001b[0mx\u001b[0m \u001b[0;34m=\u001b[0m \u001b[0mdividir\u001b[0m\u001b[0;34m(\u001b[0m\u001b[0;36m5.0\u001b[0m \u001b[0;34m/\u001b[0m \u001b[0;36m0\u001b[0m\u001b[0;34m)\u001b[0m\u001b[0;34m\u001b[0m\u001b[0m\n\u001b[0m",
      "\u001b[0;31mZeroDivisionError\u001b[0m: float division by zero"
     ]
    }
   ],
   "source": [
    "def dividir(x, y):\n",
    "    return x / y\n",
    "\n",
    "\n",
    "x = dividir(5.0 / 0)"
   ]
  },
  {
   "cell_type": "markdown",
   "metadata": {},
   "source": [
    "## `IndexError`\n",
    "\n",
    "Se lanza cuando existe una indexación fuera de rango, es decir, un acceso a un índice no válido.\n",
    "\n",
    "El error típico es refereciar un elemento dentro de una lista (o tupla) con un índice que excede los índices válidos acorde la cantidad de objetos que contiene dicha lista. Por ejemplo, al considerar que la cuenta de los elementos comienza en 1. Hay que recordar que en Python las listas siempre se indexan desde `0` hasta `len(lista) - 1`."
   ]
  },
  {
   "cell_type": "code",
   "execution_count": 6,
   "metadata": {},
   "outputs": [
    {
     "ename": "IndexError",
     "evalue": "list index out of range",
     "output_type": "error",
     "traceback": [
      "\u001b[0;31m---------------------------------------------------------------------------\u001b[0m",
      "\u001b[0;31mIndexError\u001b[0m                                Traceback (most recent call last)",
      "\u001b[0;32m<ipython-input-6-76625e95f153>\u001b[0m in \u001b[0;36m<module>\u001b[0;34m()\u001b[0m\n\u001b[1;32m      1\u001b[0m \u001b[0medad\u001b[0m \u001b[0;34m=\u001b[0m \u001b[0;34m[\u001b[0m\u001b[0;36m36\u001b[0m\u001b[0;34m,\u001b[0m \u001b[0;36m23\u001b[0m\u001b[0;34m,\u001b[0m \u001b[0;36m12\u001b[0m\u001b[0;34m]\u001b[0m\u001b[0;34m\u001b[0m\u001b[0m\n\u001b[0;32m----> 2\u001b[0;31m \u001b[0medad\u001b[0m\u001b[0;34m[\u001b[0m\u001b[0;36m3\u001b[0m\u001b[0;34m]\u001b[0m\u001b[0;34m\u001b[0m\u001b[0m\n\u001b[0m",
      "\u001b[0;31mIndexError\u001b[0m: list index out of range"
     ]
    }
   ],
   "source": [
    "edad = [36, 23, 12]\n",
    "edad[3]"
   ]
  },
  {
   "cell_type": "markdown",
   "metadata": {},
   "source": [
    "## `TypeError`\n",
    "\n",
    "Esta excepción suele ser lanzada para avisar que hubo un manejo erróneo de tipos de datos. Es decir, cuando se intenta ejecutar una operación o función con un argumento que no tiene el tipo correcto para la ejecución.\n",
    "\n",
    "Un error común es concatenar una lista con algo que no es del tipo `list`. En este ejemplo, la función está definida como la suma de variables, sin embargo, debido al _duck-typing_, el operador suma se comporta distinto para distintos tipos de datos, lo que puede llevar a un error en tiempo de ejecución."
   ]
  },
  {
   "cell_type": "code",
   "execution_count": 7,
   "metadata": {},
   "outputs": [
    {
     "ename": "TypeError",
     "evalue": "can only concatenate list (not \"int\") to list",
     "output_type": "error",
     "traceback": [
      "\u001b[0;31m---------------------------------------------------------------------------\u001b[0m",
      "\u001b[0;31mTypeError\u001b[0m                                 Traceback (most recent call last)",
      "\u001b[0;32m<ipython-input-7-27f3b87d340f>\u001b[0m in \u001b[0;36m<module>\u001b[0;34m()\u001b[0m\n\u001b[1;32m      4\u001b[0m \u001b[0;34m\u001b[0m\u001b[0m\n\u001b[1;32m      5\u001b[0m \u001b[0medades\u001b[0m \u001b[0;34m=\u001b[0m \u001b[0;34m[\u001b[0m\u001b[0;36m36\u001b[0m\u001b[0;34m,\u001b[0m \u001b[0;36m23\u001b[0m\u001b[0;34m,\u001b[0m \u001b[0;36m12\u001b[0m\u001b[0;34m]\u001b[0m\u001b[0;34m\u001b[0m\u001b[0m\n\u001b[0;32m----> 6\u001b[0;31m \u001b[0mjuntar\u001b[0m\u001b[0;34m(\u001b[0m\u001b[0medades\u001b[0m\u001b[0;34m,\u001b[0m \u001b[0;36m2\u001b[0m\u001b[0;34m)\u001b[0m\u001b[0;34m\u001b[0m\u001b[0m\n\u001b[0m",
      "\u001b[0;32m<ipython-input-7-27f3b87d340f>\u001b[0m in \u001b[0;36mjuntar\u001b[0;34m(x, y)\u001b[0m\n\u001b[1;32m      1\u001b[0m \u001b[0;32mdef\u001b[0m \u001b[0mjuntar\u001b[0m\u001b[0;34m(\u001b[0m\u001b[0mx\u001b[0m\u001b[0;34m,\u001b[0m \u001b[0my\u001b[0m\u001b[0;34m)\u001b[0m\u001b[0;34m:\u001b[0m\u001b[0;34m\u001b[0m\u001b[0m\n\u001b[0;32m----> 2\u001b[0;31m     \u001b[0;32mreturn\u001b[0m \u001b[0mx\u001b[0m \u001b[0;34m+\u001b[0m \u001b[0my\u001b[0m\u001b[0;34m\u001b[0m\u001b[0m\n\u001b[0m\u001b[1;32m      3\u001b[0m \u001b[0;34m\u001b[0m\u001b[0m\n\u001b[1;32m      4\u001b[0m \u001b[0;34m\u001b[0m\u001b[0m\n\u001b[1;32m      5\u001b[0m \u001b[0medades\u001b[0m \u001b[0;34m=\u001b[0m \u001b[0;34m[\u001b[0m\u001b[0;36m36\u001b[0m\u001b[0;34m,\u001b[0m \u001b[0;36m23\u001b[0m\u001b[0;34m,\u001b[0m \u001b[0;36m12\u001b[0m\u001b[0;34m]\u001b[0m\u001b[0;34m\u001b[0m\u001b[0m\n",
      "\u001b[0;31mTypeError\u001b[0m: can only concatenate list (not \"int\") to list"
     ]
    }
   ],
   "source": [
    "def juntar(x, y):\n",
    "    return x + y\n",
    "\n",
    "\n",
    "edades = [36, 23, 12]\n",
    "juntar(edades, 2)"
   ]
  },
  {
   "cell_type": "markdown",
   "metadata": {},
   "source": [
    "Como ocurre a continuación, el manejo correcto para concatenar una lista con otra es que ambos elementos sean necesariamente listas."
   ]
  },
  {
   "cell_type": "code",
   "execution_count": 8,
   "metadata": {},
   "outputs": [
    {
     "data": {
      "text/plain": [
       "[36, 23, 12, 2]"
      ]
     },
     "execution_count": 8,
     "metadata": {},
     "output_type": "execute_result"
    }
   ],
   "source": [
    "def juntar(x, y):\n",
    "    return x + y\n",
    "\n",
    "\n",
    "edades = [36, 23, 12]\n",
    "juntar(edades, [2])"
   ]
  },
  {
   "cell_type": "markdown",
   "metadata": {},
   "source": [
    "## `AttributeError`\n",
    "\n",
    "Esta excepción alerta sobre el uso incorrecto de métodos o atributos de una clase o tipo de dato.\n",
    "\n",
    "En este ejemplo, la clase `Auto` sólo tiene definida el método avanzar, sin embargo, el usuario ejecuta el método `frenar()` que no existe en ella."
   ]
  },
  {
   "cell_type": "code",
   "execution_count": 9,
   "metadata": {},
   "outputs": [
    {
     "ename": "AttributeError",
     "evalue": "'Auto' object has no attribute 'frenar'",
     "output_type": "error",
     "traceback": [
      "\u001b[0;31m---------------------------------------------------------------------------\u001b[0m",
      "\u001b[0;31mAttributeError\u001b[0m                            Traceback (most recent call last)",
      "\u001b[0;32m<ipython-input-9-de0863a6069f>\u001b[0m in \u001b[0;36m<module>\u001b[0;34m()\u001b[0m\n\u001b[1;32m      9\u001b[0m \u001b[0;34m\u001b[0m\u001b[0m\n\u001b[1;32m     10\u001b[0m \u001b[0mchevi\u001b[0m \u001b[0;34m=\u001b[0m \u001b[0mAuto\u001b[0m\u001b[0;34m(\u001b[0m\u001b[0;34m)\u001b[0m\u001b[0;34m\u001b[0m\u001b[0m\n\u001b[0;32m---> 11\u001b[0;31m \u001b[0mchevi\u001b[0m\u001b[0;34m.\u001b[0m\u001b[0mfrenar\u001b[0m\u001b[0;34m(\u001b[0m\u001b[0;34m)\u001b[0m\u001b[0;34m\u001b[0m\u001b[0m\n\u001b[0m",
      "\u001b[0;31mAttributeError\u001b[0m: 'Auto' object has no attribute 'frenar'"
     ]
    }
   ],
   "source": [
    "class Auto:\n",
    "    \n",
    "    def __init__(self, puertas=4):\n",
    "        self.puertas = puertas\n",
    "        \n",
    "    def avanzar(self):\n",
    "        print(\"avanzando\")\n",
    "\n",
    "        \n",
    "chevi = Auto()\n",
    "chevi.frenar()"
   ]
  },
  {
   "cell_type": "markdown",
   "metadata": {},
   "source": [
    "## `KeyError`\n",
    "\n",
    "Esta excepción alerta sobre el uso incorrecto o inválido de llaves (_keys_) en diccionarios, similarmente a `IndexError` en listas.\n",
    "\n",
    "En el ejemplo a continuación, el usuario pide un dato asociado a una llave inexistente en el diccionario. Al no existir, la excepción es levantada."
   ]
  },
  {
   "cell_type": "code",
   "execution_count": 10,
   "metadata": {},
   "outputs": [
    {
     "ename": "KeyError",
     "evalue": "'editorial'",
     "output_type": "error",
     "traceback": [
      "\u001b[0;31m---------------------------------------------------------------------------\u001b[0m",
      "\u001b[0;31mKeyError\u001b[0m                                  Traceback (most recent call last)",
      "\u001b[0;32m<ipython-input-10-e44fe2bacced>\u001b[0m in \u001b[0;36m<module>\u001b[0;34m()\u001b[0m\n\u001b[1;32m      2\u001b[0m          \"páginas\": 9877}\n\u001b[1;32m      3\u001b[0m \u001b[0;34m\u001b[0m\u001b[0m\n\u001b[0;32m----> 4\u001b[0;31m \u001b[0mlibro\u001b[0m\u001b[0;34m[\u001b[0m\u001b[0;34m\"editorial\"\u001b[0m\u001b[0;34m]\u001b[0m\u001b[0;34m\u001b[0m\u001b[0m\n\u001b[0m",
      "\u001b[0;31mKeyError\u001b[0m: 'editorial'"
     ]
    }
   ],
   "source": [
    "libro = {\"autor\": \"Juanito Los Palotes\",\n",
    "         \"páginas\": 9877}\n",
    "\n",
    "libro[\"editorial\"]"
   ]
  }
 ],
 "metadata": {
  "kernelspec": {
   "display_name": "Python 3",
   "language": "python",
   "name": "python3"
  },
  "language_info": {
   "codemirror_mode": {
    "name": "ipython",
    "version": 3
   },
   "file_extension": ".py",
   "mimetype": "text/x-python",
   "name": "python",
   "nbconvert_exporter": "python",
   "pygments_lexer": "ipython3",
   "version": "3.6.6"
  }
 },
 "nbformat": 4,
 "nbformat_minor": 1
}
