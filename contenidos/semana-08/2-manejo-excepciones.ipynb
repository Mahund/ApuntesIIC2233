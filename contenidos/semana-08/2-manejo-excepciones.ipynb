{
 "cells": [
  {
   "cell_type": "markdown",
   "metadata": {},
   "source": [
    "<p>\n",
    "<font size='5' face='Georgia, Arial'>IIC-2233 Apunte Programación Avanzada</font><br>\n",
    "<font size='1'>&copy; 2015 Karim Pichara - Christian Pieringer. Todos los derechos reservados.</font>\n",
    "<br>\n",
    "<font size='1'> Modificado en 2017-2, 2018-1, 2018-2 por Equipo Docente IIC2233</font>\n",
    "</p>"
   ]
  },
  {
   "cell_type": "markdown",
   "metadata": {},
   "source": [
    "# Levantando Excepciones\n",
    "\n",
    "Para gatillar una excepción dentro de un programa, una clase o una función utiliza la sentencia **`raise`** (levantar o lanzar una excepción). Cada excepción tiene un tipo definido, y es posible definir un mensaje explicativo para el usuario.\n",
    "\n",
    "Por ejemplo, en una función se podría levantar/lanzar una excepción así:"
   ]
  },
  {
   "cell_type": "code",
   "execution_count": 1,
   "metadata": {},
   "outputs": [],
   "source": [
    "def dividir(num, den):\n",
    "    if den == 0:\n",
    "        # Aquí se genera la excepción y se incluye información \n",
    "        # con el significado de ella.\n",
    "        raise ZeroDivisionError(\"El denominador es 0\")\n",
    "    return float(num) / float(den)"
   ]
  },
  {
   "cell_type": "code",
   "execution_count": 2,
   "metadata": {},
   "outputs": [
    {
     "data": {
      "text/plain": [
       "0.75"
      ]
     },
     "execution_count": 2,
     "metadata": {},
     "output_type": "execute_result"
    }
   ],
   "source": [
    "dividir(3,4)"
   ]
  },
  {
   "cell_type": "code",
   "execution_count": 3,
   "metadata": {},
   "outputs": [
    {
     "ename": "ZeroDivisionError",
     "evalue": "El denominador es 0",
     "output_type": "error",
     "traceback": [
      "\u001b[0;31m---------------------------------------------------------------------------\u001b[0m",
      "\u001b[0;31mZeroDivisionError\u001b[0m                         Traceback (most recent call last)",
      "\u001b[0;32m<ipython-input-3-3b40a0d65a5d>\u001b[0m in \u001b[0;36m<module>\u001b[0;34m()\u001b[0m\n\u001b[0;32m----> 1\u001b[0;31m \u001b[0mdividir\u001b[0m\u001b[0;34m(\u001b[0m\u001b[0;36m3\u001b[0m\u001b[0;34m,\u001b[0m\u001b[0;36m0\u001b[0m\u001b[0;34m)\u001b[0m\u001b[0;34m\u001b[0m\u001b[0m\n\u001b[0m",
      "\u001b[0;32m<ipython-input-1-18d2e6175223>\u001b[0m in \u001b[0;36mdividir\u001b[0;34m(num, den)\u001b[0m\n\u001b[1;32m      3\u001b[0m         \u001b[0;31m# Aquí se genera la excepción y se incluye información\u001b[0m\u001b[0;34m\u001b[0m\u001b[0;34m\u001b[0m\u001b[0m\n\u001b[1;32m      4\u001b[0m         \u001b[0;31m# con el significado de ella.\u001b[0m\u001b[0;34m\u001b[0m\u001b[0;34m\u001b[0m\u001b[0m\n\u001b[0;32m----> 5\u001b[0;31m         \u001b[0;32mraise\u001b[0m \u001b[0mZeroDivisionError\u001b[0m\u001b[0;34m(\u001b[0m\u001b[0;34m\"El denominador es 0\"\u001b[0m\u001b[0;34m)\u001b[0m\u001b[0;34m\u001b[0m\u001b[0m\n\u001b[0m\u001b[1;32m      6\u001b[0m     \u001b[0;32mreturn\u001b[0m \u001b[0mfloat\u001b[0m\u001b[0;34m(\u001b[0m\u001b[0mnum\u001b[0m\u001b[0;34m)\u001b[0m \u001b[0;34m/\u001b[0m \u001b[0mfloat\u001b[0m\u001b[0;34m(\u001b[0m\u001b[0mden\u001b[0m\u001b[0;34m)\u001b[0m\u001b[0;34m\u001b[0m\u001b[0m\n",
      "\u001b[0;31mZeroDivisionError\u001b[0m: El denominador es 0"
     ]
    }
   ],
   "source": [
    "dividir(3,0)"
   ]
  },
  {
   "cell_type": "markdown",
   "metadata": {},
   "source": [
    "Las excepciones son anidables. Si una excepción es lanzada dentro de una función anidada, ésta excepción interrumpe todas las llamadas a funciones superiores y al programa completo. A penas se lanza excepción el resto del código no sigue ejecutándose y se termina el programa."
   ]
  },
  {
   "cell_type": "markdown",
   "metadata": {},
   "source": [
    "También se pueden levantar excepciones cuando hay errores al instanciar un objeto. Por ejemplo, si se crea una clase que en el inicializador se espera una tupla de dos elementos como parámetro de entrada es posible controlar que eso siempre ocurra."
   ]
  },
  {
   "cell_type": "code",
   "execution_count": 4,
   "metadata": {},
   "outputs": [],
   "source": [
    "class Circulo:\n",
    "    \n",
    "    def __init__(self, centro):\n",
    "        if not isinstance(centro, tuple):\n",
    "            raise TypeError(\"El centro debe ser una tupla\")\n",
    "            # Recordar que cuando ocurre el raise la ejecución se interrumpe\n",
    "            print(\"Esta línea no se imprime\")    \n",
    "        self.centro = centro\n",
    "\n",
    "    def __repr__(self):\n",
    "        return f\"El centro es {self.centro}\""
   ]
  },
  {
   "cell_type": "code",
   "execution_count": 5,
   "metadata": {},
   "outputs": [
    {
     "data": {
      "text/plain": [
       "El centro es (2, 3)"
      ]
     },
     "execution_count": 5,
     "metadata": {},
     "output_type": "execute_result"
    }
   ],
   "source": [
    "# Caso correcto donde se crea un objeto usando una tupla\n",
    "c1 = Circulo((2,3))\n",
    "c1"
   ]
  },
  {
   "cell_type": "code",
   "execution_count": 6,
   "metadata": {},
   "outputs": [
    {
     "ename": "TypeError",
     "evalue": "El centro debe ser una tupla",
     "output_type": "error",
     "traceback": [
      "\u001b[0;31m---------------------------------------------------------------------------\u001b[0m",
      "\u001b[0;31mTypeError\u001b[0m                                 Traceback (most recent call last)",
      "\u001b[0;32m<ipython-input-6-e7b5e97fb712>\u001b[0m in \u001b[0;36m<module>\u001b[0;34m()\u001b[0m\n\u001b[1;32m      1\u001b[0m \u001b[0;31m# Caso que genera la excepción al usar una lista como entrada\u001b[0m\u001b[0;34m\u001b[0m\u001b[0;34m\u001b[0m\u001b[0m\n\u001b[0;32m----> 2\u001b[0;31m \u001b[0mc2\u001b[0m \u001b[0;34m=\u001b[0m \u001b[0mCirculo\u001b[0m\u001b[0;34m(\u001b[0m\u001b[0;34m[\u001b[0m\u001b[0;36m2\u001b[0m\u001b[0;34m,\u001b[0m\u001b[0;36m3\u001b[0m\u001b[0;34m]\u001b[0m\u001b[0;34m)\u001b[0m\u001b[0;34m\u001b[0m\u001b[0m\n\u001b[0m\u001b[1;32m      3\u001b[0m \u001b[0mc2\u001b[0m\u001b[0;34m\u001b[0m\u001b[0m\n",
      "\u001b[0;32m<ipython-input-4-57667a45e8ef>\u001b[0m in \u001b[0;36m__init__\u001b[0;34m(self, centro)\u001b[0m\n\u001b[1;32m      3\u001b[0m     \u001b[0;32mdef\u001b[0m \u001b[0m__init__\u001b[0m\u001b[0;34m(\u001b[0m\u001b[0mself\u001b[0m\u001b[0;34m,\u001b[0m \u001b[0mcentro\u001b[0m\u001b[0;34m)\u001b[0m\u001b[0;34m:\u001b[0m\u001b[0;34m\u001b[0m\u001b[0m\n\u001b[1;32m      4\u001b[0m         \u001b[0;32mif\u001b[0m \u001b[0;32mnot\u001b[0m \u001b[0misinstance\u001b[0m\u001b[0;34m(\u001b[0m\u001b[0mcentro\u001b[0m\u001b[0;34m,\u001b[0m \u001b[0mtuple\u001b[0m\u001b[0;34m)\u001b[0m\u001b[0;34m:\u001b[0m\u001b[0;34m\u001b[0m\u001b[0m\n\u001b[0;32m----> 5\u001b[0;31m             \u001b[0;32mraise\u001b[0m \u001b[0mTypeError\u001b[0m\u001b[0;34m(\u001b[0m\u001b[0;34m\"El centro debe ser una tupla\"\u001b[0m\u001b[0;34m)\u001b[0m\u001b[0;34m\u001b[0m\u001b[0m\n\u001b[0m\u001b[1;32m      6\u001b[0m             \u001b[0;31m# Recordar que cuando ocurre el raise la ejecución se interrumpe\u001b[0m\u001b[0;34m\u001b[0m\u001b[0;34m\u001b[0m\u001b[0m\n\u001b[1;32m      7\u001b[0m             \u001b[0mprint\u001b[0m\u001b[0;34m(\u001b[0m\u001b[0;34m\"Esta línea no se imprime\"\u001b[0m\u001b[0;34m)\u001b[0m\u001b[0;34m\u001b[0m\u001b[0m\n",
      "\u001b[0;31mTypeError\u001b[0m: El centro debe ser una tupla"
     ]
    }
   ],
   "source": [
    "# Caso que genera la excepción al usar una lista como entrada\n",
    "c2 = Circulo([2,3])\n",
    "c2"
   ]
  },
  {
   "cell_type": "markdown",
   "metadata": {},
   "source": [
    "# Manejo de Excepciones\n",
    "\n",
    "Mencionamos anteriormente que una excepción es levantada/lanzada cuando ocurre un error de ejecución que produce el término inesperado del programa. \n",
    "\n",
    "Al programar es necesario controlar todas las situaciones que se puedan preveer. De esta forma se evitan problemas tipicos de ejecución.\n",
    "\n",
    "Cada vez que se **lanza** una excepción es posible **atraparla** mediante el uso de las sentencias `try` y `except`.\n",
    "\n",
    "Cuando una instrucción pertenece al *scope* (bloque de código) de la sentencia `try`, el programa continúa su curso normal y **no** se detiene, independiente de si se lanzó o no una excepción. Ya que `try` significa \"intenta ejecutar lo que está en mi *scope*\".\n",
    "\n",
    "Para que lo anterior ocurra, y no se caiga el programa indepediente de si se lanzó una excepción o no, es necesario atrapar a la posible excepción. Por lo tanto, luego de la sentencia `try` es necesario utilizar la sentencia `except`, cuyo bloque de código define qué hacer según el tipo de excepción que puedo haber sido lanzada.\n",
    "\n",
    "Para ejemplificar esto, a continuación se utiliza una función para dividir dos números. En los siguientes bloques de código se observa que no ocurre ningún error que termine inesperadamente el programa, a pesar de que los datos ingresados para realizar la división no sean válidos, cuando la excepción es atrapada."
   ]
  },
  {
   "cell_type": "code",
   "execution_count": 1,
   "metadata": {},
   "outputs": [],
   "source": [
    "# no se atrapa ninguna excepción, por lo tanto no se previene un posible error\n",
    "\n",
    "def dividir(num, den):\n",
    "    # Esta función terminará el programa cuando el\n",
    "    # denominador den sea 0\n",
    "    return float(num) / float(den)"
   ]
  },
  {
   "cell_type": "code",
   "execution_count": 2,
   "metadata": {},
   "outputs": [
    {
     "ename": "ZeroDivisionError",
     "evalue": "float division by zero",
     "output_type": "error",
     "traceback": [
      "\u001b[1;31m---------------------------------------------------------------------------\u001b[0m",
      "\u001b[1;31mZeroDivisionError\u001b[0m                         Traceback (most recent call last)",
      "\u001b[1;32m<ipython-input-2-b3cf0eff7b35>\u001b[0m in \u001b[0;36m<module>\u001b[1;34m()\u001b[0m\n\u001b[1;32m----> 1\u001b[1;33m \u001b[0mx\u001b[0m \u001b[1;33m=\u001b[0m \u001b[0mdividir\u001b[0m\u001b[1;33m(\u001b[0m\u001b[1;36m5.0\u001b[0m \u001b[1;33m/\u001b[0m \u001b[1;36m0\u001b[0m\u001b[1;33m)\u001b[0m\u001b[1;33m\u001b[0m\u001b[0m\n\u001b[0m",
      "\u001b[1;31mZeroDivisionError\u001b[0m: float division by zero"
     ]
    }
   ],
   "source": [
    "x = dividir(5.0 / 0)"
   ]
  },
  {
   "cell_type": "markdown",
   "metadata": {},
   "source": [
    "Ahora, probamos un caso con argumentos correctos, donde el bloque de código de `try` se podrá ejecutar sin inconvenientes."
   ]
  },
  {
   "cell_type": "code",
   "execution_count": 7,
   "metadata": {},
   "outputs": [
    {
     "name": "stdout",
     "output_type": "stream",
     "text": [
      "Error: division by zero\n",
      "El denominador debe ser distinto de 0.\n"
     ]
    }
   ],
   "source": [
    "try:\n",
    "    # Dentro de este bloque ejecutamos lo que pueda\n",
    "    # arrojar una excepción ante un error\n",
    "    print(4/0)\n",
    "    \n",
    "except (ZeroDivisionError) as err:\n",
    "    # Aquí manejamos la excepción que pueda ser lanzada en\n",
    "    # el bloque anterior. Si un error del tipo ZeroDivisonError\n",
    "    # ocurre, se ejecuta este bloque y el resto del programa \n",
    "    # continúa su ejecución normal. La excepción como objeto\n",
    "    # se puede acceder con la variable err.\n",
    "    print(f\"Error: {err}\")\n",
    "    print(\"El denominador debe ser distinto de 0.\")"
   ]
  },
  {
   "cell_type": "markdown",
   "metadata": {},
   "source": [
    "Ahora, probaremos un caso en el que los argumentos de la división sean inválidos, ya que el denominador es 0. Esto hará que se levante una excepción que requiera ser manejada."
   ]
  },
  {
   "cell_type": "code",
   "execution_count": 4,
   "metadata": {},
   "outputs": [
    {
     "name": "stdout",
     "output_type": "stream",
     "text": [
      "Error: float division by zero\n",
      "El denominador debe ser distinto de 0.\n"
     ]
    }
   ],
   "source": [
    "# Manejo de la excepción con argumentos inválidos\n",
    "# En este caso la función dará un error debido a que el denominador\n",
    "# utilizado es 0\n",
    "try:\n",
    "    print(dividir(4, 0))\n",
    "    \n",
    "except ZeroDivisionError as err:\n",
    "    print(f\"Error: {err}\")\n",
    "    print(\"El denominador debe ser distinto de 0.\")"
   ]
  },
  {
   "cell_type": "markdown",
   "metadata": {},
   "source": [
    "En la sentencia `except` podemos incluir varios tipos de excepciones. En el siguiente caso, las causas que generarán las excepciones son distintas, pero el tratamiento para todas ellas será el mismo. Si lo que necesitamos es realizar un tratamiento diferenciado según el tipo de excepción podemos añadir más bloques de `except`, en donde cada uno tiene definido las excepciones sobre las que debe actuar.\n",
    "\n",
    "Para poder levantar excepciones intencionalmente en nuestro código, usamos la sentencia `raise`."
   ]
  },
  {
   "cell_type": "code",
   "execution_count": 9,
   "metadata": {},
   "outputs": [],
   "source": [
    "def dividir(num, den):\n",
    "    # Verificamos que ambos parámetros de entrada sean del mismo tipo específico\n",
    "    if not (isinstance(num, int) and isinstance(den, int)):\n",
    "        raise TypeError() # Intencionalmente levantamos la excepción. Recuerda que las excepciones son objetos.\n",
    "    \n",
    "    # Por razones pedagógicas, verficamos que el numerador y el denominador sean positivos\n",
    "    if num < 0 or den < 0:\n",
    "        # El mensaje incluido en la excepcieon es el que se despliega\n",
    "        # cuando la manejamos después.\n",
    "        raise ValueError(\"Valores negativos\")\n",
    "        \n",
    "    return float(num) / float(den)"
   ]
  },
  {
   "cell_type": "markdown",
   "metadata": {
    "collapsed": true
   },
   "source": [
    "Ahora, manejamos la excepcion que pueda ser lanzada durante la ejecución de la función `dividir`.\n",
    "\n",
    "El primer caso levantará una excepción debido a que los argumentos son inválidos (uno de ellos no es de tipo `int`)."
   ]
  },
  {
   "cell_type": "code",
   "execution_count": 10,
   "metadata": {},
   "outputs": [
    {
     "name": "stdout",
     "output_type": "stream",
     "text": [
      "Error: \n",
      "Revise los datos de entrada\n",
      "\n"
     ]
    }
   ],
   "source": [
    "try:\n",
    "    print(dividir(4.5, 3))\n",
    "    \n",
    "except (ZeroDivisionError, TypeError) as err:\n",
    "    # Este bloque opera para los tipos de excepciones definidos en la tupla entregada.\n",
    "    print(f\"Error: {err}\")\n",
    "    print(\"Revise los datos de entrada\\n\")\n",
    "        \n",
    "except ValueError as err:\n",
    "    # Este bloque sólo maneja excepciones del tipo ValueError\n",
    "    print(f\"Error: {err}\")\n",
    "    print(\"Cambie los valores de entrada\\n\")"
   ]
  },
  {
   "cell_type": "markdown",
   "metadata": {},
   "source": [
    "En este segundo caso, se levantará una excepción porque uno de los argumentos es negativo."
   ]
  },
  {
   "cell_type": "code",
   "execution_count": 11,
   "metadata": {},
   "outputs": [
    {
     "name": "stdout",
     "output_type": "stream",
     "text": [
      "Error: Valores negativos\n",
      "Cambie los valores de entrada\n",
      "\n"
     ]
    }
   ],
   "source": [
    "try:\n",
    "    print(dividir(-5, 3))\n",
    "\n",
    "# En esta parte manejamos las excepciones una vez que son lanzadas\n",
    "except (ZeroDivisionError, TypeError) as err:\n",
    "    # Este bloque opera para los tipos de excepciones definidos en la tupla entregada.\n",
    "    print(f\"Error: {err}\")\n",
    "    print(\"Revise los datos de entrada\\n\")\n",
    "        \n",
    "except ValueError as err:\n",
    "    # Este bloque sólo maneja excepciones del tipo ValueError\n",
    "    print(f\"Error: {err}\")\n",
    "    print(\"Cambie los valores de entrada\\n\")"
   ]
  },
  {
   "cell_type": "markdown",
   "metadata": {},
   "source": [
    "El bloque de `try` y `except` puede ser complementado opcionalmente con las sentencias **`else`** y **`finally`**. Las instrucciones dentro del bloque `else` se ejecutarán siempre y cuando no se haya lanzado ninguna excepción. En el bloque de la sentencia `finally` van instrucciones que se realizan siempre (son obligatorias a ser ejecutadas), independiente de si ocurrió un error o no. La sentencia `finally` es usada, por ejemplo, para gatillar acciones de limpieza, como cerrar un archivo independientemente si este fue exitosamente abierto o no."
   ]
  },
  {
   "cell_type": "code",
   "execution_count": 14,
   "metadata": {},
   "outputs": [
    {
     "name": "stdout",
     "output_type": "stream",
     "text": [
      "Revise los datos de entrada. ¡No son ints o bien el denominador es 0!\n",
      "Recuerde SIEMPRE usar excepciones para manejar los errores de su programa\n",
      "\n"
     ]
    }
   ],
   "source": [
    "def dividir(num,den):\n",
    "    if not (isinstance(num, int) and isinstance(den, int)):\n",
    "        raise TypeError()\n",
    "\n",
    "    if num < 0 or den < 0:\n",
    "        raise ValueError(\"Valores negativos\")\n",
    "\n",
    "    return float(num)/float(den)\n",
    "\n",
    "\n",
    "# Esta corresponde a la estructura completa de try and except\n",
    "try:\n",
    "    # Probamos si es posible realizar la operación\n",
    "    resultado = dividir(10,0)\n",
    "        \n",
    "except (ZeroDivisionError, TypeError):\n",
    "    # Este bloque opera para los tipos de excepciones definidos\n",
    "    print(\"Revise los datos de entrada. ¡No son ints o bien el denominador es 0!\")\n",
    "\n",
    "except ValueError:\n",
    "    # Este bloque sólo maneja excepciones del tipo ValueError\n",
    "    print(\"Los valores ingresados son negativos\")\n",
    "        \n",
    "else:\n",
    "    # Como no hubo excepciones puede retornar normalmente el resultado\n",
    "    # En este caso, si se coloca un return después de la operación y\n",
    "    # esta es correcta, entonces nunca llegará a este punto.\n",
    "    print(\"¡Todo OK!, no hay errores con los datos\")\n",
    "        \n",
    "finally:\n",
    "    print(\"Recuerde SIEMPRE usar excepciones para manejar los errores de su programa\\n\")"
   ]
  },
  {
   "cell_type": "markdown",
   "metadata": {},
   "source": [
    "El uso de **`finally`** es común en la ejecución de funciones de limpieza predefinidas, como por ejemplo, el cierre de un archivo después de ser procesado. Si ocurren errores mientras el archivo está abierto, éste quedará abierto. Es importante crear una rutina que asegure que, independientemente de si se lanza o no alguna excepción, el archivo sea cerrado correctamente. En el ejemplo, si no se levanta ninguna excepción también sería impreso el el mensaje en la sección **`else`**."
   ]
  },
  {
   "cell_type": "code",
   "execution_count": 15,
   "metadata": {},
   "outputs": [
    {
     "name": "stdout",
     "output_type": "stream",
     "text": [
      "¡Error!: Revise los datos de entrada ¡No son ints o bien el denominador es 0!\n",
      "Recuerde SIEMPRE cerrar sus archivos\n",
      "\n"
     ]
    }
   ],
   "source": [
    "fid = open(\"log.txt\", \"w\")\n",
    "\n",
    "try:\n",
    "    # Probamos si es posible realizar la apertura del archivo.\n",
    "    # En este caso se debe generar un error por que el denominador llega a ser 0\n",
    "    for i in range(5, -1, -1):\n",
    "        fid.write(f\"{dividir(10, i)}\")\n",
    "    \n",
    "except (ZeroDivisionError, TypeError):\n",
    "    # Este bloque opera para los tipos de excepciones definidos\n",
    "    print(\"¡Error!: Revise los datos de entrada ¡No son ints o bien el denominador es 0!\")\n",
    "        \n",
    "else:\n",
    "    print(\"El archivo fue creado correctamente!\")\n",
    "        \n",
    "finally:\n",
    "    # Este bloque asegura que el archivo sea cerrado correctamente\n",
    "    # independientemente de si se produjo el error\n",
    "    print(\"Recuerde SIEMPRE cerrar sus archivos\\n\")\n",
    "    fid.close()"
   ]
  },
  {
   "cell_type": "markdown",
   "metadata": {},
   "source": [
    "Una forma equivalente de este programa es usar contextos mediante la sentencia **`with`** que veremos en el capítulo de I/O. El siguiente ejemplo resume esta manera:"
   ]
  },
  {
   "cell_type": "code",
   "execution_count": 16,
   "metadata": {},
   "outputs": [
    {
     "name": "stdout",
     "output_type": "stream",
     "text": [
      "¡Error!: Revise los datos de entrada ¡No son ints o bien el denominador es 0!\n"
     ]
    }
   ],
   "source": [
    "with open(\"log.txt\", \"w\") as fid:\n",
    "    try:\n",
    "        # Probamos si es posible realizar la apertura del archivo\n",
    "        # En este caso se debe generar un error por que el denominador llega a ser 0\n",
    "        for i in range(5, -1, -1):\n",
    "            fid.write(f\"{dividir(10, i)}\")\n",
    "    \n",
    "    except (ZeroDivisionError, TypeError):\n",
    "        # Este bloque opera para los tipos de excepciones definidos\n",
    "        print(\"¡Error!: Revise los datos de entrada ¡No son ints o bien el denominador es 0!\")"
   ]
  },
  {
   "cell_type": "markdown",
   "metadata": {},
   "source": [
    "# Creando Excepciones Personalizadas"
   ]
  },
  {
   "cell_type": "markdown",
   "metadata": {},
   "source": [
    "En Python, todas las excepciones heredan de `BaseException`. A partir de ella existen tres tipos de excepciones: **`SystemExit`**, **`KeyboardInterrupt`**, y **`Exception`**. Todas las excepciones generadas por errores durante la ejecución de un programa son subclases de `Exception`, tal como se muestra en el siguiente diagrama:"
   ]
  },
  {
   "cell_type": "markdown",
   "metadata": {},
   "source": [
    "![](img/jerarquia-excepciones.png)"
   ]
  },
  {
   "cell_type": "markdown",
   "metadata": {},
   "source": [
    "Esto quiere decir, que si se usa `Exception` para manejar los errores, actuaremos sobre todas las subclases de `Exception`. De esta forma el tratamiento es general y no específico a un tipo de error en especial. En general es recomendable actuar de forma selectiva sobre un tipo determinado de excepciones (`IOError`, `AtributeError`, `ValueError`, etc.), sin embargo, existen otros casos en que no se sabe por cuál razón el programa podría fallar en los que conviene actuar de manera general usando `Exception`."
   ]
  },
  {
   "cell_type": "code",
   "execution_count": 12,
   "metadata": {},
   "outputs": [
    {
     "name": "stdout",
     "output_type": "stream",
     "text": [
      "Error: float division by zero\n",
      "Revise los datos de entrada\n"
     ]
    }
   ],
   "source": [
    "# Estamos usando la misma clase Operaciones definida para los ejemplos anteriores\n",
    "\n",
    "try:\n",
    "    print(dividir(4,0))\n",
    "    \n",
    "except Exception as err:\n",
    "    # Este bloque opera para todos los tipos de excepciones que hereden de Exception\n",
    "    print(f\"Error: {err}\")\n",
    "    print(\"Revise los datos de entrada\")"
   ]
  },
  {
   "cell_type": "markdown",
   "metadata": {},
   "source": [
    "Para crear nuestros propios tipos de excepciones debemos heredar desde la clase `Exception`. Podemos modificar el comportamiento heredado sobreescribiedo los métodos que tiene implementada esta clase."
   ]
  },
  {
   "cell_type": "code",
   "execution_count": 13,
   "metadata": {},
   "outputs": [],
   "source": [
    "class Excepcion1(Exception):\n",
    "    # Al no sobreescribir nada, hereda todo sin modificaciones\n",
    "    pass\n",
    "\n",
    "\n",
    "class Excepcion2(Exception):\n",
    "    def __init__(self, a, b):\n",
    "        # Sobreescribimos el __init__ para cambiar el ingreso de los parámetros\n",
    "        super().__init__(f\"Alguno de los valores {a} o {b} no es entero\\n\")\n",
    "\n",
    "\n",
    "def dividir(num,den):\n",
    "    # Por ejemplo, redefiniremos las excepciones que\n",
    "    # utilizamos en los ejemplos anteriores.\n",
    "    if not (isinstance(num, int) and isinstance(den, int)):\n",
    "        raise Excepcion2(num, den)\n",
    "\n",
    "    if num < 0 or den < 0:\n",
    "        raise Excepcion1(\"Los valores son negativos\\n\")\n",
    "\n",
    "    return float(num) / float(den)"
   ]
  },
  {
   "cell_type": "code",
   "execution_count": 14,
   "metadata": {},
   "outputs": [
    {
     "name": "stdout",
     "output_type": "stream",
     "text": [
      "Error: Los valores son negativos\n",
      "\n"
     ]
    }
   ],
   "source": [
    "# Este ejempo lanza la excepción\n",
    "try:\n",
    "    print(dividir(4, -3))\n",
    "\n",
    "except Excepcion1 as err:\n",
    "    # Este bloque opera para la Excepcion1\n",
    "    print(f\"Error: {err}\")\n",
    "\n",
    "except Excepcion2 as err:\n",
    "    # Este bloque opera para Excepcion2 cuando los datos no son enteros\n",
    "    print(f\"Error: {err}\")"
   ]
  },
  {
   "cell_type": "code",
   "execution_count": 15,
   "metadata": {},
   "outputs": [
    {
     "name": "stdout",
     "output_type": "stream",
     "text": [
      "Error: Alguno de los valores 4.4 o -3 no es entero\n",
      "\n"
     ]
    }
   ],
   "source": [
    "# Este ejemplo lanza la excepción 2\n",
    "try:\n",
    "    print(dividir(4.4, -3))\n",
    "\n",
    "except Excepcion1 as err:\n",
    "    # Este bloque opera para la Excepcion1\n",
    "    print(f\"Error: {err}\")\n",
    "\n",
    "except Excepcion2 as err:\n",
    "    # Este bloque opera para Excepcion2 cuando los datos no son enteros\n",
    "    print(f\"Error: {err}\")\n"
   ]
  },
  {
   "cell_type": "markdown",
   "metadata": {},
   "source": [
    "Podemos definir comportamientos personalizados para las excepciones que creamos como, por ejemplo, agregar métodos que nos permitan recuperar información de la excepción."
   ]
  },
  {
   "cell_type": "code",
   "execution_count": 21,
   "metadata": {},
   "outputs": [
    {
     "name": "stdout",
     "output_type": "stream",
     "text": [
      "Error: El dinero en la billetera no alcanza para pagar $1500. Hay un exceso de gastos de $500.\n"
     ]
    }
   ],
   "source": [
    "class ErrorTransaccion(Exception):\n",
    "    \n",
    "    def __init__(self, fondos, gasto):\n",
    "        super().__init__(f\"El dinero en la billetera no alcanza para pagar ${gasto}\")\n",
    "        self.fondos = fondos\n",
    "        self.gasto = gasto\n",
    "    \n",
    "    def exceso(self):\n",
    "        return self.gasto - self.fondos\n",
    "\n",
    "    \n",
    "class Billetera:\n",
    "    \n",
    "    def __init__(self, dinero):\n",
    "        self.fondos = dinero\n",
    "    \n",
    "    def pagar(self, gasto):\n",
    "        if self.fondos - gasto < 0:\n",
    "            raise ErrorTransaccion(self.fondos, gasto)\n",
    "        self.fondos -= gasto\n",
    "\n",
    "        \n",
    "b = Billetera(1000)\n",
    "\n",
    "try:\n",
    "    b.pagar(1500)\n",
    "\n",
    "except ErrorTransaccion as err:\n",
    "    print(f\"Error: {err}. Hay un exceso de gastos de ${err.exceso()}.\")"
   ]
  },
  {
   "cell_type": "markdown",
   "metadata": {},
   "source": [
    "# Observaciones\n",
    "\n",
    "- El manejo de excepciones es otra forma de control del flujo del programa, similar a lo que ocurre con la sentencia `if`.\n",
    "\n",
    "- ¿`if`-`else` V.S. Manejo de excepciones?: Usar excepciones es más recomendable que usar `if`-`else` para controlar errores. Siempre es posible crear un sistema de códigos de error manejado por distintas salidas (`return`) de una función o módulo. Sin embargo, esto puede generar casos particulares que complejizan, ensucian el diseño, y le quitan flexibilidad a nuestro programa. Además, continuamente hay que estar agregando nuevos códigos de error, lo que dificulta la mantenibilidad de nuestro código. \n",
    "\n",
    "En general, las principales ventajas de usar excepciones por sobre `if`-`else` son:\n",
    "\n",
    "- El programador está obligado a darles algún tratamiento, es decir, manejarlas o levantarlas. Mientras que los códigos de error pueden ser erróneamente ignorados por el programador.\n",
    "\n",
    "- El código queda más limpio.\n",
    "\n",
    "- Todas las situaciones del programa son manejadas genéricamente, mientras que usando códigos de error tenemos la obligación de crear estructuras de control para cada función que implementemos.\n",
    "\n",
    "- El manejo de excepciones permite \"notificar\" a otras aplicaciones sobre este tipo de situaciones, lo que no sería tan simple de lograr usando códigos de error inventados por el programador.\n",
    "\n",
    "- ¿Porqué importa que el programa no falle inesperadamente?: Muchas veces exponer errores que no se han manejado a usuarios finales puede ser peligroso, ya que se podrían visualizar trozos de código en los outputs de estos. "
   ]
  }
 ],
 "metadata": {
  "kernelspec": {
   "display_name": "Python 3",
   "language": "python",
   "name": "python3"
  },
  "language_info": {
   "codemirror_mode": {
    "name": "ipython",
    "version": 3
   },
   "file_extension": ".py",
   "mimetype": "text/x-python",
   "name": "python",
   "nbconvert_exporter": "python",
   "pygments_lexer": "ipython3",
   "version": "3.6.6"
  }
 },
 "nbformat": 4,
 "nbformat_minor": 1
}
