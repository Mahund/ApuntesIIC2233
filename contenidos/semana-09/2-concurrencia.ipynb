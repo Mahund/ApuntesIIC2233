{
 "cells": [
  {
   "cell_type": "markdown",
   "metadata": {},
   "source": [
    "<p>\n",
    "<font size='5' face='Georgia, Arial'>IIC-2233 Apunte Programación Avanzada</font><br>\n",
    "<font size='1'>Equipo Docente IIC2233 2018-1, editado el 2018-2. Contiene partes de una creación de &copy; Karim Pichara - Christian Pieringer del año 2015 (Todos los derechos reservados).</font>\n",
    "</p>"
   ]
  },
  {
   "cell_type": "markdown",
   "metadata": {},
   "source": [
    "# Sincronización\n",
    "\n",
    "## Necesidad de sincronizar _threads_\n",
    "\n",
    "En el _notebook_ anterior, vimos qué eran los _threads_, como crearlos, y hablamos sobre situaciones donde podrían ser útiles. Podemos hacer cosas _pseudo-paralelas_, ¿qué podría salir mal?\n",
    "\n",
    "Hagamos dos _threads_ que aumenten un contador $10^6$ veces. Lo que esperaríamos es que el valor final sea $2 \\times 10^6$, ¿no es así?"
   ]
  },
  {
   "cell_type": "code",
   "execution_count": 1,
   "metadata": {},
   "outputs": [
    {
     "name": "stdout",
     "output_type": "stream",
     "text": [
      "Listo, nuestro contador vale 1417177\n"
     ]
    }
   ],
   "source": [
    "import threading\n",
    "\n",
    "\n",
    "class Counter: \n",
    "    def __init__(self):\n",
    "        self.value = 0\n",
    "\n",
    "        \n",
    "def worker(counter):\n",
    "    for _ in range(10 ** 6):\n",
    "        counter.value += 1\n",
    "\n",
    "\n",
    "counter = Counter()        \n",
    "t1 = threading.Thread(target=worker, args=(counter,))\n",
    "t2 = threading.Thread(target=worker, args=(counter,))\n",
    "\n",
    "t1.start()\n",
    "t2.start()\n",
    "t1.join()\n",
    "t2.join()\n",
    "\n",
    "print(\"Listo, nuestro contador vale\", counter.value)"
   ]
  },
  {
   "cell_type": "markdown",
   "metadata": {},
   "source": [
    "😱¿Qué pasó ahí? Como dice un viejo refrán:\n",
    "\n",
    "> Un programador tenía un problema y decidió usar _threads_. Tiene él problemas. Ahora dos.\n",
    "\n",
    "En este ejemplo, intentamos modificar **concurrentemente** un mismo valor o recurso con dos _threads_ distintos. Para entender por qué eso no siempre resulta como pensábamos, tomemos en cuenta que:\n",
    "\n",
    "- Las operaciones de los _threads_ pueden ser pausadas en cualquier momento para dar paso al otro _thread_.\n",
    "- Es imposible saber cómo se interlevan los _threads_. Por ejemplo, es **incorrecto** pensar que el sistema operativo va a hacer una operación del _thread_ 1, luego una del _thread_ 2, y así sucesivamente.\n",
    "\n",
    "Descompongamos en un pseudocódigo – lo más granular posible – lo que hace la máquina en una iteración en cada _worker_:\n",
    "\n",
    "    1. Leer el valor de counter.value\n",
    "    2. Sumar 1 al valor anterior\n",
    "    3. Almacenar el valor obtenido en counter.value \n",
    "    \n",
    "Ahora veamos un escenario posible:\n",
    "\n",
    "    - T1 lee 0 de counter.value\n",
    "    - T1 suma 1 => 1\n",
    "    - T1 guarda 1 en counter.value\n",
    "    - T1 lee 1 de counter.value\n",
    "    - T1 se pausa\n",
    "    - T2 lee 1 de counter.value\n",
    "    - T2 suma 1 => 2\n",
    "    - T2 guarda 2 en counter.value\n",
    "    - T2 lee 2 de counter.value\n",
    "    - T2 suma 1 => 3\n",
    "    - T2 guarda 3 en counter.value\n",
    "    - T2 se pausa\n",
    "    - T1 se reanuda\n",
    "    - T1 suma 1 => 2 (😨)\n",
    "    - T1 guarda 2 en counter.value (😨😨😨)\n",
    "    - ..."
   ]
  },
  {
   "cell_type": "markdown",
   "metadata": {},
   "source": [
    "La situación anterior nos enseña que **deberíamos asegurarnos** de que la operación de aumentar el contador (`counter.value += 1`) sea **atómica**, es decir, que un _thread_ no la pueda iniciar a menos que ningún otro la esté haciendo. Un conjunto de instrucciones que debe ser **atómico** se denomina **sección crítica**.\n",
    "\n",
    "La situación que vimos es una de muchas donde más de un _thread_ debe compartir el acceso a determinados recursos, como son archivos, variables, etc. En estos escenarios, **solo uno** de los _threads_ debe tener acceso al recurso y el resto debe quedar en espera para su uso. Cuando existe **concurrencia** múltiple a un recurso es posible controlar el acceso a este mediante mecanismos de **sincronización** entre los _threads_."
   ]
  },
  {
   "cell_type": "markdown",
   "metadata": {},
   "source": [
    "## Mecanismos de sincronización\n",
    "\n",
    "Ahora, veremos dos formas de coordinar nuestros _threads_."
   ]
  },
  {
   "cell_type": "markdown",
   "metadata": {},
   "source": [
    "### Lock\n",
    "\n",
    "El _lock_ es una primitiva de sincronización de _threads_, provista por la clase `Lock` de la librería `threading`. Se utiliza para que sólo un _thread_ pueda estar en una misma sección crítica a la vez. En otras palabras, el _lock_ permite la sincronización para el acceso a los recursos compartidos entre dos o más _threads_. \n",
    "\n",
    "\n",
    "Un _lock_ puede estar **bloqueado** o **desbloqueado** (parte desbloqueado). Si un _thread_ quiere entrar a una sección crítica, primero debe adquirir el _lock_ mediante la operación `acquire()`. Una vez que el _thread_ consigue adquirir el _lock_, lo deja bloqueado, haciendo que otros _threads_ que quieran adquirir el mismo _lock_ deban esperar. Cuando el _thread_ quiera salir de la sección crítica, debe liberar el lock mediante `release()`, con lo que el _lock_ queda desbloqueado, permitiendo que otro _thread_ pueda adquirirlo.\n",
    "\n",
    "![lock](imgs/lock.png)\n",
    "\n",
    "Abajo, se ejemplifica el modo de usar un _lock_."
   ]
  },
  {
   "cell_type": "code",
   "execution_count": 2,
   "metadata": {},
   "outputs": [],
   "source": [
    "import threading\n",
    "\n",
    "global_lock = threading.Lock()\n",
    "\n",
    "def worker_con_seccion_critica(counter):\n",
    "    for _ in range(10 ** 6):\n",
    "        # Pedimos el lock antes de entrar a la sección crítica.\n",
    "        global_lock.acquire()\n",
    "        # --- Sección crítica ---. \n",
    "        # Está garantizado que en estas líneas sólo habrá un thread a la vez.\n",
    "        counter.value += 1\n",
    "        # --- Fin de la sección crítica ---.\n",
    "        # Liberamos el lock luego de salir de la sección crítica.\n",
    "        global_lock.release()"
   ]
  },
  {
   "cell_type": "markdown",
   "metadata": {},
   "source": [
    "Nuestro ejemplo del contador funcionará correctamente 👍."
   ]
  },
  {
   "cell_type": "code",
   "execution_count": 3,
   "metadata": {},
   "outputs": [
    {
     "name": "stdout",
     "output_type": "stream",
     "text": [
      "Listo, nuestro contador vale 2000000\n"
     ]
    }
   ],
   "source": [
    "counter = Counter()        \n",
    "t1 = threading.Thread(target=worker_con_seccion_critica, args=(counter,))\n",
    "t2 = threading.Thread(target=worker_con_seccion_critica, args=(counter,))\n",
    "\n",
    "t1.start()\n",
    "t2.start()\n",
    "t1.join()\n",
    "t2.join()\n",
    "\n",
    "print(\"Listo, nuestro contador vale\", counter.value)"
   ]
  },
  {
   "cell_type": "markdown",
   "metadata": {},
   "source": [
    "Afortunadamente en Python los _locks_ también pueden funcionar dentro de un _context manager_ a través de la sentencia `with`. En este caso es el mismo `with` el que se encarga de llamar los métodos `acquire()` y `release()`. De esta forma el _lock_ usado en el método `worker_con_sección_crítica` quedaría como se indica a continuación:"
   ]
  },
  {
   "cell_type": "code",
   "execution_count": 4,
   "metadata": {},
   "outputs": [],
   "source": [
    "global_lock = threading.Lock()\n",
    "\n",
    "def worker_con_seccion_critica(counter):\n",
    "    for _ in range(10 ** 6):\n",
    "        with global_lock:\n",
    "            # --- Sección crítica ---. \n",
    "            # Está garantizado que en estas líneas sólo habrá un thread a la vez.\n",
    "            counter.value += 1\n",
    "            # --- Fin de la sección crítica ---."
   ]
  },
  {
   "cell_type": "markdown",
   "metadata": {},
   "source": [
    "### Señales entre _threads_\n",
    "\n",
    "Vimos el _lock_, que nos permitía que nuestros _threads_ pudieran compartir un mismo recurso. Pero, ¿cómo podemos hacer que un _thread_ espere a que otro le diga cuando continuar? Para ello tenemos los `Event`. Un _event_ es uno de los mecanismos más simples de comunicación entre _threads_: un _thread_ hace una señal, y otros _threads_ esperan a que esa señal ocurra. Los `Event` tienen un _flag_ interno, que toma el valor `True` cuando la señal está activa, y `False` cuando no.\n",
    "\n",
    "Un _thread_ puede esperar una señal llamando al método `wait()` del `Event`, con ello, el _thread_ quedará en pausa hasta que otro _thread_ haga la señal correspondiente. En caso de que la señal ya haya estado activa antes de hacer `wait()`, el _thread_ puede seguir inmediatamente sin esperar.\n",
    "\n",
    "Para hacer la señal, un _thread_ debe llamar al método `set()`, que dejará el _flag_ interno del objeto `Event` en `True`. Finalmente, un _thread_ cualquiera puede _resetear_ la señal llamando a `clear()` del objeto `Event`, dejando el _flag_ en `False`.\n",
    "\n",
    "Un ejemplo es cuando queremos reproducir un audio y un video de la forma más sincronizada posible. Supongamos que tenemos un _thread_ encargado de leer el audio, y otro de leer el video. El _thread_ encargado del audio debería esperar a que el _thread_ encargado del video esté listo para empezar, y viceversa:"
   ]
  },
  {
   "cell_type": "code",
   "execution_count": 1,
   "metadata": {},
   "outputs": [
    {
     "name": "stdout",
     "output_type": "stream",
     "text": [
      "Cargando audio dummy en t=1539108900.156606\n",
      "Cargando video dummy en t=1539108900.165581\n",
      "Video cargado! en t=1539108903.175079\n",
      "Audio cargado! en t=1539108910.166115\n",
      "Reproduciendo audio en t=1539108910.167128\n",
      "Reproduciendo video en t=1539108910.169122\n"
     ]
    }
   ],
   "source": [
    "# Ejemplo sacado de http://zulko.github.io/blog/2013/09/19/a-basic-example-of-threads-synchronization-in-python/\n",
    "\n",
    "import threading\n",
    "import time\n",
    "\n",
    "# Tenemos dos eventos o señales.\n",
    "# Esta es para avisar que el video ya está listo para ser reproducido.\n",
    "video_cargado = threading.Event()\n",
    "# Esta es para avisar que el audio ya está listo para ser reproducido.\n",
    "audio_cargado = threading.Event()\n",
    "\n",
    "def reproducir_video(nombre):\n",
    "    print(f\"Cargando video {nombre} en t={time.time():.6f}\")\n",
    "    # Supongamos que se demora 3 segundos\n",
    "    time.sleep(3)\n",
    "    print(f\"Video cargado! en t={time.time():.6f}\")\n",
    "    # Avisamos que el video ya está cargado\n",
    "    video_cargado.set()\n",
    "    # Esperamos a que el audio ya se haya cargado\n",
    "    audio_cargado.wait()\n",
    "    # Listo!\n",
    "    print(f\"Reproduciendo video en t={time.time():.6f}\")\n",
    "    \n",
    "    \n",
    "def reproducir_audio(nombre):\n",
    "    print(f\"Cargando audio {nombre} en t={time.time():.6f}\")\n",
    "    # Supongamos que se demora 5 segundos\n",
    "    time.sleep(10)\n",
    "    print(f\"Audio cargado! en t={time.time():.6f}\")\n",
    "    # Avisamos que el audio ya está cargado\n",
    "    audio_cargado.set()\n",
    "    # Esperamos a que el video ya se haya cargado\n",
    "    video_cargado.wait()\n",
    "    # Listo!\n",
    "    print(f\"Reproduciendo audio en t={time.time():.6f}\")\n",
    "    \n",
    "    \n",
    "t1 = threading.Thread(target=reproducir_audio, args=(\"dummy\",))\n",
    "t2 = threading.Thread(target=reproducir_video, args=(\"dummy\",))\n",
    "\n",
    "t1.start()\n",
    "t2.start()\n",
    "\n",
    "t1.join()\n",
    "t2.join()"
   ]
  },
  {
   "cell_type": "markdown",
   "metadata": {},
   "source": [
    "En el ejemplo anterior, gracias a la coordinación de _threads_ con _events_, conseguimos que el audio y el video se empiecen a reproducir _casi_ simultáneamente. De otra manera, el video habría empezado mucho antes, puesto que demoró solo 3 segundos en cargar, mientras que el audio tardó 5 segundos."
   ]
  },
  {
   "cell_type": "markdown",
   "metadata": {},
   "source": [
    "### Otros métodos de coordinación entre _threads_\n",
    "\n",
    "En Python existen otras maneras de coordinar _threads_, que son adecuadas para otras situaciones. No las veremos en detalle en este curso. Si gustas, puedes verlas en la [documentación](https://docs.python.org/3/library/threading.html#lock-objects)"
   ]
  },
  {
   "cell_type": "markdown",
   "metadata": {},
   "source": [
    "## _Deadlocks_\n",
    "\n",
    "Introdujimos formar de coordinar _threads_, o de hacer que un _thread_ espere al otro. Existen situaciones – por error – donde dos o más _threads_ se esperan mutuamente, sin que ninguno finalmente avance. A este tipo de situaciones se le llama _**deadlock**_ o **interbloqueo**, aunque hay nombres _menos afortunados_...\n",
    "\n",
    "![Abrazo mortal](imgs/abrazo-mortal.png)\n",
    "\n",
    "Veamos dos ejemplos concretos de _**deadlocks**_.\n",
    "\n",
    "Ejemplo con _locks_:"
   ]
  },
  {
   "cell_type": "code",
   "execution_count": 6,
   "metadata": {},
   "outputs": [
    {
     "name": "stdout",
     "output_type": "stream",
     "text": [
      "Worker: adquiriendo lock_2\n",
      "Master: adquiriendo lock_1\n",
      "Worker: adquiriendo lock_1\n",
      "Master: adquiriendo lock_2\n"
     ]
    }
   ],
   "source": [
    "import threading\n",
    "import time\n",
    "\n",
    "\n",
    "lock_1 = threading.Lock()\n",
    "lock_2 = threading.Lock()\n",
    "\n",
    "\n",
    "def master():\n",
    "    time.sleep(2)\n",
    "    print(\"Master: adquiriendo lock_1\")\n",
    "    with lock_1:\n",
    "        time.sleep(2)\n",
    "        print(\"Master: adquiriendo lock_2\")\n",
    "        with lock_2:\n",
    "            print(\"Master: trabajando!\")\n",
    "\n",
    "\n",
    "def worker():\n",
    "    time.sleep(1.5)\n",
    "    print(\"Worker: adquiriendo lock_2\")\n",
    "    with lock_2:\n",
    "        time.sleep(2)\n",
    "        print(\"Worker: adquiriendo lock_1\")\n",
    "        with lock_1:\n",
    "            print(\"Worker: trabajando!\")\n",
    "\n",
    "\n",
    "t1 = threading.Thread(target=master)\n",
    "t2 = threading.Thread(target=worker)\n",
    "\n",
    "t1.start()\n",
    "t2.start()"
   ]
  },
  {
   "cell_type": "markdown",
   "metadata": {},
   "source": [
    "En el ejemplo anterior, tenemos dos _threads_ y dos _locks_. El _thread_ _master_ alcanza a adquirir el `lock_1`, y el _thread_ _worker_ alcanza a adquirir el `lock_2`. Luego, _master_ trata de adquirir `lock_2`, por lo que debe esperar que _worker_ lo libere. Sin embargo, _worker_ no liberará el `lock_2` sin antes poder adquirir `lock_1` 💀.\n",
    "\n",
    "Ejemplo con _events_. Nota que es el mismo que el de la sección de [señales entre _threads_](#Señales-entre-threads), solo que cambiamos el orden en que se revisan/levantan las señales:"
   ]
  },
  {
   "cell_type": "code",
   "execution_count": 7,
   "metadata": {},
   "outputs": [
    {
     "name": "stdout",
     "output_type": "stream",
     "text": [
      "Cargando audio dummy en t=1534132765.326378\n",
      "Cargando video dummy en t=1534132765.326894\n",
      "Video cargado! en t=1534132768.332214\n",
      "Audio cargado! en t=1534132770.329270\n"
     ]
    }
   ],
   "source": [
    "import threading\n",
    "import time\n",
    "\n",
    "\n",
    "video_cargado = threading.Event()\n",
    "audio_cargado = threading.Event()\n",
    "\n",
    "def reproducir_video(nombre):\n",
    "    print(f\"Cargando video {nombre} en t={time.time():.6f}\")\n",
    "    time.sleep(3)\n",
    "    print(f\"Video cargado! en t={time.time():.6f}\")\n",
    "    audio_cargado.wait()\n",
    "    video_cargado.set()\n",
    "    print(f\"Reproduciendo video en t={time.time():.6f}\")\n",
    "    \n",
    "    \n",
    "def reproducir_audio(nombre):\n",
    "    print(f\"Cargando audio {nombre} en t={time.time():.6f}\")\n",
    "    time.sleep(5)\n",
    "    print(f\"Audio cargado! en t={time.time():.6f}\")\n",
    "    video_cargado.wait()\n",
    "    audio_cargado.set()\n",
    "    print(f\"Reproduciendo audio en t={time.time():.6f}\")\n",
    "    \n",
    "    \n",
    "t1 = threading.Thread(target=reproducir_audio, args=(\"dummy\",))\n",
    "t2 = threading.Thread(target=reproducir_video, args=(\"dummy\",))\n",
    "\n",
    "t1.start()\n",
    "t2.start()"
   ]
  },
  {
   "cell_type": "markdown",
   "metadata": {},
   "source": [
    "Esencialmente, en el ejemplo anterior estamos esperando que el otro _thread_ avise que hizo su trabajo, antes de avisar que el _thread_ actual hizo el suyo. Esto produce que `reproducir_video` espere a que la señal de `audio_cargado` se active, antes de activar `video_cargado`. Sin embargo, `reproducir_audio` está esperando que `video_cargado` se active para luego activar `audio_cargado` 💀."
   ]
  },
  {
   "cell_type": "markdown",
   "metadata": {},
   "source": [
    "Lo importante – para ti como programador(a) – es saber que los _**deadlocks**_ pueden ocurrir, y que debes tener cuidado al programar para que esto no te pase."
   ]
  },
  {
   "cell_type": "markdown",
   "metadata": {},
   "source": [
    "## Más ejemplos y aplicaciones\n",
    "\n",
    "### _Lock_ como variable de una subclase de `Thread`\n",
    "\n",
    "Como recordarás, una manera de crear nuestros _threads_ consiste en subclasear `Thread` y sobreescribir el método `run` e `__init__`. Podemos aprovechar de colocar los _locks_ que necesitemos como variable de clase. De esta manera, tendremos un mismo _lock_ para todos los _threads_ de nuestra clase y organizaremos mejor nuestro código.\n",
    "\n",
    "En el siguiente ejemplo, escribiremos en un mismo archivo con varios _threads_."
   ]
  },
  {
   "cell_type": "code",
   "execution_count": 7,
   "metadata": {},
   "outputs": [],
   "source": [
    "import threading\n",
    "import time\n",
    "from random import random\n",
    "\n",
    "\n",
    "class EscritorArchivo(threading.Thread):\n",
    "    \"\"\"\n",
    "    Esta clase modela un thread. Dentro creamos un objeto para bloqueo dentro de la clase. \n",
    "    El Lock es una variable independiente de cada thread\n",
    "    \"\"\"\n",
    "    \n",
    "    lock = threading.Lock()\n",
    "    \n",
    "    def __init__(self, numero, archivo):\n",
    "        super().__init__()\n",
    "        self.name = f\"EscritorArchivo número {numero}\"\n",
    "        self.numero = numero\n",
    "        self.archivo = archivo\n",
    "    \n",
    "    def run(self):\n",
    "        # Recordemos que la forma de buscar atributos es:\n",
    "        # 1. Buscar en la instancia (en este caso, no existe).\n",
    "        # 2. Si no existe, buscar en la clase (en este caso, lo encuentra).\n",
    "        # 3. Si no existe, error.\n",
    "        with self.lock:\n",
    "            try:\n",
    "                self.archivo.write(f\"Línea escrita por thread # {self.numero}\\n\")\n",
    "            finally:\n",
    "                # Hacemos que se demore una cantidad random uniforme [0, 1)\n",
    "                time.sleep(8*random())\n",
    "                \n",
    "\n",
    "# Creamos un archivo para escribir una salida. \n",
    "# Luego creamos los threads que escribirán dentro del archivo\n",
    "with open(\"files/salida.txt\", \"w\", encoding=\"UTF-8\") as archivo:\n",
    "    # Creamos los threads\n",
    "    cantidad_threads = 7\n",
    "    threads = [EscritorArchivo(i, archivo) for i in range(cantidad_threads)]\n",
    "    \n",
    "    # Hacemos partir los threads\n",
    "    for thread in threads:\n",
    "        thread.start()\n",
    "\n",
    "    # Esperamos a todos los threads antes de cerrar el archivo\n",
    "    for thread in threads:\n",
    "        thread.join()"
   ]
  },
  {
   "cell_type": "markdown",
   "metadata": {},
   "source": [
    "### Patrón productor-consumidor\n",
    "\n",
    "Un problema común en programación concurrente es el patrón **productor-consumidor**. Este se origina cuando dos o más _threads_, conocidos como **productores** y **consumidores**, acceden a un mismo espacio de almacenamiento o _**buffer**_.\n",
    "\n",
    "Bajo este esquema, los productores ponen ítems en el _buffer_ y los consumidores sacan elementos del _buffer_. Este modelo permite la comunicación entre distintos _threads_. Por lo general el _buffer_ compartido en este modelo se implementa mediante una **cola sincronizada** o una **cola _thread-safe_**. \n",
    "\n",
    "Si bien los `deque` permiten agregar y sacar elementos desde ambos extremos en forma segura con _threads_, **nada nos asegura** que si vimos que había un objeto para sacar, ese objeto todavía esté cuando queramos sacarlo. Por lo tanto, tenemos que asegurarnos nosotros mismos – _vía locks_ – que ver si había algo y sacarlo sea una operación atómica.\n",
    "\n",
    "Por ejemplo, supongamos que el productor es un panadero, y los consumidores son clientes de un supermercado. El panadero colocará piezas de pan cuando las tenga listas, y los consumidores sacarán estas piezas cuando estén disponibles. Implementemos esto:"
   ]
  },
  {
   "cell_type": "code",
   "execution_count": 12,
   "metadata": {},
   "outputs": [
    {
     "name": "stdout",
     "output_type": "stream",
     "text": [
      "Produje 5 piezas de pan en la partida 0\n",
      "Cliente Thread-85: Saqué mi Hallulla!\n",
      "Cliente 9: Saqué mi Hallulla!\n",
      "Cliente 3: Saqué mi Marraqueta!\n",
      "Cliente 7: Saqué mi Hallulla!\n",
      "Cliente 4: Saqué mi Baguette!\n",
      "Produje 5 piezas de pan en la partida 1\n",
      "Cliente 8: Saqué mi Hallulla!\n",
      "Cliente 5: Saqué mi Hallulla!\n",
      "Cliente 2: Saqué mi Marraqueta!\n",
      "Cliente 6: Saqué mi Hallulla!\n",
      "Cliente 1: Saqué mi Hallulla!\n"
     ]
    }
   ],
   "source": [
    "from collections import deque\n",
    "from random import choices\n",
    "import threading\n",
    "import time\n",
    "\n",
    "piezas_de_pan = deque()\n",
    "\n",
    "def panadero():\n",
    "    # El panadero hará 2 veces pan\n",
    "    for partida in range(2):\n",
    "        # En cada vez, producirá 5 piezas de pan.\n",
    "        # Se demorará 5 segundos por vez (que rápido :D)\n",
    "        time.sleep(5)\n",
    "        print(\"Produje 5 piezas de pan en la partida\", partida)\n",
    "        piezas_de_pan.extend(choices([\"Marraqueta\", \"Baguette\", \"Hallulla\"], k=5))\n",
    "\n",
    "\n",
    "lock_sacar_pan = threading.Lock()\n",
    "\n",
    "def cliente():\n",
    "    while True:\n",
    "        # El cliente verifica si hay pan antes de sacarlo.\n",
    "        # Necesitamos asegurarnos que si vio que había pan, nadie se lo quite.\n",
    "        # Para eso, ponemos un lock para que la operación \n",
    "        # de ver si había pan y luego sacarlo sea atómica.\n",
    "        lol = threading.current_thread()\n",
    "        with lock_sacar_pan:\n",
    "            if piezas_de_pan:\n",
    "                mi_pan = piezas_de_pan.popleft()\n",
    "                print(f\"Cliente {lol.name}: Saqué mi {mi_pan}!\")\n",
    "                break\n",
    "\n",
    "\n",
    "thread_panadero = threading.Thread(target=panadero)\n",
    "threads_clientes = [threading.Thread(target=cliente, name=i) for i in range(10)]\n",
    "\n",
    "thread_panadero.start()\n",
    "for thread_cliente in threads_clientes:\n",
    "    thread_cliente.start()"
   ]
  },
  {
   "cell_type": "markdown",
   "metadata": {},
   "source": [
    "La implementación anterior tiene un problema: los clientes gastan CPU en forma innecesaria verificando si hay pan o no, ya que si no hay pan vuelven a revisar de inmediato. Podríamos evitar este gasto si el panadero enviara una señal a los clientes cuando él tenga pan listo. No obstante, los clientes tendrán que verificar de igual manera que todavía quede pan, porque podría haber más clientes que piezas de pan disponibles en ese momento.\n",
    "\n",
    "Afortunadamente, en Python existe una librería optimizada para manejar este tipo de casos.\n",
    "\n",
    "#### `Queue`\n",
    "\n",
    "La librería `queue` tiene implementada una cola hecha para situaciones donde hay varios _threads_. Tiene métodos que la hacen un poco diferente a la implementada en `collections`:\n",
    "\n",
    "- `put()`: Agrega un ítem al final de la cola (_push_)\n",
    "- `get()`: Remueve y retorna un ítem de la cola (_pop_). Lo interesante es que este método **espera** hasta que exista algo para sacar de la cola.\n",
    "- `task_done()`: Requiere ser llamado cada vez que un ítem extraído de la cola ha sido procesado.\n",
    "- `join()`: El _thread_ que llame a este método queda en pausa hasta que todos los ítems de la cola hayan sido procesados.\n",
    "\n",
    "Volvamos al ejemplo anterior, ahora usando `Queue`."
   ]
  },
  {
   "cell_type": "code",
   "execution_count": 10,
   "metadata": {
    "scrolled": false
   },
   "outputs": [
    {
     "name": "stdout",
     "output_type": "stream",
     "text": [
      "Produje 5 piezas de pan en la partida 0\n",
      "Saqué mi Baguette!\n",
      "Saqué mi Hallulla!\n",
      "Saqué mi Hallulla!\n",
      "Saqué mi Marraqueta!\n",
      "Saqué mi Baguette!\n",
      "Produje 5 piezas de pan en la partida 1\n",
      "Saqué mi Baguette!Saqué mi Hallulla!\n",
      "Saqué mi Hallulla!\n",
      "Saqué mi Marraqueta!\n",
      "\n",
      "Saqué mi Marraqueta!\n"
     ]
    }
   ],
   "source": [
    "from queue import Queue\n",
    "from random import choice\n",
    "import threading\n",
    "import time\n",
    "\n",
    "piezas_de_pan = Queue()\n",
    "\n",
    "def panadero():\n",
    "    # El panadero hará 2 veces pan\n",
    "    for partida in range(2):\n",
    "        # En cada vez, producirá 5 piezas de pan.\n",
    "        # Se demorará 5 segundos por vez (que rápido :D)\n",
    "        time.sleep(5)\n",
    "        print(\"Produje 5 piezas de pan en la partida\", partida)\n",
    "        for _ in range(5):\n",
    "            piezas_de_pan.put(choice([\"Marraqueta\", \"Baguette\", \"Hallulla\"]))\n",
    "\n",
    "\n",
    "def cliente():\n",
    "    mi_pan = piezas_de_pan.get()\n",
    "    print(f\"Saqué mi {mi_pan}!\")\n",
    "    piezas_de_pan.task_done()\n",
    "\n",
    "\n",
    "thread_panadero = threading.Thread(target=panadero)\n",
    "threads_clientes = [threading.Thread(target=cliente) for _ in range(10)]\n",
    "\n",
    "thread_panadero.start()\n",
    "for thread_cliente in threads_clientes:\n",
    "    thread_cliente.start()"
   ]
  },
  {
   "cell_type": "markdown",
   "metadata": {},
   "source": [
    "Con `Queue` también podríamos comunicar _threads_ para que hagan ciertas tareas. En ese caso, en vez de pasar objetos cualquiera podríamos pasar mensajes con cierto formato que todos puedan entender."
   ]
  },
  {
   "cell_type": "markdown",
   "metadata": {},
   "source": [
    "### Los _prints_ están extraños\n",
    "\n",
    "Si eres una persona que se fija en los detalles, te habrás dado cuenta que en este capítulo – a veces – faltan o sobran saltos de línea en los _prints_. La pregunta es, ¿tienen que ver los _threads_ en esto? La respuesta es sí.\n",
    "\n",
    "De acuerdo a [este post en StackOverflow](https://stackoverflow.com/questions/31142566/print-skipping-newline) esto se produce porque – a nivel de máquina – escribir el texto del `print` y escribir el salto de línea son dos instrucciones distintas. Por lo tanto, es posible que un _thread_ imprima el texto, se pause ese _thread_, luego otro _thread_ imprima su texto y su respectivo salto de línea, y luego al volver al primer _thread_ este imprima el salto de línea que faltaba."
   ]
  }
 ],
 "metadata": {
  "kernelspec": {
   "display_name": "Python 3",
   "language": "python",
   "name": "python3"
  },
  "language_info": {
   "codemirror_mode": {
    "name": "ipython",
    "version": 3
   },
   "file_extension": ".py",
   "mimetype": "text/x-python",
   "name": "python",
   "nbconvert_exporter": "python",
   "pygments_lexer": "ipython3",
   "version": "3.6.6"
  }
 },
 "nbformat": 4,
 "nbformat_minor": 1
}
