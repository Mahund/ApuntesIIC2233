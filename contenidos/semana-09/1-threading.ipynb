{
 "cells": [
  {
   "cell_type": "markdown",
   "metadata": {},
   "source": [
    "<p>\n",
    "<font size='5' face='Georgia, Arial'>IIC-2233 Apunte Programación Avanzada</font><br>\n",
    "<font size='1'>&copy; 2015 Karim Pichara - Christian Pieringer. Todos los derechos reservados. Editado el 2018-1 y 2018-2 por Equipo Docente IIC2233.</font>\n",
    "</p>"
   ]
  },
  {
   "cell_type": "markdown",
   "metadata": {},
   "source": [
    "# Objetivos de la Unidad\n",
    "\n",
    "- Conocer cómo se realizan las tareas en un sistema multitarea\n",
    "- Conocer los conceptos de proceso y de _thread_\n",
    "- Conocer y usar las bibliotecas de clases que provee Python para el manejo de threads\n",
    "- Aplicar OOP utilizando ideas de _multithreading_ y concurrencia"
   ]
  },
  {
   "cell_type": "markdown",
   "metadata": {},
   "source": [
    "## Introducción\n",
    "\n",
    "Los sistemas operativos modernos tienen muchos procesos corriendo en paralelo, donde nuestro programa en Python es solo uno de esos tantos procesos. Podemos obervar este comportamiento incluso en computadores con un sólo procesador, ¿cómo es posible? En realidad, el paralelismo que observamos es solo una ilusión. Lo que hace el sistema operativo es **compartir la CPU entre todos los procesos**, que consiste en tomar un proceso, hacerlo avanzar unas cuantas operaciones, dejarlo en pausa, y volver a repetir lo mismo con otro proceso. Esto ocurre tan rápido que parece que todos los procesos avanzan al mismo tiempo.\n",
    "\n",
    "En la actualidad, la mayoría de los computadores tiene un procesador con más de un núcleo, por lo que en realidad si pueden hacer más de una operación simultánea. No obstante, la cantidad de procesos es mucho más grande que la de núcleos, por lo que el sistema de igual forma tiene que compartir las CPUs entre los procesos.\n",
    "\n",
    "En esta unidad, aprenderemos a hacer correr dos o más tareas – dentro de nuestro programa – como si fueran simultáneas. Para ello, usamos _**threads**_."
   ]
  },
  {
   "cell_type": "markdown",
   "metadata": {},
   "source": [
    "## Threading\n",
    "\n",
    "Los **_threads_** (o hilos) son las unidades más pequeñas que pueden ser programadas para ser ejecutadas en un sistema operativo. Son una especie de proceso liviano, que están dentro de un programa o de un proceso mayor. Los _threads_ que están dentro de un mismo proceso comparten la memoria y el estado de las variables. Este uso compartido de los recursos permite a los _threads_ ejecutarse más rápido que correr varias instancias del mismo programa.\n",
    "\n",
    "Un proceso puede tener uno o varios _threads_. En el momento en que se crea un proceso se crea un _thread_ con él, que llamamos _thread_ principal. Un _thread_ puede crear otros _threads_, los que serán ejecutados **como si fueran tareas en paralelo**.\n",
    "\n",
    "Como dijimos antes, este paralelismo no es real. Para simular el paralelismo se realiza _thread scheduling_ o _time slicing_, que funciona – en general – turnando los _threads_ de la siguiente manera:\n",
    "\n",
    "- Se toma un _thread_ de los que están en espera.\n",
    "- Se ejecuta un cierto número de instrucciones de ese _thread_.\n",
    "- Se deja el _thread_ en espera.\n",
    "- Se repite lo mismo con otro _thread_ que está en espera.\n",
    "\n",
    "Cuando hay un sólo procesador, no existe un verdadero aumento de la velocidad de ejecución, pero sí de la manera en que el programa responde. En máquinas con más procesadores, efectivamente se logra la ejecución en paralelo de varios _threads_, que tiene como resultado una ejecución más rápida del programa. La siguiente figura muestra un esquema de la interacción de los _threads_ con el proceso principal."
   ]
  },
  {
   "cell_type": "markdown",
   "metadata": {},
   "source": [
    "![thread](imgs/thread.png)"
   ]
  },
  {
   "cell_type": "markdown",
   "metadata": {},
   "source": [
    "Algunos ejemplos donde resulta útil implementar _threads_ son:\n",
    "\n",
    "- Interfaces de rápida respuesta, donde se necesita interactuar con el usuario mientras se ejecuta algún proceso de cómputo pesado. Por ejemplo, las interfaces gráficas en un computador.\n",
    "- Delegación de trabajos que siguen el patrón _consumidor-productor_, en donde existen procesos que se ejecutan secuencialmente, pero que son independientes entre ellos. Como por ejemplo, un _thread_ que se encargue de poner los _frames_ capturados desde una cámara de video en una cola, y otro _thread_ que procese estos cuadros y los saque de la cola.\n",
    "- Aplicaciones multiusuario, en donde cada _thread_ se encargaría de las peticiones de cada usuario independientemente. Por ejemplo, un servidor de páginas web debe atender a varios clientes a la vez."
   ]
  },
  {
   "cell_type": "markdown",
   "metadata": {},
   "source": [
    "### Creación de _threads_"
   ]
  },
  {
   "cell_type": "markdown",
   "metadata": {},
   "source": [
    "En Python 3, el manejo de _threads_ se realiza mediante la librería `threading`, en donde los _threads_ son representados por objetos. Muchas de las funcionalidades necesarias están implementadas en esta librería. \n",
    "\n",
    "La clase `Thread` representa un hilo. Para crear un _thread_, se requiere especificar la función que ejecutará ese _thread_ a través del parámetro `target`. Para ejecutar el _thread_, se debe llamar al método `start()`. La clase `Thread` también admite el argumento `name`, que es el nombre que le queremos dar al hilo. \n",
    "\n",
    "En el siguiente ejemplo, crearemos tres _threads_ `t1`, `w1`, y `w2`, que ejecutarán distintas instancias de las funciones `service` y `worker`."
   ]
  },
  {
   "cell_type": "code",
   "execution_count": 5,
   "metadata": {},
   "outputs": [
    {
     "name": "stdout",
     "output_type": "stream",
     "text": [
      "Thread 1 terminando...\n",
      "Thread 2 partiendo...\n",
      "Thread-10 partiendo...\n",
      "Thread 1 partiendo...Fueron creados 3 threads\n",
      "0\n",
      "1\n",
      "2\n",
      "3\n",
      "4\n",
      "5\n",
      "6\n",
      "7\n",
      "\n",
      "8\n",
      "9\n",
      "Thread 2 terminando...\n",
      "Thread-10 terminando...\n",
      "Thread 1 terminando...\n"
     ]
    }
   ],
   "source": [
    "import threading\n",
    "import time\n",
    "\n",
    "\n",
    "def worker():\n",
    "    current_thread = threading.current_thread()\n",
    "    print(f\"{current_thread.name} partiendo...\")\n",
    "    # Pondremos a dormir el thread por 2 segundos simulando \n",
    "    # que ocurre algun proceso dentro de la función\n",
    "    time.sleep(2) \n",
    "    print(f\"{current_thread.name} terminando...\")\n",
    "\n",
    "def service():\n",
    "    current_thread = threading.current_thread()\n",
    "    print(f\"{current_thread.name} partiendo...\")\n",
    "    # Ponemos a dormir el thread por 4 segundos simulando\n",
    "    # un proceso dentro de la función\n",
    "    time.sleep(4) \n",
    "    print(f\"{current_thread.name} terminando...\")\n",
    "\n",
    "\n",
    "# Creamos los threads usando la clase Thread\n",
    "t1 = threading.Thread(name=\"Thread 1\", target=service)\n",
    "w1 = threading.Thread(name=\"Thread 2\", target=worker)\n",
    "w2 = threading.Thread(target=worker)  # En este caso usa el nombre asignado por defecto\n",
    "\n",
    "# Se inicializan los threads creados\n",
    "w1.start()\n",
    "w2.start()\n",
    "t1.start()\n",
    "\n",
    "# Todas estas líneas serán ejecutadas mientras los threads se ejecutan independientemente \n",
    "# del programa principal\n",
    "print(\"Fueron creados 3 threads\")\n",
    "for i in range(10):\n",
    "    print(i)"
   ]
  },
  {
   "cell_type": "markdown",
   "metadata": {},
   "source": [
    "En el ejemplo, vemos que una vez inicializados los _threads_, el programa principal continúa con el resto de instrucciones mientras los _threads_ se ejecutan. Luego los tres _threads_ terminan independientemente en distintos momentos. El programa principal esperará a que todos los _threads_ hayan terminado correctamente.\n",
    "\n",
    "También es posible, mediante el atributo `args` o `kwargs`, pasar los argumentos a la función definida como `target` del _thread_."
   ]
  },
  {
   "cell_type": "code",
   "execution_count": 7,
   "metadata": {},
   "outputs": [
    {
     "name": "stdout",
     "output_type": "stream",
     "text": [
      "Worker 1 partiendo con tiempo=3Worker 2 partiendo con tiempo=5\n",
      "\n",
      "Worker 1 terminando...\n",
      "Worker 2 terminando...\n"
     ]
    }
   ],
   "source": [
    "import threading\n",
    "import time\n",
    "\n",
    "\n",
    "def worker(tiempo):\n",
    "    current_thread = threading.current_thread()\n",
    "    print(f\"{current_thread.name} partiendo con tiempo={tiempo}\")\n",
    "    time.sleep(tiempo)\n",
    "    print(f\"{current_thread.name} terminando...\")\n",
    "\n",
    "    \n",
    "# Se crean los threads usando la clase Thread, asociada a la función objetivo para \n",
    "# ser ejecutada por el thread, y los atributos de la función son ingresados con \n",
    "# args o kwargs\n",
    "\n",
    "w1 = threading.Thread(name=\"Worker 1\", target=worker, args=(3,))\n",
    "w2 = threading.Thread(name=\"Worker 2\", target=worker, kwargs={\"tiempo\": 5})\n",
    "w1.start()\n",
    "w2.start()"
   ]
  },
  {
   "cell_type": "markdown",
   "metadata": {},
   "source": [
    "En concordancia con el modelamiento basado en OOP, podemos crear también un _thread_ heredando desde la clase `Thread` y redefiniendo el método `run()`, el cual se ejecuta luego de hacer `Thread.start()`."
   ]
  },
  {
   "cell_type": "code",
   "execution_count": 2,
   "metadata": {},
   "outputs": [
    {
     "name": "stdout",
     "output_type": "stream",
     "text": [
      "Trabajador 4 partiendo...\n",
      "Trabajador 5 partiendo...\n",
      "Servicio 3 partiendo...Fueron creados 3 threads\n",
      "0\n",
      "1\n",
      "2\n",
      "3\n",
      "4\n",
      "5\n",
      "6\n",
      "7\n",
      "8\n",
      "9\n",
      "\n",
      "Servicio 3 terminando después de 3.001357078552246 seg.\n",
      "Trabajador 4 terminando después de 4.0005552768707275 seg.\n",
      "Trabajador 5 terminando después de 5.000891208648682 seg.\n"
     ]
    }
   ],
   "source": [
    "import threading\n",
    "import time\n",
    "\n",
    "\n",
    "class Worker(threading.Thread):\n",
    "    \"\"\"Este será nuestro nuevo Worker basado en Thread\"\"\"\n",
    "    def __init__(self, tiempo):\n",
    "        # En el caso de los threads, lo primero es invocar al init original.\n",
    "        super().__init__()\n",
    "        self.tiempo = tiempo\n",
    "    \n",
    "    def run(self):\n",
    "        # Este metodo ejecuta el proceso de este thread\n",
    "        # cuando lo iniciamos mediante el metodo start()\n",
    "        print(f\"{self.name} partiendo...\")\n",
    "        tiempo_partida = time.time()\n",
    "        time.sleep(self.tiempo) \n",
    "        print(f\"{self.name} terminando después de {time.time() - tiempo_partida} seg.\")\n",
    "\n",
    "        \n",
    "class Service(threading.Thread):\n",
    "    \"\"\"Este sera el nuevo Service basado en Thread\"\"\"\n",
    "    def __init__(self, tiempo):\n",
    "        super().__init__()\n",
    "        self.tiempo = tiempo\n",
    "    \n",
    "    def run(self):\n",
    "        print(f\"{self.name} partiendo...\")\n",
    "        tiempo_partida = time.time()\n",
    "        time.sleep(self.tiempo) \n",
    "        print(f\"{self.name} terminando después de {time.time() - tiempo_partida} seg.\")\n",
    "        \n",
    "\n",
    "# Se crean los threads\n",
    "t1 = Service(3)\n",
    "t1.name = \"Servicio 3\"\n",
    "w1 = Worker(4)\n",
    "w1.name = \"Trabajador 4\"\n",
    "w2 = Worker(5)\n",
    "w2.name = \"Trabajador 5\"\n",
    "\n",
    "# Se inicializan los threads creados\n",
    "w1.start()\n",
    "w2.start()\n",
    "t1.start()\n",
    "\n",
    "# Todas estas líneas serán ejecutadas mientras los threads se ejecutan independientemente\n",
    "# del programa principal.\n",
    "print(\"Fueron creados 3 threads\")\n",
    "for i in range(10):\n",
    "    print(i)"
   ]
  },
  {
   "cell_type": "markdown",
   "metadata": {},
   "source": [
    "### `join()`"
   ]
  },
  {
   "cell_type": "markdown",
   "metadata": {},
   "source": [
    "Si necesitamos que el programa principal espere a que termine la ejecución de algún _thread_ (o grupo de _threads_), debemos usar del método `join(timeout=None)` después de que el _thread_ ha sido iniciado mediante `start()`.\n",
    "\n",
    "Al usar `join()`, el programa principal queda bloqueado hasta que los _threads_ referenciados terminen correctamente. No obstante, si se especifica un `timeout` (en segundos) el programa esperará al _thread_ referenciado solo por ese tiempo. \n",
    "\n",
    "La figura siguiente explica gráficamente la ejecución del programa usando `join()`.\n",
    "\n",
    "![join](imgs/join.png)\n",
    "\n",
    "Veamos ahora el mismo ejemplo anterior pero con la incorporación de `join()`."
   ]
  },
  {
   "cell_type": "code",
   "execution_count": 3,
   "metadata": {},
   "outputs": [
    {
     "name": "stdout",
     "output_type": "stream",
     "text": [
      "Thread-9 partiendo...\n",
      "Thread-10 partiendo...\n",
      "Thread-11 partiendo...\n",
      "Thread-9 terminando después de 1.0016248226165771 seg.\n",
      "Thread-10 terminando después de 6.001014471054077 seg.\n",
      "Fueron creados 3 threads\n",
      "False\n",
      "False\n",
      "True\n",
      "Thread-11 terminando después de 10.001221656799316 seg.\n"
     ]
    }
   ],
   "source": [
    "import threading\n",
    "import time\n",
    "\n",
    "# Usamos la definicion de los Thread declarados en el ejemplo anterior\n",
    "# Se crean los threads usando la clase Thread.\n",
    "t1 = Service(1)\n",
    "w1 = Worker(6)\n",
    "w2 = Worker(10)\n",
    "\n",
    "# Se inicializan los threads creados\n",
    "t1.start()\n",
    "w1.start()\n",
    "w2.start()\n",
    "\n",
    "# Aquí incorporamos el método join() para bloquear el programa principal\n",
    "t1.join()     # No especificamos timeout, esperará lo que sea necesario\n",
    "w1.join()     # Esperaremos lo que sea necesario.\n",
    "w2.join(3)  # Esperaremos máximo 8.8 segundos.\n",
    "\n",
    "# En este punto, el programa ha esperado por los tres threads que creamos\n",
    "# Estas líneas serán ejecutadas después de que los threads hayan terminado\n",
    "\n",
    "print(\"Fueron creados 3 threads\")\n",
    "for i in [t1,w1,w2]:\n",
    "    print(i.is_alive())"
   ]
  },
  {
   "cell_type": "markdown",
   "metadata": {},
   "source": [
    "### `is_alive()`"
   ]
  },
  {
   "cell_type": "markdown",
   "metadata": {},
   "source": [
    "Es posible identificar si un _thread_ todavía está en funcionamiento mediante el uso del método `is_alive()`. Por lo general este método se implementa para saber el estado del _thread_ después del uso de `join()`, al cual se le ha definido su tiempo máximo de espera. Usando `Service` y `Worker` podemos hacer lo siguiente:"
   ]
  },
  {
   "cell_type": "code",
   "execution_count": 4,
   "metadata": {
    "scrolled": true
   },
   "outputs": [
    {
     "name": "stdout",
     "output_type": "stream",
     "text": [
      "Thread-12 partiendo...\n",
      "Thread-13 partiendo...\n",
      "Thread-12 terminando después de 2.0005407333374023 seg.\n",
      "El thread Thread-12 ha terminado :)\n",
      "El thread Thread-13 sigue activo :(\n",
      "Thread-13 terminando después de 10.000402212142944 seg.\n"
     ]
    }
   ],
   "source": [
    "import threading\n",
    "import time\n",
    "\n",
    "# Se crean los threads usando la clase Thread\n",
    "t1 = Service(2)\n",
    "w1 = Worker(10)\n",
    "\n",
    "# Se inicializan los threads\n",
    "t1.start()\n",
    "w1.start()\n",
    "\n",
    "# Esperaremos a que t1 termine, por 2 segundos\n",
    "t1.join(2)\n",
    "# Esperaremos a que w1 termine, por 2 segundos más\n",
    "w1.join(2)\n",
    "\n",
    "# Dado como definimos Service y Worker, es muy probable que Service\n",
    "# haya terminado en los 2 segundos, pero poco probable que \n",
    "# Worker haya terminado.\n",
    "\n",
    "# Podemos comprobar si los threads están activos o no\n",
    "\n",
    "for thread in [t1, w1]:\n",
    "    if thread.is_alive():\n",
    "        print(f\"El thread {thread.name} sigue activo :(\")\n",
    "    else:\n",
    "        print(f\"El thread {thread.name} ha terminado :)\")"
   ]
  },
  {
   "cell_type": "markdown",
   "metadata": {},
   "source": [
    "### _Daemons_\n",
    "\n",
    "En los ejemplos anteriores, el programa espera a que todos los _threads_ terminen su trabajo antes de terminar su ejecución. Los **_daemon threads_** son los que, a pesar de que estén aún corriendo, no impiden que el programa principal termine.\n",
    "\n",
    "Si no existieran los _daemon threads_, tendríamos que preocuparnos de tener en cuenta todos nuestros _threads_ y preocuparnos de terminarlos a todos para que el programa principal pueda terminar. Con los _daemon threads_, podemos ponerlos a correr y olvidarnos de ellos, y cuando el programa termina, los _daemon threads_ serán terminados inmediatamente. El programa principal terminará cuando todos los _threads no-daemon_ hayan finalizado.\n",
    "\n",
    "Para especificar que un _thread_ debe ser _daemon_, se especifica el parámetro `daemon` en el constructor del _thread_. Una forma alternativa es escribir el atributo `daemon` del _thread_, después de haberlo creado."
   ]
  },
  {
   "cell_type": "code",
   "execution_count": 5,
   "metadata": {},
   "outputs": [
    {
     "name": "stdout",
     "output_type": "stream",
     "text": [
      "Worker partiendo...\n",
      "Service partiendo...\n",
      "Worker saliendo...\n",
      "Service saliendo...\n"
     ]
    }
   ],
   "source": [
    "import threading\n",
    "import time\n",
    "\n",
    "\n",
    "def worker():\n",
    "    print(f\"{threading.current_thread().name} partiendo...\")\n",
    "    time.sleep(2)\n",
    "    print(f\"{threading.current_thread().name} saliendo...\")\n",
    "\n",
    "    \n",
    "def service():\n",
    "    print(f\"{threading.current_thread().name} partiendo...\")\n",
    "    time.sleep(4)\n",
    "    print(f\"{threading.current_thread().name} saliendo...\")\n",
    "\n",
    "\n",
    "# Forma 1 de hacer un thread daemon\n",
    "t1 = threading.Thread(name=\"Service\", target=service, daemon=True)\n",
    "# Forma 2 de hacer un thread daemon\n",
    "w1 = threading.Thread(name=\"Worker\", target=worker)\n",
    "w1.daemon = True\n",
    "\n",
    "# Se inicializan los threads\n",
    "w1.start()\n",
    "t1.start()"
   ]
  },
  {
   "cell_type": "markdown",
   "metadata": {},
   "source": [
    "La siguiente figura muestra la salida en la consola para el programa **con** los _threads_ configurados como `Daemon`. Los _threads_ se interrumpen abruptamente, luego de que el programa principal termina su ejecución.\n",
    "\n",
    "![daemon](imgs/daemon.png)\n",
    "\n",
    "Comparemos el resultado anterior con la salida en la consola para el programa **sin** los _threads_ configurados como `Daemon`, como muestra la imagen siguiente. Podemos ver que la ejecución de los _threads_ fue completada y que el programa no se cierra hasta que los _threads_ terminan.\n",
    "\n",
    "![non_daemon](imgs/non-daemon.png)"
   ]
  },
  {
   "cell_type": "markdown",
   "metadata": {},
   "source": [
    "En la celda anterior, podemos apreciar que el programa principal termina antes que el _daemon thread_. Es posible hacer que el programa espere a un _daemon thread_ mediante el uso de `join()`, lo que tendría sentido cuando debemos esperar algún resultado del _thread_ para el resto del programa."
   ]
  },
  {
   "cell_type": "code",
   "execution_count": 6,
   "metadata": {},
   "outputs": [
    {
     "name": "stdout",
     "output_type": "stream",
     "text": [
      "Worker partiendo...\n",
      "Service partiendo...\n",
      "Worker saliendo...\n",
      "Service saliendo...\n"
     ]
    }
   ],
   "source": [
    "import threading\n",
    "import time\n",
    "\n",
    "\n",
    "def worker():\n",
    "    print(f\"{threading.current_thread().name} partiendo...\")\n",
    "    time.sleep(2)\n",
    "    print(f\"{threading.current_thread().name} saliendo...\")\n",
    "\n",
    "    \n",
    "def service():\n",
    "    print(f\"{threading.current_thread().name} partiendo...\")\n",
    "    time.sleep(4)\n",
    "    print(f\"{threading.current_thread().name} saliendo...\")\n",
    "\n",
    "\n",
    "# Forma 1 de hacer un thread daemon\n",
    "t1 = threading.Thread(name=\"Service\", target=service, daemon=True)\n",
    "# Forma 2 de hacer un thread daemon\n",
    "w1 = threading.Thread(name=\"Worker\", target=worker)\n",
    "w1.daemon = True\n",
    "\n",
    "# Se inicializan los threads\n",
    "w1.start()\n",
    "t1.start()\n",
    "\n",
    "# Esperamos los threads.\n",
    "# Lo esperamos por una cantidad indefinida de tiempo\n",
    "w1.join()\n",
    "# Esperamos sólo 5 segundos\n",
    "w2.join(5)"
   ]
  },
  {
   "cell_type": "markdown",
   "metadata": {},
   "source": [
    "Una cosa importante a notar es que una vez que se ha llamado el método `start()` un _thread_ no puede cambiar desde _daemon_ a _no-daemon_, o vicecersa. Si tratamos de hacerlo, se lanza una excepción del tipo `RuntimeError`."
   ]
  },
  {
   "cell_type": "code",
   "execution_count": 7,
   "metadata": {},
   "outputs": [
    {
     "name": "stdout",
     "output_type": "stream",
     "text": [
      "Service partiendo...\n"
     ]
    },
    {
     "ename": "RuntimeError",
     "evalue": "cannot set daemon status of active thread",
     "output_type": "error",
     "traceback": [
      "\u001b[1;31m---------------------------------------------------------------------------\u001b[0m",
      "\u001b[1;31mRuntimeError\u001b[0m                              Traceback (most recent call last)",
      "\u001b[1;32m<ipython-input-7-aa903af99977>\u001b[0m in \u001b[0;36m<module>\u001b[1;34m()\u001b[0m\n\u001b[0;32m      3\u001b[0m \u001b[1;33m\u001b[0m\u001b[0m\n\u001b[0;32m      4\u001b[0m \u001b[1;31m# Noo!\u001b[0m\u001b[1;33m\u001b[0m\u001b[1;33m\u001b[0m\u001b[0m\n\u001b[1;32m----> 5\u001b[1;33m \u001b[0mt1\u001b[0m\u001b[1;33m.\u001b[0m\u001b[0mdaemon\u001b[0m \u001b[1;33m=\u001b[0m \u001b[1;32mFalse\u001b[0m\u001b[1;33m\u001b[0m\u001b[0m\n\u001b[0m\u001b[0;32m      6\u001b[0m \u001b[1;33m\u001b[0m\u001b[0m\n\u001b[0;32m      7\u001b[0m \u001b[0mt1\u001b[0m\u001b[1;33m.\u001b[0m\u001b[0mjoin\u001b[0m\u001b[1;33m(\u001b[0m\u001b[1;33m)\u001b[0m\u001b[1;33m\u001b[0m\u001b[0m\n",
      "\u001b[1;32mc:\\users\\usuario\\appdata\\local\\programs\\python\\python36-32\\lib\\threading.py\u001b[0m in \u001b[0;36mdaemon\u001b[1;34m(self, daemonic)\u001b[0m\n\u001b[0;32m   1139\u001b[0m             \u001b[1;32mraise\u001b[0m \u001b[0mRuntimeError\u001b[0m\u001b[1;33m(\u001b[0m\u001b[1;34m\"Thread.__init__() not called\"\u001b[0m\u001b[1;33m)\u001b[0m\u001b[1;33m\u001b[0m\u001b[0m\n\u001b[0;32m   1140\u001b[0m         \u001b[1;32mif\u001b[0m \u001b[0mself\u001b[0m\u001b[1;33m.\u001b[0m\u001b[0m_started\u001b[0m\u001b[1;33m.\u001b[0m\u001b[0mis_set\u001b[0m\u001b[1;33m(\u001b[0m\u001b[1;33m)\u001b[0m\u001b[1;33m:\u001b[0m\u001b[1;33m\u001b[0m\u001b[0m\n\u001b[1;32m-> 1141\u001b[1;33m             \u001b[1;32mraise\u001b[0m \u001b[0mRuntimeError\u001b[0m\u001b[1;33m(\u001b[0m\u001b[1;34m\"cannot set daemon status of active thread\"\u001b[0m\u001b[1;33m)\u001b[0m\u001b[1;33m\u001b[0m\u001b[0m\n\u001b[0m\u001b[0;32m   1142\u001b[0m         \u001b[0mself\u001b[0m\u001b[1;33m.\u001b[0m\u001b[0m_daemonic\u001b[0m \u001b[1;33m=\u001b[0m \u001b[0mdaemonic\u001b[0m\u001b[1;33m\u001b[0m\u001b[0m\n\u001b[0;32m   1143\u001b[0m \u001b[1;33m\u001b[0m\u001b[0m\n",
      "\u001b[1;31mRuntimeError\u001b[0m: cannot set daemon status of active thread"
     ]
    },
    {
     "name": "stdout",
     "output_type": "stream",
     "text": [
      "Service saliendo...\n"
     ]
    }
   ],
   "source": [
    "t1 = threading.Thread(name=\"Service\", target=service, daemon=True)\n",
    "t1.start()\n",
    "\n",
    "# Noo!\n",
    "t1.daemon = False\n",
    "\n",
    "t1.join()"
   ]
  },
  {
   "cell_type": "markdown",
   "metadata": {},
   "source": [
    "Al hacer una subclase de `Thread`, que queremos que sea _daemon_, podemos indicar que el _thread_ es _daemon_ durante su inicialización, usando el atributo `daemon`."
   ]
  },
  {
   "cell_type": "code",
   "execution_count": 8,
   "metadata": {},
   "outputs": [
    {
     "name": "stdout",
     "output_type": "stream",
     "text": [
      "Empezando...\n",
      "Terminando...\n"
     ]
    }
   ],
   "source": [
    "class Daemon(threading.Thread):\n",
    "    \n",
    "    def __init__(self):\n",
    "        super().__init__()\n",
    "        # Cuando inicializamos el thread lo declaramos como daemon\n",
    "        self.daemon = True\n",
    "    \n",
    "    def run(self):\n",
    "        print(\"Empezando...\")\n",
    "        time.sleep(2)\n",
    "        print(\"Terminando...\")\n",
    "\n",
    "daemon = Daemon()\n",
    "daemon.start()\n",
    "daemon.join()"
   ]
  },
  {
   "cell_type": "markdown",
   "metadata": {},
   "source": [
    "### _Timers_\n",
    "\n",
    "La clase `Timer` es una subclase de la clase `Thread` y permite ejecutar un proceso o acción después que ha pasado un determinado tiempo. `Timer` requiere, como parámetros básicos, el tiempo en segundos después del cual debe ejecutarse el _thread_, la función a ejecutar, y los argumentos de la función a ejecutar.\n",
    "\n",
    "El método `cancel()` permite, si se requiere, cancelar la ejecución del _timer_ antes que este sea ejecuctado."
   ]
  },
  {
   "cell_type": "code",
   "execution_count": 9,
   "metadata": {},
   "outputs": [
    {
     "name": "stdout",
     "output_type": "stream",
     "text": [
      "Hola :) acabas de ejecutar el timer 2\n",
      "\n",
      "Hola! acabas de ejecutar el timer 1\n"
     ]
    }
   ],
   "source": [
    "def mi_timer(archivo):\n",
    "    with open(archivo) as fid:\n",
    "        for linea in fid:\n",
    "            print(linea)\n",
    "\n",
    "t1 = threading.Timer(10.0, mi_timer, args=(\"files/mensaje_01.txt\",))\n",
    "t2 = threading.Timer(5.0, mi_timer, kwargs={\"archivo\": \"files/mensaje_02.txt\"})\n",
    "\n",
    "t1.start() # el thread t comenzará después de 10 seconds\n",
    "t2.start() # el thread t comenzará después de 5 seconds"
   ]
  }
 ],
 "metadata": {
  "kernelspec": {
   "display_name": "Python 3",
   "language": "python",
   "name": "python3"
  },
  "language_info": {
   "codemirror_mode": {
    "name": "ipython",
    "version": 3
   },
   "file_extension": ".py",
   "mimetype": "text/x-python",
   "name": "python",
   "nbconvert_exporter": "python",
   "pygments_lexer": "ipython3",
   "version": "3.6.6"
  }
 },
 "nbformat": 4,
 "nbformat_minor": 1
}
