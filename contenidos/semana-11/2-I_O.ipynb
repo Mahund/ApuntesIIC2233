{
 "cells": [
  {
   "cell_type": "markdown",
   "metadata": {},
   "source": [
    "# _Input/Output_\n",
    "\n",
    "En este capítulo, estudiaremos a fondo el manejo de _strings_, _bytes_, arreglos de _bytes_, archivos, y _context managers_."
   ]
  },
  {
   "cell_type": "markdown",
   "metadata": {},
   "source": [
    "## _Strings_\n",
    "\n",
    "Hasta ahora, hemos trabajado muchas veces con _strings_ que, como sabemos, corresponden a una secuencia inmutable de caracteres. En Python 3, todos los _strings_ se representan en [Unicode](https://es.wikipedia.org/wiki/Unicode), codificación que permite representar virtualmente cualquier caracter en cualquier lenguaje. Luego, veremos más detalles sobre Unicode. Entonces, pensemos que en Python un _string_ es una secuencia inmutable de caracteres Unicode. A continuación, algunas formas distintas de crear un _string_ en Python:"
   ]
  },
  {
   "cell_type": "code",
   "execution_count": 1,
   "metadata": {},
   "outputs": [
    {
     "name": "stdout",
     "output_type": "stream",
     "text": [
      "programando\n",
      "mucho\n",
      "un string\n",
      "con múltiples\n",
      "lineas\n",
      "Multiples con\n",
      "     comillas dobles\n",
      "Tres strings juntos\n",
      "un string concatenado\n"
     ]
    }
   ],
   "source": [
    "a = \"programando\"\n",
    "b = 'mucho'\n",
    "c = '''un string\n",
    "con múltiples\n",
    "lineas'''\n",
    "\n",
    "d = \"\"\"Multiples con\n",
    "     comillas dobles\"\"\"\n",
    "e = (\"Tres\" \" strings\" \" juntos\")\n",
    "f = \"un string \" + \"concatenado\"\n",
    "\n",
    "print(a)\n",
    "print(b)\n",
    "print(c)\n",
    "print(d)\n",
    "print(e)\n",
    "print(f)"
   ]
  },
  {
   "cell_type": "markdown",
   "metadata": {},
   "source": [
    "La clase `str` tiene muchos métodos para manipular _strings_. Aquí, con la función [`dir`](https://docs.python.org/3/library/functions.html#dir), podemos obtener la lista:"
   ]
  },
  {
   "cell_type": "code",
   "execution_count": 2,
   "metadata": {},
   "outputs": [
    {
     "name": "stdout",
     "output_type": "stream",
     "text": [
      "['__add__', '__class__', '__contains__', '__delattr__', '__dir__', '__doc__', '__eq__', '__format__', '__ge__', '__getattribute__', '__getitem__', '__getnewargs__', '__gt__', '__hash__', '__init__', '__init_subclass__', '__iter__', '__le__', '__len__', '__lt__', '__mod__', '__mul__', '__ne__', '__new__', '__reduce__', '__reduce_ex__', '__repr__', '__rmod__', '__rmul__', '__setattr__', '__sizeof__', '__str__', '__subclasshook__', 'capitalize', 'casefold', 'center', 'count', 'encode', 'endswith', 'expandtabs', 'find', 'format', 'format_map', 'index', 'isalnum', 'isalpha', 'isdecimal', 'isdigit', 'isidentifier', 'islower', 'isnumeric', 'isprintable', 'isspace', 'istitle', 'isupper', 'join', 'ljust', 'lower', 'lstrip', 'maketrans', 'partition', 'replace', 'rfind', 'rindex', 'rjust', 'rpartition', 'rsplit', 'rstrip', 'split', 'splitlines', 'startswith', 'strip', 'swapcase', 'title', 'translate', 'upper', 'zfill']\n"
     ]
    }
   ],
   "source": [
    "print(dir(str))"
   ]
  },
  {
   "cell_type": "markdown",
   "metadata": {},
   "source": [
    "Ahora, algunos ejemplos concretos:"
   ]
  },
  {
   "cell_type": "code",
   "execution_count": 3,
   "metadata": {},
   "outputs": [
    {
     "name": "stdout",
     "output_type": "stream",
     "text": [
      "True\n",
      "False\n",
      "True\n",
      "True\n",
      "True\n",
      "4\n",
      "4\n",
      "6\n"
     ]
    }
   ],
   "source": [
    "# El método isalpha retorna True si todos los caracteres del string\n",
    "# están en el alfabeto de algún lenguaje.\n",
    "print(\"abñ\".isalpha()) \n",
    "\n",
    "# Si hay algún número, espacio o puntuación dentro del string, retornará False.\n",
    "print(\"t/\".isalpha())\n",
    "\n",
    "# El método isdigit retorna True si todos los caracteres en el string\n",
    "# son dígitos numéricos.\n",
    "print(\"34\".isdigit())\n",
    "\n",
    "s = \"estoy programando\"\n",
    "print(s.startswith(\"est\"))\n",
    "print(s.endswith(\"do\"))\n",
    "\n",
    "# Devuelve el índice donde comienza en s la secuencia que se pasa como argumento.\n",
    "print(s.find(\"y p\"))\n",
    "\n",
    "# El método index retorna el índice donde comienza la secuencia.\n",
    "# Acepta dos argumentos opcionales:\n",
    "# - la posición inicial donde comenzar la búsqueda\n",
    "# - y la posición final (hasta dónde llega buscando)\n",
    "print(s.index(\"y\", 4, 10))\n",
    "print(s.index(\"p\", 5, 10))"
   ]
  },
  {
   "cell_type": "markdown",
   "metadata": {},
   "source": [
    "Otros métodos que actúan sobre _strings_ retornan un _string_ nuevo (sin modificar el original), ya que recordemos que los _strings_ son objetos **inmutables**. Veamos algunos ejemplos."
   ]
  },
  {
   "cell_type": "code",
   "execution_count": 4,
   "metadata": {},
   "outputs": [
    {
     "name": "stdout",
     "output_type": "stream",
     "text": [
      "['hola', 'a', 'todos,', 'cómo', 'están']\n",
      "hola#a#todos,#cómo#están\n",
      "hola**a**todos,**cómo**están\n",
      "hola a todos, cómo están\n"
     ]
    }
   ],
   "source": [
    "s = \"hola a todos, cómo están\"\n",
    "s2 = s.split(' ')\n",
    "print(s2)\n",
    "s3 = '#'.join(s2)\n",
    "print(s3)\n",
    "print(s.replace(' ', '**'))\n",
    "print(s)"
   ]
  },
  {
   "cell_type": "markdown",
   "metadata": {},
   "source": [
    "Como ya hemos visto muchas veces, podemos insertar valores de variables dentro de un _string_ usando `format`."
   ]
  },
  {
   "cell_type": "code",
   "execution_count": 5,
   "metadata": {},
   "outputs": [
    {
     "data": {
      "text/plain": [
       "'Hola Juan Pérez, estás aprobado. Tu nota fue un 4.5.'"
      ]
     },
     "execution_count": 5,
     "metadata": {},
     "output_type": "execute_result"
    }
   ],
   "source": [
    "nombre = 'Juan Pérez'\n",
    "nota = 4.5\n",
    "if nota >= 4.0:\n",
    "    resultado = 'aprobado'\n",
    "else:\n",
    "    resultado = 'reprobado'\n",
    "\n",
    "template = \"Hola {0}, estás {1}. Tu nota fue un {2}.\"\n",
    "template.format(nombre, resultado, nota)"
   ]
  },
  {
   "cell_type": "markdown",
   "metadata": {},
   "source": [
    "Podemos lograr el mismo resultado también utilizando _f-strings_, los cuales hemos utilizado varias veces a lo largo del curso. \n",
    "\n",
    "Los _f-strings_ son una forma de formatear _strings_ que fue añadida en Python 3.6 y permite añadir expresiones de Python directamente en un _string_. Para indicarle a Python que utilizaremos esta funcionalida, debemos antemponer el string con la letra ``f`` (de ahí el nombre _f-string_)"
   ]
  },
  {
   "cell_type": "code",
   "execution_count": 6,
   "metadata": {},
   "outputs": [
    {
     "data": {
      "text/plain": [
       "'Hola Juan Pérez, estás aprobado. Tu nota fue un 4.5.'"
      ]
     },
     "execution_count": 6,
     "metadata": {},
     "output_type": "execute_result"
    }
   ],
   "source": [
    "f\"Hola {nombre}, estás {resultado}. Tu nota fue un {nota}.\""
   ]
  },
  {
   "cell_type": "markdown",
   "metadata": {},
   "source": [
    "Si queremos incluir las _llaves_ (`{`, `}`) dentro del _string_, podemos agregar un _escape character_, que permite invocar una interpretación alternativa de los caracteres siguientes. Más concretamente, las llaves en este caso, se utilizan para encapsular la variable que queremos imprimir. Sin embargo, la representación alternativa, sería la representación literal de la llave. Luego, para este caso, si queremos imprimir una llave, esto se logrará con una doble llave.\n",
    "\n",
    "Veamos un ejemplo. Digamos que buscamos imprimir una simple definición de una clase en Java."
   ]
  },
  {
   "cell_type": "code",
   "execution_count": 7,
   "metadata": {
    "scrolled": true
   },
   "outputs": [
    {
     "name": "stdout",
     "output_type": "stream",
     "text": [
      "\n",
      "public class MiClase \n",
      "{\n",
      "       public static void main(String[] args) \n",
      "       {\n",
      "           System.out.println('hola mundo');\n",
      "       } \n",
      "}\n"
     ]
    }
   ],
   "source": [
    "template = \"\"\"\n",
    "public class {0} \n",
    "{{\n",
    "       public static void main(String[] args) \n",
    "       {{\n",
    "           System.out.println({1});\n",
    "       }} \n",
    "}}\"\"\"\n",
    "\n",
    "print(template.format(\"MiClase\", \"'hola mundo'\"));"
   ]
  },
  {
   "cell_type": "markdown",
   "metadata": {},
   "source": [
    "A veces queremos incluir muchas variables dentro de un _string_, esto hace que sea difícil recordar el orden en que debemos escribirlas dentro de la función `format`. Una solución es usar argumentos con _keywords_ en la función `format`:"
   ]
  },
  {
   "cell_type": "code",
   "execution_count": 8,
   "metadata": {},
   "outputs": [
    {
     "name": "stdout",
     "output_type": "stream",
     "text": [
      "x z y\n"
     ]
    }
   ],
   "source": [
    "print(\"{} {label} {}\".format(\"x\", \"y\", label=\"z\"))"
   ]
  },
  {
   "cell_type": "code",
   "execution_count": 9,
   "metadata": {},
   "outputs": [
    {
     "name": "stdout",
     "output_type": "stream",
     "text": [
      "\n",
      "From: <kpb@ing.puc.cl>\n",
      "To: <cualquiera@example.com>\n",
      "Subject: Este correo es urgente\n",
      "\n",
      "Este es un mail de prueba.\n",
      "\n",
      "Espero que el mensaje te sea de mucha utilidad!\n",
      "\n"
     ]
    }
   ],
   "source": [
    "template = \"\"\"\n",
    "From: <{from_email}>\n",
    "To: <{to_email}>\n",
    "Subject: {subject}\n",
    "{message}\n",
    "\"\"\"\n",
    "\n",
    "print(template.format(\n",
    "    from_email = \"kpb@ing.puc.cl\",\n",
    "    to_email = \"cualquiera@example.com\",\n",
    "    message = \"\\nEste es un mail de prueba.\\n\\n\"\n",
    "              \"Espero que el mensaje te sea de mucha utilidad!\", # ver como Python concatena esto automáticamente \n",
    "    subject = \"Este correo es urgente\")\n",
    "    )"
   ]
  },
  {
   "cell_type": "markdown",
   "metadata": {},
   "source": [
    "Podemos, incluso, usar contenedores como listas, tuplas o diccionarios como argumentos dentro de la función `format`."
   ]
  },
  {
   "cell_type": "code",
   "execution_count": 10,
   "metadata": {},
   "outputs": [
    {
     "name": "stdout",
     "output_type": "stream",
     "text": [
      "\n",
      "From: <a@ejemplo.com>\n",
      "To: <b@ejemplo.com>\n",
      "Subject: Tienes un correo Este es un correo para ti\n",
      "\n"
     ]
    }
   ],
   "source": [
    "emails = (\"a@ejemplo.com\", \"b@ejemplo.com\")\n",
    "message = {'subject': \"Tienes un correo\", 'message': \"Este es un correo para ti\"}\n",
    "template = \"\"\"\n",
    "From: <{0[0]}>\n",
    "To: <{0[1]}>\n",
    "Subject: {message[subject]} {message[message]}\n",
    "\"\"\" \n",
    "print(template.format(emails, message=message))"
   ]
  },
  {
   "cell_type": "markdown",
   "metadata": {},
   "source": [
    "Además, podemos usar un diccionario con listas e indexar la lista dentro del _string_."
   ]
  },
  {
   "cell_type": "code",
   "execution_count": 11,
   "metadata": {},
   "outputs": [
    {
     "name": "stdout",
     "output_type": "stream",
     "text": [
      "\n",
      "From: <yo@ejemplo.com>\n",
      "To: <tu@ejemplo.com>\n",
      "Subject: mira este correo\n",
      "Sorry no era tan importante\n"
     ]
    }
   ],
   "source": [
    "mensaje = {\n",
    "    \"emails\": [\"yo@ejemplo.com\", \"tu@ejemplo.com\"],\n",
    "    \"subject\": \"mira este correo\",\n",
    "    \"message\": \"Sorry no era tan importante\"\n",
    "}\n",
    "\n",
    "template = \"\"\"\n",
    "From: <{0[emails][0]}>\n",
    "To: <{0[emails][1]}>\n",
    "Subject: {0[subject]}\n",
    "{0[message]}\"\"\"\n",
    "\n",
    "print(template.format(mensaje))"
   ]
  },
  {
   "cell_type": "markdown",
   "metadata": {},
   "source": [
    "Lo mismo se puede replicar con _f-strings_, sin embargo tenemos que utilizar las _keys_ como fueron definidas originalmente, es decir como _strings_."
   ]
  },
  {
   "cell_type": "code",
   "execution_count": 12,
   "metadata": {},
   "outputs": [
    {
     "name": "stdout",
     "output_type": "stream",
     "text": [
      "From: <yo@ejemplo.com>\n",
      "To: <tu@ejemplo.com>\n",
      "Subject: mira este correo\n",
      "Sorry no era tan importante\n"
     ]
    }
   ],
   "source": [
    "print(\n",
    "f\"\"\"From: <{mensaje['emails'][0]}>\n",
    "To: <{mensaje['emails'][1]}>\n",
    "Subject: {mensaje['subject']}\n",
    "{mensaje['message']}\"\"\"\n",
    ")"
   ]
  },
  {
   "cell_type": "markdown",
   "metadata": {},
   "source": [
    "Esto puede ser aún mejor: podemos pasar cualquier objeto como argumento, por ejemplo, una instancia de una clase. Luego, dentro del _string_ podemos acceder a cualquiera de los atributos del objeto."
   ]
  },
  {
   "cell_type": "code",
   "execution_count": 13,
   "metadata": {},
   "outputs": [
    {
     "name": "stdout",
     "output_type": "stream",
     "text": [
      "\n",
      "From: <a@ejemplo.com>\n",
      "To: <b@ejemplo.com>\n",
      "Subject: Tienes un correo\n",
      "\n",
      "El mensaje es inútil\n",
      "\n",
      "Saludos\n"
     ]
    }
   ],
   "source": [
    "class EMail:\n",
    "    def __init__(self, from_addr, to_addr, subject, message):\n",
    "        self.from_addr = from_addr\n",
    "        self.to_addr = to_addr\n",
    "        self.subject = subject\n",
    "        self.message = message\n",
    "        \n",
    "email = EMail(\"a@ejemplo.com\", \"b@ejemplo.com\",\"Tienes un correo\",\"\\nEl mensaje es inútil\\n\\nSaludos\")\n",
    "template = \"\"\"\n",
    "From: <{0.from_addr}>\n",
    "To: <{0.to_addr}>\n",
    "Subject: {0.subject}\n",
    "{0.message}\"\"\"\n",
    "\n",
    "print(template.format(email))"
   ]
  },
  {
   "cell_type": "markdown",
   "metadata": {},
   "source": [
    "Y lo mismo también puede ser replicado con _f-strings_."
   ]
  },
  {
   "cell_type": "code",
   "execution_count": 14,
   "metadata": {},
   "outputs": [
    {
     "name": "stdout",
     "output_type": "stream",
     "text": [
      "\n",
      "From: <a@ejemplo.com>\n",
      "To: <b@ejemplo.com>\n",
      "Subject: Tienes un correo\n",
      "\n",
      "El mensaje es inútil\n",
      "\n",
      "Saludos\n"
     ]
    }
   ],
   "source": [
    "print(f\"\"\"\n",
    "From: <{email.from_addr}>\n",
    "To: <{email.to_addr}>\n",
    "Subject: {email.subject}\n",
    "{email.message}\"\"\")"
   ]
  },
  {
   "cell_type": "markdown",
   "metadata": {},
   "source": [
    "También podemos mejorar el formato de los _strings_ que se imprimen. Por ejemplo, en casos como la impresión de una tabla con datos, muchas veces queremos que datos pertenecientes a la misma variable se vean alineados en columnas:"
   ]
  },
  {
   "cell_type": "code",
   "execution_count": 15,
   "metadata": {},
   "outputs": [
    {
     "name": "stdout",
     "output_type": "stream",
     "text": [
      "PRODUCTO  CANTIDAD   PRECIO   SUBTOTAL\n",
      "leche      120       $2.00    $ 240.00\n",
      "pan        800       $3.50    $2800.00\n",
      "arroz      960       $1.75    $1680.00\n"
     ]
    }
   ],
   "source": [
    "compra = [('leche', 2, 120), ('pan', 3.5, 800), ('arroz', 1.75, 960)]\n",
    "\n",
    "print(\"PRODUCTO  CANTIDAD   PRECIO   SUBTOTAL\")\n",
    "for producto, precio, cantidad in compra:\n",
    "    subtotal = precio * cantidad\n",
    "    print(\"{0:8s}{1: ^9d}    ${2: <8.2f}${3: >7.2f}\".format(producto, cantidad, precio, subtotal))"
   ]
  },
  {
   "cell_type": "markdown",
   "metadata": {},
   "source": [
    "Podemos lograr lo mismo utilizando _f-strings_."
   ]
  },
  {
   "cell_type": "code",
   "execution_count": 16,
   "metadata": {},
   "outputs": [
    {
     "name": "stdout",
     "output_type": "stream",
     "text": [
      "PRODUCTO  CANTIDAD   PRECIO   SUBTOTAL\n",
      "leche      120       $2.00    $ 240.00\n",
      "pan        800       $3.50    $2800.00\n",
      "arroz      960       $1.75    $1680.00\n"
     ]
    }
   ],
   "source": [
    "print(\"PRODUCTO  CANTIDAD   PRECIO   SUBTOTAL\")\n",
    "for producto, precio, cantidad in compra:\n",
    "    subtotal = precio * cantidad\n",
    "    print(f\"{producto:8s}{cantidad: ^9d}    ${precio: <8.2f}${subtotal: >7.2f}\")"
   ]
  },
  {
   "cell_type": "markdown",
   "metadata": {},
   "source": [
    "Notar que, dentro de cada llave, existe un item tipo diccionario; es decir, antes de los dos puntos va el índice del argumento dentro de la función `format`. Después de los dos puntos, por ejemplo, `8s`, significa que el dato es un _string_ de ocho caracteres. Por defecto, si el _string_ es más corto que los ocho caracteres, el resto se llenará con espacios (por la derecha). No olvidar que también, por defecto, si el _string_ que ingresamos es más largo que los 8 caracteres, este no será truncado:"
   ]
  },
  {
   "cell_type": "code",
   "execution_count": 17,
   "metadata": {},
   "outputs": [
    {
     "name": "stdout",
     "output_type": "stream",
     "text": [
      "PRODUCTO  CANTIDAD   PRECIO   SUBTOTAL\n",
      "lecheeeeeeeeeeeeeee   120       $2.00    $ 240.00\n",
      "pan        800       $3.50    $2800.00\n",
      "arroz      960       $1.75    $1680.00\n"
     ]
    }
   ],
   "source": [
    "compra = [('lecheeeeeeeeeeeeeee', 2, 120), ('pan', 3.5, 800), ('arroz', 1.75, 960)]\n",
    "\n",
    "print(\"PRODUCTO  CANTIDAD   PRECIO   SUBTOTAL\")\n",
    "for producto, precio, cantidad in compra:\n",
    "    subtotal = precio * cantidad\n",
    "    print(\"{0:8s}{1: ^9d}    ${2: <8.2f}${3: >7.2f}\".format(producto, cantidad, precio, subtotal))"
   ]
  },
  {
   "cell_type": "markdown",
   "metadata": {},
   "source": [
    "Podemos cambiar esta situación obligando a que el _string_ sea truncado si se pasa del largo máximo. Basta con agregar un punto y la precisión luego del número que indica el largo del _string_. La precisión para tipos no numéricos indica el largo máximo de caracteres usados para este campo."
   ]
  },
  {
   "cell_type": "code",
   "execution_count": 16,
   "metadata": {},
   "outputs": [
    {
     "name": "stdout",
     "output_type": "stream",
     "text": [
      "PRODUCTO  CANTIDAD   PRECIO   SUBTOTAL\n",
      "lecheeeeaaa120aaa    $2.00    $ 240.00\n",
      "paniiiiiaaa800aaa    $3.50    $2800.00\n",
      "arroziiiaaa960aaa    $1.75    $1680.00\n"
     ]
    }
   ],
   "source": [
    "compra = [('lecheeeeeeeeeeeeeee', 2, 120), ('pan', 3.5, 800), ('arroz', 1.75, 960)]\n",
    "\n",
    "print(\"PRODUCTO  CANTIDAD   PRECIO   SUBTOTAL\")\n",
    "for producto, precio, cantidad in compra:\n",
    "    subtotal = precio * cantidad\n",
    "    print(\"{0:i<8.8s}{1:a^9d}    ${2: <8.2f}${3: >7.2f}\".format(producto, cantidad, precio, subtotal))"
   ]
  },
  {
   "cell_type": "markdown",
   "metadata": {},
   "source": [
    "Para la cantidad de producto el formato es `{1:^d}`, el 1 corresponde al índice del argumento en la función `format`, el espacio después de los dos puntos dice que los lugares vacíos deben ser llenados con espacios (en los tipos enteros, por defecto, se llenará con ceros), el símbolo `^` es para que el número quede centrado en el espacio disponible, `9d` significa que será un entero de hasta nueve dígitos. Notar que siempre el orden de estos parámetros (aunque son opcionales) debe ser de izquierda a derecha después de los dos puntos: primero el caracter para llenar los espacios vacíos, después el alineamiento, después el tamaño y finalmente el tipo.\n",
    "\n",
    "Para el precio por ejemplo, `{2: <8.2f}` significa que el dato se leerá del tercer argumento de la función `format`, luego los lugares que queden libres se llenarán con espacios, el símbolo `<` significa que el alineamiento es a la izquierda, el formato será un _float_ de hasta ocho caracteres, con dos decimales.\n",
    "  \n",
    "De la misma forma, para el subtotal, `{3: >7.2f}` significa que el dato se sacará del cuarto argumento dentro de la función `format`, el caracter de llenado será espacio, el alineamiento es a la derecha, será un _float_ de siete dígitos, dos de ellos decimales e incluyendo el `.` como carácter."
   ]
  },
  {
   "cell_type": "markdown",
   "metadata": {},
   "source": [
    "## _Bytes_ y I/O\n",
    "\n",
    "Al comienzo del capítulo, dijimos que los _strings_ en Python eran una colección de caracteres Unicode inmutables. Unicode no es realmente un formato válido de almacenamiento de datos: muchas veces leemos información correspondiente a algún _string_ desde un archivo o un [_socket_](https://es.wikipedia.org/wiki/Socket_de_Internet) en bytes, no en Unicode. Los _bytes_ son el formato de almacenamiento de más bajo nivel, representan una secuencia de 8 _bits_, descritas en general como un entero entre 0 y 255, un [hexadecimal](https://es.wikipedia.org/wiki/Sistema_hexadecimal) equivalente entre `0` y `FF`, o un literal (sólo se permiten los caracteres [ASCII](https://es.wikipedia.org/wiki/ASCII) para representar _bytes_). Los _bytes_ a secas pueden representar cualquier entidad, desde caracteres codificados de un _string_, o pixeles de una imagen. En general, necesitamos saber la forma en que fueron codificados para poder interpretar el tipo de datos correcto representados por los _bytes_. Por ejemplo, un patrón binario de 8 _bits_ (1 _byte_) puede corresponder a un carácter en particular si lo decodificamos como un ASCII, pero puede corresponder a un caracter completamente distinto si lo decodificamos como un caracter Unicode. \n",
    " \n",
    "En Python los _bytes_ se representan con el objeto tipo `bytes`. Para declarar que un objeto es un _byte_ simplemente se pone al comienzo del objeto una `b`. Por ejemplo:"
   ]
  },
  {
   "cell_type": "code",
   "execution_count": 17,
   "metadata": {},
   "outputs": [
    {
     "name": "stdout",
     "output_type": "stream",
     "text": [
      "b'clich\\xe9'\n",
      "cliché\n",
      "ab\n",
      "b'ab'\n"
     ]
    }
   ],
   "source": [
    "caracteres = b'\\x63\\x6c\\x69\\x63\\x68\\xe9' # estamos diciendo que lo que está entre las comillas es un objeto de bytes\n",
    "print(caracteres)\n",
    "print(caracteres.decode(\"latin-1\"))\n",
    "caracteres = b\"ab\"\n",
    "caracteres = b\"\\x61\\x62\"  # 61 y 62 es la representación en hexadecimal de los caracteres a y b, respectivamente\n",
    "print(caracteres.decode(\"ascii\"))\n",
    "caracteres = bytes((97, 98))  # 97 y 98 corresponden al código ASCII de los caracteres a y b, respectivamente\n",
    "print(caracteres)"
   ]
  },
  {
   "cell_type": "code",
   "execution_count": 20,
   "metadata": {},
   "outputs": [
    {
     "ename": "SyntaxError",
     "evalue": "bytes can only contain ASCII literal characters. (<ipython-input-20-f7f127161793>, line 1)",
     "output_type": "error",
     "traceback": [
      "\u001b[0;36m  File \u001b[0;32m\"<ipython-input-20-f7f127161793>\"\u001b[0;36m, line \u001b[0;32m1\u001b[0m\n\u001b[0;31m    caracteres = b\"áb\" # esto genera un error ya que sólo se pueden usar literales ASCII para la creación de bytes\u001b[0m\n\u001b[0m                ^\u001b[0m\n\u001b[0;31mSyntaxError\u001b[0m\u001b[0;31m:\u001b[0m bytes can only contain ASCII literal characters.\n"
     ]
    }
   ],
   "source": [
    "caracteres = b\"áb\" # esto genera un error ya que sólo se pueden usar literales ASCII para la creación de bytes"
   ]
  },
  {
   "cell_type": "markdown",
   "metadata": {},
   "source": [
    "El símbolo escape `\\x` indica que los siguientes dos caracteres después de la `x` corresponden a un _byte_ usando dígitos hexadecimales. Los bytes que coinciden con los bytes de ASCII son reconocidos inmediatamente, así cuando los tratamos de imprimir aparecen correctamente (_e.g._ `cliché`), el resto se imprime como hexadecimal. La `b` en la impresión nos recuerda que lo que está a la derecha es un objeto de bytes, no un _string_. La sentencia `caracteres.decode(\"latin-1\")` decodifica la secuencia de  bytes usando el alfabeto `latin-1`."
   ]
  },
  {
   "cell_type": "markdown",
   "metadata": {},
   "source": [
    "El método `decode` retorna un _string_ normal (Unicode). Si, por ejemplo, hubiésemos usado otro alfabeto, habríamos obtenido otro _string_."
   ]
  },
  {
   "cell_type": "code",
   "execution_count": 21,
   "metadata": {},
   "outputs": [
    {
     "name": "stdout",
     "output_type": "stream",
     "text": [
      "cliché\n",
      "clichщ\n"
     ]
    }
   ],
   "source": [
    "caracteres = b'\\x63\\x6c\\x69\\x63\\x68\\xe9'\n",
    "print(caracteres.decode(\"latin-1\"))\n",
    "print(caracteres.decode(\"iso8859-5\"))"
   ]
  },
  {
   "cell_type": "markdown",
   "metadata": {},
   "source": [
    "Para codificar un _string_ en distintos alfabetos, simplemente usamos el método `encode` de la clase `str`. Obviamente es necesario ingresar como argumento el conjunto de caracteres o alfabeto con que se quiere codificar."
   ]
  },
  {
   "cell_type": "code",
   "execution_count": 18,
   "metadata": {},
   "outputs": [
    {
     "name": "stdout",
     "output_type": "stream",
     "text": [
      "b'estaci\\xc3\\xb3n'\n",
      "b'estaci\\xf3n'\n",
      "b'estaci\\xa2n'\n",
      "b'estaci\\xf3n'\n"
     ]
    },
    {
     "ename": "UnicodeEncodeError",
     "evalue": "'ascii' codec can't encode character '\\xf3' in position 6: ordinal not in range(128)",
     "output_type": "error",
     "traceback": [
      "\u001b[1;31m---------------------------------------------------------------------------\u001b[0m",
      "\u001b[1;31mUnicodeEncodeError\u001b[0m                        Traceback (most recent call last)",
      "\u001b[1;32m<ipython-input-18-eefd9842095c>\u001b[0m in \u001b[0;36m<module>\u001b[1;34m()\u001b[0m\n\u001b[0;32m      7\u001b[0m \u001b[1;31m# No se puede codificar en ASCII el caracter \"ó\" ya que no existe dentro\u001b[0m\u001b[1;33m\u001b[0m\u001b[1;33m\u001b[0m\u001b[0m\n\u001b[0;32m      8\u001b[0m \u001b[1;31m# de los 128 caracteres de ASCII\u001b[0m\u001b[1;33m\u001b[0m\u001b[1;33m\u001b[0m\u001b[0m\n\u001b[1;32m----> 9\u001b[1;33m \u001b[0mprint\u001b[0m\u001b[1;33m(\u001b[0m\u001b[0mcharacters\u001b[0m\u001b[1;33m.\u001b[0m\u001b[0mencode\u001b[0m\u001b[1;33m(\u001b[0m\u001b[1;34m\"ascii\"\u001b[0m\u001b[1;33m)\u001b[0m\u001b[1;33m)\u001b[0m\u001b[1;33m\u001b[0m\u001b[0m\n\u001b[0m",
      "\u001b[1;31mUnicodeEncodeError\u001b[0m: 'ascii' codec can't encode character '\\xf3' in position 6: ordinal not in range(128)"
     ]
    }
   ],
   "source": [
    "characters = \"estación\"\n",
    "print(characters.encode(\"UTF-8\"))  # 8-bit Unicode Transformation Format\n",
    "print(characters.encode(\"latin-1\"))\n",
    "print(characters.encode(\"CP437\"))\n",
    "print(characters.encode(\"latin-1\"))\n",
    "\n",
    "# No se puede codificar en ASCII el caracter \"ó\" ya que no existe dentro \n",
    "# de los 128 caracteres de ASCII\n",
    "print(characters.encode(\"ascii\"))  "
   ]
  },
  {
   "cell_type": "markdown",
   "metadata": {},
   "source": [
    "El método `encode` nos ofrece opciones de cómo manejar el caso en que el _string_ que se quiere codificar no puede ser codificado con el alfabeto requerido. Estas opciones se ingresan a través del argumento opcional `errors`, donde los valores posibles son: `strict` (el valor por defecto), `replace`, `ignore` o `xmlcharrefreplace`. "
   ]
  },
  {
   "cell_type": "code",
   "execution_count": 23,
   "metadata": {},
   "outputs": [
    {
     "name": "stdout",
     "output_type": "stream",
     "text": [
      "b'estaci?n'\n",
      "b'estacin'\n",
      "b'estaci&#243;n'\n"
     ]
    }
   ],
   "source": [
    "print(characters.encode(\"ascii\", errors='replace'))  # en ascii se reemplaza el caracter desconocido con \"?\"\n",
    "print(characters.encode(\"ascii\", errors='ignore'))\n",
    "print(characters.encode(\"ascii\", errors='xmlcharrefreplace'))  # se crea una entidad xml que representa el caracter Unicode"
   ]
  },
  {
   "cell_type": "markdown",
   "metadata": {},
   "source": [
    "En general, si queremos codificar un _string_ y no sabemos con qué alfabeto deberíamos codificar, lo mejor es usar UTF-8, ya que es _backwards_ compatible con ASCII: los primeros 128 caracteres de UTF-8 son los mismos que en ASCII. Recordar siempre que los objetos tipo _byte_ son **inmutables**."
   ]
  },
  {
   "cell_type": "markdown",
   "metadata": {},
   "source": [
    "## `bytearrays`\n",
    "\n",
    "Tal como el nombre lo sugiere, los _bytearrays_ son arreglos de _bytes_, y a diferencia de los _bytes_ **son mutables**. Los _bytearrays_ se comportan como las listas: podemos indexar con la notación de _slices_, y también podemos ir agregando _bytes_ con el método `extend`. Para construir un _bytearray_ podemos ingresar un _byte_ inicial."
   ]
  },
  {
   "cell_type": "code",
   "execution_count": 24,
   "metadata": {},
   "outputs": [
    {
     "name": "stdout",
     "output_type": "stream",
     "text": [
      "bytearray(b'holamundo')\n",
      "bytearray(b'amun')\n",
      "bytearray(b'hola\\x15\\xa3ndo')\n",
      "bytearray(b'hola\\x15\\xa3ndoprograma')\n",
      "104\n",
      "0b1101000\n",
      "01101000\n"
     ]
    }
   ],
   "source": [
    "ba_1 = bytearray(b\"holamundo\")\n",
    "print(ba_1)\n",
    "print(ba_1[3:7])\n",
    "ba_1[4:6] = b\"\\x15\\xa3\"\n",
    "print(ba_1)\n",
    "ba_1.extend(b\"programa\")\n",
    "print(ba_1)\n",
    "print(ba_1[0])  # Notar que aquí se imprime un entero, el ascii que corresponde a la letra \"h\"\n",
    "print(bin(ba_1[0]))\n",
    "print(bin(ba_1[0])[2:].zfill(8))"
   ]
  },
  {
   "cell_type": "markdown",
   "metadata": {},
   "source": [
    "Notar que la última línea es para imprimir directamente los _bits_ correspondientes al primer _byte_ (representado en el literal `h` o el entero 104). El `[2:]` es para partir desde la tercera posición, ya que las primeras dos posiciones contienen los caracteres `0b`, que simplemente indica que el formato es en binario (línea anterior). Al agregar `.zfill(8)` indicamos que se usarán 8 _bits_ para representar el _byte_, lo cual tiene sentido cuando hay ceros por el lado izquierdo y el _default_ no los muestra (línea anterior tiene sólo 7 bits después del `0b`). \n",
    "\n",
    "Un caracter de un _byte_ puede ser convertido a un entero usando la función `ord`."
   ]
  },
  {
   "cell_type": "code",
   "execution_count": 25,
   "metadata": {},
   "outputs": [
    {
     "name": "stdout",
     "output_type": "stream",
     "text": [
      "97\n",
      "bytearray(b'abcgDf')\n"
     ]
    }
   ],
   "source": [
    "print(ord(b\"a\"))\n",
    "b = bytearray(b'abcdef')\n",
    "b[3] = ord(b'g')  # La letra g tiene como código ascii el 103\n",
    "b[4] = 68  # La letra D tiene como código ascii el 68, esto sería lo mismo que ingresar b[4] = ord(b'D')\n",
    "print(b)"
   ]
  },
  {
   "cell_type": "markdown",
   "metadata": {},
   "source": [
    "## I/O de archivos\n",
    "\n",
    "Hasta ahora hemos operado con la lectura y escritura de archivos de texto; sin embargo, los sistemas operativos representan los archivos como secuencias de _bytes_, no como texto. Dado que leer _bytes_ y convertirlos a texto es una operación muy común en archivos, Python se encarga de manejar los _bytes_ que vienen o van transformándolos a la respectiva representación en _string_ con los _encoders_/_decoders_ correspondientes. La ya conocida función `open` nos permite además de abrir archivos, ingresar como argumentos el set de caracteres que se usará para codificar los _bytes_ y la estrategia que se debe seguir cuando aparezcan _bytes_ inconsistentes con el formato:"
   ]
  },
  {
   "cell_type": "code",
   "execution_count": 26,
   "metadata": {},
   "outputs": [
    {
     "name": "stdout",
     "output_type": "stream",
     "text": [
      "sorry pero ahora yo soy lo que habr�� dentro del archivo\n",
      "yo me agregar�� al final\n",
      "\n"
     ]
    }
   ],
   "source": [
    "file = open('data/archivo_ejemplo', \"r\", encoding='ascii', errors='replace')\n",
    "print(file.read())\n",
    "file.close()"
   ]
  },
  {
   "cell_type": "markdown",
   "metadata": {},
   "source": [
    "Veamos cómo cambia esto, si es que eligimos otro _encoding_."
   ]
  },
  {
   "cell_type": "code",
   "execution_count": 27,
   "metadata": {},
   "outputs": [
    {
     "name": "stdout",
     "output_type": "stream",
     "text": [
      "sorry pero ahora yo soy lo que habrá dentro del archivo\n",
      "yo me agregaré al final\n",
      "\n"
     ]
    }
   ],
   "source": [
    "file = open('data/archivo_ejemplo', \"r\", encoding='utf-8', errors='replace')\n",
    "print(file.read())\n",
    "file.close()"
   ]
  },
  {
   "cell_type": "markdown",
   "metadata": {},
   "source": [
    "Ahora, escribiremos en un archivo el mismo contenido."
   ]
  },
  {
   "cell_type": "code",
   "execution_count": 28,
   "metadata": {},
   "outputs": [],
   "source": [
    "contenido = \"sorry pero ahora yo soy lo que habrá dentro del archivo\"\n",
    "file = open(\"data/archivo_ejemplo_1\", \"w\", encoding=\"utf-8\", errors=\"replace\")\n",
    "file.write(contenido)\n",
    "file.close()"
   ]
  },
  {
   "cell_type": "markdown",
   "metadata": {},
   "source": [
    "Podemos también agregar contenido al final del archivo, reemplazando el modo de apertura del archivo, cambiando la `w` por una `a`, de _append_."
   ]
  },
  {
   "cell_type": "code",
   "execution_count": 29,
   "metadata": {},
   "outputs": [
    {
     "name": "stdout",
     "output_type": "stream",
     "text": [
      "sorry pero ahora yo soy lo que habrá dentro del archivo\n",
      "yo me agregaré al final\n"
     ]
    }
   ],
   "source": [
    "contenido = \"\\nyo me agregaré al final\"\n",
    "file = open(\"data/archivo_ejemplo_1\", \"a\", encoding=\"utf-8\", errors=\"replace\")\n",
    "file.write(contenido)\n",
    "file.close()\n",
    "\n",
    "file = open('data/archivo_ejemplo_1', \"r\", encoding='utf-8', errors='replace')\n",
    "print(file.read())\n",
    "file.close()"
   ]
  },
  {
   "cell_type": "markdown",
   "metadata": {},
   "source": [
    "Para abrir un archivo como binario, simplemente debemos agregar una `b` por el lado derecho del modo de apertura. Por ejemplo, `wb` o `rb`. El archivo se comportará igual que un archivo de texto, sólo que sin la codificación automática de _byte_ a texto."
   ]
  },
  {
   "cell_type": "code",
   "execution_count": 30,
   "metadata": {},
   "outputs": [
    {
     "name": "stdout",
     "output_type": "stream",
     "text": [
      "b'abcde12'\n"
     ]
    }
   ],
   "source": [
    "contenido = b\"abcde12\"\n",
    "file = open(\"data/archivo_ejemplo_2\", \"wb\")\n",
    "file.write(contenido)\n",
    "file.close()\n",
    "\n",
    "file = open('data/archivo_ejemplo_2', \"rb\")\n",
    "print(file.read())\n",
    "file.close()"
   ]
  },
  {
   "cell_type": "markdown",
   "metadata": {},
   "source": [
    "Podemos además concatenar _bytes_ simplemente con el operador suma. En el siguiente ejemplo, construimos un contenido dinámico para ser escrito en un archivo de _bytes_. Después leemos una cantidad fija de _bytes_ desde el mismo archivo:"
   ]
  },
  {
   "cell_type": "code",
   "execution_count": 31,
   "metadata": {},
   "outputs": [
    {
     "name": "stdout",
     "output_type": "stream",
     "text": [
      "b'linea_\\x00 abcde12 linea_\\x01 abcde12 linea_\\x02 a'\n"
     ]
    }
   ],
   "source": [
    "num_lineas = 100\n",
    "\n",
    "file = open(\"data/archivo_ejemplo_3\", \"wb\")\n",
    "for i in range(num_lineas):\n",
    "    # A la función \"bytes\" debemos pasarle un iterable con el contenido a convertir \n",
    "    # por eso le pasamos el entero dentro de una lista  \n",
    "    contenido = b\"linea_\" + bytes([i]) + b\" abcde12 \"                                             \n",
    "    file.write(contenido)\n",
    "file.close()\n",
    "\n",
    "file = open('data/archivo_ejemplo_3', \"rb\")\n",
    "# El número dentro de la función read nos dice el número de bytes que se van a leer del archivo\n",
    "print(file.read(41))\n",
    "file.close()"
   ]
  },
  {
   "cell_type": "markdown",
   "metadata": {},
   "source": [
    "## _Context Manager_\n",
    "\n",
    "Dado que siempre necesitamos cerrar un archivo después de usarlo, debemos considerar la posibilidad de que ocurran excepciones mientras el archivo está abierto. Una forma clara de hacerlo es cerrar el archivo dentro de la sentencia `finally` después de un `try`. El problema es que esto genera mucho código extra. Afortunadamente, en Python existe una forma de hacer lo mismo con menos código, a través de un _context manager_, que se encarga de ejecutar las sentencias `try` y `finally` sin la necesidad de llamarlas directamente. Sólo necesitamos llamar al archivo que abriremos con la sentencia `with`. Veamos un ejemplo."
   ]
  },
  {
   "cell_type": "code",
   "execution_count": 32,
   "metadata": {},
   "outputs": [],
   "source": [
    "with open(\"data/archivo_ejemplo_4\", \"r\") as file:\n",
    "    contenido = file.read()"
   ]
  },
  {
   "cell_type": "markdown",
   "metadata": {},
   "source": [
    "El código anterior sería equivalente a hacer lo siguiente:"
   ]
  },
  {
   "cell_type": "code",
   "execution_count": 33,
   "metadata": {},
   "outputs": [],
   "source": [
    "file = open(\"data/archivo_ejemplo_4\", \"r\")\n",
    "try:\n",
    "    contenido = file.read()\n",
    "finally:\n",
    "    file.close()"
   ]
  },
  {
   "cell_type": "markdown",
   "metadata": {},
   "source": [
    "Si ejecutamos `dir` en un objeto de tipo archivo:"
   ]
  },
  {
   "cell_type": "code",
   "execution_count": 34,
   "metadata": {},
   "outputs": [
    {
     "name": "stdout",
     "output_type": "stream",
     "text": [
      "['_CHUNK_SIZE', '__class__', '__del__', '__delattr__', '__dict__', '__dir__', '__doc__', '__enter__', '__eq__', '__exit__', '__format__', '__ge__', '__getattribute__', '__getstate__', '__gt__', '__hash__', '__init__', '__init_subclass__', '__iter__', '__le__', '__lt__', '__ne__', '__new__', '__next__', '__reduce__', '__reduce_ex__', '__repr__', '__setattr__', '__sizeof__', '__str__', '__subclasshook__', '_checkClosed', '_checkReadable', '_checkSeekable', '_checkWritable', '_finalizing', 'buffer', 'close', 'closed', 'detach', 'encoding', 'errors', 'fileno', 'flush', 'isatty', 'line_buffering', 'mode', 'name', 'newlines', 'read', 'readable', 'readline', 'readlines', 'seek', 'seekable', 'tell', 'truncate', 'writable', 'write', 'writelines']\n"
     ]
    }
   ],
   "source": [
    "file = open(\"data/archivo_ejemplo_4\", \"w\")\n",
    "print(dir(file))\n",
    "file.close()"
   ]
  },
  {
   "cell_type": "markdown",
   "metadata": {},
   "source": [
    "Vemos que existen dos métodos llamados `__enter__` y `__exit__`. Estos dos métodos transforman el archivo en un _context manager_. El método `__exit__` asegura que el archivo será cerrado incluso si aparece una excepción mientras esté abierto. El método `__enter__` inicializa el archivo o realiza cualquier acción necesaria para ajustar el contexto del objeto.\n",
    "\n",
    "Para asegurarnos que un archivo usará los métodos `__enter__` y `__exit__`, simplemente debemos llamar a la apertura del archivo con el método `with`.\n",
    "  \n",
    "Podemos crear nuestros propios _context managers_: simplemente creamos cualquier clase, agregamos los métodos `__enter__` y `__exit__` y podemos llamar a nuestra clase a través del método `with`. Del siguiente ejemplo, se puede ver cómo el método `__exit__` se ejecuta una vez que nos salimos del _scope_ de la sentencia `with`."
   ]
  },
  {
   "cell_type": "code",
   "execution_count": 35,
   "metadata": {},
   "outputs": [
    {
     "name": "stdout",
     "output_type": "stream",
     "text": [
      "['r', 'p', 'p', 'y', 'x', 'd', 'g', 'w', 'p', 'e', 'p', 'n', 'p', 'f', 'g', 'f', 'i', 'y', 'f', 'j']\n",
      "['R', 'P', 'P', 'Y', 'X', 'D', 'G', 'W', 'P', 'E', 'P', 'N', 'P', 'F', 'G', 'F', 'I', 'Y', 'F', 'J']\n"
     ]
    }
   ],
   "source": [
    "import string, random\n",
    "\n",
    "class StringUpper(list): \n",
    "        \n",
    "    def __enter__(self):\n",
    "        return self\n",
    "    \n",
    "    def __exit__(self, exc_type, exc_value, traceback):\n",
    "        for index, char in enumerate(self):\n",
    "            self[index] = char.upper()\n",
    "\n",
    "with StringUpper() as s_upper:\n",
    "    for i in range(20):\n",
    "        # Aquí seleccionamos, en forma aleatoria, un ascii en minúsculas\n",
    "        # y las agregamos a la lista.\n",
    "        s_upper.append(random.choice(string.ascii_lowercase))\n",
    "    print(s_upper)\n",
    "        \n",
    "print(s_upper)"
   ]
  },
  {
   "cell_type": "markdown",
   "metadata": {},
   "source": [
    "El código anterior simplemente corresponde a una clase que hereda de la clase `list`. Al implementar los métodos `__enter__` y `__exit__`, podemos instanciar la clase a través de un _context manager_. En este ejemplo en particular, el _context manager_ se encarga de transformar todos los caracteres ASCII de la lista a mayúsculas."
   ]
  },
  {
   "cell_type": "markdown",
   "metadata": {},
   "source": [
    "## Cómo emular archivos para I/O\n",
    "\n",
    "Muchas veces tenemos que interactuar con algunos módulos de software que sólo leen y escriben sus datos desde y hacia archivos. Si queremos comunicar nuestro código que genera, por ejemplo, _strings_, para evitar tener que escribir nuestros datos en un archivo para que el otro programa los lea, podemos _emular_ el tener un archivo usando los módulos de Python, `StringIO` o `BytesIO`. El siguiente ejemplo muestra cómo usar estos módulos:"
   ]
  },
  {
   "cell_type": "code",
   "execution_count": 36,
   "metadata": {},
   "outputs": [
    {
     "data": {
      "text/plain": [
       "b'informacin como texto y ms'"
      ]
     },
     "execution_count": 36,
     "metadata": {},
     "output_type": "execute_result"
    }
   ],
   "source": [
    "from io import StringIO, BytesIO\n",
    "file_in = StringIO(\"información como texto y más\") # aquí simulamos tener un archivo que contiene el string dado \n",
    "file_out = BytesIO() # aquí simulamos un archivo de Bytes para escribir la información\n",
    "\n",
    "char = file_in.read(1)\n",
    "while char:\n",
    "    file_out.write(char.encode(\"ascii\", \"ignore\"))\n",
    "    char = file_in.read(1)\n",
    "\n",
    "buffer_ = file_out.getvalue()\n",
    "buffer_"
   ]
  },
  {
   "cell_type": "markdown",
   "metadata": {},
   "source": [
    "## Más información\n",
    "\n",
    "Para conocer más sobre _bytes_, puedes visitar [este enlace](http://www.dummies.com/programming/electronics/digital-electronics-binary-basics/)."
   ]
  }
 ],
 "metadata": {
  "anaconda-cloud": {},
  "kernelspec": {
   "display_name": "Python 3",
   "language": "python",
   "name": "python3"
  },
  "language_info": {
   "codemirror_mode": {
    "name": "ipython",
    "version": 3
   },
   "file_extension": ".py",
   "mimetype": "text/x-python",
   "name": "python",
   "nbconvert_exporter": "python",
   "pygments_lexer": "ipython3",
   "version": "3.6.6"
  }
 },
 "nbformat": 4,
 "nbformat_minor": 1
}
