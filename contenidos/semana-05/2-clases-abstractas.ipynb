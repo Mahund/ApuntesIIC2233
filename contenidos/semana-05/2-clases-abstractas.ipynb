{
 "cells": [
  {
   "cell_type": "markdown",
   "metadata": {},
   "source": [
    "## Abstract Base Class\n",
    "\n",
    "Las clases abstractas en un lenguaje de programación nos permiten representar mejor lo que son las clases realmente abstractas desde el punto de vista del modelamiento. \n",
    "\n",
    "Por ejemplo, la clase `Vehículo` representa algo abstracto, no tiene forma, no puede tomar vida por sí sola a menos de que sea subclaseada, es decir, una instancia de la clase `Vehículo` no tendría mucho sentido,  necesitamos saber a qué (subclase) vehículo corresponde (camión, deportivo, bus, etc.) para que sepamos cómo se conduce, cuántos pasajeros traslada, etc. Son las subclases de la clase abstracta las que deben ser instanciadas. La principal razón de las clases abstractas es ahorrarnos el repetir las variables y métodos que compartirían todas sus subclases.\n",
    "\n",
    "Las clases abstractas tienen métodos abstractos, que **deben** ser implementados por las subclases. La idea es que cada subclase tenga una implementación diferente de ese método. \n",
    "\n",
    "También tienen métodos _normales_, que están implementados en la clase abstracta y que no es necesario re-implementar en las subclases. La idea es que sean métodos que se comporten igual en todas las subclases.\n",
    "\n",
    "En Python podríamos tratar de simular clases abstractas de la siguiente forma:"
   ]
  },
  {
   "cell_type": "code",
   "execution_count": 1,
   "metadata": {},
   "outputs": [
    {
     "name": "stdout",
     "output_type": "stream",
     "text": [
      "func_1() called...\n"
     ]
    },
    {
     "ename": "NotImplementedError",
     "evalue": "",
     "output_type": "error",
     "traceback": [
      "\u001b[1;31m---------------------------------------------------------------------------\u001b[0m",
      "\u001b[1;31mNotImplementedError\u001b[0m                       Traceback (most recent call last)",
      "\u001b[1;32m<ipython-input-1-81c23a8510bf>\u001b[0m in \u001b[0;36m<module>\u001b[1;34m()\u001b[0m\n\u001b[0;32m     17\u001b[0m \u001b[0mb2\u001b[0m \u001b[1;33m=\u001b[0m \u001b[0mSubClase\u001b[0m\u001b[1;33m(\u001b[0m\u001b[1;33m)\u001b[0m\u001b[1;33m\u001b[0m\u001b[0m\n\u001b[0;32m     18\u001b[0m \u001b[0mb2\u001b[0m\u001b[1;33m.\u001b[0m\u001b[0mfunc_1\u001b[0m\u001b[1;33m(\u001b[0m\u001b[1;33m)\u001b[0m\u001b[1;33m\u001b[0m\u001b[0m\n\u001b[1;32m---> 19\u001b[1;33m \u001b[0mb2\u001b[0m\u001b[1;33m.\u001b[0m\u001b[0mfunc_2\u001b[0m\u001b[1;33m(\u001b[0m\u001b[1;33m)\u001b[0m\u001b[1;33m\u001b[0m\u001b[0m\n\u001b[0m",
      "\u001b[1;32m<ipython-input-1-81c23a8510bf>\u001b[0m in \u001b[0;36mfunc_2\u001b[1;34m(self)\u001b[0m\n\u001b[0;32m      5\u001b[0m \u001b[1;33m\u001b[0m\u001b[0m\n\u001b[0;32m      6\u001b[0m     \u001b[1;32mdef\u001b[0m \u001b[0mfunc_2\u001b[0m\u001b[1;33m(\u001b[0m\u001b[0mself\u001b[0m\u001b[1;33m)\u001b[0m\u001b[1;33m:\u001b[0m\u001b[1;33m\u001b[0m\u001b[0m\n\u001b[1;32m----> 7\u001b[1;33m         \u001b[1;32mraise\u001b[0m \u001b[0mNotImplementedError\u001b[0m\u001b[1;33m(\u001b[0m\u001b[1;33m)\u001b[0m\u001b[1;33m\u001b[0m\u001b[0m\n\u001b[0m\u001b[0;32m      8\u001b[0m \u001b[1;33m\u001b[0m\u001b[0m\n\u001b[0;32m      9\u001b[0m \u001b[1;32mclass\u001b[0m \u001b[0mSubClase\u001b[0m\u001b[1;33m(\u001b[0m\u001b[0mBase\u001b[0m\u001b[1;33m)\u001b[0m\u001b[1;33m:\u001b[0m\u001b[1;33m\u001b[0m\u001b[0m\n",
      "\u001b[1;31mNotImplementedError\u001b[0m: "
     ]
    }
   ],
   "source": [
    "class Base:\n",
    "            \n",
    "    def func_1(self):\n",
    "        raise NotImplementedError()\n",
    "\n",
    "    def func_2(self):\n",
    "        raise NotImplementedError()\n",
    "        \n",
    "class SubClase(Base):\n",
    "    def func_1(self):\n",
    "        print(\"func_1() called...\")\n",
    "        return\n",
    "\n",
    "    # Se nos olvidó el método func_2 :(\n",
    "    \n",
    "b1 = Base()\n",
    "b2 = SubClase()\n",
    "b2.func_1()\n",
    "b2.func_2()"
   ]
  },
  {
   "cell_type": "code",
   "execution_count": 2,
   "metadata": {
    "scrolled": true
   },
   "outputs": [
    {
     "ename": "NotImplementedError",
     "evalue": "",
     "output_type": "error",
     "traceback": [
      "\u001b[1;31m---------------------------------------------------------------------------\u001b[0m",
      "\u001b[1;31mNotImplementedError\u001b[0m                       Traceback (most recent call last)",
      "\u001b[1;32m<ipython-input-2-eeda9ad31b68>\u001b[0m in \u001b[0;36m<module>\u001b[1;34m()\u001b[0m\n\u001b[1;32m----> 1\u001b[1;33m \u001b[0mb1\u001b[0m\u001b[1;33m.\u001b[0m\u001b[0mfunc_2\u001b[0m\u001b[1;33m(\u001b[0m\u001b[1;33m)\u001b[0m\u001b[1;33m\u001b[0m\u001b[0m\n\u001b[0m",
      "\u001b[1;32m<ipython-input-1-81c23a8510bf>\u001b[0m in \u001b[0;36mfunc_2\u001b[1;34m(self)\u001b[0m\n\u001b[0;32m      5\u001b[0m \u001b[1;33m\u001b[0m\u001b[0m\n\u001b[0;32m      6\u001b[0m     \u001b[1;32mdef\u001b[0m \u001b[0mfunc_2\u001b[0m\u001b[1;33m(\u001b[0m\u001b[0mself\u001b[0m\u001b[1;33m)\u001b[0m\u001b[1;33m:\u001b[0m\u001b[1;33m\u001b[0m\u001b[0m\n\u001b[1;32m----> 7\u001b[1;33m         \u001b[1;32mraise\u001b[0m \u001b[0mNotImplementedError\u001b[0m\u001b[1;33m(\u001b[0m\u001b[1;33m)\u001b[0m\u001b[1;33m\u001b[0m\u001b[0m\n\u001b[0m\u001b[0;32m      8\u001b[0m \u001b[1;33m\u001b[0m\u001b[0m\n\u001b[0;32m      9\u001b[0m \u001b[1;32mclass\u001b[0m \u001b[0mSubClase\u001b[0m\u001b[1;33m(\u001b[0m\u001b[0mBase\u001b[0m\u001b[1;33m)\u001b[0m\u001b[1;33m:\u001b[0m\u001b[1;33m\u001b[0m\u001b[0m\n",
      "\u001b[1;31mNotImplementedError\u001b[0m: "
     ]
    }
   ],
   "source": [
    "b1.func_2()"
   ]
  },
  {
   "cell_type": "markdown",
   "metadata": {},
   "source": [
    "El problema de este approach es que el programa nos permite instanciar la clase base sin problemas, \n",
    "lo cual no es correcto ya que es una clase abstracta. Además está permitido proveer una subclase incompleta,\n",
    "lo cual tampoco es deseable. El módulo `ABC` (\"Abstract Base Classes\") de Python nos permite forzar a que esta situación no ocurra:"
   ]
  },
  {
   "cell_type": "code",
   "execution_count": 3,
   "metadata": {},
   "outputs": [
    {
     "name": "stdout",
     "output_type": "stream",
     "text": [
      "Es subclase: True\n"
     ]
    },
    {
     "ename": "TypeError",
     "evalue": "Can't instantiate abstract class SubClase with abstract methods func_2",
     "output_type": "error",
     "traceback": [
      "\u001b[0;31m---------------------------------------------------------------------------\u001b[0m",
      "\u001b[0;31mTypeError\u001b[0m                                 Traceback (most recent call last)",
      "\u001b[0;32m<ipython-input-3-245f4d06de52>\u001b[0m in \u001b[0;36m<module>\u001b[0;34m()\u001b[0m\n\u001b[1;32m     18\u001b[0m \u001b[0;34m\u001b[0m\u001b[0m\n\u001b[1;32m     19\u001b[0m \u001b[0mprint\u001b[0m\u001b[0;34m(\u001b[0m\u001b[0;34mf'Es subclase: {issubclass(SubClase, Base)}'\u001b[0m\u001b[0;34m)\u001b[0m\u001b[0;34m\u001b[0m\u001b[0m\n\u001b[0;32m---> 20\u001b[0;31m \u001b[0mprint\u001b[0m\u001b[0;34m(\u001b[0m\u001b[0;34mf'Es instancia: {isinstance(SubClase(), Base)}'\u001b[0m\u001b[0;34m)\u001b[0m\u001b[0;34m\u001b[0m\u001b[0m\n\u001b[0m",
      "\u001b[0;31mTypeError\u001b[0m: Can't instantiate abstract class SubClase with abstract methods func_2"
     ]
    }
   ],
   "source": [
    "from abc import ABC, abstractmethod\n",
    "\n",
    "class Base(ABC):\n",
    "   \n",
    "    @abstractmethod\n",
    "    def func_1(self):\n",
    "        pass\n",
    "\n",
    "    @abstractmethod\n",
    "    def func_2(self):\n",
    "        pass\n",
    "\n",
    "class SubClase(Base):\n",
    "    def func_1(self):\n",
    "        pass\n",
    "\n",
    "    # Nuevamente olvidamos declarar el método func_2\n",
    "\n",
    "print(f'Es subclase: {issubclass(SubClase, Base)}')\n",
    "print(f'Es instancia: {isinstance(SubClase(), Base)}')"
   ]
  },
  {
   "cell_type": "code",
   "execution_count": 4,
   "metadata": {},
   "outputs": [
    {
     "name": "stdout",
     "output_type": "stream",
     "text": [
      "Tratando de generar una instancia de la clase Base...\n",
      "\n"
     ]
    },
    {
     "ename": "TypeError",
     "evalue": "Can't instantiate abstract class Base with abstract methods func_1, func_2",
     "output_type": "error",
     "traceback": [
      "\u001b[0;31m---------------------------------------------------------------------------\u001b[0m",
      "\u001b[0;31mTypeError\u001b[0m                                 Traceback (most recent call last)",
      "\u001b[0;32m<ipython-input-4-fa36af294e5d>\u001b[0m in \u001b[0;36m<module>\u001b[0;34m()\u001b[0m\n\u001b[1;32m      1\u001b[0m \u001b[0mprint\u001b[0m\u001b[0;34m(\u001b[0m\u001b[0;34m'Tratando de generar una instancia de la clase Base...\\n'\u001b[0m\u001b[0;34m)\u001b[0m\u001b[0;34m\u001b[0m\u001b[0m\n\u001b[0;32m----> 2\u001b[0;31m \u001b[0ma\u001b[0m \u001b[0;34m=\u001b[0m \u001b[0mBase\u001b[0m\u001b[0;34m(\u001b[0m\u001b[0;34m)\u001b[0m\u001b[0;34m\u001b[0m\u001b[0m\n\u001b[0m",
      "\u001b[0;31mTypeError\u001b[0m: Can't instantiate abstract class Base with abstract methods func_1, func_2"
     ]
    }
   ],
   "source": [
    "print('Tratando de generar una instancia de la clase Base...\\n')\n",
    "a = Base()"
   ]
  },
  {
   "cell_type": "markdown",
   "metadata": {},
   "source": [
    "Agregando entonces ambos métodos:"
   ]
  },
  {
   "cell_type": "code",
   "execution_count": 5,
   "metadata": {},
   "outputs": [
    {
     "name": "stdout",
     "output_type": "stream",
     "text": [
      "Subclass: True\n",
      "Instance: True\n"
     ]
    }
   ],
   "source": [
    "from abc import ABC, abstractmethod\n",
    "\n",
    "class Base(ABC):\n",
    "    @abstractmethod\n",
    "    def func_1(self):\n",
    "        pass\n",
    "\n",
    "    @abstractmethod\n",
    "    def func_2(self):\n",
    "        pass\n",
    "\n",
    "class SubClase(Base):\n",
    "    \n",
    "    def func_1(self):\n",
    "        pass\n",
    "\n",
    "    def func_2(self):\n",
    "        pass\n",
    "\n",
    "    \n",
    "c = SubClase()\n",
    "print(f'Subclass: {issubclass(SubClase, Base)}')\n",
    "print(f'Instance: {isinstance(SubClase(), Base)}')"
   ]
  },
  {
   "cell_type": "markdown",
   "metadata": {},
   "source": [
    "También podemos usar **abstract properties**:"
   ]
  },
  {
   "cell_type": "code",
   "execution_count": 6,
   "metadata": {},
   "outputs": [],
   "source": [
    "from abc import abstractproperty\n",
    "\n",
    "class Base(ABC):\n",
    "    \n",
    "    @abstractproperty\n",
    "    def value(self):\n",
    "        return 'Nunca deberíamos llegar aquí'\n",
    "\n",
    "\n",
    "class Implementation(Base):\n",
    "    \n",
    "    @property\n",
    "    def value(self):\n",
    "        return 'Propiedad concreta'"
   ]
  },
  {
   "cell_type": "code",
   "execution_count": 7,
   "metadata": {},
   "outputs": [
    {
     "ename": "TypeError",
     "evalue": "Can't instantiate abstract class Base with abstract methods value",
     "output_type": "error",
     "traceback": [
      "\u001b[0;31m---------------------------------------------------------------------------\u001b[0m",
      "\u001b[0;31mTypeError\u001b[0m                                 Traceback (most recent call last)",
      "\u001b[0;32m<ipython-input-7-ecd3b265117f>\u001b[0m in \u001b[0;36m<module>\u001b[0;34m()\u001b[0m\n\u001b[0;32m----> 1\u001b[0;31m \u001b[0mb\u001b[0m \u001b[0;34m=\u001b[0m \u001b[0mBase\u001b[0m\u001b[0;34m(\u001b[0m\u001b[0;34m)\u001b[0m\u001b[0;34m\u001b[0m\u001b[0m\n\u001b[0m\u001b[1;32m      2\u001b[0m \u001b[0mprint\u001b[0m\u001b[0;34m(\u001b[0m\u001b[0;34mf'Base.value: {b.value}'\u001b[0m\u001b[0;34m)\u001b[0m\u001b[0;34m\u001b[0m\u001b[0m\n",
      "\u001b[0;31mTypeError\u001b[0m: Can't instantiate abstract class Base with abstract methods value"
     ]
    }
   ],
   "source": [
    "b = Base()\n",
    "print(f'Base.value: {b.value}')"
   ]
  },
  {
   "cell_type": "code",
   "execution_count": 8,
   "metadata": {},
   "outputs": [
    {
     "name": "stdout",
     "output_type": "stream",
     "text": [
      "Implementation.value: Propiedad concreta\n"
     ]
    }
   ],
   "source": [
    "i = Implementation()\n",
    "print(f'Implementation.value: {i.value}')"
   ]
  },
  {
   "cell_type": "markdown",
   "metadata": {},
   "source": [
    "## Comentarios finales\n",
    "\n",
    "Existen muchas opiniones acerca de la relación entre polimorfismo, herencia y ducktyping ([1](https://softwareengineering.stackexchange.com/questions/121778/is-duck-typing-a-subset-of-polymorphism), [2](https://stackoverflow.com/questions/11502433/what-is-the-difference-between-polymorphism-and-duck-typing), [3](https://www.reddit.com/r/learnprogramming/comments/2r30c0/is_ducktyping_and_advanced_form_of_polymorphism/) y otras). Lo importante para este curso es que entiendas cómo se implementan estos tres conceptos en python. Si tienes  dudas, haz una issue."
   ]
  }
 ],
 "metadata": {
  "kernelspec": {
   "display_name": "Python 3",
   "language": "python",
   "name": "python3"
  },
  "language_info": {
   "codemirror_mode": {
    "name": "ipython",
    "version": 3
   },
   "file_extension": ".py",
   "mimetype": "text/x-python",
   "name": "python",
   "nbconvert_exporter": "python",
   "pygments_lexer": "ipython3",
   "version": "3.6.6"
  }
 },
 "nbformat": 4,
 "nbformat_minor": 1
}
