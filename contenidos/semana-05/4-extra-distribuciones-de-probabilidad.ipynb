{
 "cells": [
  {
   "cell_type": "markdown",
   "metadata": {},
   "source": [
    "# Extra: Distribuciones de probabilidad\n",
    "\n",
    "Para simular eventos o sucesos, estos se modelan usando distribuciones de probabilidad con el objetivo de imitar la realidad. Una distribución de probabilidad es una función que asigna a cada evento una probabilidad de ocurrencia. Nosotros trabajamos principalmente con números, por lo que una distribución asigna una probabilidad de que cierto número \"aparezca\".\n",
    "\n",
    "Vale la pena señalar que **para este curso no es necesario saber cómo determinar qué distribución de probabilidad modela de mejor forma un proceso**. Si fuese necesario usar distribuciones, se señalará explícitamente cuál usar y con qué parámetros.\n",
    "\n",
    "A continuación, mostraremos algunas distribuciones y cómo se pueden usar en Python para que lo tengas como referencia si fuese necesario usarlas.\n",
    "\n",
    "## Distribución uniforme\n",
    "\n",
    "Es muy probable que ya estés familiarizado con la **distribución uniforme**, aunque no la conozcas por ese nombre. En esta distribución, todos los números – del intervalo a trabajar – se pueden obtener con la misma probabilidad. En pocas palabras, es el _random_ de toda la vida. En Python, podemos obtener números con esta distribución usando la librería `random`."
   ]
  },
  {
   "cell_type": "code",
   "execution_count": 1,
   "metadata": {},
   "outputs": [
    {
     "name": "stdout",
     "output_type": "stream",
     "text": [
      "0.5018889990125043 6.935870447824824 20\n"
     ]
    }
   ],
   "source": [
    "from random import random, uniform, randint\n",
    "\n",
    "# Obtenemos un float con distribución uniforme entre 0 y 1 (sin incluir el 1)\n",
    "uniforme_cero_uno = random()\n",
    "\n",
    "# Obtenemos un float con distribución uniforme entre a y b, incluyendo ambos\n",
    "a, b = 5, 10\n",
    "uniforme_intervalo = uniform(a, b)\n",
    "\n",
    "# Obtenemos un int con distribución uniforme entre a y b, incluyendo ambos\n",
    "a, b = 10, 20\n",
    "uniforme_entero = randint(a, b)\n",
    "\n",
    "print(uniforme_cero_uno, uniforme_intervalo, uniforme_entero)"
   ]
  },
  {
   "cell_type": "markdown",
   "metadata": {},
   "source": [
    "## Distribución normal\n",
    "\n",
    "En la realidad no todo se puede modelar con distribución uniforme. Por ejemplo, es razonable pensar que la gran mayoría de los adultos tiene una estatura dentro de cierto rango, y unos pocos son muy altos o muy bajos. Eso es un ejemplo de una distribución **no uniforme**, pues los valores no se presentan con igual probabilidad.\n",
    "\n",
    "En el caso concreto de la estatura, se suele modelar con una **distribución normal**. Esta distribución necesita dos parámetros $(\\mu, \\sigma)$, donde $\\mu$ es el promedio que se espera, y $\\sigma$ mide cuán dispersos están los datos. La mayoría de los números que generamos con esta distribución estarán cerca de la media, como se puede ver en el gráfico de abajo:\n",
    "\n",
    "![](https://upload.wikimedia.org/wikipedia/commons/thumb/7/74/Normal_Distribution_PDF.svg/720px-Normal_Distribution_PDF.svg.png)\n",
    "\n",
    "Otro aspecto importante sobre esta distribución es que puede entregar cualquier `float`, por lo que a veces se \"corta\" la distribución estableciendo un mínimo y/o máximo. Por ejemplo, para la estatura no es razonable colocar estaturas negativas, y tampoco estaturas mayores a 3 metros (el _record_ es de 2.72 metros).\n",
    "\n",
    "En Python, podemos obtener números con distribución normal usando la función `normalvariate`."
   ]
  },
  {
   "cell_type": "code",
   "execution_count": 2,
   "metadata": {},
   "outputs": [
    {
     "name": "stdout",
     "output_type": "stream",
     "text": [
      "0.9896954723415203\n",
      "151.14791985270847\n"
     ]
    }
   ],
   "source": [
    "from random import normalvariate\n",
    "\n",
    "# Valores de mu, sigma\n",
    "mu, sigma = 0, 1\n",
    "valor = normalvariate(mu, sigma)\n",
    "print(valor)\n",
    "\n",
    "mu, sigma = 170, 8\n",
    "# Acá queremos obtener estaturas\n",
    "# En este caso, \"truncamos\" la distribución haciendo que no nos de nada\n",
    "# mayor a 300 cm ni nada menor a 0 cm.\n",
    "estatura = min(max(normalvariate(mu, sigma), 0), 300)\n",
    "print(estatura)"
   ]
  },
  {
   "cell_type": "markdown",
   "metadata": {},
   "source": [
    "## Distribución exponencial\n",
    "\n",
    "Otra cosa que no tiene distribución uniforme es el tiempo en que tarda en llegar el próximo cliente a un local, o el tiempo que demora en llegar el próximo auto a una bencinera. Se ha estudiado que este tipo de procesos se puede modelar con una **distribución exponencial**. \n",
    "\n",
    "Esta distribución necesita un parámetro $\\lambda$, que es la tasa promedio de ocurrencia de un evento. Por ejemplo, si se espera que en promedio un cliente llegue cada 20 minutos a una cola, la tasa es $\\frac{1}{20}$. Por otro lado, si se espera que dos autos lleguen cada minuto, la tasa es $2$. Mientras $\\lambda$ es más grande, es más probable que salgan números cercanos a cero, como se puede ver en la imagen:\n",
    "\n",
    "![By Skbkekas - Own work, CC BY 3.0, https://commons.wikimedia.org/w/index.php?curid=9508311](https://upload.wikimedia.org/wikipedia/commons/thumb/e/ec/Exponential_pdf.svg/360px-Exponential_pdf.svg.png)\n",
    "\n",
    "\n",
    "Es importante destacar que esta distribución puede generar **cualquier número mayor o igual a cero**. Sólo se asegura que, si generamos suficientes números, obtendremos algo casi igual a la tasa que esperábamos.\n",
    "\n",
    "En Python, podemos obtener números con distribución exponencial usando la función `expovariate`."
   ]
  },
  {
   "cell_type": "code",
   "execution_count": 3,
   "metadata": {},
   "outputs": [
    {
     "name": "stdout",
     "output_type": "stream",
     "text": [
      "Próximo cliente llega en 9.796246378992553 minutos\n",
      "Próximo auto llega en 0.6978438139447485 minutos\n"
     ]
    }
   ],
   "source": [
    "from random import expovariate\n",
    "\n",
    "# Un cliente llega cada 20 minutos\n",
    "tasa_llegada_clientes = 1 / 20\n",
    "tiempo_llegada_próximo_cliente = expovariate(tasa_llegada_clientes)\n",
    "\n",
    "# Dos autos llegan cada minuto\n",
    "tasa_llegada_autos = 2\n",
    "tiempo_llegada_próximo_auto = expovariate(tasa_llegada_autos)\n",
    "\n",
    "print(f\"Próximo cliente llega en {tiempo_llegada_próximo_cliente} minutos\")\n",
    "print(f\"Próximo auto llega en {tiempo_llegada_próximo_auto} minutos\")"
   ]
  }
 ],
 "metadata": {
  "kernelspec": {
   "display_name": "iic2233",
   "language": "python",
   "name": "iic2233"
  },
  "language_info": {
   "codemirror_mode": {
    "name": "ipython",
    "version": 3
   },
   "file_extension": ".py",
   "mimetype": "text/x-python",
   "name": "python",
   "nbconvert_exporter": "python",
   "pygments_lexer": "ipython3",
   "version": "3.6.5"
  }
 },
 "nbformat": 4,
 "nbformat_minor": 1
}
