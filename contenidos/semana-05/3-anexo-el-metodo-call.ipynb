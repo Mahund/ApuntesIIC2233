{
 "cells": [
  {
   "cell_type": "markdown",
   "metadata": {},
   "source": [
    "### Anexo: El método `__call__`\n",
    "\n",
    "El método `__call__` se usa para crear una función que será ejecutada cada vez que se \"llame\" (invoque) a una **instancia** de la clase con paréntesis, como al escribir `instancia()`. Observe el siguiente ejemplo:"
   ]
  },
  {
   "cell_type": "code",
   "execution_count": 1,
   "metadata": {},
   "outputs": [],
   "source": [
    "from collections import deque\n",
    "# Basado en \n",
    "# https://www.daniweb.com/programming/software-development/threads/39004/what-does-call-method-do\n",
    "\n",
    "class Animal:\n",
    "    def __init__(self, nombre, patas):\n",
    "        self.nombre = nombre\n",
    "        self.patas = patas\n",
    "        self.estomago = deque()        \n",
    "        \n",
    "    def __call__(self, comida):\n",
    "        print(f\"Dando {comida} a {self.nombre}\")\n",
    "        self.estomago.append(comida)\n",
    "    \n",
    "    def digerir(self):\n",
    "        if self.estomago:\n",
    "            return self.estomago.popleft()"
   ]
  },
  {
   "cell_type": "code",
   "execution_count": 2,
   "metadata": {},
   "outputs": [
    {
     "name": "stdout",
     "output_type": "stream",
     "text": [
      "Dando pescado a Cucho\n",
      "Dando pollo a Cucho\n",
      "deque(['pescado', 'pollo'])\n",
      "deque(['pollo'])\n"
     ]
    }
   ],
   "source": [
    "gato = Animal('Cucho', 4)\n",
    "\n",
    "gato('pescado')        # Aquí le damos pescado al gato usando el método __call__\n",
    "gato.__call__('pollo') # Esto es equivalente a gato('pollo')\n",
    "\n",
    "print(gato.estomago)   # Mostramos el contenido de su estómago\n",
    "gato.digerir()         # Digiere lo que lleva más tiempo en su estómago\n",
    "print(gato.estomago)   # Mostramos el contenido de su estómago"
   ]
  },
  {
   "cell_type": "markdown",
   "metadata": {},
   "source": [
    "Aquí podemos ver que al ejecutar `gato('pescado')`, estamos llamando indirectamente al método `__call__`, que recibe un argumento. Esto es equivalente a haber ejecutado `gato.__call__('pescado')`. \n",
    "\n",
    "`__call__` es otra función de Python que se llama bajo ciertas condiciones, de manera similar al método `__str__` que se llama cada vez que se solicita una conversión interna a *string*, como al ejecutar `print(perro)`."
   ]
  }
 ],
 "metadata": {
  "kernelspec": {
   "display_name": "Python 3",
   "language": "python",
   "name": "python3"
  },
  "language_info": {
   "codemirror_mode": {
    "name": "ipython",
    "version": 3
   },
   "file_extension": ".py",
   "mimetype": "text/x-python",
   "name": "python",
   "nbconvert_exporter": "python",
   "pygments_lexer": "ipython3",
   "version": "3.6.6"
  }
 },
 "nbformat": 4,
 "nbformat_minor": 2
}
