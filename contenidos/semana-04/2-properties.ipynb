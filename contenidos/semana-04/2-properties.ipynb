{
 "cells": [
  {
   "cell_type": "markdown",
   "metadata": {},
   "source": [
    "<p>\n",
    "<font size='5' face='Georgia, Arial'>IIC-2233 Apunte Programación Avanzada</font><br>\n",
    "<font size='1'>Basado en: &copy; 2015 Karim Pichara - Christian Pieringer. Todos los derechos reservados. Modificado el 2018-1.</font>\n",
    "</p>"
   ]
  },
  {
   "cell_type": "markdown",
   "metadata": {},
   "source": [
    "## _Properties_\n",
    "\n",
    "En los lenguajes OOP, el encapsulamiento suele proveerse mediantes atributos _públicos_ o _privados_. En Python, como ya hemos mencionado, **todos** los atributos y métodos de una clase son **públicos**, y el hecho de iniciar el nombre de un atributo o método con _underscore_ es una convención (y una buena práctica), pero no asegura un caracter privado de estos elementos.\n",
    "\n",
    "La manera que tiene Python de proveer encapsulamiento es mediante el uso de un mecanismo llamado _properties_."
   ]
  },
  {
   "cell_type": "markdown",
   "metadata": {},
   "source": [
    "### ¿Qué son las _properties_?\n",
    "\n",
    "En Python, una _property_ funciona como un atributo, pero sobre el cual podemos modificar su comportamiento cada vez que es leído (`get`), escrito (`set`), o eliminado (`del`). Al usar el mecanismo de _properties_ sobre un atributo, podemos ejecutar acciones de manera más limpia que invocando métodos explícitos para leer o modificar el valor de un objeto.\n",
    "\n",
    "### ¿Para qué las _properties_?\n",
    "\n",
    "Tomemos un ejemplo sencillo en que deseamos definir una clase que modela un puente a través del cual puede pasar solo una cantidad máxima de personas por motivos de seguridad. Una manera inicial de implementarlo es mediante la siguiente clase.\n"
   ]
  },
  {
   "cell_type": "code",
   "execution_count": 1,
   "metadata": {},
   "outputs": [
    {
     "name": "stdout",
     "output_type": "stream",
     "text": [
      "Hay 7 personas en el puente.\n",
      "Hay 12 personas en el puente.\n",
      "Hay -3 personas en el puente.\n"
     ]
    }
   ],
   "source": [
    "class Puente:\n",
    "    \n",
    "    def __init__(self, maximo):\n",
    "        self.maximo = maximo\n",
    "        self.personas = 0\n",
    "        \n",
    "puente = Puente(10)\n",
    "puente.personas += 7\n",
    "print(f\"Hay {puente.personas} personas en el puente.\")\n",
    "puente.personas += 5\n",
    "print(f\"Hay {puente.personas} personas en el puente.\")\n",
    "puente.personas -= 15\n",
    "print(f\"Hay {puente.personas} personas en el puente.\")"
   ]
  },
  {
   "cell_type": "markdown",
   "metadata": {},
   "source": [
    "En este ejemplo es fácil modificar la cantidad de personas en el puente de manera externa a él, simplemente accediendo al atributo (público) `personas`. Sin embargo, al permitir estas modificaciones, también permitimos que el puente quede con más personas de las permitidas, o bien con una cantidad negativa de personas. La manera obvia de corregir esto es agregando acciones al momento de modificar la cantidad de personas."
   ]
  },
  {
   "cell_type": "code",
   "execution_count": 2,
   "metadata": {},
   "outputs": [
    {
     "name": "stdout",
     "output_type": "stream",
     "text": [
      "Hay 7 personas en el puente.\n",
      "Hay 10 personas en el puente.\n",
      "Hay 0 personas en el puente.\n"
     ]
    }
   ],
   "source": [
    "class Puente:\n",
    "    \n",
    "    def __init__(self, maximo):\n",
    "        self.maximo = maximo\n",
    "        self.personas = 0\n",
    "        \n",
    "puente = Puente(10)\n",
    "puente.personas += 7\n",
    "if puente.personas > puente.maximo:\n",
    "    puente.personas = puente.maximo\n",
    "print(f\"Hay {puente.personas} personas en el puente.\")\n",
    "\n",
    "puente.personas += 5\n",
    "if puente.personas > puente.maximo:\n",
    "    puente.personas = puente.maximo\n",
    "print(f\"Hay {puente.personas} personas en el puente.\")\n",
    "\n",
    "puente.personas -= 15\n",
    "if puente.personas < 0:\n",
    "    puente.personas = 0\n",
    "print(f\"Hay {puente.personas} personas en el puente.\")"
   ]
  },
  {
   "cell_type": "markdown",
   "metadata": {},
   "source": [
    "Este código permite que el puente funcione de manera correcta. Sin embargo, el código ahora es más complicado de **leer** y de **mantener**. Cada vez que modificamos el valor del atributo `personas` _debemos recordar_ efectuar ciertas verificaciones que (1) entorpecen el flujo natural del programa y que (2) violan el principio de encapsulamiento ya que estas verificaciones deberían ser responsabilidad de la clase `Puente`. La siguiente mejora agrega las verificaciones dentro de la clase, y **encapsula** el atributo `persona`."
   ]
  },
  {
   "cell_type": "code",
   "execution_count": 3,
   "metadata": {},
   "outputs": [
    {
     "name": "stdout",
     "output_type": "stream",
     "text": [
      "Hay 7 personas en el puente.\n",
      "Hay 10 personas en el puente.\n",
      "Hay 0 personas en el puente.\n"
     ]
    }
   ],
   "source": [
    "class Puente:\n",
    "    \n",
    "    def __init__(self, maximo):\n",
    "        self.maximo = maximo\n",
    "        self.__personas = 0\n",
    "        \n",
    "    def contar(self):\n",
    "        return self.__personas\n",
    "    \n",
    "    def ingresar(self, p):\n",
    "        if self.__personas + p > self.maximo:\n",
    "            self.__personas = self.maximo\n",
    "        elif self.__personas + p < 0:\n",
    "            self.__personas = 0\n",
    "        else:\n",
    "            self.__personas += p\n",
    "            \n",
    "            \n",
    "puente = Puente(10)\n",
    "puente.ingresar(7)\n",
    "print(f\"Hay {puente.contar()} personas en el puente.\")\n",
    "puente.ingresar(5)\n",
    "print(f\"Hay {puente.contar()} personas en el puente.\")\n",
    "puente.ingresar(-15)\n",
    "print(f\"Hay {puente.contar()} personas en el puente.\")"
   ]
  },
  {
   "cell_type": "markdown",
   "metadata": {},
   "source": [
    "Hemos movido el comportamiento que verifica las condiciones a métodos de la clase `Puente`. Hemos encapsulado el acceso y modificación del atributo `__personas` dentro de los métodos `contar` e `ingresar` quienes tienen, respectivamente, la misión de leer u obtener (método _getter_) y modificar o actualizar (método _setter_) el valor del atributo interno `__personas`. Nuestro código es más fácil de leer. \n",
    "\n",
    "Algo que podemos lamentar es que, dentro de todo, la primera versión que leía y modificaba directamente el atributo `personas` tenía una sintaxis más sencilla y ahora, en cambio, debemos llamar métodos particulares `ingresar` y `contar`. Más aún, en el futuro, si decidimos cambiar los nombres de los métodos `ingresar` y `contar`, debemos buscar todas las veces en que los hemos usado fuera de la clase y modificarlos.\n",
    "\n",
    "La mejor combinación de ambos mundos: encapsulamiento, y sintaxis más simple, la provee el mecanismo de **properties**. Para incorporarlo veamos el siguiente ejemplo:"
   ]
  },
  {
   "cell_type": "code",
   "execution_count": 6,
   "metadata": {},
   "outputs": [
    {
     "name": "stdout",
     "output_type": "stream",
     "text": [
      "Hay 7 personas en el puente.\n",
      "Hay 10 personas en el puente.\n",
      "Hay 0 personas en el puente.\n"
     ]
    }
   ],
   "source": [
    "class Puente:\n",
    "    \n",
    "    def __init__(self, maximo):\n",
    "        self.maximo = maximo\n",
    "        self.__personas = 0\n",
    "        \n",
    "    @property\n",
    "    def asdf(self): # reemplaze personas por asdf para ver que property no necesita relacion con atributo a manejar\n",
    "        return self.__personas\n",
    "\n",
    "    @asdf.setter\n",
    "    def asdf(self, p):\n",
    "        if p > self.maximo:\n",
    "            self.__personas = self.maximo\n",
    "        elif p < 0:\n",
    "            self.__personas = 0\n",
    "        else:\n",
    "            self.__personas = p\n",
    "            \n",
    "            \n",
    "puente = Puente(10)\n",
    "puente.asdf += 7\n",
    "print(f\"Hay {puente.asdf} personas en el puente.\")\n",
    "puente.asdf += 5\n",
    "print(f\"Hay {puente.asdf} personas en el puente.\")\n",
    "puente.asdf -= 15\n",
    "print(f\"Hay {puente.asdf} personas en el puente.\")"
   ]
  },
  {
   "cell_type": "markdown",
   "metadata": {},
   "source": [
    "Al escribir el decorador `@property` antes del método `personas`, estamos definiendo una _property_ de nombre `personas`. Esta _property_ se comporta como un atributo cuyo método _getter_ es precisamente el método `personas`. Adicionalmente podemos definir otro método como _setter_ (que nos permitirá modificar el valor de la _property_) y para eso lo decoramos con `@personas.setter`.\n",
    "\n",
    "El código resultante que escribimos fuera de la clase es tan simple como en la primera versión, y además encapsula, dentro de los métodos _getter_ y _setter_ para `personas`, el comportamiento que verifica que las restricciones sobre el puente se cumplan."
   ]
  },
  {
   "cell_type": "markdown",
   "metadata": {},
   "source": [
    "### Otras maneras de definir _properties_\n",
    "\n",
    "Si no le parece tan clara la manera definir _properties_ mediante decoradores, Python ofrece otra manera más explícita que provee el mismo comportamiento. Observar la siguiente versión de la clase `Puente`:"
   ]
  },
  {
   "cell_type": "code",
   "execution_count": 5,
   "metadata": {},
   "outputs": [
    {
     "name": "stdout",
     "output_type": "stream",
     "text": [
      "Hay 7 personas en el puente.\n",
      "Hay 10 personas en el puente.\n",
      "Hay 0 personas en el puente.\n"
     ]
    }
   ],
   "source": [
    "class Puente:\n",
    "    \n",
    "    def __init__(self, maximo):\n",
    "        self.maximo = maximo\n",
    "        self.__personas = 0\n",
    "        \n",
    "    def _get_personas(self):\n",
    "        return self.__personas\n",
    "\n",
    "    def _set_personas(self, p):\n",
    "        if p > self.maximo:\n",
    "            self.__personas = self.maximo\n",
    "        elif p < 0:\n",
    "            self.__personas = 0\n",
    "        else:\n",
    "            self.__personas = p\n",
    "        \n",
    "    personas = property(_get_personas, _set_personas)\n",
    "\n",
    "    \n",
    "puente = Puente(10)\n",
    "puente.personas += 7\n",
    "print(f\"Hay {puente.personas} personas en el puente.\")\n",
    "puente.personas += 5\n",
    "print(f\"Hay {puente.personas} personas en el puente.\")\n",
    "puente.personas -= 15\n",
    "print(f\"Hay {puente.personas} personas en el puente.\")"
   ]
  },
  {
   "cell_type": "markdown",
   "metadata": {},
   "source": [
    "Esta vez hemos definido los métodos \"pseudo-privados\" `_get_personas` y `_set_personas`, y posteriormente hemos definido un atributo `personas` dentro de la clase, pero fuera de los otros métodos (_atributo de clase_). Este atributo se define como una [`property`](https://docs.python.org/3/library/functions.html#property) y se le indica que sus métodos _getter_ y _setter_ serán, respectivamente, `_get_personas` y `_set_personas`. \n",
    "\n",
    "El comportamiento es el mismo que en el caso anterior que usaba decoradores. Las verificaciones se encuentran encapsuladas en los métodos _getter_ y _setter_ asociados a la _property_ `personas`; la sintaxis es simple y no depende de los nombres internos de los métodos _getter_ y _setter_."
   ]
  },
  {
   "cell_type": "markdown",
   "metadata": {},
   "source": [
    "### Ejemplo: caching de páginas web\n",
    "\n",
    "Un típico ejemplo de acción invocada es cuando hacemos _caching_ de una página web. Esto ocurre cuando nuestro navegador guarda contenido del sitio, para no tener que descargarlo cada vez que se accede a él. \n",
    "\n",
    "En nuestro ejemplo, un atributo que corresponde al contenido de una página web. Si un usuario accede al contenido por primera vez, descargamos el contenido y lo guardarmos. De esta forma, en los próximos accesos podemos retornar el contenido guardado sin la necesidad de bajarlo de nuevo."
   ]
  },
  {
   "cell_type": "code",
   "execution_count": 6,
   "metadata": {},
   "outputs": [],
   "source": [
    "from urllib.request import urlopen\n",
    "\n",
    "\n",
    "class WebPage:\n",
    "\n",
    "    def __init__(self, url):\n",
    "        self.url = url\n",
    "        self._content = None\n",
    "        \n",
    "    @property\n",
    "    def content(self):\n",
    "        if not self._content:\n",
    "            print(\"Obteniendo página web...\")\n",
    "            self._content = urlopen(self.url).read()\n",
    "        return self._content"
   ]
  },
  {
   "cell_type": "code",
   "execution_count": 7,
   "metadata": {},
   "outputs": [
    {
     "name": "stdout",
     "output_type": "stream",
     "text": [
      "Obteniendo página web...\n",
      "Tiempo en obtener la página por primera vez: 1.2363169193267822 segundos.\n",
      "Tiempo en obtener la página por segunda vez: 0.0001678466796875 segundos.\n"
     ]
    },
    {
     "data": {
      "text/plain": [
       "True"
      ]
     },
     "execution_count": 7,
     "metadata": {},
     "output_type": "execute_result"
    }
   ],
   "source": [
    "import time\n",
    "\n",
    "page = WebPage(\"http://www.puc.cl\")\n",
    "now = time.time()  # devuelve el tiempo en segundos\n",
    "contenido_1 = page.content\n",
    "print(f\"Tiempo en obtener la página por primera vez: {time.time() - now} segundos.\")\n",
    "\n",
    "now = time.time()\n",
    "contenido_2 = page.content\n",
    "print(f\"Tiempo en obtener la página por segunda vez: {time.time() - now} segundos.\")\n",
    "\n",
    "contenido_1 == contenido_2"
   ]
  },
  {
   "cell_type": "markdown",
   "metadata": {},
   "source": [
    "### Ejemplo: definiendo una clase `Email`\n",
    "\n",
    "Una forma de usar properties es definiendo los métodos y luego asignarlos a una variable usando `property`."
   ]
  },
  {
   "cell_type": "code",
   "execution_count": 8,
   "metadata": {},
   "outputs": [],
   "source": [
    "class Email:\n",
    "    \n",
    "    def __init__(self, address):\n",
    "        self._email = address\n",
    "        \n",
    "    def _get_email(self):\n",
    "        return self._email\n",
    "        \n",
    "    def _set_email(self, value):\n",
    "        if '@' not in value:\n",
    "            print(\"Esto no parece una dirección de correo.\")\n",
    "        else:\n",
    "            self._email = value\n",
    "    \n",
    "    def _del_email(self):\n",
    "        print(\"¡Eliminaste el correo!\")\n",
    "        del self._email    \n",
    "\n",
    "    email = property(_get_email, _set_email, _del_email, \"Esta propiedad corresponde al correo.\")"
   ]
  },
  {
   "cell_type": "code",
   "execution_count": 9,
   "metadata": {},
   "outputs": [
    {
     "name": "stdout",
     "output_type": "stream",
     "text": [
      "Help on class Email in module __main__:\n",
      "\n",
      "class Email(builtins.object)\n",
      " |  Methods defined here:\n",
      " |  \n",
      " |  __init__(self, address)\n",
      " |      Initialize self.  See help(type(self)) for accurate signature.\n",
      " |  \n",
      " |  ----------------------------------------------------------------------\n",
      " |  Data descriptors defined here:\n",
      " |  \n",
      " |  __dict__\n",
      " |      dictionary for instance variables (if defined)\n",
      " |  \n",
      " |  __weakref__\n",
      " |      list of weak references to the object (if defined)\n",
      " |  \n",
      " |  email\n",
      " |      Esta propiedad corresponde al correo.\n",
      "\n"
     ]
    }
   ],
   "source": [
    "help(Email)"
   ]
  },
  {
   "cell_type": "code",
   "execution_count": 10,
   "metadata": {},
   "outputs": [
    {
     "name": "stdout",
     "output_type": "stream",
     "text": [
      "kp1@gmail.com\n",
      "kp2@gmail.com\n",
      "Esto no parece una dirección de correo.\n",
      "¡Eliminaste el correo!\n"
     ]
    }
   ],
   "source": [
    "mail = Email(\"kp1@gmail.com\")\n",
    "print(mail.email)\n",
    "mail.email = \"kp2@gmail.com\"\n",
    "print(mail.email)\n",
    "mail.email = \"kp2.com\"\n",
    "del mail.email"
   ]
  },
  {
   "cell_type": "markdown",
   "metadata": {},
   "source": [
    "Ojo que el código no nos prohibe acceder directamente al atributo `_email` saltándonos el método `_set_email`:"
   ]
  },
  {
   "cell_type": "code",
   "execution_count": 11,
   "metadata": {},
   "outputs": [
    {
     "data": {
      "text/plain": [
       "'kp3.com'"
      ]
     },
     "execution_count": 11,
     "metadata": {},
     "output_type": "execute_result"
    }
   ],
   "source": [
    "mail._email = \"kp3.com\"\n",
    "mail._email"
   ]
  },
  {
   "cell_type": "markdown",
   "metadata": {},
   "source": [
    "La _property_ es simplemente una referencia al mismo atributo `_email`.\n",
    "\n",
    "Para probar esto podemos utilizar el operador `is`. El operador `is` es un _test_ para la identidad de un objeto. `x is y` es verdadero si y sólo si `x` e `y` son el mismo objeto."
   ]
  },
  {
   "cell_type": "code",
   "execution_count": 12,
   "metadata": {},
   "outputs": [
    {
     "data": {
      "text/plain": [
       "True"
      ]
     },
     "execution_count": 12,
     "metadata": {},
     "output_type": "execute_result"
    }
   ],
   "source": [
    "mail.email is mail._email"
   ]
  },
  {
   "cell_type": "markdown",
   "metadata": {},
   "source": [
    "La forma más típica de usar _properties_ es usar los decoradores. Veremos decoradores varias clases más adelante. Como ejemplo reutilizaremos la clase `Email`"
   ]
  },
  {
   "cell_type": "code",
   "execution_count": 13,
   "metadata": {},
   "outputs": [],
   "source": [
    "class Email2:\n",
    "    \n",
    "    def __init__(self, address):\n",
    "        self._email = address\n",
    "    \n",
    "    @property\n",
    "    def email(self):\n",
    "        return self._email\n",
    "    \n",
    "    @email.setter\n",
    "    def email(self, value):\n",
    "        if '@' not in value:\n",
    "            print(\"Esto no parece una dirección de correo.\")\n",
    "        else:\n",
    "            self._email = value\n",
    "\n",
    "    @email.deleter\n",
    "    def email(self):\n",
    "        print(\"¡Eliminaste el correo!\")\n",
    "        del self._email"
   ]
  },
  {
   "cell_type": "markdown",
   "metadata": {},
   "source": [
    "Se puede observar que el funcionamiento de `Email2` es equivalente al de `Email`:"
   ]
  },
  {
   "cell_type": "code",
   "execution_count": 14,
   "metadata": {},
   "outputs": [
    {
     "name": "stdout",
     "output_type": "stream",
     "text": [
      "kp1@gmail.com\n",
      "kp2@gmail.com\n",
      "Esto no parece una dirección de correo.\n",
      "¡Eliminaste el correo!\n"
     ]
    }
   ],
   "source": [
    "mail = Email2(\"kp1@gmail.com\")\n",
    "print(mail.email)\n",
    "mail.email = \"kp2@gmail.com\"\n",
    "print(mail.email)\n",
    "mail.email = \"kp2.com\"\n",
    "del mail.email"
   ]
  },
  {
   "cell_type": "markdown",
   "metadata": {},
   "source": [
    "Las _properties_ con decoradores también pueden involucar acciones que dependen de variables de la clase:"
   ]
  },
  {
   "cell_type": "code",
   "execution_count": 7,
   "metadata": {},
   "outputs": [],
   "source": [
    "class Email3:\n",
    "    \n",
    "    def __init__(self, address):\n",
    "        self._email = address\n",
    "\n",
    "    @property\n",
    "    def username(self):\n",
    "        return self._email.split('@')[0]"
   ]
  },
  {
   "cell_type": "code",
   "execution_count": 8,
   "metadata": {},
   "outputs": [
    {
     "name": "stdout",
     "output_type": "stream",
     "text": [
      "kp1\n",
      "kp2\n"
     ]
    }
   ],
   "source": [
    "mail = Email3(\"kp1@gmail.com\")\n",
    "print(mail.username)\n",
    "mail._email = \"kp2@gmail.com\"\n",
    "print(mail.username)"
   ]
  },
  {
   "cell_type": "code",
   "execution_count": null,
   "metadata": {},
   "outputs": [],
   "source": []
  }
 ],
 "metadata": {
  "kernelspec": {
   "display_name": "Python 3",
   "language": "python",
   "name": "python3"
  },
  "language_info": {
   "codemirror_mode": {
    "name": "ipython",
    "version": 3
   },
   "file_extension": ".py",
   "mimetype": "text/x-python",
   "name": "python",
   "nbconvert_exporter": "python",
   "pygments_lexer": "ipython3",
   "version": "3.6.6"
  }
 },
 "nbformat": 4,
 "nbformat_minor": 1
}
