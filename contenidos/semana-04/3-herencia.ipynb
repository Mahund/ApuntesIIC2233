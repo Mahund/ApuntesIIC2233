{
 "cells": [
  {
   "cell_type": "markdown",
   "metadata": {},
   "source": [
    "<p>\n",
    "<font size='5' face='Georgia, Arial'>IIC-2233 Apunte Programación Avanzada</font><br>\n",
    "<font size='1'>Basado en: &copy; 2015 Karim Pichara - Christian Pieringer. Todos los derechos reservados. Modificado el 2018-1.</font>\n",
    "</p>"
   ]
  },
  {
   "cell_type": "markdown",
   "metadata": {},
   "source": [
    "# Tabla de contenidos\n",
    "1. [Herencia](#Herencia)\n",
    "    1. [Método `super`](#Método-super)\n",
    "    2. [Herencia con built-ins](#Herencia-con-built-ins)"
   ]
  },
  {
   "cell_type": "markdown",
   "metadata": {},
   "source": [
    "## Herencia\n",
    "\n",
    "La herencia (_inheritance_) es una de las características más importantes de OOP, y corresponde a una relación de **especialización** y **generalización**, donde una **subclase** _hereda_ atributos y métodos desde una **superclase**. La subclase posee todos los atributos y métodos de la superclase, pero además tiene sus propios métodos y atributos específicos.\n",
    "\n",
    "El concepto de herencia nos permite aprovechar (reutilizar) código de las clases de las cuales se hereda, y representa una relación del tipo \"el objeto `b` es un objeto `a`, pero con ciertas diferencias\".\n",
    "\n",
    "### Ejemplo: especializando la clase `Auto`\n",
    "\n",
    "Como ejemplo, consideremos nuestra clase `Auto`, con algunos de sus atributos como `marca`, `modelo`, `motor` y con los métodos `conducir` y `realizar_mantencion`. Si se nos pide modelar un furgón escolar, es natural pensar que éste compartirá muchas características de un `Auto`. Es más, podríamos decir que un furgón escolar **es un tipo particular de `Auto`**. El furgón escolar debería tener, al menos, _los mismos atributos y métodos_ que un auto, y seguramente tendrá también algunos atributos adicionales como _lista de los niños inscritos_ y métodos adicionales como _forma de inscribir niños_. Como ya hemos escrito el código de la clase `Auto`, nos gustaría poder **reutilizar** este código, pues ahí ya tenemos algunos atributos y métodos implementados.\n",
    "\n",
    "Usaremos, entonces, la **herencia**. La herencia nos permite _heredar_ datos y comportamientos de una clase y utilizarlos en otra. En nuestro ejemplo del furgón escolar, crearemos una clase `FurgonEscolar` que hereda de `Auto` y definiremos ahí la lista de los niños y un método de inscripción. \n",
    "\n",
    "Si `FurgonEscolar` **hereda** de `Auto`, también se dice que:\n",
    "- `FurgonEscolar` es una **especialización** de la clase `Auto`\n",
    "- `FurgonEscolar` es **subclase** (o clase hija) de `Auto`.\n",
    "- `FurgonEscolar` **extiende** la clase `Auto`.\n",
    "- `Auto` es **superclase** (o clase madre) de `FurgonEscolar`\n",
    "\n",
    "La implementación de herencia en Python lo hacemos de la siguiente manera:"
   ]
  },
  {
   "cell_type": "code",
   "execution_count": 1,
   "metadata": {},
   "outputs": [],
   "source": [
    "class Auto:\n",
    "    \"\"\"Superclase de FurgonEscolar\"\"\"\n",
    "    \n",
    "    def __init__(self, marca, modelo, motor):\n",
    "        self.marca = marca\n",
    "        self.modelo = modelo\n",
    "        self.motor = motor\n",
    "        \n",
    "    def conducir(self, distancia):\n",
    "        print(f\"Conduciendo {distancia} kilómetros\")\n",
    "        \n",
    "    def realizar_mantencion(self):\n",
    "        print(\"Realizando mantención\")\n",
    "\n",
    "\n",
    "class FurgonEscolar(Auto):\n",
    "    \"\"\"Subclase de Auto\"\"\"\n",
    "    \n",
    "    def __init__(self, marca, modelo, motor):\n",
    "        # Para inicializar algunos datos en la clase madre, llamamos al __init__ de esa clase.\n",
    "        Auto.__init__(self, marca, modelo, motor)\n",
    "        # Este atributo existe únicamente para objetos de tipo FurgonEscolar, \n",
    "        # pero no para todos los objetos de clase Auto \n",
    "        self.ninos = []\n",
    "    \n",
    "    # inscribir_nino es un método específico de esta subclase.\n",
    "    def inscribir_nino(self, nino):\n",
    "        self.ninos.append(nino)"
   ]
  },
  {
   "cell_type": "markdown",
   "metadata": {},
   "source": [
    "Podemos comprobar que un objeto de la clase `FurgonEscolar` tiene todos los datos y métodos que tenía la clase `Auto`, y también tiene lo que definimos específicamente para `FurgonEscolar`:"
   ]
  },
  {
   "cell_type": "code",
   "execution_count": 2,
   "metadata": {},
   "outputs": [
    {
     "name": "stdout",
     "output_type": "stream",
     "text": [
      "Marca: Toyota\n",
      "Modelo: Hiace\n",
      "Motor: Motor de 100 HP\n",
      "Conduciendo 5 kilómetros\n",
      "Realizando mantención\n",
      "Niños: ['Joaquín Contador']\n"
     ]
    }
   ],
   "source": [
    "furgon = FurgonEscolar('Toyota', 'Hiace', 'Motor de 100 HP')\n",
    "print(f\"Marca: {furgon.marca}\")\n",
    "print(f\"Modelo: {furgon.modelo}\")\n",
    "print(f\"Motor: {furgon.motor}\")\n",
    "furgon.conducir(5)\n",
    "furgon.realizar_mantencion()\n",
    "furgon.inscribir_nino('Joaquín Contador')\n",
    "print(f\"Niños: {furgon.ninos}\")"
   ]
  },
  {
   "cell_type": "markdown",
   "metadata": {},
   "source": [
    "En ocasiones, algunos métodos de la superclase (métodos heredados por la subclase) no nos sirven exactamente para la subclase y podríamos querer reemplazar o modificar algunos de ellos. En este ejemplo, no queremos que el conductor de un `FurgonEscolar` conduzca igual que un conductor de `Auto`, si no que queremos que lo hago con más cuidado. Después de todo, lleva niños.\n",
    "\n",
    "La herencia nos permite **sobrescribir** los métodos que necesitemos modificar. En Python, podemos definir nuevamente el método en la subclase, con el mismo nombre que tenía en la súperclase. De esta manera al ejecutar el método desde un objeto perteneciente a la subclase, se ejecuta esta versión del método, y no la versión que está en la súperclase. En OOP, esto se llama _**overriding**_ y permite que una subclase implemente una versión especializada de un método que es heredado desde una súperclase.\n",
    "\n",
    "Revisemos de nuevo el ejemplo del `Auto` y `FurgonEscolar`:\n"
   ]
  },
  {
   "cell_type": "code",
   "execution_count": 3,
   "metadata": {},
   "outputs": [],
   "source": [
    "class Auto:\n",
    "    \"\"\"Superclase de FurgonEscolar\"\"\"\n",
    "    \n",
    "    def __init__(self, marca, modelo, motor):\n",
    "        self.marca = marca\n",
    "        self.modelo = modelo\n",
    "        self.motor = motor\n",
    "        \n",
    "    def conducir(self, distancia):\n",
    "        print(f\"Conduciendo {distancia} kilómetros\")\n",
    "        \n",
    "    def realizar_mantencion(self):\n",
    "        print(\"Realizando mantención\")\n",
    "\n",
    "\n",
    "class FurgonEscolar(Auto):\n",
    "    \"\"\"Subclase de Auto\"\"\"\n",
    "    \n",
    "    # Estamos haciendo overriding del __init__ original\n",
    "    def __init__(self, marca, modelo, motor):\n",
    "        # Aún queremos usar el __init__ original para setear los otros datos. Así es como podemos llamarlo.\n",
    "        Auto.__init__(self, marca, modelo, motor)\n",
    "        self.ninos = []\n",
    "    \n",
    "    # inscribir_nino es un método específico de esta subclase.\n",
    "    def inscribir_nino(self, nino):\n",
    "        self.ninos.append(nino)\n",
    "        \n",
    "    # Estamos haciendo overriding del método conducir original\n",
    "    def conducir(self, distancia):\n",
    "        # Acá no queremos usar la versión original de conducir\n",
    "        print(f\"Conduciendo con cuidado {distancia} kilómetros\")"
   ]
  },
  {
   "cell_type": "code",
   "execution_count": 4,
   "metadata": {},
   "outputs": [
    {
     "name": "stdout",
     "output_type": "stream",
     "text": [
      "Marca: Toyota\n",
      "Modelo: Hiace\n",
      "Motor: Motor de 100 HP\n",
      "Conduciendo con cuidado 5 kilómetros\n",
      "Realizando mantención\n",
      "Niños: ['Joaquín Contador']\n",
      "Conduciendo 12 kilómetros\n",
      "<class '__main__.Auto'>\n",
      "<class '__main__.FurgonEscolar'>\n"
     ]
    }
   ],
   "source": [
    "auto = Auto('Suzuki', 'Grand Vitara', 'Motor de 130 HP')\n",
    "furgon = FurgonEscolar('Toyota', 'Hiace', 'Motor de 100 HP')\n",
    "print(f\"Marca: {furgon.marca}\")\n",
    "print(f\"Modelo: {furgon.modelo}\")\n",
    "print(f\"Motor: {furgon.motor}\")\n",
    "furgon.conducir(5)\n",
    "furgon.realizar_mantencion()\n",
    "furgon.inscribir_nino('Joaquín Contador')\n",
    "print(f\"Niños: {furgon.ninos}\")\n",
    "auto.conducir(12)\n",
    "print(type(auto))\n",
    "print(type(furgon))"
   ]
  },
  {
   "cell_type": "markdown",
   "metadata": {},
   "source": [
    "Podemos ver que en esta versión, al ejecutar el mismo método sobre `auto` y sobre `furgon`, el resultado es distinto. Al ejecutar `furgon.conducir(5)`, se ejecuta el método _especializado_ que se definió para la clase `FurgonEscolar`, mientras que si ejecutamos `auto.conducir(12)`, se ejecuta el método original de la clase `auto`."
   ]
  },
  {
   "cell_type": "markdown",
   "metadata": {},
   "source": [
    "### Método `super`\n",
    "\n",
    "En el ejemplo del furgón escolar, reimplementamos (hacemos _overriding_ de) el método inicializar `__init__`. Esto lo hacemos porque también queremos inicializar el nuevo atributo `ninos`.  Pero también debemos inicializar los atributos heredados de la clase `Auto`. Si no queremos hacer ninguna modificación a la manera en que éstos se inicializan, podemos llamar explícitamente al método de la súperclase. Si escribimos una línea de la forma `SuperClase.metodo(self, argumentos)`, podemos invocar directamente la ejecución del método de la súperclase. En nuestro caso, podemos ejecutar `Auto.__init__(self, marca, modelo, motor)` y con esto estamos delegando la inicialización de esos atributos a la súperclase.\n",
    "\n",
    "Usando el método `super()` podemos utilizar la implementación de un método de la superclase sin nombrar explícitamente a la clase madre, de la forma `super().metodo(argumentos)`. Esto nos ayuda a escribir un código más mantenible, en caso que decidamos cambiar el nombre de la clase madre."
   ]
  },
  {
   "cell_type": "code",
   "execution_count": 5,
   "metadata": {},
   "outputs": [
    {
     "name": "stdout",
     "output_type": "stream",
     "text": [
      "Marca: Toyota\n",
      "Modelo: Hiace\n",
      "Motor: Motor de 100 HP\n",
      "Conduciendo con cuidado 5 kilómetros\n",
      "Realizando mantención\n",
      "Niños: ['Joaquín Contador']\n"
     ]
    }
   ],
   "source": [
    "class FurgonEscolar(Auto):\n",
    "    \"\"\"Subclase de Auto\"\"\"\n",
    "    \n",
    "    # Estamos haciendo overriding del __init__ original\n",
    "    def __init__(self, marca, modelo, motor):\n",
    "        # Usamos el __init__ original para setear los otros datos. Así es como podemos llamarlo con super().\n",
    "        super().__init__(marca, modelo, motor)\n",
    "        self.ninos = []\n",
    "    \n",
    "    # inscribir_nino es un método específico de esta subclase.\n",
    "    def inscribir_nino(self, nino):\n",
    "        self.ninos.append(nino)\n",
    "        \n",
    "    # Estamos haciendo overriding del método conducir original\n",
    "    def conducir(self, distancia):\n",
    "        # Acá no queremos usar la versión original de conducir\n",
    "        print(f\"Conduciendo con cuidado {distancia} kilómetros\")\n",
    "\n",
    "        \n",
    "furgon = FurgonEscolar('Toyota', 'Hiace', 'Motor de 100 HP')\n",
    "print(f\"Marca: {furgon.marca}\")\n",
    "print(f\"Modelo: {furgon.modelo}\")\n",
    "print(f\"Motor: {furgon.motor}\")\n",
    "furgon.conducir(5)\n",
    "furgon.realizar_mantencion()\n",
    "furgon.inscribir_nino('Joaquín Contador')\n",
    "print(f\"Niños: {furgon.ninos}\")"
   ]
  },
  {
   "cell_type": "markdown",
   "metadata": {},
   "source": [
    "### Herencia con _built-ins_\n",
    "\n",
    "La herencia nos permite extender, no solamente las clases que hemos definido, sino también algunas que ya existían. En Python le llamados clases _built-ins_ a aquellas que están _construidas dentro_ (\"_built_\"-\"_in_\") del intérprete de Python y no necesitan de ningún módulo adicional para funcionar. \n",
    "\n",
    "Una de las clases _built-in_ de Python es la clase `list`. Si queremos extender la clase `list`, podemos definir una subclase que heredará los métodos de la clase `list` y a su vez tendrá datos y métodos propios:"
   ]
  },
  {
   "cell_type": "code",
   "execution_count": 6,
   "metadata": {},
   "outputs": [],
   "source": [
    "class ContactList(list):\n",
    "    \"\"\"\n",
    "    Estamos extendiendo y especializando la clase list estándar. \n",
    "    Tiene todos los métodos de la lista más los definidos por nosotros.\n",
    "    \"\"\"\n",
    "    \n",
    "    # Buscar es un método específico de esta sub-clase\n",
    "    def buscar(self, nombre):\n",
    "        matches = [contacto for contacto in self if nombre in contacto.nombre]\n",
    "        return matches\n",
    "\n",
    "    \n",
    "class Contacto:\n",
    "    \"\"\"La clase Contacto almacena nombre y correo electrónico.\"\"\"\n",
    "    \n",
    "    def __init__(self, nombre, email):\n",
    "        self.nombre = nombre\n",
    "        self.email = email\n",
    "\n",
    "\n",
    "class Familiar(Contacto):\n",
    "    \"\"\"Familiar es una clase especializada de Contacto que permite incluir el tipo de relación\"\"\"\n",
    "\n",
    "    # Overriding sobre el método __init__()\n",
    "    def __init__(self, nombre, email, relacion):\n",
    "        super().__init__(nombre, email)\n",
    "        self.relacion = relacion"
   ]
  },
  {
   "cell_type": "code",
   "execution_count": 7,
   "metadata": {},
   "outputs": [
    {
     "data": {
      "text/plain": [
       "['Daniela Gómez', 'Daniela Vega']"
      ]
     },
     "execution_count": 7,
     "metadata": {},
     "output_type": "execute_result"
    }
   ],
   "source": [
    "contactos_list = ContactList()\n",
    "contactos_list.append(Familiar(nombre=\"Daniela Gómez\", email=\"daniela@gomez.cl\", relacion=\"madre\"))\n",
    "contactos_list.append(Contacto(nombre=\"Daniela Vega\", email=\"daniela@oscars.com\"))\n",
    "contactos_list.append(Familiar(nombre=\"Juan Gómez\", email=\"juan@gomez.cl\", relacion=\"primo\"))\n",
    "contactos_list.append(Contacto(nombre=\"Natalia Lafourcade\", email=\"natalia@lafourcade.com\"))\n",
    "    \n",
    "personas_llamadas_daniela = [contacto.nombre for contacto in contactos_list.buscar(\"Daniela\")]\n",
    "personas_llamadas_daniela"
   ]
  },
  {
   "cell_type": "markdown",
   "metadata": {},
   "source": [
    "En este ejemplo, la clase `ContactList` extiende a `list` para agregar un método que busca sobre sí misma (`self`) todos los elementos que coincidan con cierto _string_. Una vez creado un objeto de tipo `ContactList`, este objeto posee el método `matches`."
   ]
  }
 ],
 "metadata": {
  "kernelspec": {
   "display_name": "Python 3",
   "language": "python",
   "name": "python3"
  },
  "language_info": {
   "codemirror_mode": {
    "name": "ipython",
    "version": 3
   },
   "file_extension": ".py",
   "mimetype": "text/x-python",
   "name": "python",
   "nbconvert_exporter": "python",
   "pygments_lexer": "ipython3",
   "version": "3.6.6"
  }
 },
 "nbformat": 4,
 "nbformat_minor": 1
}
