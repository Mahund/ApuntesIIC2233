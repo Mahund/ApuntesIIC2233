{
 "cells": [
  {
   "cell_type": "markdown",
   "metadata": {},
   "source": [
    "<font size='1'>Material elaborado en 2017-2 por Hugo Navarrete e Ignacio Acevedo.</font>"
   ]
  },
  {
   "cell_type": "markdown",
   "metadata": {},
   "source": [
    "# Encontrar Qt-desginer\n",
    "\n",
    "En primer lugar, deben asegurarse de tener instalado Qtdesigner, para esto deben escribir uno de los siguientes comandos en consola:\n",
    "\n",
    "`pip install PyQt5-tools`\n",
    "\n",
    "`pip3 install PyQt5-tools`\n",
    "\n",
    "\n",
    "El siguiente paso es enontrar Qtdesginer, ya que no aparecera por defecto en el escritorio ni en un lugar de fácil acceso. Pueden buscar escribir designer en el buscador para encontrarlo como se muestra en la siguiente imagen:\n",
    "\n",
    "![Comentario Chau](https://cloud.githubusercontent.com/assets/16126322/26363862/5ca7d80e-3fb0-11e7-82ba-45636dfaa03f.png)\n",
    "\n",
    "*Fuente: Comentario de [@stephichau](https://github.com/stephichau) en issue [#516](https://github.com/IIC2233/Syllabus-2017-1/issues/516) del semestre 2017-1*\n",
    "\n",
    "En caso de que no lo encuentren, pueden hacerlo en la siguiente ruta (el programa se llama designer.exe):\n",
    "\n",
    "**C:\\Users\\[Acá va su nombre de usuario del Pc]\\AppData\\Local\\Programs\\Python\\Python35\\Lib\\site-packages\\pyqt5-tools\\designer**\n",
    "\n",
    "Una vez que encuentren el programa les recomendamos que dejen un acceso directo en el escritorio para que sea de rápido acceso.\n",
    "\n",
    "## Abriendo y conociendo Qt-desginer\n",
    "\n",
    "La primera ventana con la que se encontrarán les preguntará ¿que tipo de ventana quieren comenzar a crear?, tal como muestra la siguiente imagen:\n",
    "\n",
    "![](images/designer/1.PNG)\n",
    "\n",
    "Luego de seleccionar verán la ventana de trabajo principal de designer. En esta tendrán distintas barras de herramientas como se muestra a continuación:\n",
    "\n",
    "![Contenido de designer](images/designer/desgloce.png)\n",
    "\n",
    "### 1-. Ventana de edición\n",
    "\n",
    "\n",
    "Es el lugar en donde se edita el widget o ventana que estas creando. En esta zona debes agregar todos los widgets que te ofrece PyQt5 para formar la ventana tal cual quieres.\n",
    "\n",
    "\n",
    "### 2-. Caja de widgets\n",
    "\n",
    "En esta barra de herramientas encuentras los widgets que puedes agregar a la ventana que estás creando. Solo debes clickear uno de ellos y arrastrarlo hasta donde quieras que quede en tu ventana. Debes explorar todos los widgets que están en esta caja ya que cada uno está diseñado para una función específica. Esto puede facilitarte el desarrollo de tus tareas.\n",
    "\n",
    "\n",
    "### 3-. Inspector de Objetos\n",
    "\n",
    "En esta barra de herramientas puedes ver todos los widgets que se encuentran actualmente en tu ventana. Además, puedes observar que widget se encuentra al interior de otro widget y puedes seleccionar cualquiera de ellos para examinar sus propiedades en el editor de propiedades.\n",
    "\n",
    "### 4-. Editor de Propiedades\n",
    "\n",
    "En esta barra de herramientas puedes encontrar todas las propiedades del objeto que tengas seleccionado. Encontrarás separadas las propiedades del objeto que son heredadas de las definidas para sí mismo. Todos los cambios que realices en esta sección quedaran guardados en el archivo de la interfaz, por lo que es una manera sencilla y gráfica de controlar que propiedades tienen los widgets que estás utilizando. \n",
    "\n",
    "### 5-. Editor de Señales/ Editor de Acciones / Navegador de Recursos\n",
    "\n",
    "En el editor de señales puedes crear de manera rápida señales e indicar que tipo de objeto las emitirá y que tipo de objeto las recibira.\n",
    "\n",
    "### 6-. Herramientas del archivo y Modo de edicion\n",
    "\n",
    "Las primeras herramientas son las usuales de todos los programas: abrir un nuevo archivo, guardar el actual o abrir uno existente. Las otras herramientas son para modificar lo que se está editando en la ventana de edición, por defecto está seleccionado el modo de edición de widgets pero si presionamos los otros botones, podrán notar que pueden modificar las señales de los objetos de la ventana.\n",
    "\n",
    "\n",
    "## Utilizando Qt-Designer\n",
    "\n",
    "A continuación crearemos un archivo `.ui` muy simple que luego pueden exportar a su código para utilizarlo. Queremos crear un formulario de Inicio de Sesión que nos pida usuario y contraseña.\n",
    "\n",
    "### Paso 1: Crear archivo .ui en Qt-Designer\n",
    "\n",
    "El primer caso consiste en crear el archivo .qt en la aplicación Qt-Designer. En la aplicación estareos creando la interfaz propiamente tal, por lo que debemos agregar los widgets necesarios para crear el formulario. \n",
    "\n",
    "Intentaremos crear un formulario similar al siguiente:\n",
    "\n",
    "![](images/designer/3.jpg)\n",
    "\n",
    "*Fuente: Imagen de [solvetic](https://www.solvetic.com/uploads/monthly_11_2014/tutorials-2308-0-47141900-1416871693.jpg)*\n",
    "\n",
    "Para crearlo utilizaremos:\n",
    "\n",
    "- 1 *Vertical Layout* que se usará para que los widgets en que se podrá ingresar la contraseña y el usuario queden ordenados uno sobre el otro del mismo tamaño.\n",
    "- 2 *Horizontal Layout* uno para el ingreso de la contraseña, en el que se le agregará un *Label* que indique que en ese espacio se escribe la contraseña y un *Line Edit* para que el usuario pueda escribirla. El otro se usará de manera análoga para el caso del usuario.\n",
    "- 1 *Label* que estará sobre los dos horizontal Layout que dirá \"Inicio de Sesión\".\n",
    "- 1 *Push Button* para que se envie la información que el usuario escribio.\n",
    "\n",
    "Pueden ver la creación del archivo en el siguiente [video](https://youtu.be/RySuxXyySkc)\n",
    "\n",
    "### Paso 2: Exportar archivo a un código en python\n",
    "\n",
    "Ahora que ya tenemos creada la interfaz en el archivo `formulario.ui` solo tenemos que importarlo en nuestro código de la siguiente manera :\n"
   ]
  },
  {
   "cell_type": "code",
   "execution_count": 1,
   "metadata": {},
   "outputs": [
    {
     "name": "stdout",
     "output_type": "stream",
     "text": [
      "nombre de la ventana importada: <class 'Ui_MyMainWindow'>\n"
     ]
    }
   ],
   "source": [
    "from PyQt5.QtWidgets import QApplication\n",
    "from PyQt5 import uic\n",
    "\n",
    "# Cargamos la interfaz creada en QtDesigner\n",
    "qt_name, QtClass = uic.loadUiType(\"formulario.ui\")\n",
    "\n",
    "# Creamos nuestra ventana del formulario heredando desde la interfaz creada con QTDesigner.\n",
    "# La función loadUiType retorna una tupla en donde el primer elemento corresponde al\n",
    "# nombre de la ventana definido en QtDesigner, y el segundo elemento a la clase base de la GUI\n",
    "\n",
    "# Veamos que es el mismo nombre que definimos en qt-designer\n",
    "print(\"nombre de la ventana importada:\", qt_name)\n",
    "\n",
    "class FormWindow(qt_name, QtClass):\n",
    "    def __init__(self):\n",
    "        super().__init__()\n",
    "        self.setupUi(self)\n",
    "        # Inicializamos la interfaz cargada de qt con el método setupUi\n",
    "\n",
    "\n",
    "if __name__ == '__main__':\n",
    "    # Inicializamos la aplicación\n",
    "    app = QApplication([])\n",
    "    form = FormWindow()\n",
    "    form.show()\n",
    "    app.exec_()"
   ]
  },
  {
   "cell_type": "markdown",
   "metadata": {},
   "source": [
    "### Paso 3: Agregar funcionalidad a Interfaz\n",
    "\n",
    "Ahora que tenemos creada la interfaz solo nos falta agregar funcionalidad. Supongamos que tenemos guardados en un diccionario de los usuarios junto a sus contraseñas. Si el usuario o la contraseña es incorrecta se indicará en el status bar de la ventana que los datos ingresados no son correctos. El backend, representado por la clase `Juego`, debe controlar que los usuarios existan y que las contraseñas coincidan.\n"
   ]
  },
  {
   "cell_type": "code",
   "execution_count": null,
   "metadata": {
    "collapsed": true
   },
   "outputs": [],
   "source": [
    "class Juego:\n",
    "    def __init__(self, data):\n",
    "        self.users = data\n",
    "    \n",
    "    def check_user(self, user, password):\n",
    "        return user in self.users and password == self.users[user]"
   ]
  },
  {
   "cell_type": "code",
   "execution_count": 2,
   "metadata": {
    "collapsed": true
   },
   "outputs": [],
   "source": [
    "from PyQt5.QtWidgets import QApplication\n",
    "from PyQt5 import uic\n",
    "\n",
    "# Cargamos la interfaz creada en QtDesigner\n",
    "qt_name, QtClass = uic.loadUiType(\"formulario.ui\")\n",
    "\n",
    "class FormWindow(qt_name, QtClass):\n",
    "    def __init__(self):\n",
    "        super().__init__()\n",
    "        self.setupUi(self)\n",
    "        # Obtenemos el backend con el que vamos a interactuar\n",
    "        self.game = Juego({\"user1\": \"123456\", \"user2\": \"654321\", \"user3\": \"123654\"})\n",
    "        # Conectamos el método process_data con el botón que creamos en\n",
    "        # qt-designer\n",
    "        self.submit_button.clicked.connect(self.process_data)\n",
    "\n",
    "    # Definimos el método que será llamado cuando se presione el boton\n",
    "    def process_data(self):\n",
    "\n",
    "        # obtenemos el usuario y la contraseña de los Line Edit como pueden\n",
    "        # obervar tienen el mismo nombre que definimos en el editor de\n",
    "        # propiedades de qt-designer\n",
    "        user = self.user_input.text()\n",
    "        password = self.password_input.text()\n",
    "        # El backend es el que debe verificar que el usuario exista. \n",
    "        # Recuerden que el backend es el que controla la lógica.\n",
    "        if self.game.check_user(user, password): \n",
    "            self.statusBar().showMessage('Datos ingresados correctamente')\n",
    "        else:\n",
    "            self.statusBar().showMessage('Usuario o contraseña incorrectos')\n",
    "\n",
    "        # borramos los datos que habia ingresado el usuario de los Line Edit\n",
    "        self.user_input.clear()\n",
    "        self.password_input.clear()\n",
    "\n",
    "\n",
    "if __name__ == '__main__':\n",
    "    app = QApplication([])\n",
    "    form = FormWindow()\n",
    "    form.show()\n",
    "    app.exec_()"
   ]
  },
  {
   "cell_type": "markdown",
   "metadata": {},
   "source": [
    "Como podemos observar tenemos un formulario muy básico que ya es funcional utilizando tanto qt-desginer como código directamente desde python."
   ]
  }
 ],
 "metadata": {
  "kernelspec": {
   "display_name": "Python 3",
   "language": "python",
   "name": "python3"
  },
  "language_info": {
   "codemirror_mode": {
    "name": "ipython",
    "version": 3
   },
   "file_extension": ".py",
   "mimetype": "text/x-python",
   "name": "python",
   "nbconvert_exporter": "python",
   "pygments_lexer": "ipython3",
   "version": "3.6.5"
  }
 },
 "nbformat": 4,
 "nbformat_minor": 1
}
