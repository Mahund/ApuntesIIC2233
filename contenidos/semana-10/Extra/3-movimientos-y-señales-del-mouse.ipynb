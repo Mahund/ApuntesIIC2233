{
 "cells": [
  {
   "cell_type": "markdown",
   "metadata": {},
   "source": [
    "<font size='1'>Material elaborado en 2017-2 por Hugo Navarrete e Ignacio Acevedo.</font>"
   ]
  },
  {
   "cell_type": "markdown",
   "metadata": {},
   "source": [
    "# Movimientos y señales del mouse\n",
    "\n",
    "Dentro de una interfaz podríamos necesitar utilizar la posición del mouse o realizar cierta acción al momento de hacer un click (como dispararle a alienígenas intergalácticos). Para nuestro beneficio, PyQt5 tiene integradas varias funcionalidades para poder utilizar y manejar esta información."
   ]
  },
  {
   "cell_type": "markdown",
   "metadata": {},
   "source": [
    "## Movimiento\n",
    "\n",
    "En el siguiente ejemplo, vamos a ver la posición global del mouse mediante el evento `mouseMoveEvent`. Para esto, vamos a activar el _tracking_ del mouse en el `widget` y `label` que queramos seguir. En el ejemplo, solo lo activamos en el label azul; el label verde no mostrará la posición del mouse. "
   ]
  },
  {
   "cell_type": "code",
   "execution_count": null,
   "metadata": {},
   "outputs": [],
   "source": [
    "import sys\n",
    "from PyQt5.QtWidgets import (QApplication, QWidget, QLabel)\n",
    "from PyQt5.QtGui import QPixmap\n",
    "from PyQt5.QtCore import QRect\n",
    "\n",
    "\n",
    "class MiVentana(QWidget):\n",
    "    def __init__(self, *args, **kwargs):\n",
    "        super().__init__(*args, **kwargs)\n",
    "        self.init_GUI()\n",
    "\n",
    "    def init_GUI(self):\n",
    "        self.setGeometry(300, 100, 225, 450)\n",
    "        self.setMaximumHeight(450)\n",
    "        self.setMaximumWidth(225)\n",
    "        self.setWindowTitle('Tracking')\n",
    "        \n",
    "        # Creamos el label\n",
    "        self.blue_label = QLabel('AZUL', self)\n",
    "        self.blue_label.move(0, 0)\n",
    "        self.blue_label.setGeometry(QRect(0, 0, 225, 225))  # (x, y, height, width)\n",
    "        \n",
    "        self.green_label = QLabel('VERDE', self)\n",
    "        self.green_label.move(0, 0)\n",
    "        self.green_label.setGeometry(QRect(0, 225, 225, 225))\n",
    "        \n",
    "        self.pixmap_azul = QPixmap('images/colors/azul.png') # Creamos el pixmap\n",
    "        self.pixmap_verde = QPixmap('images/colors/verde.png')\n",
    "        \n",
    "        self.blue_label.setPixmap(self.pixmap_azul) # Asignamos el pixmap\n",
    "        self.green_label.setPixmap(self.pixmap_verde)\n",
    "        \n",
    "        self.setMouseTracking(True) # Activamos el tracking en nuestra ventana y nuestra label azul\n",
    "        self.blue_label.setMouseTracking(True)\n",
    "        self.blue_label.show()\n",
    "        self.green_label.show()\n",
    "        self.show()\n",
    "\n",
    "    def mouseMoveEvent(self, event):\n",
    "        print(event.pos()) \n",
    "\n",
    "\n",
    "if __name__ == '__main__':\n",
    "    app = QApplication([])\n",
    "    form = MiVentana()\n",
    "    sys.exit(app.exec_())\n"
   ]
  },
  {
   "cell_type": "markdown",
   "metadata": {},
   "source": [
    "## Press Event\n",
    "\n",
    "En este ejemplo vamos a ocupar el evento `mousePressEvent`, el cual se activa al presionar un click. Los _labels_ se ocultarán cuando se haga _click_ en ellos y se mostrarán cuando se haga _click_ en la posición en la que estaban."
   ]
  },
  {
   "cell_type": "code",
   "execution_count": null,
   "metadata": {},
   "outputs": [],
   "source": [
    "import sys\n",
    "from PyQt5.QtWidgets import (QApplication, QWidget, QPushButton, QLabel)\n",
    "from PyQt5.QtGui import QPixmap\n",
    "from PyQt5.QtCore import QRect\n",
    "\n",
    "\n",
    "class MiVentana(QWidget):\n",
    "    def __init__(self, *args, **kwargs):\n",
    "        super().__init__(*args, **kwargs)\n",
    "        self.init_GUI()\n",
    "\n",
    "    def init_GUI(self):\n",
    "        self.setGeometry(300, 100, 225, 450)\n",
    "        self.setMaximumHeight(450)\n",
    "        self.setMaximumWidth(225)\n",
    "        self.setWindowTitle('Move Event')\n",
    "        \n",
    "        self.blue_hide = True\n",
    "        self.blue_label = QLabel('AZUL', self)\n",
    "        self.blue_label.move(0, 0)\n",
    "        self.blue_label.setGeometry(QRect(0, 0, 225, 225))  # (x, y, height, width)\n",
    "        self.pixmap_azul = QPixmap('images/colors/azul.png')\n",
    "        self.blue_label.setPixmap(self.pixmap_azul)\n",
    "        self.blue_label.show()\n",
    "        \n",
    "        self.green_hide = True\n",
    "        self.green_label = QLabel('VERDE', self)\n",
    "        self.green_label.move(0, 0)\n",
    "        self.green_label.setGeometry(QRect(0, 225, 225, 225))\n",
    "        self.pixmap_verde = QPixmap('images/colors/verde.png')  \n",
    "        self.green_label.setPixmap(self.pixmap_verde)       \n",
    "        self.green_label.show()\n",
    "        \n",
    "        self.show()\n",
    "\n",
    "    def mousePressEvent(self, event):\n",
    "        if event.y() <= 225: # Este es el alto del label\n",
    "            if self.blue_hide:\n",
    "                self.blue_label.hide()\n",
    "            else:\n",
    "                self.blue_label.show()\n",
    "            self.blue_hide = not self.blue_hide\n",
    "        else:\n",
    "            if self.green_hide:\n",
    "                self.green_label.hide()\n",
    "            else:\n",
    "                self.green_label.show()\n",
    "            self.green_hide = not self.green_hide\n",
    "\n",
    "\n",
    "if __name__ == '__main__':\n",
    "    app = QApplication([])\n",
    "    form = MiVentana()\n",
    "    sys.exit(app.exec_())"
   ]
  }
 ],
 "metadata": {
  "kernelspec": {
   "display_name": "Python 3",
   "language": "python",
   "name": "python3"
  },
  "language_info": {
   "codemirror_mode": {
    "name": "ipython",
    "version": 3
   },
   "file_extension": ".py",
   "mimetype": "text/x-python",
   "name": "python",
   "nbconvert_exporter": "python",
   "pygments_lexer": "ipython3",
   "version": "3.6.5"
  }
 },
 "nbformat": 4,
 "nbformat_minor": 1
}
