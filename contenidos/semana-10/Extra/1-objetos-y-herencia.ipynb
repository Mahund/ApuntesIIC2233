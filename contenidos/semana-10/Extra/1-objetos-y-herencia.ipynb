{
 "cells": [
  {
   "cell_type": "markdown",
   "metadata": {},
   "source": [
    "<font size='1'>Material elaborado en 2017-2 por Hugo Navarrete e Ignacio Acevedo.</font>"
   ]
  },
  {
   "cell_type": "markdown",
   "metadata": {},
   "source": [
    "# PyQt5: Objetos\n",
    "\n",
    "Toda ventana, botón, u otro instrumento a usar en PyQt5 es un objeto. No ahondaremos más en como funcionan o se organiza la jerarquía entre las distintas clases de PyQt5, pero es importante tener en cuenta que podemos aplicar todo el conocimiento de OOP con nuestra interfaz gráfica. Podemos entregar características especiales a cada objeto y heredar lo que necesitemos, y así, poder personalizar aún más nuestro programa. En el material se encuentran varios ejemplos donde aprovechamos esto."
   ]
  },
  {
   "cell_type": "code",
   "execution_count": null,
   "metadata": {},
   "outputs": [],
   "source": [
    "import sys\n",
    "from PyQt5.QtWidgets import (QApplication, QWidget, QPushButton)\n",
    "\n",
    "\n",
    "class MiBoton(QPushButton):\n",
    "    def __init__(self, *args):\n",
    "        QPushButton.__init__(self, *args)\n",
    "        self.contador = 0\n",
    "\n",
    "    def contar(self):\n",
    "        self.contador += 1\n",
    "\n",
    "\n",
    "class MiVentana(QWidget):\n",
    "    def __init__(self, *args, **kwargs):\n",
    "        super().__init__(*args, **kwargs)\n",
    "        self.init_GUI()\n",
    "\n",
    "    def init_GUI(self):\n",
    "        self.boton = MiBoton(\"Press Me :D\", self)\n",
    "        self.boton.resize(self.boton.sizeHint())\n",
    "        self.boton.move(60, 100)\n",
    "        self.setGeometry(200, 200, 200, 200)\n",
    "        self.setMaximumHeight(200)\n",
    "        self.setMaximumWidth(200)\n",
    "        self.boton.clicked.connect(self.boton_clickeado)\n",
    "        self.show()\n",
    "\n",
    "    def boton_clickeado(self):\n",
    "        self.boton.contar()\n",
    "        print(self.boton.contador)\n",
    "\n",
    "\n",
    "if __name__ == '__main__':\n",
    "    app = QApplication([])\n",
    "    form = MiVentana()\n",
    "    sys.exit(app.exec_())\n"
   ]
  }
 ],
 "metadata": {
  "kernelspec": {
   "display_name": "Python 3",
   "language": "python",
   "name": "python3"
  },
  "language_info": {
   "codemirror_mode": {
    "name": "ipython",
    "version": 3
   },
   "file_extension": ".py",
   "mimetype": "text/x-python",
   "name": "python",
   "nbconvert_exporter": "python",
   "pygments_lexer": "ipython3",
   "version": "3.6.5"
  }
 },
 "nbformat": 4,
 "nbformat_minor": 2
}
