{
 "cells": [
  {
   "cell_type": "markdown",
   "metadata": {},
   "source": [
    "<p>\n",
    "<font size='5' face='Georgia, Arial'>IIC-2233 Apunte Programación Avanzada</font><br>\n",
    "<font size='1'>&copy; 2015 Karim Pichara - Christian Pieringer. Todos los derechos reservados.</font>\n",
    "<br>\n",
    "<font size='1'> Modificado en 2018-1, 2018-2 por Equipo Docente IIC2233</font>\n",
    "</p>"
   ]
  },
  {
   "cell_type": "markdown",
   "metadata": {},
   "source": [
    "# Programación Funcional\n",
    "\n",
    "En este capítulo explicaremos los conceptos básicos de programación funcional y cómo este paradigma de programación se puede usar en Python.\n",
    "\n",
    "De acuerdo al lenguaje de programación que estemos utilizando, podemos enfrentar un problema usando las siguientes estrategias:\n",
    "\n",
    "- **Procedimental**: la solución se estructura como un programa lineal. Esto es una lista de instrucciones que indican al computador qué se debe hacer con la entrada del programa en cada paso. \n",
    "\n",
    "- **Vectorial**: se utiliza principalmente para programas matemáticos donde hay un paralelismo implícito en los cálculos. La programación se realiza secuencialmente y el compilador se encarga de generar paralelismo en las partes donde es posible distribuir el trabajo.\n",
    "\n",
    "- **Declarativa**: el usuario declara un problema resolver, luego el computador determina la mejor manera de resolver el problema de manera eficiente. Por ejemplo, al consultar una base de datos SQL, donde el usuario describe de forma general una pregunta en SQL y el computador decide por si mismo cómo mover los datos para responder esa pregunta. Otro ejemplo típico, son los lenguajes que resuelven problemas de optimización, donde se declaran todas las restricciones y función objetivo y es el computador el encargado de decidir cómo resolver el problema.\n",
    "\n",
    "- **Orientada a Objetos**: esto programas modelan las funcionalidades a través de interacciones entre objetos. Se utilizan los datos/atrributos de los objetos y sus comportamientos para dar sentido al programa.\n",
    "\n",
    "- **Programación Funcional**: es programación procedimental de alto nivel. La solución del problema se estructura como un conjunto de funciones. Estas funciones reciben entradas y generan salidas. Las funciones no tienen estado, es decir, el _output_ depende exclusivamente de los datos de entrada y no otras variables externas que puedan modificar el cómputo.\n",
    "\n",
    "Python es un lenguaje multiparadigma, es decir, las soluciones pueden ser escritas de forma procedimental, orientada a objetos o funcional. Así, nuestros programas podrían ser escritos usando los diferentes enfoques de forma simultánea.\n",
    "\n",
    "En programación funcional, el valor de retorno de una función depende solamente de los parámetros de entrada de la función. Si se trabajara con un paradigma estrictamente funcional, las funciones solo pueden leer los parámetros de entrada para retornar un valor. Esto implica que si uno de los parámetros es un objeto, en ningún caso es posible modificar los atributos de ese objeto.\n",
    "\n",
    "En este paredigma todo es visto como el *output* de una función. Además, como el *output* de una función solo depende de su *input*, siempre podemos saber el valor de una variable que guarda el resultado de una función. Bajo ninguna circunstancia esa variable cambiará de valor a menos que le asignemos el *output* de otra función. Estas características otorgan claridad al código que se escribe, pues estamos seguros de que cuando se ejecuta una función no se cambian otros valores fuera de su _scope_."
   ]
  },
  {
   "cell_type": "markdown",
   "metadata": {},
   "source": [
    "## Funciones en Python\n",
    "\n",
    "Existen muchas funciones que vienen implementadas en Python, principalmente con el propósito de simplificar y \n",
    "abstraer cálculos que pueden aplicar a objetos de clases distintas (_duck typing_). Pueden revisar todas ellas en la [documentación de funciones](https://docs.python.org/3.6/library/functions.html) de Python. Veamos algunos ejemplos:"
   ]
  },
  {
   "cell_type": "markdown",
   "metadata": {},
   "source": [
    "### `len`\n",
    "\n",
    "Retorna el número de elementos que posee un contenedor, como por ejemplo una lista, un diccionario, un _set_, etc."
   ]
  },
  {
   "cell_type": "code",
   "execution_count": 1,
   "metadata": {},
   "outputs": [
    {
     "name": "stdout",
     "output_type": "stream",
     "text": [
      "6\n",
      "2\n"
     ]
    }
   ],
   "source": [
    "print(len([3, 4, 1, 5, 5, 2]))\n",
    "print(len({'nombre': 'Juan', 'apellido': 'Martínez'}))"
   ]
  },
  {
   "cell_type": "markdown",
   "metadata": {},
   "source": [
    "La función `len()` aplicada a un objeto en particular `objeto` hace un llamado a `objeto.__len__()`. La función `__len__` viene implementada en varias clases de estructuras de datos _built-in_. \n",
    "\n",
    "Podemos ver que llamando a `objeto.__len__()` directamente obtenemos el mismo resultado que a través de `len(objeto)`"
   ]
  },
  {
   "cell_type": "code",
   "execution_count": 2,
   "metadata": {},
   "outputs": [
    {
     "name": "stdout",
     "output_type": "stream",
     "text": [
      "6\n",
      "2\n"
     ]
    }
   ],
   "source": [
    "print([3, 4, 1, 5, 5, 2].__len__())\n",
    "print({'nombre': 'Juan', 'apellido': 'Martinez'}.__len__())"
   ]
  },
  {
   "cell_type": "markdown",
   "metadata": {},
   "source": [
    "También se puede hacer _overriding_ del método `__len__`. Supongamos que queremos implementar un tipo especial de lista cuyo método `__len__` retorna el largo de la lista sin considerar los elementos que se repiten:"
   ]
  },
  {
   "cell_type": "code",
   "execution_count": 1,
   "metadata": {},
   "outputs": [
    {
     "data": {
      "text/plain": [
       "7"
      ]
     },
     "execution_count": 1,
     "metadata": {},
     "output_type": "execute_result"
    }
   ],
   "source": [
    "class MiLista(list):\n",
    "    \"\"\"Tipo especial de lista, donde len(lista) retorna el largo sin considerar repetidos\"\"\"\n",
    "    \n",
    "    def __len__(self):\n",
    "        # Creamos un set con los datos que tenemos\n",
    "        set_ = set(self)\n",
    "        \n",
    "        # Retornamos el largo de este set aprovechando que elimina los repetidos\n",
    "        return len(set_)\n",
    "    \n",
    "mi_lista = MiLista([1, 2, 3, 4, 5, 6, 6, 7, 7, 7, 7, 2, 2, 3, 3, 1, 1])\n",
    "len(mi_lista)"
   ]
  },
  {
   "cell_type": "markdown",
   "metadata": {},
   "source": [
    "### `__getitem__`\n",
    "\n",
    "Al definir esta función dentro de una clase, podemos acceder a los elementos mediante algún tipo de índice mediante `objeto[valor]`."
   ]
  },
  {
   "cell_type": "code",
   "execution_count": 4,
   "metadata": {},
   "outputs": [
    {
     "name": "stdout",
     "output_type": "stream",
     "text": [
      "Pidiendo el elemento 0:\n"
     ]
    },
    {
     "data": {
      "text/plain": [
       "'H'"
      ]
     },
     "execution_count": 4,
     "metadata": {},
     "output_type": "execute_result"
    }
   ],
   "source": [
    "class EnvoltorioString:\n",
    "    \n",
    "    def __init__(self, palabra=None):\n",
    "        self.palabra = palabra\n",
    "        \n",
    "    def __getitem__(self, i):\n",
    "        print(f\"Pidiendo el elemento {i}:\")\n",
    "        return self.palabra[i]\n",
    "\n",
    "envoltorio = EnvoltorioString(\"Hola-Mundo\")\n",
    "envoltorio[0]"
   ]
  },
  {
   "cell_type": "markdown",
   "metadata": {},
   "source": [
    "Además, definir `__getitem__` nos permite iterar sobre la estructura mediante un `for`, es decir, será **iterable**. En este caso, el `for` irá pidiendo los elementos desde el 0 en adelante hasta que se lance una excepción. \n",
    "\n",
    "En nuestro ejemplo, esto nos permite iterar sobre la palabra completa. Al intentar acceder fuera del largo de la palabra que estamos guardando, se lanza una exepción de tipo `IndexError` que parará el `for`."
   ]
  },
  {
   "cell_type": "code",
   "execution_count": 5,
   "metadata": {},
   "outputs": [
    {
     "name": "stdout",
     "output_type": "stream",
     "text": [
      "Pidiendo el elemento 0:\n",
      "H\n",
      "\n",
      "Pidiendo el elemento 1:\n",
      "o\n",
      "\n",
      "Pidiendo el elemento 2:\n",
      "l\n",
      "\n",
      "Pidiendo el elemento 3:\n",
      "a\n",
      "\n",
      "Pidiendo el elemento 4:\n",
      "-\n",
      "\n",
      "Pidiendo el elemento 5:\n",
      "M\n",
      "\n",
      "Pidiendo el elemento 6:\n",
      "u\n",
      "\n",
      "Pidiendo el elemento 7:\n",
      "n\n",
      "\n",
      "Pidiendo el elemento 8:\n",
      "d\n",
      "\n",
      "Pidiendo el elemento 9:\n",
      "o\n",
      "\n",
      "Pidiendo el elemento 10:\n"
     ]
    }
   ],
   "source": [
    "for caracter in envoltorio:\n",
    "    print(caracter)\n",
    "    print()"
   ]
  },
  {
   "cell_type": "markdown",
   "metadata": {},
   "source": [
    "### `reversed`\n",
    "\n",
    "La función `reversed()` toma una sequencia cualquiera como input y retorna una copia de la secuencia en orden inverso. \n",
    "También podemos personalizar la función haciendo un _overriding_ de `__reversed__` en cada clase. \n",
    "\n",
    "Si no personalizamos el método `__reversed__`, se usará el _built-in_ que iterará usando `__getitem__` y `__len__`. En ese caso, se itera `__len__` veces sobre el objeto usando `__getitem__` hacia atrás.\n",
    "\n",
    "Por ejemplo, podemos definir un tipo especial de lista que hace _override_ de `__reversed__`. En este caso, intercambia la primera mitad con la segunda, en vez de invertir el orden de los elementos."
   ]
  },
  {
   "cell_type": "code",
   "execution_count": 1,
   "metadata": {},
   "outputs": [
    {
     "name": "stdout",
     "output_type": "stream",
     "text": [
      "Clase list: 6, 5, 4, 3, 2, 1, \n",
      "Clase ListaReversaMitad: 4, 5, 6, 1, 2, 3, \n"
     ]
    }
   ],
   "source": [
    "lista = [1, 2, 3, 4, 5, 6]\n",
    "\n",
    "\n",
    "class ListaReversaMitad(list):\n",
    "    \n",
    "    def __init__(self, *args):\n",
    "        super().__init__(args)\n",
    "        \n",
    "    def __reversed__(self):\n",
    "        mitad = len(self) // 2\n",
    "        return self[mitad:] + self[:mitad]\n",
    "    \n",
    "\n",
    "for secuencia in lista, ListaReversaMitad(*lista):\n",
    "    print(f\"Clase {type(secuencia).__name__}: \", end='')\n",
    "    for elemento in reversed(secuencia):\n",
    "        print(elemento, end=', ')\n",
    "    print()"
   ]
  },
  {
   "cell_type": "markdown",
   "metadata": {},
   "source": [
    "### `enumerate`\n",
    "\n",
    "`enumerate()` crea una lista de tuplas, donde el primer objeto en cada tupla es el indice y el segundo es el ítem original.\n",
    "\n",
    "Por ejemplo, si queremos iterar sobre una lista, y necesitamos obtener tanto el índice como su valor, una forma poco _pythonic_ de hacer esto sería la siguiente:"
   ]
  },
  {
   "cell_type": "code",
   "execution_count": 7,
   "metadata": {},
   "outputs": [
    {
     "name": "stdout",
     "output_type": "stream",
     "text": [
      "0: a\n",
      "1: b\n",
      "2: c\n",
      "3: d\n"
     ]
    }
   ],
   "source": [
    "lista = [\"a\",\"b\",\"c\",\"d\"]\n",
    "\n",
    "for indice in range(len(lista)):\n",
    "    elemento = lista[indice]\n",
    "    print(f\"{indice}: {elemento}\")"
   ]
  },
  {
   "cell_type": "markdown",
   "metadata": {},
   "source": [
    "La función `enumerate` nos permite hacer exactamente mismo, pero de una forma más elegante y _pythonic_:"
   ]
  },
  {
   "cell_type": "code",
   "execution_count": 8,
   "metadata": {},
   "outputs": [
    {
     "name": "stdout",
     "output_type": "stream",
     "text": [
      "0: a\n",
      "1: b\n",
      "2: c\n",
      "3: d\n"
     ]
    }
   ],
   "source": [
    "for indice, elemento in enumerate(lista):\n",
    "    print(f\"{indice}: {elemento}\")"
   ]
  },
  {
   "cell_type": "markdown",
   "metadata": {},
   "source": [
    "### `zip`\n",
    "\n",
    "Toma dos o más secuencias o iterables y genera una lista de tuplas, donde el elemento i-ésimo contiene la tupla formada de los elementos i-ésimos de cada una de las secuencias o iterables. El largo de la lista retornada es igual al menor de los largos de las secuencias o iterables.\n",
    "\n",
    "A modo de ejemplo, consideremos que tenemos una tupla con los _headers_ de un `CSV` y una tupla con los datos de una persona en particular. Queremos obtener una lista con tuplas, donde en cada una aparezca el _header_ con su valor:"
   ]
  },
  {
   "cell_type": "code",
   "execution_count": 9,
   "metadata": {},
   "outputs": [
    {
     "data": {
      "text/plain": [
       "[('nombre', 'Juan'), ('apellido', 'Perez'), ('email', 'jp1@hotmail.com')]"
      ]
     },
     "execution_count": 9,
     "metadata": {},
     "output_type": "execute_result"
    }
   ],
   "source": [
    "campos = ('nombre', 'apellido', 'email')\n",
    "persona = (\"Juan\", 'Perez', 'jp1@hotmail.com')\n",
    "\n",
    "list(zip(campos, persona))"
   ]
  },
  {
   "cell_type": "markdown",
   "metadata": {},
   "source": [
    "Si ampliamos nuestro ejemplo con una lista de tuplas de personas:"
   ]
  },
  {
   "cell_type": "code",
   "execution_count": 10,
   "metadata": {},
   "outputs": [
    {
     "data": {
      "text/plain": [
       "[('nombre', 'Juan', 'Gonzalo', 'Alberto'),\n",
       " ('apellido', 'Perez', 'Aldunate', 'Gomez'),\n",
       " ('email', 'jp1@hotmail.com', 'gan@gmail.com', 'agomez@yahoo.com')]"
      ]
     },
     "execution_count": 10,
     "metadata": {},
     "output_type": "execute_result"
    }
   ],
   "source": [
    "campos = ('nombre', 'apellido', 'email')\n",
    "personas = [\n",
    "            (\"Juan\", 'Perez', 'jp1@hotmail.com'), \n",
    "            (\"Gonzalo\", 'Aldunate', 'gan@gmail.com'),\n",
    "            (\"Alberto\", 'Gomez', 'agomez@yahoo.com')\n",
    "           ]\n",
    "\n",
    "# El asterico simple es para pasar la \n",
    "# lista de personas como varios argumentos\n",
    "# separados. Si personas = [p1, p2, p3] lo de\n",
    "# abajo es equivalente a zip(campos, p1, p2, p3)\n",
    "list(zip(campos, *personas))"
   ]
  },
  {
   "cell_type": "markdown",
   "metadata": {},
   "source": [
    "También recordemos que `zip` sólo tomará la cantidad de elementos del iterable más corto. Si quieres que tome en cuenta la lista más larga puedes ver la función [`zip_longest`](https://docs.python.org/3.6/library/itertools.html#itertools.zip_longest) del paquete `itertools`."
   ]
  },
  {
   "cell_type": "code",
   "execution_count": 11,
   "metadata": {},
   "outputs": [
    {
     "data": {
      "text/plain": [
       "[('nombre', 'Juan'), ('apellido', 'Perez'), ('email', 'jp1@hotmail.com')]"
      ]
     },
     "execution_count": 11,
     "metadata": {},
     "output_type": "execute_result"
    }
   ],
   "source": [
    "campos = ('nombre', 'apellido', 'email')\n",
    "persona = (\"Juan\", 'Perez', 'jp1@hotmail.com', '+56123188171')\n",
    "\n",
    "list(zip(campos, persona))"
   ]
  },
  {
   "cell_type": "markdown",
   "metadata": {},
   "source": [
    "#### `zip` como inversa de sí misma\n",
    "\n",
    "`zip` en conjunto con el operador `*` (usado para desempacar listas o tuplas a argumentos de una función) puede ser usado como inversa de la operación `zip`."
   ]
  },
  {
   "cell_type": "code",
   "execution_count": 5,
   "metadata": {},
   "outputs": [
    {
     "name": "stdout",
     "output_type": "stream",
     "text": [
      "<zip object at 0x00CEEAD0>\n",
      "[(1, 'a'), (2, 'b'), (3, 'c'), (4, 'd')]\n"
     ]
    }
   ],
   "source": [
    "a = [1, 2, 3, 4]\n",
    "b = ['a', 'b', 'c', 'd']\n",
    "c = [a,b]\n",
    "\n",
    "zipped = zip(*c)\n",
    "print(zipped)\n",
    "zipped = list(zipped)\n",
    "print(zipped)"
   ]
  },
  {
   "cell_type": "code",
   "execution_count": 6,
   "metadata": {},
   "outputs": [
    {
     "name": "stdout",
     "output_type": "stream",
     "text": [
      "<zip object at 0x00D30440>\n"
     ]
    },
    {
     "data": {
      "text/plain": [
       "[(1, 2, 3, 4), ('a', 'b', 'c', 'd')]"
      ]
     },
     "execution_count": 6,
     "metadata": {},
     "output_type": "execute_result"
    }
   ],
   "source": [
    "unzipped = zip(*zipped)\n",
    "print(unzipped)\n",
    "unzipped = list(unzipped)\n",
    "unzipped"
   ]
  },
  {
   "cell_type": "markdown",
   "metadata": {},
   "source": [
    "En el ejemplo, al ejecutar `zip(*zipped)` el desempaquetamiento entrega los 4 iterables a `zip` **por separado**. Cada uno de estos iterables tiene largo 2. Luego, zip concatena todos los primeros elementos `(1, 2, 3, 4)` y luego todos los segundos elementos `('a', 'b', 'c', 'd')`, volviendo a como estaba en un principio."
   ]
  }
 ],
 "metadata": {
  "kernelspec": {
   "display_name": "Python 3",
   "language": "python",
   "name": "python3"
  },
  "language_info": {
   "codemirror_mode": {
    "name": "ipython",
    "version": 3
   },
   "file_extension": ".py",
   "mimetype": "text/x-python",
   "name": "python",
   "nbconvert_exporter": "python",
   "pygments_lexer": "ipython3",
   "version": "3.6.6"
  }
 },
 "nbformat": 4,
 "nbformat_minor": 2
}
