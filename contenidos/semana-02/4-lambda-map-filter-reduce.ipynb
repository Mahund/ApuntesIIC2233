{
 "cells": [
  {
   "cell_type": "markdown",
   "metadata": {},
   "source": [
    "<p>\n",
    "<font size='5' face='Georgia, Arial'>IIC-2233 Apunte Programación Avanzada</font><br>\n",
    "<font size='1'>&copy; 2015 Karim Pichara - Christian Pieringer. Todos los derechos reservados.</font>\n",
    "<br>\n",
    "<font size='1'> Modificado en 2018-1, 2018-2 por Equipo Docente IIC2233</font>\n",
    "</p>"
   ]
  },
  {
   "cell_type": "markdown",
   "metadata": {},
   "source": [
    "## Funciones _lambda_\n",
    "\n",
    "Antes de explicar qué son las funciones _lambda_, necesitamos hablar sobre cómo se tratan las funciones en Python. En el caso de Python, se dice que el lenguaje tiene funciones de primera clase (_first-class functions_), es decir, que las funciones son tratadas como cualquier otra variable. Esto no es así en otros lenguajes como Java, en el que recientemente se ha empezado a incorporar esta característica con algunas limitaciones.\n",
    "\n",
    "El que las funciones sean de primera clase tiene algunas consecuencias, como:\n",
    "\n",
    "1\\. Las funciones pueden ser asignadas a una variable, y luego usar esa variable igual que la función.\n"
   ]
  },
  {
   "cell_type": "code",
   "execution_count": 1,
   "metadata": {},
   "outputs": [
    {
     "name": "stdout",
     "output_type": "stream",
     "text": [
      "8\n",
      "8\n"
     ]
    }
   ],
   "source": [
    "def suma(x, y):\n",
    "    return x + y\n",
    "\n",
    "adición = suma\n",
    "\n",
    "print(suma(3, 5))\n",
    "print(adición(3, 5))"
   ]
  },
  {
   "cell_type": "markdown",
   "metadata": {},
   "source": [
    "2\\. Las funciones pueden ser pasadas como parámetro a otras funciones."
   ]
  },
  {
   "cell_type": "code",
   "execution_count": 2,
   "metadata": {},
   "outputs": [
    {
     "name": "stdout",
     "output_type": "stream",
     "text": [
      "Buenas tardes Señora Valeria\n",
      "Buenas tardes Señor Germán\n"
     ]
    }
   ],
   "source": [
    "def saludar_señora(nombre):\n",
    "    return ' '.join([\"Señora\", nombre])\n",
    "\n",
    "def saludar_señor(nombre):\n",
    "    return ' '.join([\"Señor\", nombre])\n",
    "\n",
    "def saludar_tarde(función_saludo, nombre):\n",
    "    return ' '.join([\"Buenas tardes\", función_saludo(nombre)])\n",
    "\n",
    "print(saludar_tarde(saludar_señora, \"Valeria\"))\n",
    "print(saludar_tarde(saludar_señor, \"Germán\"))"
   ]
  },
  {
   "cell_type": "markdown",
   "metadata": {},
   "source": [
    "Hay más implicancias producto de tener funciones de primera clase, pero hemos visto todas las que necesitamos para entender las funciones _lambda_ y cómo las vamos a usar.\n",
    "\n",
    "**Las funciones _lambda_** son una forma alternativa de definir funciones en Python. Además de su nombre griego, no hay nada intimidante en ellas. Veamos un ejemplo de cómo definirlas:"
   ]
  },
  {
   "cell_type": "code",
   "execution_count": 3,
   "metadata": {
    "collapsed": true
   },
   "outputs": [],
   "source": [
    "sucesor = lambda x: x + 1\n",
    "\n",
    "# Es (casi) equivalente a\n",
    "\n",
    "def sumar_uno(x):\n",
    "    return x + 1"
   ]
  },
  {
   "cell_type": "code",
   "execution_count": 4,
   "metadata": {
    "collapsed": true
   },
   "outputs": [],
   "source": [
    "restar = lambda x, y: x - y\n",
    "\n",
    "# Es (casi) equivalente a\n",
    "def sustracción(x, y):\n",
    "    return x - y"
   ]
  },
  {
   "cell_type": "markdown",
   "metadata": {},
   "source": [
    "Como se puede observar, la sintaxis consiste en `lambda <parámetros>: <valor a retornar>`. En estas funciones no se necesita la sentencia `return`, puesto que la operación que se coloca a la derecha de los dos puntos (`:`) es el valor que se devolverá.\n",
    "\n",
    "Una característica que distingue a las funciones _lambda_ es que **pueden ser definidas en forma anónima**, es decir, funciones que no reciben un nombre específico."
   ]
  },
  {
   "cell_type": "code",
   "execution_count": 5,
   "metadata": {},
   "outputs": [
    {
     "data": {
      "text/plain": [
       "'<lambda>'"
      ]
     },
     "execution_count": 5,
     "metadata": {},
     "output_type": "execute_result"
    }
   ],
   "source": [
    "restar.__name__"
   ]
  },
  {
   "cell_type": "code",
   "execution_count": 6,
   "metadata": {},
   "outputs": [
    {
     "data": {
      "text/plain": [
       "'sustracción'"
      ]
     },
     "execution_count": 6,
     "metadata": {},
     "output_type": "execute_result"
    }
   ],
   "source": [
    "sustracción.__name__"
   ]
  },
  {
   "cell_type": "markdown",
   "metadata": {},
   "source": [
    "Estas funciones pueden ser vistas como _fugaces_ y son utilizadas únicamente donde fueron creadas. Esta anonimidad se combina bien con las funciones que veremos a continuación: `map`, `filter`, `reduce`."
   ]
  },
  {
   "cell_type": "markdown",
   "metadata": {},
   "source": [
    "## `map`\n",
    "\n",
    "`map` recibe como parámetros una función y **al menos** un iterable. Retorna un generador que resulta de aplicar la función sobre cada elemento del iterable. Es así como `map(f, iterable)` es equivalente a `(f(x) for x in iterable)`.\n",
    "\n",
    "La cantidad de iterables entregada a `map` debe corresponder con la cantidad de parámetros que recible la función `f`. Por ejemplo, si tenemos `map(f, iterable1, iterable2)` entonces `f` debe recibir dos parámetros. Es así como  `map(f, iterable1, iterable2)` es equivalente a `(f(x, y) for x, y in zip(iterable1, iterable2))`.\n",
    "\n",
    "### Ejemplos"
   ]
  },
  {
   "cell_type": "markdown",
   "metadata": {},
   "source": [
    "1\\. Tenemos una lista de `strings`, donde queremos colocar cada uno en minúsculas:"
   ]
  },
  {
   "cell_type": "code",
   "execution_count": 7,
   "metadata": {},
   "outputs": [],
   "source": [
    "strings = ['Señores pasajeros', 'Disculpen', 'mi', 'IntencIÓN', 'no', 'Es', 'MolEstar']\n",
    "mapeo = map(lambda x: x.lower(), strings)"
   ]
  },
  {
   "cell_type": "code",
   "execution_count": 8,
   "metadata": {},
   "outputs": [
    {
     "data": {
      "text/plain": [
       "['señores pasajeros', 'disculpen', 'mi', 'intención', 'no', 'es', 'molestar']"
      ]
     },
     "execution_count": 8,
     "metadata": {},
     "output_type": "execute_result"
    }
   ],
   "source": [
    "#', '.join(mapeo)\n",
    "list(mapeo)"
   ]
  },
  {
   "cell_type": "markdown",
   "metadata": {},
   "source": [
    "2\\. Tenemos dos o más listas de números y queremos, a partir de esos números, calcular otro:"
   ]
  },
  {
   "cell_type": "code",
   "execution_count": 10,
   "metadata": {},
   "outputs": [
    {
     "name": "stdout",
     "output_type": "stream",
     "text": [
      "[290, 148, 130, 116]\n",
      "[289, 82, 249, 833]\n"
     ]
    }
   ],
   "source": [
    "a = [1, 2, 3, 4]\n",
    "b = [17, 12, 11, 10]\n",
    "c = [-1, -4, 5, 9]\n",
    "\n",
    "mapeo_1 = map(lambda x, y: x ** 2 + y ** 2, a, b)\n",
    "mapeo_2 = map(lambda x, y, z: x + y ** 2 + z ** 3, a, b, c)\n",
    "\n",
    "print(list(mapeo_1))\n",
    "print(list(mapeo_2))"
   ]
  },
  {
   "cell_type": "markdown",
   "metadata": {},
   "source": [
    "Notar que la cantidad de elementos que procesa la función en un `map` corresponde a la cantidad que tiene el iterable más pequeño:"
   ]
  },
  {
   "cell_type": "code",
   "execution_count": 10,
   "metadata": {},
   "outputs": [
    {
     "data": {
      "text/plain": [
       "[101, 103, 105]"
      ]
     },
     "execution_count": 10,
     "metadata": {},
     "output_type": "execute_result"
    }
   ],
   "source": [
    "a = [1, 2, 3, 4, 5, 6, 7, 8, 9, 10]\n",
    "b = [100, 101, 102]\n",
    "\n",
    "mapeo = map(lambda x, y: x + y, a, b)\n",
    "list(mapeo)"
   ]
  },
  {
   "cell_type": "markdown",
   "metadata": {},
   "source": [
    "## `filter`   \n",
    "\n",
    "`filter(f, iterable)` recibe como parámetros una función que retorna `True` o `False`, y un iterable. Retorna un generador que no entrega elementos donde la función `f` da `False`.\n",
    "\n",
    "Se puede ver que `filter(f, iterable)` es equivalente a `(x for x in iterable if f(x))`."
   ]
  },
  {
   "cell_type": "code",
   "execution_count": 11,
   "metadata": {},
   "outputs": [
    {
     "name": "stdout",
     "output_type": "stream",
     "text": [
      "[1, 1, 3, 5, 13, 21, 55]\n",
      "[2, 8, 34]\n"
     ]
    }
   ],
   "source": [
    "def fibonacci(límite):\n",
    "    a, b = 0, 1\n",
    "    for _ in range(límite):\n",
    "        yield b\n",
    "        a, b = b, a + b\n",
    "\n",
    "filtrado_impares = filter(lambda x: x % 2 != 0, fibonacci(10))\n",
    "print(list(filtrado_impares))\n",
    "\n",
    "filtrado_pares = filter(lambda x: x % 2 == 0, fibonacci(10))\n",
    "print(list(filtrado_pares))"
   ]
  },
  {
   "cell_type": "markdown",
   "metadata": {},
   "source": [
    "Otro ejemplo, en el que se entrega un `set`:"
   ]
  },
  {
   "cell_type": "code",
   "execution_count": 12,
   "metadata": {},
   "outputs": [
    {
     "data": {
      "text/plain": [
       "[1, 5, 9]"
      ]
     },
     "execution_count": 12,
     "metadata": {},
     "output_type": "execute_result"
    }
   ],
   "source": [
    "set_filtrado = filter(lambda x: x < 10, {100, 1, 5, 9, 91, 1})\n",
    "list(set_filtrado)"
   ]
  },
  {
   "cell_type": "markdown",
   "metadata": {},
   "source": [
    "## `reduce`\n",
    "\n",
    "Vamos a explicar la idea del `reduce` con un ejemplo de cálculo manual. Imaginemos que tenemos una secuencia con números, y que queremos obtener la suma de ellos. También supongamos que nos complica sumar más de dos números a la vez."
   ]
  },
  {
   "cell_type": "code",
   "execution_count": 13,
   "metadata": {
    "collapsed": true
   },
   "outputs": [],
   "source": [
    "lista = [1, 2, 3, 4, 5, 6]"
   ]
  },
  {
   "cell_type": "markdown",
   "metadata": {},
   "source": [
    "Si hicieramos esta suma en forma procedural, lo que probablemente haríamos es sumar los dos primeros elementos, guardar el resultado, y ese resultado sumarlo con el siguiente elemento. Y así sucesivamente:\n",
    "\n",
    "- $1 + 2 = 3$\n",
    "- $3 + 3 = 6$\n",
    "- $6 + 4 = 10$\n",
    "- $10 + 5 = 15$\n",
    "- $15 + 6 = 21$\n",
    "\n",
    "El resultado final es **21**. Ahora supongamos que no necesariamente queremos sumar los números de a pares, sino que aplicar una función cualquiera `f`:\n",
    "- $f(1, 2) = a$\n",
    "- $f(a, 3) = b$\n",
    "- $f(b, 4) = c$\n",
    "- $f(c, 5) = d$\n",
    "- $f(d, 6) = e$\n",
    "\n",
    "En este caso, el resultado final es **e**. Reemplazando las variables, nuestro cómputo fue:\n",
    "\n",
    "$f(f(f(f(f(1, 2), 3), 4), 5), 6)$\n",
    "\n",
    "Esa es exactamente la idea detrás del `reduce`. Esta operación consiste en aplicar sucesivamente una función `f(x, y)`, donde `x` es el resultado acumulado e `y` es un elemento de la secuencia. Esto _reducirá_ el iterable a un sólo resultado.\n",
    "\n",
    "![](img/reduce.png)\n",
    "\n",
    "Entonces, `reduce(f, iterable)` recibe una función que toma dos valores y un iterable. Retorna lo que resulta de aplicar la función `f` al iterable `[s1, s2, s3, ..., sn]` de la siguiente forma: `f(f(f(f(s1, s2), s3), s4), s5), ...`.\n",
    "\n",
    "Podemos ver que funciona muy bien para la suma que habíamos propuesto al principio:"
   ]
  },
  {
   "cell_type": "code",
   "execution_count": 14,
   "metadata": {},
   "outputs": [
    {
     "data": {
      "text/plain": [
       "21"
      ]
     },
     "execution_count": 14,
     "metadata": {},
     "output_type": "execute_result"
    }
   ],
   "source": [
    "from functools import reduce\n",
    "reduce(lambda x, y: x + y, lista)"
   ]
  },
  {
   "cell_type": "markdown",
   "metadata": {},
   "source": [
    "Y también podemos hacer lo mismo con una función que haga otra cosa más compleja:"
   ]
  },
  {
   "cell_type": "code",
   "execution_count": 15,
   "metadata": {},
   "outputs": [
    {
     "data": {
      "text/plain": [
       "480004287"
      ]
     },
     "execution_count": 15,
     "metadata": {},
     "output_type": "execute_result"
    }
   ],
   "source": [
    "reduce(lambda x, y: x ** 2 + y, lista)"
   ]
  },
  {
   "cell_type": "markdown",
   "metadata": {},
   "source": [
    "### Ejemplos\n",
    "\n",
    "#### Aplanamiento de listas"
   ]
  },
  {
   "cell_type": "markdown",
   "metadata": {},
   "source": [
    "Consideremos que tenemos una lista con más listas dentro, y queremos juntar todos los elementos en orden en una gran lista. Podemos hacer eso con `reduce`."
   ]
  },
  {
   "cell_type": "code",
   "execution_count": 16,
   "metadata": {},
   "outputs": [
    {
     "data": {
      "text/plain": [
       "[1, 2, 3, 4, 5, 6, 7, 8, 9]"
      ]
     },
     "execution_count": 16,
     "metadata": {},
     "output_type": "execute_result"
    }
   ],
   "source": [
    "lista_con_listas = [[1, 2], [3, 4], [5, 6], [7, 8, 9]]\n",
    "lista_aplanada = reduce(lambda x, y: x + y, lista_con_listas)\n",
    "lista_aplanada"
   ]
  },
  {
   "cell_type": "markdown",
   "metadata": {},
   "source": [
    "#### Intersección o unión de varios sets\n",
    "\n",
    "Consideremos que tenemos varios _sets_ en una lista, de los cuales queremos obtener su intersección o unión:"
   ]
  },
  {
   "cell_type": "code",
   "execution_count": 17,
   "metadata": {},
   "outputs": [
    {
     "name": "stdout",
     "output_type": "stream",
     "text": [
      "Unión: {1, 2, 3, 4, 5, 9}\n",
      "Intersección: {1}\n"
     ]
    }
   ],
   "source": [
    "conjuntos = [{3, 5, 1}, {4, 3, 1}, {1, 2, 5}, {9, 5, 4, 1}]\n",
    "\n",
    "unión = reduce(lambda x, y: x | y, conjuntos)\n",
    "intersección = reduce(lambda x, y: x & y, conjuntos)\n",
    "\n",
    "print(\"Unión:\", unión)\n",
    "print(\"Intersección:\", intersección)"
   ]
  },
  {
   "cell_type": "markdown",
   "metadata": {},
   "source": [
    "#### Cálculo de mínimos o máximos\n",
    "\n",
    "Se puede obtener el máximo en una colección usando `reduce`. Hagámoslo sobre la unión de conjuntos que acabamos de obtener:"
   ]
  },
  {
   "cell_type": "code",
   "execution_count": 18,
   "metadata": {},
   "outputs": [
    {
     "data": {
      "text/plain": [
       "9"
      ]
     },
     "execution_count": 18,
     "metadata": {},
     "output_type": "execute_result"
    }
   ],
   "source": [
    "reduce(lambda x, y: x if x > y else y, unión)  # Hecho así sólo como ejemplo pedagógico"
   ]
  },
  {
   "cell_type": "markdown",
   "metadata": {},
   "source": [
    "No obstante, es más limpio usar simplemente la función `max` o `min` que nos provee Python:"
   ]
  },
  {
   "cell_type": "code",
   "execution_count": 19,
   "metadata": {},
   "outputs": [
    {
     "data": {
      "text/plain": [
       "9"
      ]
     },
     "execution_count": 19,
     "metadata": {},
     "output_type": "execute_result"
    }
   ],
   "source": [
    "max(unión)"
   ]
  },
  {
   "cell_type": "markdown",
   "metadata": {},
   "source": [
    "### Precauciones\n",
    "\n",
    "#### Cantidad de elementos de la secuencia a reducir\n",
    "\n",
    "Cuando la secuencia que se entrega a `reduce` tiene sólo un elemento, la operación retornará sólo ese elemento sin aplicar la función. "
   ]
  },
  {
   "cell_type": "code",
   "execution_count": 20,
   "metadata": {},
   "outputs": [
    {
     "data": {
      "text/plain": [
       "1"
      ]
     },
     "execution_count": 20,
     "metadata": {},
     "output_type": "execute_result"
    }
   ],
   "source": [
    "reduce(lambda x, y: x + y, [1])"
   ]
  },
  {
   "cell_type": "markdown",
   "metadata": {},
   "source": [
    "Es posible agregar un inicializador al `reduce`. Este inicializador será el primer elemento que la función procese. Normalmente se define como el algo que no altera el resultado de nuestra función, que en el caso de la suma es el número 0."
   ]
  },
  {
   "cell_type": "code",
   "execution_count": 21,
   "metadata": {},
   "outputs": [
    {
     "data": {
      "text/plain": [
       "1"
      ]
     },
     "execution_count": 21,
     "metadata": {},
     "output_type": "execute_result"
    }
   ],
   "source": [
    "reduce(lambda x, y: x + y, [1], 0)"
   ]
  },
  {
   "cell_type": "markdown",
   "metadata": {},
   "source": [
    "Si la secuencia entregada es vacía y no entregamos un valor de inicialización, se lanza una excepción:"
   ]
  },
  {
   "cell_type": "code",
   "execution_count": 22,
   "metadata": {},
   "outputs": [
    {
     "ename": "TypeError",
     "evalue": "reduce() of empty sequence with no initial value",
     "output_type": "error",
     "traceback": [
      "\u001b[0;31m---------------------------------------------------------------------------\u001b[0m",
      "\u001b[0;31mTypeError\u001b[0m                                 Traceback (most recent call last)",
      "\u001b[0;32m<ipython-input-22-9538b7fbb342>\u001b[0m in \u001b[0;36m<module>\u001b[0;34m()\u001b[0m\n\u001b[0;32m----> 1\u001b[0;31m \u001b[0mreduce\u001b[0m\u001b[0;34m(\u001b[0m\u001b[0;32mlambda\u001b[0m \u001b[0mx\u001b[0m\u001b[0;34m,\u001b[0m \u001b[0my\u001b[0m\u001b[0;34m:\u001b[0m \u001b[0mx\u001b[0m \u001b[0;34m+\u001b[0m \u001b[0my\u001b[0m\u001b[0;34m,\u001b[0m \u001b[0;34m[\u001b[0m\u001b[0;34m]\u001b[0m\u001b[0;34m)\u001b[0m\u001b[0;34m\u001b[0m\u001b[0m\n\u001b[0m",
      "\u001b[0;31mTypeError\u001b[0m: reduce() of empty sequence with no initial value"
     ]
    }
   ],
   "source": [
    "reduce(lambda x, y: x + y, [])"
   ]
  },
  {
   "cell_type": "markdown",
   "metadata": {},
   "source": [
    "Mientras que añadiendo un inicializador, el proceso termina exitosamente:"
   ]
  },
  {
   "cell_type": "code",
   "execution_count": 23,
   "metadata": {},
   "outputs": [
    {
     "data": {
      "text/plain": [
       "0"
      ]
     },
     "execution_count": 23,
     "metadata": {},
     "output_type": "execute_result"
    }
   ],
   "source": [
    "reduce(lambda x, y: x + y, [], 0)"
   ]
  },
  {
   "cell_type": "markdown",
   "metadata": {},
   "source": [
    "#### Operaciones no conmutativas\n",
    "\n",
    "Es necesario que tomes en cuenta que en ciertas operaciones el resultado va a depender del orden en que se encuentren los elementos en la colección. Esto es así por ejemplo en la división, donde $\\frac{x}{y} \\neq \\frac{y}{x}$, mientras que en operaciones como la suma el orden no es relevante pues $x + y = y + x$.\n",
    "\n",
    "Veamos con un ejemplo qué pasa cuando el orden de los elementos cambia en una operación sensible al orden:"
   ]
  },
  {
   "cell_type": "code",
   "execution_count": 24,
   "metadata": {},
   "outputs": [
    {
     "data": {
      "text/plain": [
       "0.0008658008658008659"
      ]
     },
     "execution_count": 24,
     "metadata": {},
     "output_type": "execute_result"
    }
   ],
   "source": [
    "def división(x, y):\n",
    "    return x / y\n",
    "\n",
    "números = [3, 5, 7, 9, 11]\n",
    "reduce(división, números)"
   ]
  },
  {
   "cell_type": "markdown",
   "metadata": {},
   "source": [
    "Acá invertiremos el orden de los números:"
   ]
  },
  {
   "cell_type": "code",
   "execution_count": 25,
   "metadata": {
    "scrolled": true
   },
   "outputs": [
    {
     "data": {
      "text/plain": [
       "0.01164021164021164"
      ]
     },
     "execution_count": 25,
     "metadata": {},
     "output_type": "execute_result"
    }
   ],
   "source": [
    "números.reverse()\n",
    "reduce(división, números)"
   ]
  },
  {
   "cell_type": "markdown",
   "metadata": {},
   "source": [
    "#### Reducir _sets_ u otros iterables no ordenados\n",
    "\n",
    "En este caso hay que tener cuidado cuando la operación que se haga dependa del orden de los elementos, pues el resultado podría no ser el esperado. \n",
    "\n",
    "En el ejemplo, se tiene un _set_ con varias palabras que queremos concatenar con un `reduce`. Vemos que el orden final dista del orden que se declaró en el _set_, pues esta estructura no es ordenada."
   ]
  },
  {
   "cell_type": "code",
   "execution_count": 26,
   "metadata": {},
   "outputs": [
    {
     "data": {
      "text/plain": [
       "'roca ventana piso casa mar'"
      ]
     },
     "execution_count": 26,
     "metadata": {},
     "output_type": "execute_result"
    }
   ],
   "source": [
    "palabras = {'casa', 'mar', 'ventana', 'roca', 'piso'}\n",
    "\n",
    "reduce(lambda x, y: f\"{x} {y}\", palabras)"
   ]
  }
 ],
 "metadata": {
  "kernelspec": {
   "display_name": "Python 3",
   "language": "python",
   "name": "python3"
  },
  "language_info": {
   "codemirror_mode": {
    "name": "ipython",
    "version": 3
   },
   "file_extension": ".py",
   "mimetype": "text/x-python",
   "name": "python",
   "nbconvert_exporter": "python",
   "pygments_lexer": "ipython3",
   "version": "3.6.6"
  }
 },
 "nbformat": 4,
 "nbformat_minor": 2
}
