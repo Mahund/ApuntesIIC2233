{
 "cells": [
  {
   "cell_type": "markdown",
   "metadata": {},
   "source": [
    "<p>\n",
    "<font size='5' face='Georgia, Arial'>IIC-2233 Apunte Programación Avanzada</font><br>\n",
    "<font size='1'>&copy; 2015 Karim Pichara - Christian Pieringer. Todos los derechos reservados.</font>\n",
    "<br>\n",
    "<font size='1'> Modificado en 2018-1, 2018-2 por Equipo Docente IIC2233</font>\n",
    "</p>"
   ]
  },
  {
   "cell_type": "markdown",
   "metadata": {},
   "source": [
    "## Listas por Comprensión\n",
    "\n",
    "Desde el punto de vista de la lógica, la definición de comprensión es:  \"Conjunto de caracteres que forman un concepto\". Así mismo, las listas por comprensión se pueden ver como listas formadas por un conjunto de objetos que cumplen con un concepto o condición en particular.\n",
    "\n",
    "Por ejemplo, tenemos una lista de números guardados como `strings` y queremos construir una lista con los mismos números, pero guardados como `ints`. Una forma de hacerlo sería la siguiente:"
   ]
  },
  {
   "cell_type": "code",
   "execution_count": 1,
   "metadata": {},
   "outputs": [
    {
     "data": {
      "text/plain": [
       "[1, 4, 55, 65, 4, 15, 90]"
      ]
     },
     "execution_count": 1,
     "metadata": {},
     "output_type": "execute_result"
    }
   ],
   "source": [
    "# lista por extensión\n",
    "lista = ['1', '4', '55', '65', '4', '15', '90']\n",
    "\n",
    "int_lista = []\n",
    "\n",
    "for c in lista:\n",
    "    int_lista.append(int(c))\n",
    "    \n",
    "int_lista"
   ]
  },
  {
   "cell_type": "markdown",
   "metadata": {},
   "source": [
    "Usando listas por comprensión, podemos hacer lo mismo de forma más clara y concisa:"
   ]
  },
  {
   "cell_type": "code",
   "execution_count": 2,
   "metadata": {},
   "outputs": [
    {
     "data": {
      "text/plain": [
       "[1, 4, 55, 65, 4, 15, 90]"
      ]
     },
     "execution_count": 2,
     "metadata": {},
     "output_type": "execute_result"
    }
   ],
   "source": [
    "# lista por extensión\n",
    "lista = ['1', '4', '55', '65', '4', '15', '90']\n",
    "\n",
    "# lista por comprensión\n",
    "int_lista = [int(c) for c in lista]\n",
    "# por cada elemento c en lista, entonces int_lista contiene int(c)\n",
    "\n",
    "int_lista"
   ]
  },
  {
   "cell_type": "markdown",
   "metadata": {},
   "source": [
    "La sentencia `if` se puede usar dentro de una lista por comprensión para construir la lista incluyendo solamente los elementos que cumplan una cierta condición.\n",
    "\n",
    "En el siguiente ejemplo convertiremos a `int` e incluiremos en la nueva lista solamente los números que estén representados en un `string` con largo estrictamente mayor a uno."
   ]
  },
  {
   "cell_type": "code",
   "execution_count": 3,
   "metadata": {},
   "outputs": [
    {
     "data": {
      "text/plain": [
       "[55, 65, 15, 90]"
      ]
     },
     "execution_count": 3,
     "metadata": {},
     "output_type": "execute_result"
    }
   ],
   "source": [
    "# lista por comprensión\n",
    "int_lista_dos_dígitos = [int(c) for c in lista if len(c) > 1]\n",
    "# por cada elemento c en lista, \n",
    "# si c tiene más de 1 dígito, entonces int_lista_2d contiene int(c)\n",
    "\n",
    "int_lista_dos_dígitos"
   ]
  },
  {
   "cell_type": "markdown",
   "metadata": {},
   "source": [
    "## _Sets_ y diccionarios por comprensión\n",
    "\n",
    "La misma idea la podemos aplicar a los _sets_ y diccionarios.\n",
    "  \n",
    "### Ejemplo con _sets_"
   ]
  },
  {
   "cell_type": "code",
   "execution_count": 4,
   "metadata": {},
   "outputs": [
    {
     "data": {
      "text/plain": [
       "{'Clint Eastwood', 'Olivier Megaton'}"
      ]
     },
     "execution_count": 4,
     "metadata": {},
     "output_type": "execute_result"
    }
   ],
   "source": [
    "from collections import namedtuple\n",
    "\n",
    "Película = namedtuple(\"Pelicula\", [\"título\", \"director\", \"género\"])\n",
    "películas = [Película(\"Into the Woods\", \"Rob Marshall\", \"Aventura\"),\n",
    "             Película(\"American Sniper\", \"Clint Eastwood\", \"Acción\"),\n",
    "             Película(\"Birdman\", \"Alejandro González Inárritu\", \"Comedia\"),\n",
    "             Película(\"Boyhood\", \"Richard Linklater\", \"Drama\"), \n",
    "             Película(\"Taken 3\", \"Olivier Megaton\", \"Acción\"), \n",
    "             Película(\"The Imitation Game\", \"Morten Tyldum\", \"Biografías\"),\n",
    "             Película(\"Gone Girl\", \"David Fincher\", \"Drama\")]\n",
    "\n",
    "# set por comprensión\n",
    "directores_acción = {p.director for p in películas if p.género == 'Acción'}  \n",
    "# por cada elemento p en películas,\n",
    "# si el género de p es 'Acción', entonces\n",
    "# el director de p pertenece a directores_acción\n",
    "\n",
    "directores_acción"
   ]
  },
  {
   "cell_type": "markdown",
   "metadata": {},
   "source": [
    "### Ejemplo con diccionarios"
   ]
  },
  {
   "cell_type": "code",
   "execution_count": 5,
   "metadata": {},
   "outputs": [
    {
     "data": {
      "text/plain": [
       "{'Clint Eastwood': 'American Sniper', 'Olivier Megaton': 'Taken 3'}"
      ]
     },
     "execution_count": 5,
     "metadata": {},
     "output_type": "execute_result"
    }
   ],
   "source": [
    "# diccionario por comprensión\n",
    "dict_directores_acción = {p.director: p.título for p in películas if p.género == 'Acción'}\n",
    "# por cada elemento p en películas,\n",
    "# si el género de p es 'Acción', entonces\n",
    "# el par \"key:value\" -> \"director de p: p.título\" pertenece a dict_directores_acción\n",
    "\n",
    "dict_directores_acción"
   ]
  }
 ],
 "metadata": {
  "kernelspec": {
   "display_name": "Python 3",
   "language": "python",
   "name": "python3"
  },
  "language_info": {
   "codemirror_mode": {
    "name": "ipython",
    "version": 3
   },
   "file_extension": ".py",
   "mimetype": "text/x-python",
   "name": "python",
   "nbconvert_exporter": "python",
   "pygments_lexer": "ipython3",
   "version": "3.6.6"
  }
 },
 "nbformat": 4,
 "nbformat_minor": 2
}
