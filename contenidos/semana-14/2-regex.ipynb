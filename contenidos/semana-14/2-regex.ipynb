{
 "cells": [
  {
   "cell_type": "markdown",
   "metadata": {},
   "source": [
    "<p>\n",
    "<font size='5' face='Georgia, Arial'>IIC-2233 Apunte Programación Avanzada</font><br>\n",
    "<font size='1'>&copy; 2015 Karim Pichara - Christian Pieringer. Todos los derechos reservados.</font>\n",
    "<font size='1'>Modificado por el cuerpo docente 2017-2, 2018-1 y 2018-2.</font>\n",
    "</p>"
   ]
  },
  {
   "cell_type": "markdown",
   "metadata": {},
   "source": [
    "# _Regular Expressions_\n",
    "\n",
    "Hasta ahora cada vez que necesitamos procesar la información contenida en _strings_ lo hemos hecho mediante los mismos métodos que los objetos de esta clase (`str`) nos provee. Esto es fácil cuando el texto que analizamos es relativamente simple. Por ejemplo, si queremos separar un _string_ de acuerdo a un carácter especial solo deberíamos escribir `string.split('caracter')`; o bien si necesitamos buscar una secuencia dentro de un _string_ cualquiera podemos usar el método `find()`. Sin embargo, cuando la información está contenida en _strings_ complejos o bien cuando necesitamos buscar múltiples secuencias dentro del _string_, existe una forma más eficiente y poderosa que consiste en describir patrones de búsqueda.\n",
    "\n",
    "Estos patrones de búsqueda se conocen como **expresiones regulares** ó **regex** ó **RE**. Las expresiones regulares corresponden a secuencias especiales de caracteres que nos permiten comparar y buscar _strings_ o conjuntos de _strings_. Las expresiones regulares se definen como un patrón y se describen a través de una sintaxis especializada. Algunos ejemplos de situaciones que pueden ser resueltas usando expresiones son: validación de formularios, búsqueda y reemplazo, transformación de texto, y procesamiento de registros (_logs_).\n",
    "\n",
    "Las expresiones regulares fueron propuestas el año 1956 por el matemático [Stephen Kleene](https://en.wikipedia.org/wiki/Stephen_Cole_Kleene), y hoy en día son bastante comunes por lo que varios lenguajes de programación permiten su uso."
   ]
  },
  {
   "cell_type": "markdown",
   "metadata": {},
   "source": [
    "Las expresiones regulares permiten especificar un conjunto de _strings_ que hacen _match_ con ella. Cada carácter en una expresión regular hace _match_ exactamente con el carácter correspondiente de un _string_. Por ejemplo, la expresión regular `abcde` permite hacer _match_ únicamente con el _string_ `abcde`. Esto no parece muy poderoso pues hemos especificado exactamente el mismo _string_ que queríamos reconocer. Sin embargo, las expresiones regulares utilizan algunos carácteres especiales, denominados **meta-carácteres** para especificar patrones más generales. Los meta-carácteres son: ```. ^ $ * + ? { } [ ] \\ | ( )```, y su significado es el siguiente:\n",
    "\n",
    "- **```[ ]```** permite especificar _clases de caracteres_. Por ejemplo, la expresión regular ```[abc]``` permite hacer _match_ con cada uno de los _strings_ `a`, `b` ó `c`. Los meta-caracteres no funcionan dentro de la especificación de una clase de caracteres. Por ejemplo, la expresión regular ```[abc$]``` permite hacer _match_ con cada uno de los _strings_ `a`, `b`, `c` ó `$`. También es posible utilizar `-` dentro una _clase_ de carácteres para definir un rango de carácteres. Por ejemplo, ```[a-p]``` permite hacer _match_ con un _string_ que corresponda a cualquiera de los carácteres entre `a` y `p` (inclusive). Un manera sencilla de describir una expresión regular que haga _match_ con cada letra ó número del alfabeto inglés es ```[a-zA-Z0-9]```.\n",
    "\n",
    "- **```+```** permite indicar que una expresión regular se puede repetir una o más veces. Por ejemplo, ```ab+c``` permite hacer _match_ con `abc`, `abbc`, `abbbc`, etc, pero no con `ac`. De la misma manera, `a[bc]+d` permite hacer _match_ con `abd`, `acd`, `abbd`, `abcd`, `acbd`, `accd`, `abbbd`, etc.\n",
    "\n",
    "- **```*```** permite indicar que una expresión regular se puede repetir cero o más veces. Por ejemplo, ```ab*c``` permite hacer _match_ con `ac`, `abc`, `abbc`, `abbbc`, etc. Si usamos una clase de caracteres, `a[bc]*d` permite hacer _match_ con el mismo conjunto descrito por `a[bc]+d`, y también con `ad`.\n",
    "\n",
    "- **```?```** permite indicar que la expresión regular definida en el patrón puede estar exactamente una vez, o no estar. Por ejemplo, `ab?c` permite hacer _match_ solamente son `ac` y con `abc`.\n",
    "\n",
    "- **```{m, n}```** permite  para indicar que la expresión regular definida puede repetirse entre *m* y *n* veces, inclusive. También puede ser una cantidad fija *m* para indicar exactamente *m* veces. Por ejemplo, `ab{3,5}c` permite hacer _match_ con `abbbc`, `abbbbc`, y con `abbbbbc`. Por otro lado, `ab{2}c` solo permite hacer _match_ con `abbc`.\n",
    "\n",
    "- **```.```** permite especificar un _match_ con cualquier carácter, excepto un salto de línea. Por ejemplo la expresión `.+` permite hacer _match_ con cualquier _string_ de largo mayor o igual a 1.\n",
    "\n",
    "- `^` permite especificar la expresión de inicio del _string_.\n",
    "\n",
    "- `$` permite especificar la expresión de término del _string_.\n",
    "\n",
    "- **```( )```** permitir delimitar una expresión regular y definir _grupos_ dentro de ella. Por ejemplo, `a(bc)*(de)f` permite hacer _match_ con `adef`, `abcdef`, `abcbcdef`, `abcbcbcdef`, etc.\n",
    "\n",
    "- *A* `|` *B* es un operador binario que permite especificar que se puede hacer _match_ con la expresión regular *A*, o con la expresión regular *B*. Por ejemplo `ab+c|de*f` permite hacer _match_ con `abc`, `abbc`, `abbbc`, ..., `df`, `def`, `deef`, `deeef`, etc.\n",
    "\n",
    "- **```\\```** permite indicar que los meta-carácteres debe ser considerados como parte del patrón y no como meta-carácteres.\n",
    "\n"
   ]
  },
  {
   "cell_type": "markdown",
   "metadata": {},
   "source": [
    "Python provee el módulo `re` para el uso de expresiones regulares. Dentro de las funcionalidades que nos permite el módulo `re` de Python se encuentran:\n",
    "\n",
    "- `re.match()` verifica si un _substring_ cumple con la expresión regular a partir del inicio del _string_.\n",
    "- `re.fullmatch()` verifica si el _string_ completo cumple con la expresión regular\n",
    "- `re.search()` verifica si algún _substring_ cumple con la expresión regular.\n",
    "- `re.sub()` permite reemplazar un patrón por otra secuencia de caracteres en un _string_.\n",
    "- `re.split()` permite separar un string de acuerdo a un patrón.\n",
    "\n"
   ]
  },
  {
   "cell_type": "markdown",
   "metadata": {},
   "source": [
    "### _Matching_\n",
    "\n",
    "Las expresiones regulares son fuertemente utilizadas en operaciones de comparación o _matching_. A continuación revisaremos algunos ejemplos y sus resultados."
   ]
  },
  {
   "cell_type": "code",
   "execution_count": 1,
   "metadata": {},
   "outputs": [],
   "source": [
    "# Para cargar el módulo re\n",
    "import re"
   ]
  },
  {
   "cell_type": "code",
   "execution_count": 2,
   "metadata": {},
   "outputs": [
    {
     "name": "stdout",
     "output_type": "stream",
     "text": [
      "----------- Búsqueda con re.match() -----------\n",
      "None\n",
      "<_sre.SRE_Match object; span=(0, 5), match='4ttGb'>\n",
      "<_sre.SRE_Match object; span=(0, 5), match='4ttab'>\n",
      "None\n",
      "None\n",
      "<_sre.SRE_Match object; span=(0, 5), match='4ttab'>\n",
      "None\n",
      "\n",
      "----------- Búsqueda con re.search() ----------\n",
      "None\n",
      "<_sre.SRE_Match object; span=(0, 5), match='4ttGb'>\n",
      "<_sre.SRE_Match object; span=(0, 5), match='4ttab'>\n",
      "None\n",
      "<_sre.SRE_Match object; span=(1, 6), match='4ttkb'>\n",
      "<_sre.SRE_Match object; span=(0, 5), match='4ttab'>\n",
      "<_sre.SRE_Match object; span=(6, 11), match='4ttyb'>\n",
      "\n",
      "----------- Búsqueda con re.fullmatch() ----------\n",
      "None\n",
      "<_sre.SRE_Match object; span=(0, 5), match='4ttGb'>\n",
      "None\n",
      "None\n",
      "None\n",
      "None\n",
      "None\n"
     ]
    }
   ],
   "source": [
    "# Definimos un conjunto de secuencias que necesitamos verificar si cumplen con \n",
    "# un patrón.\n",
    "seq = [\"4tt\", \"4ttGb\", \"4ttabcabc32\", \"4tssssghj3\", \"44ttkbcdag60\", \"4ttabcfgh41\", \"3ttabc4ttyb\"]\n",
    "print(\"----------- Búsqueda con re.match() -----------\")\n",
    "for s in seq:\n",
    "    print(re.match('4tt.b', s))\n",
    "print(\"\\n----------- Búsqueda con re.search() ----------\")\n",
    "for s in seq:\n",
    "    print(re.search('4tt.b', s))\n",
    "print(\"\\n----------- Búsqueda con re.fullmatch() ----------\")\n",
    "for s in seq:\n",
    "    print(re.fullmatch('4tt.b', s))"
   ]
  },
  {
   "cell_type": "markdown",
   "metadata": {},
   "source": [
    "El patrón que estamos utilizando es `4tt.b`. Al buscar con `match` la búsqueda se efectúa desde el inicio del _string_, y al buscar con `search` la búsqueda se efectúa en cualquier parte del _string_. Al buscar con `fullmatch` se verifica si todo el _string_ cumple con la expresión regular.\n",
    "\n",
    "\n",
    "La búsqueda con `match` es equivalente a haber especificado `re.search('^4tt.b', s)`, ya que el meta-carácter `^` indica que el patron debe encontrarse al inicio del _string_.\n",
    "\n",
    "Tanto `match` como `search` y `fullmatch` retornan **un** objeto de tipo `Match`, donde algunos de sus atributos son:\n",
    "\n",
    "- `span`: tupla que indica el inicio y término del patrón encontrado en el _string_. Notar que en el caso de `match`, éste siempre empieza en la posición 0.\n",
    "\n",
    "- `group(índice)`: cuando `índice` se omite o es `0`, retornar el _substring_ que hizo _match_ con el patrón, y que aparece en el campo `match`. Cuando `índice` es mayor a `0`, retorna el _substring_ que hizo _match_ con uno de los grupos de la expresión regulares, cuando ésta define grupos usando `()`.\n",
    "\n",
    "El resultado de `match()` puede ser utilizado directamente como condición de sentencias `if`, `while`, etc. En el siguiente ejemplo verificaremos si las secuencias en `seq` cumplen con el patrón de tener la sub-secuencia caracteres `4tt.b` al comienzo de la secuencia. \n"
   ]
  },
  {
   "cell_type": "code",
   "execution_count": 3,
   "metadata": {},
   "outputs": [
    {
     "name": "stdout",
     "output_type": "stream",
     "text": [
      "4tt cumple con el patrón\n",
      "4ttGb cumple con el patrón\n",
      "4ttabcabc32 cumple con el patrón\n",
      "4ttabcfgh41 cumple con el patrón\n"
     ]
    }
   ],
   "source": [
    "seq = [\"4tt\", \"4ttGb\", \"4ttabcabc32\", \"4tssssghj3\", \"44ttkbcdag60\", \"4ttabcfgh41\", \"3ttabc4ttyb\"]\n",
    "for s in seq:    \n",
    "    if re.match('^4tt', s):\n",
    "        print(f\"{s} cumple con el patrón\")"
   ]
  },
  {
   "cell_type": "markdown",
   "metadata": {},
   "source": [
    "Ahora modificaremos el patrón para que permita detectar repeticiones de un grupo de caracteres. Para esto incorporaremos al patrón utilizado un grupo de caracteres como `(abc)`."
   ]
  },
  {
   "cell_type": "code",
   "execution_count": 4,
   "metadata": {},
   "outputs": [
    {
     "name": "stdout",
     "output_type": "stream",
     "text": [
      "4ttabcabc32 cumple con el patrón\n",
      "4ttabcfgh41 cumple con el patrón\n"
     ]
    }
   ],
   "source": [
    "seq = [\"4tt\", \"4ttGb\", \"4ttabcabc32\", \"4tssssghj3\", \"44ttkbcdag60\", \"4ttabcfgh41\", \"3ttabc4ttyb\"]\n",
    "for s in seq:\n",
    "    if re.match('^4tt(abc)', s):\n",
    "        print(f\"{s} cumple con el patrón\")"
   ]
  },
  {
   "cell_type": "code",
   "execution_count": 5,
   "metadata": {},
   "outputs": [
    {
     "name": "stdout",
     "output_type": "stream",
     "text": [
      "4ttabcabc32 cumple con el patrón\n"
     ]
    }
   ],
   "source": [
    "for s in seq:\n",
    "    # Indicaremos con los '{ }' el número de veces que el grupo debe estar presente.\n",
    "    # Como vemos, por defecto se asume que puede estar 1 o más veces.\n",
    "    if re.match('^4tt(abc){2}', s):\n",
    "        print(f\"{s} cumple con el patrón\")"
   ]
  },
  {
   "cell_type": "markdown",
   "metadata": {},
   "source": [
    "#### Verificación de _e-mail_\n",
    "\n",
    "Veamos ahora como podemos usar esto para asegurarnos de que una dirección de correo electrónico cumpla con un determinado formato. Las direcciones que admitiremos pueden tener cualquier tipo de carácter antes de la `@` y pertenecer a los dominios `mail.cl` o `mimail.cl`, y también a cualquiera de las direcciones que incluyan a este dominio, por ejemplo `seccion1.mimail.cl`, `seccion2.mimail.cl`. Para construir el patrón que nos permitirá verificar las direcciones, debemos hacerlo de la siguiente forma:\n",
    "\n",
    "1. Al comienzo debemos incluir los meta-caracteres `[a-zA-Z0-9_.]+`. Con esto estamos indicando que la cadena que vamos a ingresar contendrá 1 o más (`+`) caracteres entre letras mayúsculas y minúsculas, números o bien los caracteres `_` o `.`, especificados en la clase mediante \"`[ ]`\";\n",
    "1. Luego irá el símbolo `@`;\n",
    "1. A continuación debemos indicar que podría o no existir (`?`) los subdominios `((seccion1|seccion2)\\.)?`, seguidos de un `.`. En este caso debemos usar el meta-caracter `\\` para asegurarnos que el meta-caracter `.` sea considerado como punto.\n",
    "1. Finalmente, debemos verifcar que esté presente el dominio del correo incluyendo en el patrón `(mi)?mail.cl`, indicando que la secuencia `mi` puede estar o no (`?`) en el dominio. Otra forma de escribir la misma regla es creando el grupo `(mimail|mail).cl`."
   ]
  },
  {
   "cell_type": "code",
   "execution_count": 6,
   "metadata": {},
   "outputs": [
    {
     "name": "stdout",
     "output_type": "stream",
     "text": [
      "True\n",
      "True\n",
      "True\n",
      "False\n",
      "False\n"
     ]
    }
   ],
   "source": [
    "def is_valid_mail(email):\n",
    "    # Recordar que el método 'match()' retorna un objeto de tipo 'Match' que al ser\n",
    "    # usado en sentencias como IF y WHILE representa un valor lógico. Podemos hacer\n",
    "    # que una función retorne un valor lógico de la operación de match haciendo la\n",
    "    # conversión a bool.\n",
    "    #\n",
    "    # Otra forma de escribir el patrón es:\n",
    "    # pattern = \"[a-zA-Z0-9_.]+@((seccion1|seccion2)\\.)?(mi)?mail.cl\"\n",
    "    pattern = \"[a-zA-Z0-9_.]+@((seccion1|seccion2)\\.)?(mimail|mail).cl\"\n",
    "    return bool(re.match(pattern, email))\n",
    "\n",
    "# Las direcciones de correo tienen consistencia con el patrón utilizado\n",
    "print(is_valid_mail('nombre.apellido@mail.cl'))\n",
    "print(is_valid_mail('nombre_aprellido@mimail.cl'))\n",
    "print(is_valid_mail('nombre1010@seccion1.mimail.cl'))\n",
    "\n",
    "# Estos los correos incluyen elementos no considerados en el patrón\n",
    "print(is_valid_mail('nombre1010@tumail.cl'))\n",
    "print(is_valid_mail('nombre101-@tumail.cl'))"
   ]
  },
  {
   "cell_type": "markdown",
   "metadata": {},
   "source": [
    "#### Verificación de rut\n",
    "\n",
    "Veamos otro ejemplo que consiste en verificar que el RUT ingresado en un campo de un formulario tenga el formato especificado como: ##.###.###-#, que es una secuencia de números separados por puntos y el dígito verificador separado por guión. Para este ejemplo vamos a considerar que el RUT más pequeño es `1.000.000-0`, y que el digito verificador puede ser un dígito desde `0` hasta `9`, o la letra \"k\" minúscula o mayúscula. No verificaremos la validez del dígito verificador. La estructura del patrón entonces quedaría definida de la siguiente forma:\n",
    "\n",
    "1. Al comienzo, incluiremos la regla que indica que puede existir o no (\"`?`\") entre uno o dos caracteres numéricos seguidos de un \"`.`\". Esto lo indicamos como  `[0-9]{1,2}\\.?`. Dentro de \"`[]`\" estamos incluyendo la clase de caracteres numéricos y en \"`{1,2}`\" estamos indicando que habrá entre uno y dos caracteres en esta sección antes del punto;\n",
    "1. Después, incluímos los siguientes tres caracteres numéricos. Lo indicamos como `[0-9]{3}`;\n",
    "1. Luego, indicamos que debe haber obligatoriamente 3 dígitos incluyendo seguidos de un guión `[0-9]{3}-`;\n",
    "1. Finalmente, consideramos que haya un dígito entre 0 y 9, o bien la letra k mayúscula o minúscula."
   ]
  },
  {
   "cell_type": "code",
   "execution_count": 7,
   "metadata": {},
   "outputs": [
    {
     "name": "stdout",
     "output_type": "stream",
     "text": [
      "True\n",
      "True\n",
      "True\n",
      "False\n",
      "False\n",
      "False\n"
     ]
    }
   ],
   "source": [
    "def is_valid_rut(rut):\n",
    "    pattern = \"([0-9]{1,2}\\.)?[0-9]{3}\\.[0-9]{3}-([0-9]|k|K)\"\n",
    "    return bool(re.match(pattern, rut))\n",
    "\n",
    "# Casos válidos para el patrón\n",
    "print(is_valid_rut('12.224.877-2'))\n",
    "print(is_valid_rut('12.745.331-k'))\n",
    "print(is_valid_rut('113.221-2'))\n",
    "\n",
    "# Casos no válidos para el patrón\n",
    "print(is_valid_rut('13.427.974-a'))\n",
    "print(is_valid_rut('ab.111.444-0'))\n",
    "print(is_valid_rut('13.20.830-6'))"
   ]
  },
  {
   "cell_type": "markdown",
   "metadata": {},
   "source": [
    "Existen abreviaciones prestablecidas para ciertas clases de caracteres. Por ejemplo:\n",
    "\n",
    "- `\\d`: equivale a `[0-9]`;\n",
    "- `\\D`: es equivalente a `[^0-9]`, donde se compara con cualquier caracter que no sea dígito; \n",
    "- `\\s`: equivale a hacer `[\\t\\n\\r\\f\\v]`, compara cualquier tipo de espacio en blanco;\n",
    "- `\\S`: equivale a escribir la clase `[^\\t\\n\\r\\f\\v]`, que compara con cualquier caracter distinto a los espacios en blanco;\n",
    "- `\\w`: es equivalente a la clase `[a-zA-Z0-9\\_]`, donde se compara con cualquier caracter alfa numérico;\n",
    "- `\\W`: equivale a `[^a-zA-Z0-9\\_]`, que contempla que no haya ningún caracter alfa numérico.\n",
    "\n",
    "De esta forma podríamos escribir el patrón para comprobar el RUT de la siguiente forma equivalente:"
   ]
  },
  {
   "cell_type": "code",
   "execution_count": 8,
   "metadata": {},
   "outputs": [
    {
     "name": "stdout",
     "output_type": "stream",
     "text": [
      "True\n",
      "True\n",
      "True\n",
      "False\n",
      "False\n",
      "False\n"
     ]
    }
   ],
   "source": [
    "def is_valid_rut(rut):\n",
    "    pattern = \"(\\d{1,2}\\.)?\\d{3}\\.\\d{3}-(\\d|k|K)\"\n",
    "    return bool(re.match(pattern, rut))\n",
    "\n",
    "# Casos válidos para el patrón\n",
    "print(is_valid_rut('12.224.877-2'))\n",
    "print(is_valid_rut('12.745.331-k'))\n",
    "print(is_valid_rut('113.221-2'))\n",
    "\n",
    "# Casos no válidos para el patrón\n",
    "print(is_valid_rut('13.427.974-a'))\n",
    "print(is_valid_rut('ab.111.444-0'))\n",
    "print(is_valid_rut('13.20.830-6'))"
   ]
  },
  {
   "cell_type": "markdown",
   "metadata": {},
   "source": [
    "### Búsqueda\n",
    "\n",
    "La búsqueda es otra de las tareas donde comúnmente se utilizan expresiones regulares. En este caso el módulo `re` permite tres formas de búsqueda:\n",
    "\n",
    "- `search()`: busca en una secuencia cualquier posición donde el patrón coincida, y retorna la primera coincidencia.\n",
    "- `findall()`: Encuentra todas las sub-secuencias donde el patrón coincida, y las retorna como una lista.\n",
    "- `finditer()`: opera como `findall()`, pero retorna un iterador.\n",
    "\n",
    "Volvamos al ejemplo de las secuencias usadas anteriormente y busquemos en ellas donde aparece la subsecuencia \"ab\":"
   ]
  },
  {
   "cell_type": "code",
   "execution_count": 9,
   "metadata": {},
   "outputs": [
    {
     "name": "stdout",
     "output_type": "stream",
     "text": [
      "secuencia 4tt: None\n",
      "secuencia 4ttGb: None\n",
      "secuencia 4ttabcabc32: <_sre.SRE_Match object; span=(3, 5), match='ab'>\n",
      "secuencia 3ssafjabc3: <_sre.SRE_Match object; span=(6, 8), match='ab'>\n",
      "secuencia 4tssssghj3: None\n",
      "secuencia 44ttkbcdag60: None\n",
      "secuencia 4ttabcfgh41: <_sre.SRE_Match object; span=(3, 5), match='ab'>\n",
      "secuencia 3ttabc4ttyb: <_sre.SRE_Match object; span=(3, 5), match='ab'>\n",
      "secuencia 3tt4ttSbc4ttyb: None\n"
     ]
    }
   ],
   "source": [
    "seq = [\"4tt\", \"4ttGb\", \"4ttabcabc32\", \"3ssafjabc3\", \"4tssssghj3\", \"44ttkbcdag60\", \"4ttabcfgh41\", \"3ttabc4ttyb\", \"3tt4ttSbc4ttyb\"]\n",
    "\n",
    "for s in seq:\n",
    "    first_match = re.search('(ab)', s)\n",
    "    print(f'secuencia {s}: {first_match}')"
   ]
  },
  {
   "cell_type": "markdown",
   "metadata": {},
   "source": [
    "Al igual que el método `match()`, el método `search()` retorna un objeto indicando la posición de la coincidencia. Si no encuentra alguna coincidencia retorna `None`.\n",
    "\n",
    "Veamos un ejemplo donde podamos recuperar un listado con todos las subsecuencias de valores numéricos que estén en las secuencias:"
   ]
  },
  {
   "cell_type": "code",
   "execution_count": 10,
   "metadata": {},
   "outputs": [
    {
     "name": "stdout",
     "output_type": "stream",
     "text": [
      "secuencia 4tt: ['4']\n",
      "secuencia 4ttGb: ['4']\n",
      "secuencia 4ttabcabc32: ['4', '32']\n",
      "secuencia 3ssafjabc3: ['3', '3']\n",
      "secuencia 4tssssghj3: ['4', '3']\n",
      "secuencia 44ttkbcdag60: ['44', '60']\n",
      "secuencia 4ttabcfgh41: ['4', '41']\n",
      "secuencia 3ttabc4ttyb: ['3', '4']\n",
      "secuencia 3tt4ttSbc4ttyb: ['3', '4', '4']\n"
     ]
    }
   ],
   "source": [
    "seq = [\"4tt\", \"4ttGb\", \"4ttabcabc32\", \"3ssafjabc3\", \"4tssssghj3\", \"44ttkbcdag60\", \"4ttabcfgh41\", \"3ttabc4ttyb\", \"3tt4ttSbc4ttyb\"]\n",
    "\n",
    "for s in seq:\n",
    "    all_matches = re.findall('\\d+', s)\n",
    "    print(f'secuencia {s}: {all_matches}')"
   ]
  },
  {
   "cell_type": "markdown",
   "metadata": {},
   "source": [
    "### Sustitución\n",
    "\n",
    "La modificación de secuencias es también otra de las tareas en que las expresiones regulares son de gran ayuda. El módulo `re` provee el método `sub(<patron>, <reemplazar por>, secuencia)` que nos permite hacer sustitución de acuerdo al patrón indicado. Por ejemplo, eliminaremos todos los números en las secuencias usadas en los ejemplos anteriores:"
   ]
  },
  {
   "cell_type": "code",
   "execution_count": 11,
   "metadata": {},
   "outputs": [
    {
     "name": "stdout",
     "output_type": "stream",
     "text": [
      "Secuencia 4tt queda como tt\n",
      "Secuencia 4ttGb queda como ttGb\n",
      "Secuencia 4ttabcabc32 queda como ttabcabc\n",
      "Secuencia 3ssafjabc3 queda como ssafjabc\n",
      "Secuencia 4tssssghj3 queda como tssssghj\n",
      "Secuencia 44ttkbcdag60 queda como ttkbcdag\n",
      "Secuencia 4ttabcfgh41 queda como ttabcfgh\n",
      "Secuencia 3ttabc4ttyb queda como ttabcttyb\n",
      "Secuencia 3tt4ttSbc4ttyb queda como ttttSbcttyb\n"
     ]
    }
   ],
   "source": [
    "for s in seq:\n",
    "    # sub retorna un nuevo valor, por lo tanto, no modifica la secuencia original\n",
    "    result = re.sub('\\d+', '', s)\n",
    "    print(f'Secuencia {s} queda como {result}')"
   ]
  },
  {
   "cell_type": "markdown",
   "metadata": {},
   "source": [
    "En vez de usar un valor a sustituir, podemos también incluir una función donde podamos utilizar una regla de sustitución más compleja. Por ejemplo, procesemos una secuencia de ADN con bases \"A\", \"T\" y \"C\" reemplazándolas por sus bases complementarias:"
   ]
  },
  {
   "cell_type": "code",
   "execution_count": 12,
   "metadata": {},
   "outputs": [
    {
     "name": "stdout",
     "output_type": "stream",
     "text": [
      "ACAAGATGCCATTGTCCCCCGGCCTCCTGCTGCTGCTGCTCTCCGGGGCCACGGCCACCG\n",
      "TGTTCTACGGTAACAGGGGGCCGGAGGACGACGACGACGAGAGGCCCCGGTGCCGGTGGC\n"
     ]
    }
   ],
   "source": [
    "def bases(base):\n",
    "    # A la función entra un objeto tipo Match. Debemos recuperar el \n",
    "    # valor de la coincidencia haciendo group(0) ya que sabemos que \n",
    "    # con el patrón utilizado nos llegará solo una coincidencia.\n",
    "    mapping = {'A': 'T', 'G': 'C', 'T': 'A', 'C':'G'}\n",
    "    return mapping[base.group(0)]\n",
    "\n",
    "adn = 'ACAAGATGCCATTGTCCCCCGGCCTCCTGCTGCTGCTGCTCTCCGGGGCCACGGCCACCG'\n",
    "print(adn)\n",
    "print(re.sub('[ATCG]', bases, adn))"
   ]
  },
  {
   "cell_type": "markdown",
   "metadata": {},
   "source": [
    "### `split`"
   ]
  },
  {
   "cell_type": "markdown",
   "metadata": {},
   "source": [
    "Para separar una secuencia por el caracter `e` podemos usar el método `split()` de los objetos `str`. Esto quedaría como siguiente ejemplo:"
   ]
  },
  {
   "cell_type": "code",
   "execution_count": 13,
   "metadata": {},
   "outputs": [
    {
     "data": {
      "text/plain": [
       "['Est', ' ', 's un m', 'nsaj', ' simpl', ' qu', ' vamos a proc', 'sar ', 'hh!']"
      ]
     },
     "execution_count": 13,
     "metadata": {},
     "output_type": "execute_result"
    }
   ],
   "source": [
    "msg = \"Este es un mensaje simple que vamos a procesar ehh!\"\n",
    "msg.split('e')"
   ]
  },
  {
   "cell_type": "markdown",
   "metadata": {},
   "source": [
    "Podemos realizar el mismo procesamiento usado el módulo `re` de la siguiente forma:"
   ]
  },
  {
   "cell_type": "code",
   "execution_count": 14,
   "metadata": {},
   "outputs": [
    {
     "data": {
      "text/plain": [
       "['Est', ' ', 's un m', 'nsaj', ' simpl', ' qu', ' vamos a proc', 'sar ', 'hh!']"
      ]
     },
     "execution_count": 14,
     "metadata": {},
     "output_type": "execute_result"
    }
   ],
   "source": [
    "msg = \"Este es un mensaje simple que vamos a procesar ehh!\"\n",
    "re.split('e', msg)"
   ]
  },
  {
   "cell_type": "markdown",
   "metadata": {},
   "source": [
    "El método `split()`require como argumentos un string con el patrón y el string donde vamos aplicar ese patrón. Hasta ahora ambos métodos nos entregan el mismo resultado. Para casos simples de procesamiento solo bastaría el uso de los métodos propios de la clase `str()` y dejar `re` para tareas más complejas."
   ]
  },
  {
   "cell_type": "code",
   "execution_count": 15,
   "metadata": {},
   "outputs": [
    {
     "name": "stdout",
     "output_type": "stream",
     "text": [
      "['Est', ' ', 's ', 'n m', 'ns', 'j', ' s', 'mpl', ' q', '', ' v', 'm', 's ', ' pr', 'c', 's', 'r ', 'hh!']\n"
     ]
    }
   ],
   "source": [
    "# Divimos sacando solo las vocales. Los patrones regules son case\n",
    "print(re.split('[aeiou]', msg))"
   ]
  },
  {
   "cell_type": "markdown",
   "metadata": {},
   "source": [
    "Volvamos al ejemplo de la secuencia de ADN. Supongamos que necesitamos dividir una secuencia dada usando los tripletas de genes (*codones*). La implementación mediante expresiones regulares para separar la siguiente secuencia usando las tripleras *GGG* y *GGA* sería:"
   ]
  },
  {
   "cell_type": "code",
   "execution_count": 16,
   "metadata": {},
   "outputs": [
    {
     "data": {
      "text/plain": [
       "['AGCTTTTCATTCTGACTGCAAC',\n",
       " 'CAATATGTCTCTGTGT',\n",
       " 'TTAAAAAAAGAGTGTCTGATAGCAGCTTCTGAACTGGTTACCTGCCGTGAGTAAATTAAAATTTTATTGACTTAGGTCACTAAATACTTTAACCAATATAGGCATAGCGCACAGACAGATAAAAATTACAGAGTACACAACATCCATGAAACGCATTAGCACCACCATTACCACCACCATCACCATTACCACAGGTAACGGTGC',\n",
       " 'CTGACGCGTACA',\n",
       " 'AACACAGAAAAAAG']"
      ]
     },
     "execution_count": 16,
     "metadata": {},
     "output_type": "execute_result"
    }
   ],
   "source": [
    "adn = \"AGCTTTTCATTCTGACTGCAACGGGCAATATGTCTCTGTGTGGATTAAAAAAAGAGTGTCTGATAGCAGCTTCTGA\" + \\\n",
    "\"ACTGGTTACCTGCCGTGAGTAAATTAAAATTTTATTGACTTAGGTCACTAAATACTTTAACCAATATAGGCATAGCGCACAGACAGATAAAAATTACAGAGTACACAACATCC\" + \\\n",
    "\"ATGAAACGCATTAGCACCACCATTACCACCACCATCACCATTACCACAGGTAACGGTGCGGGCTGACGCGTACAGGAAACACAGAAAAAAG\"\n",
    "\n",
    "re.split('(?:GGG|GGA)', adn)"
   ]
  },
  {
   "cell_type": "markdown",
   "metadata": {},
   "source": [
    "En este caso hemos incorporado los meta-caracteres `?:` para indicar que vamos a buscar cualquiera de los grupos de  expresiones dentro de los paréntesis, pero que las subsecuencias que coincidan no serán retornadas después realizar la búsqueda. Esto permite que `split` solo retorne las secuencias producto de la división. Esto se conoce como *non-capturing version*."
   ]
  },
  {
   "cell_type": "markdown",
   "metadata": {},
   "source": [
    "Los conceptos vistos en este material corresponden a los usos básicos que pueden dar a las expresiones regulares. Les recomendamos revisar la documentación de Python para [expresiones regulares](https://docs.python.org/3/library/re.html) y [HOWTO](https://docs.python.org/3/howto/regex.html#regex-howto), para tener mayor detalle de cada método en el módulo `re` y conocer otros casos de uso. También pueden verificar las expresiones regular que escriban usando sitios como [http://pythex.org/](http://pythex.org/)"
   ]
  }
 ],
 "metadata": {
  "anaconda-cloud": {},
  "kernelspec": {
   "display_name": "Python 3",
   "language": "python",
   "name": "python3"
  },
  "language_info": {
   "codemirror_mode": {
    "name": "ipython",
    "version": 3
   },
   "file_extension": ".py",
   "mimetype": "text/x-python",
   "name": "python",
   "nbconvert_exporter": "python",
   "pygments_lexer": "ipython3",
   "version": "3.6.6"
  }
 },
 "nbformat": 4,
 "nbformat_minor": 1
}
