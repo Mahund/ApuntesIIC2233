{
 "cells": [
  {
   "cell_type": "markdown",
   "metadata": {},
   "source": [
    "<p>\n",
    "<font size='5' face='Georgia, Arial'>IIC-2233 Apunte Programación Avanzada</font><br>\n",
    "<font size='1'> Modificado en 2018-1 y 2018-2 por Equipo Docente IIC2233. Creado por equipo docente en 2015-1.</font>\n",
    "</p>"
   ]
  },
  {
   "cell_type": "markdown",
   "metadata": {},
   "source": [
    "# Serialización de objetos\n",
    "\n",
    "Como revisamos en el material anterior, toda la información que almacena un computador se guarda en base a _bits_ (esto es, ceros y unos). Por ejemplo, imaginemos que buscamos guardar una estructura de datos o una instancia de una clase. De alguna forma, estos datos —que probablemente no tienen una estructura lineal— deben ser guardados como una serie o secuencia de _bytes_. Aquí es cuando aparece el término de **serialización**.\n",
    "\n",
    "Este concepto se refiere al procedimiento de transformar cualquier objeto en una secuencia o serie de _bytes_. Esto nos permite almacenar el estado de un objeto de forma persistente, por ejemplo en un archivo o una base de datos que podemos consultar más tarde. También nos permite enviar el objeto a otros computadores y programas.\n",
    "\n",
    "## _Pickle_\n",
    "\n",
    "La librería _pickle_ de Python permite guardar y cargar casi cualquier objeto de Python, incluyendo listas. Esta librería ofrece los métodos:\n",
    "- `dumps`: serializa un objeto, es decir, lo guarda.\n",
    "- `loads`: deserializa un objeto serializado, es decir, carga un objeto a su estado original.\n",
    "\n",
    "Una vez que un objeto es serializado, este es persistente y está listo para volver a ser usado en el futuro por el mismo programa."
   ]
  },
  {
   "cell_type": "code",
   "execution_count": 3,
   "metadata": {
    "scrolled": true
   },
   "outputs": [
    {
     "name": "stdout",
     "output_type": "stream",
     "text": [
      "b'\\x80\\x03(X\\x01\\x00\\x00\\x00aq\\x00K\\x01K\\x03X\\x04\\x00\\x00\\x00holaq\\x01tq\\x02.'\n",
      "<class 'bytes'>\n",
      "('a', 1, 3, 'hola')\n",
      "<class 'tuple'>\n"
     ]
    }
   ],
   "source": [
    "import pickle\n",
    "\n",
    "tupla = (\"a\", 1, 3, \"hola\")\n",
    "serializacion = pickle.dumps(tupla)\n",
    "\n",
    "print(serializacion)\n",
    "print(type(serializacion))\n",
    "print(pickle.loads(serializacion))\n",
    "print(type(pickle.loads(serializacion)))"
   ]
  },
  {
   "cell_type": "markdown",
   "metadata": {},
   "source": [
    "_Pickle_ también nos ofrece los métodos `dump` y `load` (casi el mismo nombre que antes pero sin la _s_). Estos métodos también serializan y deserializan, pero a través de archivos: \n",
    "\n",
    "- `dump`: guarda un archivo con el objeto serializado.\n",
    "- `load`: deserializa un objeto almacenado en un archivo (lo trae de vuelta)."
   ]
  },
  {
   "cell_type": "code",
   "execution_count": 4,
   "metadata": {},
   "outputs": [
    {
     "name": "stdout",
     "output_type": "stream",
     "text": [
      "¿Las listas son iguales? True\n",
      "¿Las listas son el mismo objeto? False\n"
     ]
    }
   ],
   "source": [
    "lista = [1, 2, 3, 7, 8, 3]\n",
    "\n",
    "with open(\"mi_lista.bin\", 'wb') as file:\n",
    "    pickle.dump(lista, file)\n",
    "\n",
    "with open(\"mi_lista.bin\", 'rb') as file:\n",
    "    lista_cargada = pickle.load(file)\n",
    "\n",
    "print(f\"¿Las listas son iguales? {lista == lista_cargada}\")\n",
    "print(f\"¿Las listas son el mismo objeto? {lista is lista_cargada}\")"
   ]
  },
  {
   "cell_type": "markdown",
   "metadata": {},
   "source": [
    "_Pickle_ es un módulo no seguro. Esto implica que **nunca** debes cargar un archivo _pickle_ cuando no conoces su procedencia, ya que éste podría ejecutar código malicioso en tu computador. No entraremos en detalles sobre cómo inyectar código a través del módulo _pickle_, pero los interesados pueden revisar este [enlace](http://www.cs.jhu.edu/~s/musings/pickle.html).\n",
    "\n",
    "\n",
    "### Personalizar la serialización\n",
    "\n",
    "Cuando _pickle_ trata de serializar un objeto, lo primero que hará es verificar que el objeto que se quiere serializar sea de una clase que tenga implementado el método `__getstate__`. Este método debe retornar un diccionario con los atributos que se quieren serializar. Si `__getstate__` no estuviese implementado, entonces _pickle_ guardará el atributo `__dict__` del objeto. Recuerda que el atributo `__dict__` es un diccionario que guarda todos los atributos y métodos de un objeto. Por ejemplo, `o.atributo` es equivalente a `o.__dict__[\"atributo\"]` y `o.atributo = 42` es equivalente a `o.__dict__[\"atributo\"] = 42`.\n",
    "\n",
    "El método `__getstate__` nos permite personalizar la serialización del objeto. Usando este método podemos crear un diccionario que contenga solo la información que deseamos guardar. "
   ]
  },
  {
   "cell_type": "code",
   "execution_count": 5,
   "metadata": {},
   "outputs": [],
   "source": [
    "class Persona:\n",
    "    def __init__(self, nombre, edad):\n",
    "        self.nombre = nombre\n",
    "        self.edad = edad\n",
    "        self.mensaje = \"No pasa nada\"\n",
    "        \n",
    "    def __getstate__(self):\n",
    "        \"\"\"\n",
    "        Retorna el estado actual del objeto, para que sea serializado por pickle\n",
    "        \n",
    "        Aquí creamos una copia del diccionario actual, para modificar la copia \n",
    "        y no el objeto original\n",
    "        \"\"\"\n",
    "        nueva = self.__dict__.copy()\n",
    "        nueva.update({\"mensaje\" : \"¡Me están serializando!\"})\n",
    "        return nueva"
   ]
  },
  {
   "cell_type": "code",
   "execution_count": 6,
   "metadata": {},
   "outputs": [
    {
     "name": "stdout",
     "output_type": "stream",
     "text": [
      "Mensaje original: No pasa nada\n",
      "Mensaje original: No pasa nada\n",
      "Mensaje deserializado: ¡Me están serializando!\n"
     ]
    }
   ],
   "source": [
    "original = Persona(\"Juan\", 30)\n",
    "print(\"Mensaje original:\", original.mensaje)\n",
    "serializado = pickle.dumps(original)\n",
    "deserializado = pickle.loads(serializado)\n",
    "\n",
    "# El objeto original sigue igual\n",
    "print(\"Mensaje original:\", original.mensaje)\n",
    "print(\"Mensaje deserializado:\", deserializado.mensaje)"
   ]
  },
  {
   "cell_type": "markdown",
   "metadata": {},
   "source": [
    "### Personalizar la deserialización\n",
    "\n",
    "De forma análoga, podemos personalizar la **deserialización**. Para esto debemos implementar el método `__setstate__`, que se ejecutará cada vez que llamemos a `load` o `loads`. El método `__setstate__` recibe como argumento el diccionario que representa el estado del objeto que fue serializado. Luego debe asignarlo al diccionario del objeto `self.__dict__ = diccionario_con_estado`. Esto no impide que se realicen otras acciones que modifiquen `diccionario_con_estado` antes o después de la asignación.\n",
    "\n",
    "Si el método `__setstate__` no estuviese implementado, entonces se asignará al `__dict__` del objeto el estado deserializado sin realizar otras acciones adicionales."
   ]
  },
  {
   "cell_type": "code",
   "execution_count": 9,
   "metadata": {},
   "outputs": [],
   "source": [
    "class Persona:\n",
    "    def __init__(self, nombre, edad):\n",
    "        self.nombre = nombre\n",
    "        self.edad = edad\n",
    "        self.mensaje = \"No pasa nada\"\n",
    "        \n",
    "    def __getstate__(self):\n",
    "        nueva = self.__dict__.copy()\n",
    "        nueva.update({\"mensaje\": \"¡Me están serializando!\"})\n",
    "        # esto es lo que será serializado por pickle\n",
    "        return nueva \n",
    "\n",
    "    def __setstate__(self, state):\n",
    "        print(\"Objeto recién deserializado, actualizando su estado\")\n",
    "        state.update({\"nombre\": state[\"nombre\"] + \" deserializado\"})\n",
    "        self.__dict__ = state"
   ]
  },
  {
   "cell_type": "code",
   "execution_count": 10,
   "metadata": {},
   "outputs": [
    {
     "name": "stdout",
     "output_type": "stream",
     "text": [
      "Nombre original: Juan\n"
     ]
    }
   ],
   "source": [
    "original = Persona(\"Juan\", 30)\n",
    "print(\"Nombre original:\", original.nombre)\n",
    "serializado = pickle.dumps(original)"
   ]
  },
  {
   "cell_type": "code",
   "execution_count": 13,
   "metadata": {},
   "outputs": [
    {
     "name": "stdout",
     "output_type": "stream",
     "text": [
      "Objeto recién deserializado, actualizando su estado\n"
     ]
    },
    {
     "data": {
      "text/plain": [
       "'Juan deserializado'"
      ]
     },
     "execution_count": 13,
     "metadata": {},
     "output_type": "execute_result"
    }
   ],
   "source": [
    "des = pickle.loads(serializado)\n",
    "des.nombre"
   ]
  },
  {
   "cell_type": "markdown",
   "metadata": {},
   "source": [
    "Una aplicación práctica de los métodos `__getstate__` y `__setstate__` es cuando necesitamos serializar un objeto que contiene un atributo que depende de las condiciones actuales del programa. Por ejemplo, imaginemos que un objeto mantiene una conexión a una base de datos. Supongamos, además, que esta conexión tiene atributos relacionados con el estado del programa: tiempo de conexión, puertos utilizados, _host_, entre otros. Cuando guardamos el objeto, deberíamos eliminar la conexión, ya que este atributo no podrá ser utilizado en otra instancia del programa. Para lograr esto usamos el método `__getstate__`. \n",
    "\n",
    "Cuando se cargue el mismo objeto desde el archivo serializado, será necesario volver a crear la conexión con las condiciones del programa. Para realizar esto tendremos que implementar `__setstate__`."
   ]
  },
  {
   "cell_type": "markdown",
   "metadata": {},
   "source": [
    "## Serialización de objetos con JSON\n",
    "\n",
    "Una de las desventajas de los objetos serializados con `pickle` es que sólo pueden ser deserializados por otros programas escritos en Python. Por otra parte, _**JSON**_ (JavaScript Object Notation) es un formato estándar de intercambio de datos que puede ser interpretado por muchos lenguajes. _JSON_ además es _human-readable_, es decir, puede ser fácilmente leído y entendido por humanos.\n",
    "\n",
    "**El formato en que almacena la información es similar a los diccionarios de Python.**\n",
    "\n",
    "En _JSON_ sólo es posible serializar instancias de `int`, `str`, `float`, `dict`, `bool`, `list`, `tuple` y `NoneType`, de acuerdo a esta tabla de transformación que puedes revisar en [este link](https://docs.python.org/3.6/library/json.html#encoders-and-decoders). Sin embargo, por defecto no es posible serializar funciones o instancias de otras clases.\n",
    "\n",
    "En Python, existe un módulo llamado `json` que provee métodos para serializar objetos en el  formato _JSON_. Este módulo provee una interfaz similar a la de `pickle`, es decir, los métodos `dump`(`s`) y `load`(`s`). "
   ]
  },
  {
   "cell_type": "code",
   "execution_count": 10,
   "metadata": {},
   "outputs": [],
   "source": [
    "from itertools import count\n",
    "import json\n",
    "\n",
    "class Persona:\n",
    "    id = count()\n",
    "    \n",
    "    def __init__(self, nombre, edad, estado_civil):\n",
    "        self.nombre = nombre\n",
    "        self.edad = edad\n",
    "        self.estado_civil = estado_civil\n",
    "        self.id_ = next(self.id)"
   ]
  },
  {
   "cell_type": "code",
   "execution_count": 11,
   "metadata": {},
   "outputs": [
    {
     "name": "stdout",
     "output_type": "stream",
     "text": [
      "Datos en formato JSON: <class 'str'> {\"nombre\": \"Juan\", \"edad\": 35, \"estado_civil\": \"Soltero\", \"id_\": 0}\n",
      "Datos en formato Python: <class 'dict'> {'nombre': 'Juan', 'edad': 35, 'estado_civil': 'Soltero', 'id_': 0}\n"
     ]
    }
   ],
   "source": [
    "p = Persona(\"Juan\", 35, \"Soltero\")\n",
    "\n",
    "json_string = json.dumps(p.__dict__)\n",
    "print(\"Datos en formato JSON:\", type(json_string), json_string)\n",
    "\n",
    "json_deserializado = json.loads(json_string)\n",
    "print(\"Datos en formato Python:\", type(json_deserializado), json_deserializado)"
   ]
  },
  {
   "cell_type": "markdown",
   "metadata": {},
   "source": [
    "### Personalizar la serialización\n",
    "\n",
    "Cuando queremos guardar un objeto como _JSON_ podemos personalizar la transformación utilizando un `json.JSONEncoder`, de forma análoga a como lo hicimos `__getstate__`. Para esto debemos crear una clase que hereda de la clase `json.JSONEncoder` y sobreescribir el método `default`:"
   ]
  },
  {
   "cell_type": "code",
   "execution_count": 10,
   "metadata": {},
   "outputs": [],
   "source": [
    "from datetime import datetime\n",
    "\n",
    "\n",
    "class PersonaEncoder(json.JSONEncoder):\n",
    "       def default(self, obj):\n",
    "            \"\"\"Serializa en forma personalizada el tipo de objeto Persona\"\"\"\n",
    "            \n",
    "            if isinstance(obj, Persona):\n",
    "                return {'Persona_id': obj.id_, \n",
    "                        'nombre': obj.nombre, \n",
    "                        'edad': obj.edad, \n",
    "                        'estado_civil': obj.estado_civil, \n",
    "                        'ano_nacimiento' : datetime.now().year - obj.edad}\n",
    "            \n",
    "            # Mantenemos la serialización por defecto para otros tipos\n",
    "            return super().default(obj)\n",
    "\n",
    "        \n",
    "# Creamos tres instancias\n",
    "p1 = Persona(\"Juanita\", 37, \"Soltera\")\n",
    "p2 = Persona(\"Jorge\", 33, \"Casado\")\n",
    "p3 = Persona(\"Mariela\", 24, \"Soltera\")"
   ]
  },
  {
   "cell_type": "markdown",
   "metadata": {},
   "source": [
    "Probamos la serialización usando el _default_:"
   ]
  },
  {
   "cell_type": "code",
   "execution_count": 11,
   "metadata": {
    "scrolled": true
   },
   "outputs": [
    {
     "data": {
      "text/plain": [
       "'{\"nombre\": \"Juanita\", \"edad\": 37, \"estado_civil\": \"Soltera\", \"id_\": 1}'"
      ]
     },
     "execution_count": 11,
     "metadata": {},
     "output_type": "execute_result"
    }
   ],
   "source": [
    "json_string = json.dumps(p1.__dict__)\n",
    "\n",
    "json_string"
   ]
  },
  {
   "cell_type": "markdown",
   "metadata": {},
   "source": [
    "Ahora, serializamos usando el método personalizado:"
   ]
  },
  {
   "cell_type": "code",
   "execution_count": 12,
   "metadata": {},
   "outputs": [
    {
     "name": "stdout",
     "output_type": "stream",
     "text": [
      "{\"Persona_id\": 1, \"nombre\": \"Juanita\", \"edad\": 37, \"estado_civil\": \"Soltera\", \"ano_nacimiento\": 1981}\n",
      "{\"Persona_id\": 2, \"nombre\": \"Jorge\", \"edad\": 33, \"estado_civil\": \"Casado\", \"ano_nacimiento\": 1985}\n",
      "{\"Persona_id\": 3, \"nombre\": \"Mariela\", \"edad\": 24, \"estado_civil\": \"Soltera\", \"ano_nacimiento\": 1994}\n"
     ]
    }
   ],
   "source": [
    "json_string = json.dumps(p1, cls=PersonaEncoder)\n",
    "print(json_string)\n",
    "\n",
    "json_string = json.dumps(p2, cls=PersonaEncoder)\n",
    "print(json_string)\n",
    "\n",
    "json_string = json.dumps(p3, cls=PersonaEncoder)\n",
    "print(json_string)"
   ]
  },
  {
   "cell_type": "markdown",
   "metadata": {},
   "source": [
    "### Personalizar la deserialización\n",
    "\n",
    "Cuando queremos transformar un _JSON_ a un objeto Python podemos utilizar los `object_hook`, de forma análoga a como lo hicimos con `__setstate__`. \n",
    "\n",
    "El `object_hook` es un parámetro de los métodos `load` y `loads`, que espera una función que sea capaz de manejar un diccionario y retorne un objeto de Python. En el proceso de deserialización, todo objeto _JSON_ será convertido a un diccionario de Python, y luego pasado a la función `object_hook` para hacer la transformación final.\n",
    "\n",
    "Por ejemplo, si queremos cargar datos _JSON_ en una lista de tuplas en vez de un diccionario:"
   ]
  },
  {
   "cell_type": "code",
   "execution_count": 13,
   "metadata": {},
   "outputs": [
    {
     "data": {
      "text/plain": [
       "[('nombre', 'Jorge'),\n",
       " ('edad', 34),\n",
       " ('estado_civil', 'casado'),\n",
       " ('puntaje', 90.5)]"
      ]
     },
     "execution_count": 13,
     "metadata": {},
     "output_type": "execute_result"
    }
   ],
   "source": [
    "def funcion_hook(diccionario):\n",
    "    return [(key, value) for key, value in diccionario.items()]\n",
    "\n",
    "json_string = '{\"nombre\": \"Jorge\", \"edad\": 34, \"estado_civil\": \"casado\", \"puntaje\": 90.5}'\n",
    "datos = json.loads(json_string, object_hook=funcion_hook)\n",
    "\n",
    "datos"
   ]
  },
  {
   "cell_type": "markdown",
   "metadata": {},
   "source": [
    "Es importante recordar que **todo** objeto de _JSON_ es convertido a un diccionario, y luego entregado al `object_hook`. Esto tiene implicancias cuando tenemos un _JSON_ con objetos anidados:"
   ]
  },
  {
   "cell_type": "code",
   "execution_count": 14,
   "metadata": {},
   "outputs": [
    {
     "name": "stdout",
     "output_type": "stream",
     "text": [
      "Me llegó el diccionario: {}\n",
      "Lo transformaré en 42\n",
      "\n",
      "Me llegó el diccionario: {'f': True}\n",
      "Lo transformaré en 42\n",
      "\n",
      "Me llegó el diccionario: {'b': 1, 'c': [2, 3, 42], 'd': None, 'e': 42}\n",
      "Lo transformaré en 33\n",
      "\n",
      "Me llegó el diccionario: {'a': 33}\n",
      "Lo transformaré en 42\n",
      "\n"
     ]
    },
    {
     "data": {
      "text/plain": [
       "42"
      ]
     },
     "execution_count": 14,
     "metadata": {},
     "output_type": "execute_result"
    }
   ],
   "source": [
    "def funcion_hook(diccionario):\n",
    "    \"\"\"Esta función transforma un diccionario en un número\"\"\"\n",
    "    print(f\"Me llegó el diccionario: {diccionario}\")\n",
    "    valor = 33 if len(diccionario) > 1 else 42\n",
    "    print(f\"Lo transformaré en {valor}\\n\")\n",
    "    return valor\n",
    "\n",
    "\n",
    "json_string = '{\"a\": {\"b\": 1, \"c\": [2, 3, {}], \"d\": null, \"e\": {\"f\": true}}}'\n",
    "datos = json.loads(json_string, object_hook=funcion_hook)\n",
    "\n",
    "datos"
   ]
  },
  {
   "cell_type": "markdown",
   "metadata": {},
   "source": [
    "¿Qué pasó ahí arriba? Lo primero que podemos notar es que el proceso de conversión funciona de adentro hacia afuera, y además que el resultado que entregue `object_hook` se arrastra en el proceso."
   ]
  }
 ],
 "metadata": {
  "kernelspec": {
   "display_name": "Python 3",
   "language": "python",
   "name": "python3"
  },
  "language_info": {
   "codemirror_mode": {
    "name": "ipython",
    "version": 3
   },
   "file_extension": ".py",
   "mimetype": "text/x-python",
   "name": "python",
   "nbconvert_exporter": "python",
   "pygments_lexer": "ipython3",
   "version": "3.6.6"
  }
 },
 "nbformat": 4,
 "nbformat_minor": 1
}
