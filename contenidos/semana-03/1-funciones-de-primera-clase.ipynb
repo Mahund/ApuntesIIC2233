{
 "cells": [
  {
   "cell_type": "markdown",
   "metadata": {},
   "source": [
    "<p>\n",
    "<font size='5' face='Georgia, Arial'>IIC-2233 Apunte Programación Avanzada</font><br>\n",
    "    <font size='1'>Material creado por Cuerpo Docente IIC2233 2018-1. Editado por Cuerpo Docente IIC2233 2018-2.</font><br>\n",
    "    <font size='1'>La selección de temas a tratar se basa en un material creado en 2015 por Karim Pichara y Christian Pieringer, con sus modificaciones posteriores hechas por el Cuerpo Docente IIC2233 en 2017-1.</font>\n",
    "</p>"
   ]
  },
  {
   "cell_type": "markdown",
   "metadata": {},
   "source": [
    "## Funciones de primer clase\n",
    "\n",
    "Como dijimos la semana pasada, Python posee funciones de primera clase, por lo que son tratadas como cualquier otra variable. Hoy profundizaremos en las consecuencias de esta situación, para luego revisar qué son los decoradores y cómo se utilizan."
   ]
  },
  {
   "cell_type": "markdown",
   "metadata": {},
   "source": [
    "1\\. Las funciones pueden ser asignadas a una variable, y luego usar esa variable igual que la función."
   ]
  },
  {
   "cell_type": "code",
   "execution_count": 1,
   "metadata": {},
   "outputs": [
    {
     "name": "stdout",
     "output_type": "stream",
     "text": [
      "8\n",
      "8\n"
     ]
    }
   ],
   "source": [
    "def suma(x, y):\n",
    "    return x + y\n",
    "\n",
    "adicion = suma\n",
    "\n",
    "print(suma(3, 5))\n",
    "print(adicion(3, 5))"
   ]
  },
  {
   "cell_type": "markdown",
   "metadata": {},
   "source": [
    "2\\. Se pueden definir funciones anidadas, es decir, funciones dentro de otras funciones."
   ]
  },
  {
   "cell_type": "code",
   "execution_count": 2,
   "metadata": {},
   "outputs": [
    {
     "name": "stdout",
     "output_type": "stream",
     "text": [
      "72\n"
     ]
    }
   ],
   "source": [
    "def operacion(x, y):\n",
    "    def operacion_interna(z):\n",
    "        return z ** 2\n",
    "    return x + y + operacion_interna(x + y)\n",
    "\n",
    "print(operacion(3, 5))"
   ]
  },
  {
   "cell_type": "markdown",
   "metadata": {},
   "source": [
    "3\\. Las funciones pueden ser pasadas como argumentos a otras funciones."
   ]
  },
  {
   "cell_type": "code",
   "execution_count": 3,
   "metadata": {},
   "outputs": [
    {
     "name": "stdout",
     "output_type": "stream",
     "text": [
      "520\n"
     ]
    }
   ],
   "source": [
    "def operacion(x, y, funcion):\n",
    "    return x + y + funcion(x + y)\n",
    "\n",
    "def cubo(x):\n",
    "    return x ** 3\n",
    "\n",
    "print(operacion(3, 5, cubo))  # 3 + 5 + (3 + 5) ** 3 = 8 + 512 = 520"
   ]
  },
  {
   "cell_type": "markdown",
   "metadata": {},
   "source": [
    "4\\. Las funciones pueden retornar otras funciones."
   ]
  },
  {
   "cell_type": "code",
   "execution_count": 4,
   "metadata": {},
   "outputs": [
    {
     "name": "stdout",
     "output_type": "stream",
     "text": [
      "15\n"
     ]
    }
   ],
   "source": [
    "def fabricar_funcion():\n",
    "    def nueva_funcion(x, y):\n",
    "        return x * y\n",
    "    return nueva_funcion\n",
    "\n",
    "funcion = fabricar_funcion()\n",
    "print(funcion(3, 5))"
   ]
  },
  {
   "cell_type": "markdown",
   "metadata": {},
   "source": [
    "5\\. Las funciones definidas adentro de otras tienen acceso (sólo de lectura) a las variables del _scope_ de la función que la contiene."
   ]
  },
  {
   "cell_type": "code",
   "execution_count": 5,
   "metadata": {},
   "outputs": [
    {
     "name": "stdout",
     "output_type": "stream",
     "text": [
      "6\n"
     ]
    }
   ],
   "source": [
    "def fabricar_funcion(x):\n",
    "    def nueva_funcion():\n",
    "        return 2 * x\n",
    "    return nueva_funcion\n",
    "\n",
    "funcion = fabricar_funcion(3)\n",
    "print(funcion())"
   ]
  },
  {
   "cell_type": "markdown",
   "metadata": {},
   "source": [
    "Podemos notar que la función retornada (`nueva_funcion`) es capaz de leer el valor de $x$ que tenía la función que la contenía (`fabricar_funcion`), incluso si la usamos con posterioridad.\n",
    "\n",
    "Ahora, veamos qué pasa si intentamos modificar una variable definida en la función que está un nivel más arriba."
   ]
  },
  {
   "cell_type": "code",
   "execution_count": 6,
   "metadata": {},
   "outputs": [],
   "source": [
    "def fabricar_funcion(x):\n",
    "    texto = \"Texto de prueba\"\n",
    "    print(\"Texto en fabricar_función:\", texto)\n",
    "    def nueva_funcion():\n",
    "        texto = \"Texto definitivo\"\n",
    "        print(\"Texto en nueva_función:\", texto)\n",
    "        return 2 * x\n",
    "    print(\"Texto en fabricar_función:\", texto)\n",
    "    return nueva_funcion"
   ]
  },
  {
   "cell_type": "code",
   "execution_count": 7,
   "metadata": {},
   "outputs": [
    {
     "name": "stdout",
     "output_type": "stream",
     "text": [
      "Texto en fabricar_función: Texto de prueba\n",
      "Texto en fabricar_función: Texto de prueba\n"
     ]
    }
   ],
   "source": [
    "# Llamamos fabricar_función para obtener nuestra función que multiplica por dos\n",
    "funcion = fabricar_funcion(3)"
   ]
  },
  {
   "cell_type": "code",
   "execution_count": 8,
   "metadata": {},
   "outputs": [
    {
     "name": "stdout",
     "output_type": "stream",
     "text": [
      "Texto en nueva_función: Texto definitivo\n",
      "6\n"
     ]
    }
   ],
   "source": [
    "# Ahora, llamamos la función\n",
    "print(funcion())"
   ]
  },
  {
   "cell_type": "markdown",
   "metadata": {},
   "source": [
    "Vimos que la modificación sólo es válida dentro del _scope_ de la función anidada.\n",
    "\n",
    "**Importante:** Si se redefine una variable en una función anidada, no podremos obtener el valor original dentro de ella, pues obtendremos un error. Tratemos de leer el valor de `texto` antes de modificarlo en `nueva_función`:"
   ]
  },
  {
   "cell_type": "code",
   "execution_count": 9,
   "metadata": {},
   "outputs": [
    {
     "name": "stdout",
     "output_type": "stream",
     "text": [
      "Texto en fabricar_función: Texto de prueba\n",
      "Texto en fabricar_función: Texto de prueba\n"
     ]
    },
    {
     "ename": "UnboundLocalError",
     "evalue": "local variable 'texto' referenced before assignment",
     "output_type": "error",
     "traceback": [
      "\u001b[0;31m---------------------------------------------------------------------------\u001b[0m",
      "\u001b[0;31mUnboundLocalError\u001b[0m                         Traceback (most recent call last)",
      "\u001b[0;32m<ipython-input-9-b1f63e0a6838>\u001b[0m in \u001b[0;36m<module>\u001b[0;34m()\u001b[0m\n\u001b[1;32m     14\u001b[0m \u001b[0;34m\u001b[0m\u001b[0m\n\u001b[1;32m     15\u001b[0m \u001b[0;31m# Ahora, llamamos la función\u001b[0m\u001b[0;34m\u001b[0m\u001b[0;34m\u001b[0m\u001b[0m\n\u001b[0;32m---> 16\u001b[0;31m \u001b[0mprint\u001b[0m\u001b[0;34m(\u001b[0m\u001b[0mfuncion\u001b[0m\u001b[0;34m(\u001b[0m\u001b[0;34m)\u001b[0m\u001b[0;34m)\u001b[0m\u001b[0;34m\u001b[0m\u001b[0m\n\u001b[0m",
      "\u001b[0;32m<ipython-input-9-b1f63e0a6838>\u001b[0m in \u001b[0;36mnueva_funcion\u001b[0;34m()\u001b[0m\n\u001b[1;32m      3\u001b[0m     \u001b[0mprint\u001b[0m\u001b[0;34m(\u001b[0m\u001b[0;34m\"Texto en fabricar_función:\"\u001b[0m\u001b[0;34m,\u001b[0m \u001b[0mtexto\u001b[0m\u001b[0;34m)\u001b[0m\u001b[0;34m\u001b[0m\u001b[0m\n\u001b[1;32m      4\u001b[0m     \u001b[0;32mdef\u001b[0m \u001b[0mnueva_funcion\u001b[0m\u001b[0;34m(\u001b[0m\u001b[0;34m)\u001b[0m\u001b[0;34m:\u001b[0m\u001b[0;34m\u001b[0m\u001b[0m\n\u001b[0;32m----> 5\u001b[0;31m         \u001b[0mprint\u001b[0m\u001b[0;34m(\u001b[0m\u001b[0;34m\"Texto antes de cambiar valor en nueva_función\"\u001b[0m\u001b[0;34m,\u001b[0m \u001b[0mtexto\u001b[0m\u001b[0;34m)\u001b[0m\u001b[0;34m\u001b[0m\u001b[0m\n\u001b[0m\u001b[1;32m      6\u001b[0m         \u001b[0mtexto\u001b[0m \u001b[0;34m=\u001b[0m \u001b[0;34m\"Texto definitivo\"\u001b[0m\u001b[0;34m\u001b[0m\u001b[0m\n\u001b[1;32m      7\u001b[0m         \u001b[0mprint\u001b[0m\u001b[0;34m(\u001b[0m\u001b[0;34m\"Texto en nueva_función:\"\u001b[0m\u001b[0;34m,\u001b[0m \u001b[0mtexto\u001b[0m\u001b[0;34m)\u001b[0m\u001b[0;34m\u001b[0m\u001b[0m\n",
      "\u001b[0;31mUnboundLocalError\u001b[0m: local variable 'texto' referenced before assignment"
     ]
    }
   ],
   "source": [
    "def fabricar_funcion(x):\n",
    "    texto = \"Texto de prueba\"\n",
    "    print(\"Texto en fabricar_función:\", texto)\n",
    "    def nueva_funcion():\n",
    "        print(\"Texto antes de cambiar valor en nueva_función\", texto)\n",
    "        texto = \"Texto definitivo\"\n",
    "        print(\"Texto en nueva_función:\", texto)\n",
    "        return 2 * x\n",
    "    print(\"Texto en fabricar_función:\", texto)\n",
    "    return nueva_funcion\n",
    "\n",
    "# Llamamos fabricar_función para obtener nuestra función que multiplica por dos\n",
    "funcion = fabricar_funcion(3)\n",
    "\n",
    "# Ahora, llamamos la función\n",
    "print(funcion())"
   ]
  },
  {
   "cell_type": "markdown",
   "metadata": {},
   "source": [
    "## Referencias\n",
    "\n",
    "1. [The Code Ship - A guide to Python's function decorators](https://www.thecodeship.com/patterns/guide-to-python-function-decorators/)"
   ]
  }
 ],
 "metadata": {
  "anaconda-cloud": {},
  "kernelspec": {
   "display_name": "Python 3",
   "language": "python",
   "name": "python3"
  },
  "language_info": {
   "codemirror_mode": {
    "name": "ipython",
    "version": 3
   },
   "file_extension": ".py",
   "mimetype": "text/x-python",
   "name": "python",
   "nbconvert_exporter": "python",
   "pygments_lexer": "ipython3",
   "version": "3.6.6"
  }
 },
 "nbformat": 4,
 "nbformat_minor": 1
}
