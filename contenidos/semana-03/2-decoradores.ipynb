{
 "cells": [
  {
   "cell_type": "markdown",
   "metadata": {},
   "source": [
    "<p>\n",
    "<font size='5' face='Georgia, Arial'>IIC-2233 Apunte Programación Avanzada</font><br>\n",
    "<font size='1'>Editado por Equipo Docente IIC2233 2018-1 y 2018-2, basado en documento de Nebil Kawas 2017-2.</font><br>\n",
    "<font size='1'>Incluye partes de un material confeccionado por Karim Pichara y Christian Pieringer en 2015.</font>\n",
    "<br>\n",
    "</p>"
   ]
  },
  {
   "cell_type": "markdown",
   "metadata": {},
   "source": [
    "## Decoradores de funciones\n",
    "\n",
    "En diseño de _software_, un decorador es un patrón de diseño en el que se añade una funcionalidad a un objeto, sin tener que reescribir el código original. Los decoradores de funciones aplican esa idea: permiten tomar una función ya implementada, agregar algún comportamiento o datos adicionales, y retornar una nueva función. \n",
    "\n",
    "Podemos ver los decoradores como funciones que reciben una función `f1` cualquiera, y retornan una función `f2` distinta. Por ejemplo, si nuestro decorador se llama `decorator`, para obtener la función modificada que queremos y asignarla a la misma función actual, simplemente escribimos `f1 = decorator(f1)`. Con esto, nuestra función `f1` ahora queda con los nuevos datos y comportamientos agregados. \n",
    "\n",
    "Un beneficio de los decoradores es que evitan la necesidad de modificar el código de la función original, por lo que si necesitamos volver a la versión inicial de la función simplemente quitamos el llamado al decorador.\n",
    "\n",
    "Empecemos por algo sencillo: definamos el decorador identidad. Y le decimos _identidad_ porque, simplemente, devuelve una función (el _wrapper_) que, una vez llamado, ejecutará la función original."
   ]
  },
  {
   "cell_type": "code",
   "execution_count": 1,
   "metadata": {},
   "outputs": [],
   "source": [
    "def deco_function(original_function):\n",
    "    print(\"Entrando... (1)\")\n",
    "\n",
    "    def wrapper_function():\n",
    "        print(\"Entrando... (2)\")\n",
    "        original_function()\n",
    "        print(\"Saliendo... (2)\")\n",
    "\n",
    "    print(\"Saliendo... (1)\")\n",
    "    return wrapper_function"
   ]
  },
  {
   "cell_type": "markdown",
   "metadata": {},
   "source": [
    "Pensemos que estamos en nuestra época favorita del año, como pueden ser las fiestas patrias. Ahora, definimos una función dieciochera."
   ]
  },
  {
   "cell_type": "code",
   "execution_count": 2,
   "metadata": {},
   "outputs": [],
   "source": [
    "def print_paya():\n",
    "    print(\"¡Aro, aro, aro!\")"
   ]
  },
  {
   "cell_type": "markdown",
   "metadata": {},
   "source": [
    "Llamamos a esta función recién definida."
   ]
  },
  {
   "cell_type": "code",
   "execution_count": 3,
   "metadata": {},
   "outputs": [
    {
     "name": "stdout",
     "output_type": "stream",
     "text": [
      "¡Aro, aro, aro!\n"
     ]
    }
   ],
   "source": [
    "print_paya()"
   ]
  },
  {
   "cell_type": "markdown",
   "metadata": {},
   "source": [
    "Le entregamos la función al decorador —recordemos que el decorador también es una función— para crear una **nueva** función."
   ]
  },
  {
   "cell_type": "code",
   "execution_count": 4,
   "metadata": {},
   "outputs": [
    {
     "name": "stdout",
     "output_type": "stream",
     "text": [
      "Entrando... (1)\n",
      "Saliendo... (1)\n"
     ]
    }
   ],
   "source": [
    "new_print_paya = deco_function(print_paya)"
   ]
  },
  {
   "cell_type": "markdown",
   "metadata": {},
   "source": [
    "La función decorada debería tener el nuevo comportamiento."
   ]
  },
  {
   "cell_type": "code",
   "execution_count": 5,
   "metadata": {},
   "outputs": [
    {
     "name": "stdout",
     "output_type": "stream",
     "text": [
      "Entrando... (2)\n",
      "¡Aro, aro, aro!\n",
      "Saliendo... (2)\n"
     ]
    }
   ],
   "source": [
    "new_print_paya()"
   ]
  },
  {
   "cell_type": "markdown",
   "metadata": {},
   "source": [
    "Y efectivamente lo tiene.  \n",
    "Pero también podemos utilizar **el nombre de la función original** como variable."
   ]
  },
  {
   "cell_type": "code",
   "execution_count": 6,
   "metadata": {},
   "outputs": [
    {
     "name": "stdout",
     "output_type": "stream",
     "text": [
      "Entrando... (1)\n",
      "Saliendo... (1)\n"
     ]
    }
   ],
   "source": [
    "print_paya = deco_function(print_paya)"
   ]
  },
  {
   "cell_type": "markdown",
   "metadata": {},
   "source": [
    "Y obtendremos el mismo resultado."
   ]
  },
  {
   "cell_type": "code",
   "execution_count": 7,
   "metadata": {},
   "outputs": [
    {
     "name": "stdout",
     "output_type": "stream",
     "text": [
      "Entrando... (2)\n",
      "¡Aro, aro, aro!\n",
      "Saliendo... (2)\n"
     ]
    }
   ],
   "source": [
    "print_paya()"
   ]
  },
  {
   "cell_type": "markdown",
   "metadata": {},
   "source": [
    "### Decoradores con *azúcar sintáctico*  \n",
    "\n",
    "Una forma equivalente, pero más rápida y legible de decorar funciones es escribiendo el nombre del decorador arriba del encabezado de la función anteponiendo un `@`. Es la misma sintáxis que usamos cuando queremos crear properties, de hecho, `property` es un decorador.\n",
    "\n",
    "Nuestra paya decorada de esta manera, quedaría:"
   ]
  },
  {
   "cell_type": "code",
   "execution_count": 8,
   "metadata": {},
   "outputs": [
    {
     "name": "stdout",
     "output_type": "stream",
     "text": [
      "Entrando... (1)\n",
      "Saliendo... (1)\n"
     ]
    }
   ],
   "source": [
    "@deco_function\n",
    "def print_paya():\n",
    "    print(\"¡Aro, aro, aro!\")"
   ]
  },
  {
   "cell_type": "markdown",
   "metadata": {},
   "source": [
    "Podemos ver que la función `print_paya` tendrá el nuevo comportamiento cuando la llamemos."
   ]
  },
  {
   "cell_type": "code",
   "execution_count": 9,
   "metadata": {},
   "outputs": [
    {
     "name": "stdout",
     "output_type": "stream",
     "text": [
      "Entrando... (2)\n",
      "¡Aro, aro, aro!\n",
      "Saliendo... (2)\n"
     ]
    }
   ],
   "source": [
    "print_paya()"
   ]
  },
  {
   "cell_type": "markdown",
   "metadata": {},
   "source": [
    "Veamos un ejemplo, ahora, con una nueva función vegetariana."
   ]
  },
  {
   "cell_type": "code",
   "execution_count": 10,
   "metadata": {},
   "outputs": [
    {
     "name": "stdout",
     "output_type": "stream",
     "text": [
      "Entrando... (1)\n",
      "Saliendo... (1)\n"
     ]
    }
   ],
   "source": [
    "@deco_function\n",
    "def print_comida():\n",
    "    print(\"Comí pimentones con huevo.\")\n",
    "    print(\"Comí empanadas vegetarianas.\")"
   ]
  },
  {
   "cell_type": "markdown",
   "metadata": {},
   "source": [
    "Veamos el resultado."
   ]
  },
  {
   "cell_type": "code",
   "execution_count": 11,
   "metadata": {},
   "outputs": [
    {
     "name": "stdout",
     "output_type": "stream",
     "text": [
      "Entrando... (2)\n",
      "Comí pimentones con huevo.\n",
      "Comí empanadas vegetarianas.\n",
      "Saliendo... (2)\n"
     ]
    }
   ],
   "source": [
    "print_comida()"
   ]
  },
  {
   "cell_type": "markdown",
   "metadata": {},
   "source": [
    "El decorador se aplicó satisfactoriamente."
   ]
  },
  {
   "cell_type": "markdown",
   "metadata": {},
   "source": [
    "### _Intermezzo_\n",
    "\n",
    "Hemos visto cómo aplicar un decorador de dos formas equivalentes, pero los hemos aplicado sólo sobre funciones sin parámetros. Intentemos con una nueva función que, a diferencia de las anteriores, acepta un parámetro."
   ]
  },
  {
   "cell_type": "code",
   "execution_count": 12,
   "metadata": {},
   "outputs": [
    {
     "name": "stdout",
     "output_type": "stream",
     "text": [
      "Entrando... (1)\n",
      "Saliendo... (1)\n"
     ]
    }
   ],
   "source": [
    "@deco_function\n",
    "def print_bebida(bebida):\n",
    "    print(f\"Este dieciocho, me tomé dos litros de {bebida} al día.\")"
   ]
  },
  {
   "cell_type": "markdown",
   "metadata": {},
   "source": [
    "Veamos nuevamente el resultado."
   ]
  },
  {
   "cell_type": "code",
   "execution_count": 13,
   "metadata": {},
   "outputs": [
    {
     "ename": "TypeError",
     "evalue": "wrapper_function() takes 0 positional arguments but 1 was given",
     "output_type": "error",
     "traceback": [
      "\u001b[0;31m---------------------------------------------------------------------------\u001b[0m",
      "\u001b[0;31mTypeError\u001b[0m                                 Traceback (most recent call last)",
      "\u001b[0;32m<ipython-input-13-0c0a38dbc43e>\u001b[0m in \u001b[0;36m<module>\u001b[0;34m()\u001b[0m\n\u001b[0;32m----> 1\u001b[0;31m \u001b[0mprint_bebida\u001b[0m\u001b[0;34m(\u001b[0m\u001b[0;34m\"agua\"\u001b[0m\u001b[0;34m)\u001b[0m\u001b[0;34m\u001b[0m\u001b[0m\n\u001b[0m",
      "\u001b[0;31mTypeError\u001b[0m: wrapper_function() takes 0 positional arguments but 1 was given"
     ]
    }
   ],
   "source": [
    "print_bebida(\"agua\")"
   ]
  },
  {
   "cell_type": "markdown",
   "metadata": {},
   "source": [
    "Algo salió mal. El _wrapper_ no esperaba recibir un argumento. \n",
    "\n",
    "Podríamos resolver este problema colocando un parámetro a `wrapper_function` que está definido en nuestro decorador. Sin embargo, con esa solución sólo podremos decorar funciones que reciben exactamente un parámetro. Lo que a nosotros nos gustaría es poder decorar cualquier función, independiente de la cantidad de parámetros que reciba.\n",
    "\n",
    "Para resolver este problema en forma definitiva, necesitamos utilizar `*args` y `**kwargs`.\n",
    "\n",
    "- “¿Qué es `*args` y `**kwargs`?”  \n",
    "    - Ellos son utilizados generalmente en la definición de funciones, y sirven para pasar una **cantidad variable** de argumentos.  \n",
    "\n",
    "- “¿Y para qué me sirve eso?”  \n",
    "    - Esto me será de gran utilidad en casos cuando yo no sepa, de antemano, cuántos argumentos me llegarán.\n",
    "\n",
    "Veamos un ejemplo simple."
   ]
  },
  {
   "cell_type": "code",
   "execution_count": 14,
   "metadata": {},
   "outputs": [],
   "source": [
    "def multiply_two_numbers(first, second):\n",
    "    return first * second"
   ]
  },
  {
   "cell_type": "markdown",
   "metadata": {},
   "source": [
    "Utilicemos esta función para multiplicar dos números."
   ]
  },
  {
   "cell_type": "code",
   "execution_count": 15,
   "metadata": {},
   "outputs": [
    {
     "data": {
      "text/plain": [
       "42"
      ]
     },
     "execution_count": 15,
     "metadata": {},
     "output_type": "execute_result"
    }
   ],
   "source": [
    "multiply_two_numbers(6, 7)"
   ]
  },
  {
   "cell_type": "markdown",
   "metadata": {},
   "source": [
    "¿Y cómo hago si quiero multiplicar una cantidad variable de números?"
   ]
  },
  {
   "cell_type": "code",
   "execution_count": 16,
   "metadata": {},
   "outputs": [],
   "source": [
    "from functools import reduce\n",
    "\n",
    "def multiply_some_numbers(*numbers):\n",
    "    print(numbers)  # Esto imprime el iterable completo.\n",
    "    print(*numbers) # Esto imprime los números desempaquetados.\n",
    "    return reduce(lambda x, y: x*y, numbers)"
   ]
  },
  {
   "cell_type": "markdown",
   "metadata": {},
   "source": [
    "(Como puede inferir, no es necesario que tomen el nombre de `args` y `kwargs`.)  \n",
    "Veamos cómo utilizarlo."
   ]
  },
  {
   "cell_type": "code",
   "execution_count": 17,
   "metadata": {},
   "outputs": [
    {
     "name": "stdout",
     "output_type": "stream",
     "text": [
      "(3, 4, 5, 7)\n",
      "3 4 5 7\n"
     ]
    },
    {
     "data": {
      "text/plain": [
       "420"
      ]
     },
     "execution_count": 17,
     "metadata": {},
     "output_type": "execute_result"
    }
   ],
   "source": [
    "multiply_some_numbers(3, 4, 5, 7)"
   ]
  },
  {
   "cell_type": "markdown",
   "metadata": {},
   "source": [
    "#### Secreto\n",
    "\n",
    "Y ahora, un secreto: la función de `print` utiliza esto por detrás."
   ]
  },
  {
   "cell_type": "code",
   "execution_count": 18,
   "metadata": {},
   "outputs": [
    {
     "name": "stdout",
     "output_type": "stream",
     "text": [
      "42\n",
      "Esto permite imprimir un número variable de argumentos.\n"
     ]
    }
   ],
   "source": [
    "print(42)\n",
    "print(\"Esto\", \"permite\", \"imprimir\", \"un\", \"número\", \"variable\", \"de\", \"argumentos.\")"
   ]
  },
  {
   "cell_type": "markdown",
   "metadata": {},
   "source": [
    "### Decoradores para funciones con cualquier cantidad de argumentos\n",
    "\n",
    "Entonces, volviendo al primer decorador…  \n",
    "Ahora, agreguemos los `*args` y `**kwargs`."
   ]
  },
  {
   "cell_type": "code",
   "execution_count": 19,
   "metadata": {},
   "outputs": [],
   "source": [
    "def deco_function(original_function):\n",
    "    print(\"Entrando... (1)\")\n",
    "    \n",
    "    def wrapper_function(*args, **kwargs):    \n",
    "        print(\"Entrando... (2)\")\n",
    "        original_function(*args, **kwargs)\n",
    "        print(\"Saliendo... (2)\")\n",
    "    \n",
    "    print(\"Saliendo... (1)\")\n",
    "    return wrapper_function"
   ]
  },
  {
   "cell_type": "code",
   "execution_count": 20,
   "metadata": {},
   "outputs": [
    {
     "name": "stdout",
     "output_type": "stream",
     "text": [
      "Entrando... (1)\n",
      "Saliendo... (1)\n"
     ]
    }
   ],
   "source": [
    "@deco_function\n",
    "def print_bebida(bebida):\n",
    "    print(f\"Este dieciocho, me tomé dos litros de {bebida} por día.\")"
   ]
  },
  {
   "cell_type": "markdown",
   "metadata": {},
   "source": [
    "Veamos nuevamente el resultado."
   ]
  },
  {
   "cell_type": "code",
   "execution_count": 21,
   "metadata": {},
   "outputs": [
    {
     "name": "stdout",
     "output_type": "stream",
     "text": [
      "Entrando... (2)\n",
      "Este dieciocho, me tomé dos litros de pipeño por día.\n",
      "Saliendo... (2)\n"
     ]
    }
   ],
   "source": [
    "print_bebida(\"pipeño\")"
   ]
  },
  {
   "cell_type": "markdown",
   "metadata": {},
   "source": [
    "Ahora sí funcionó. 😀"
   ]
  },
  {
   "cell_type": "markdown",
   "metadata": {},
   "source": [
    "### Decoradores con parámetros\n",
    "\n",
    "Si queremos crear decoradores que acepten parámetros, debemos agregar un tercer nivel de funciones anidadas. Cada nivel tiene un rol:\n",
    "\n",
    "- La función más externa es el constructor del decorador.\n",
    "- La función intermedia es el decorador.\n",
    "- La función más interna es la función modificada.\n",
    "\n",
    "En general, esta estructura se ve de la siguiente manera:"
   ]
  },
  {
   "cell_type": "code",
   "execution_count": 22,
   "metadata": {},
   "outputs": [],
   "source": [
    "# Función creadora de decoradores. \n",
    "# Recibe parámetros para personalizar nuestro decorador.\n",
    "def my_decorator_constructor(dec_parameters):\n",
    "    # Función decoradora. Recibe sólo una función.\n",
    "    def my_decorator(function): \n",
    "        # Wrapper. Acá podemos leer los argumentos recibidos.\n",
    "        # en las dos funciones que están en niveles superiores.\n",
    "        def wrapped_function(*args, **kwargs):\n",
    "            # Hacer algo aquí antes de aplicar la función.\n",
    "            # Llamar a la función y obtener lo que retorna.\n",
    "            res = function(*args, **kwargs)\n",
    "            # Hacer algo después.\n",
    "            # Retornar un valor.\n",
    "            return res\n",
    "        return wrapped_function # Retorna la sub función.\n",
    "    return my_decorator # Retorna el decorador."
   ]
  },
  {
   "cell_type": "markdown",
   "metadata": {},
   "source": [
    "**Veamos un ejemplo.** Siguiendo con nuestros ejemplos dieciocheros, primero definamos un decorador etílico sin parámetros:"
   ]
  },
  {
   "cell_type": "code",
   "execution_count": 23,
   "metadata": {},
   "outputs": [],
   "source": [
    "# Sleep pausará la ejecución del programa por la cantidad de segundos que se indique\n",
    "from time import sleep as caña\n",
    "\n",
    "def caña_de_pipeño(original_function):\n",
    "    def wrapper(*args, **kwargs):\n",
    "        caña(3)  # Pausa por 3 segundos\n",
    "        return original_function(*args, **kwargs)\n",
    "\n",
    "    return wrapper"
   ]
  },
  {
   "cell_type": "markdown",
   "metadata": {},
   "source": [
    "Definamos una simple función decorada."
   ]
  },
  {
   "cell_type": "code",
   "execution_count": 24,
   "metadata": {},
   "outputs": [],
   "source": [
    "@caña_de_pipeño\n",
    "def add_twelve(number):\n",
    "    return number + 12"
   ]
  },
  {
   "cell_type": "markdown",
   "metadata": {},
   "source": [
    "Veamos el resultado."
   ]
  },
  {
   "cell_type": "code",
   "execution_count": 25,
   "metadata": {},
   "outputs": [
    {
     "name": "stdout",
     "output_type": "stream",
     "text": [
      "¡Feliz 18 para todos!\n"
     ]
    }
   ],
   "source": [
    "print(f\"¡Feliz {add_twelve(6)} para todos!\")"
   ]
  },
  {
   "cell_type": "markdown",
   "metadata": {},
   "source": [
    "La función demoró en responder.\n",
    "\n",
    "Ahora, imaginemos que buscamos implementar lo mismo, pero con un parámetro que indique qué bebida tomamos."
   ]
  },
  {
   "cell_type": "code",
   "execution_count": 26,
   "metadata": {},
   "outputs": [],
   "source": [
    "def caña_de(bebida):\n",
    "    def deco_function(original_function):\n",
    "        def wrapper(*args, **kwargs):\n",
    "            if bebida == \"vino\":\n",
    "                caña(2)\n",
    "                print(\"Ayuda, por favor.\")\n",
    "            elif bebida == \"pipeño\":\n",
    "                caña(3)\n",
    "                print(\"¿Dónde estoy? ¿Quién soy?\")\n",
    "                args = (0, )  # Para acrecentar los efectos del pipeño,\n",
    "                              # podemos también cambiar los parámetros.\n",
    "            else:\n",
    "                print(\"No hay caña.\")\n",
    "            return original_function(*args, **kwargs)\n",
    "        \n",
    "        return wrapper\n",
    "    return deco_function"
   ]
  },
  {
   "cell_type": "markdown",
   "metadata": {},
   "source": [
    "Definimos la misma función, pero ahora con el decorador recién definido."
   ]
  },
  {
   "cell_type": "code",
   "execution_count": 27,
   "metadata": {},
   "outputs": [],
   "source": [
    "@caña_de(\"pipeño\")\n",
    "def add_twelve(number):\n",
    "    return number + 12"
   ]
  },
  {
   "cell_type": "markdown",
   "metadata": {},
   "source": [
    "Analicemos los efectos del pipeño."
   ]
  },
  {
   "cell_type": "code",
   "execution_count": 28,
   "metadata": {
    "scrolled": true
   },
   "outputs": [
    {
     "name": "stdout",
     "output_type": "stream",
     "text": [
      "¿Dónde estoy? ¿Quién soy?\n",
      "¡Feliz 12 para todos!\n"
     ]
    }
   ],
   "source": [
    "print(f\"¡Feliz {add_twelve(6)} para todos!\")"
   ]
  },
  {
   "cell_type": "markdown",
   "metadata": {},
   "source": [
    "Claro… por lo que ocurrió el [12 de febrero de 1818](https://es.wikipedia.org/wiki/Acta_de_Independencia_de_Chile).\n",
    "\n",
    "Podemos ver que además de demorar 3 segundos en dar la respuesta, los argumentos dados a `add_twelve` fueron reemplazados con una tupla con un cero. De hecho, si intentamos con otro valor:"
   ]
  },
  {
   "cell_type": "code",
   "execution_count": 29,
   "metadata": {},
   "outputs": [
    {
     "name": "stdout",
     "output_type": "stream",
     "text": [
      "¿Dónde estoy? ¿Quién soy?\n",
      "¡Feliz 12 para todos!\n"
     ]
    }
   ],
   "source": [
    "print(f\"¡Feliz {add_twelve(33)} para todos!\")"
   ]
  },
  {
   "cell_type": "markdown",
   "metadata": {},
   "source": [
    "Obtenemos el mismo resultado."
   ]
  }
 ],
 "metadata": {
  "kernelspec": {
   "display_name": "Python 3",
   "language": "python",
   "name": "python3"
  },
  "language_info": {
   "codemirror_mode": {
    "name": "ipython",
    "version": 3
   },
   "file_extension": ".py",
   "mimetype": "text/x-python",
   "name": "python",
   "nbconvert_exporter": "python",
   "pygments_lexer": "ipython3",
   "version": "3.6.6"
  }
 },
 "nbformat": 4,
 "nbformat_minor": 2
}
