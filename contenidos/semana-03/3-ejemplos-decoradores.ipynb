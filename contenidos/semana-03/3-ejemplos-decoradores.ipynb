{
 "cells": [
  {
   "cell_type": "markdown",
   "metadata": {},
   "source": [
    "<p>\n",
    "<font size='5' face='Georgia, Arial'>IIC-2233 Apunte Programación Avanzada</font><br>\n",
    "<font size='1'>Editado por Equipo Docente IIC2233 2018-1 y 2018-2. </font><br>\n",
    "<font size='1'>Incluye partes de un documento de Nebil Kawas 2017-2.</font><br>\n",
    "<font size='1'>Incluye partes de un material confeccionado por Karim Pichara y Christian Pieringer en 2015.</font>\n",
    "<br>\n",
    "</p>"
   ]
  },
  {
   "cell_type": "markdown",
   "metadata": {},
   "source": [
    "## Ejemplos de decoradores\n",
    "\n",
    "### Decorador sin constructor\n",
    "\n",
    "Acá definimos un decorador que nos permitirá hacer _logging_, cuando llamemos a una función decorada."
   ]
  },
  {
   "cell_type": "code",
   "execution_count": 1,
   "metadata": {},
   "outputs": [],
   "source": [
    "import time\n",
    "\n",
    "def logger(function):\n",
    "    def wrapper(*args, **kwargs):\n",
    "        start = time.time()\n",
    "        print(\"Ejecutando la función...\")\n",
    "        result = function(*args, **kwargs)\n",
    "        end = time.time()\n",
    "        print(f\"Finalizando la función. Demoró {end-start:.4f} segundos.\")\n",
    "        \n",
    "        return result\n",
    "    return wrapper"
   ]
  },
  {
   "cell_type": "markdown",
   "metadata": {},
   "source": [
    "### Un decorador con constructor\n",
    "\n",
    "Acá definimos un nuevo decorador que nos permitirá hacer algo similar al anterior.  \n",
    "Además, agregamos una funcionalidad para notificar si la ejecución ha demorado más que un _threshold_ específico."
   ]
  },
  {
   "cell_type": "code",
   "execution_count": 2,
   "metadata": {},
   "outputs": [],
   "source": [
    "import time \n",
    "\n",
    "def timer(threshold=2): # Podemos, incluso, entregarle un parámetro opcional.\n",
    "    def check_time(func):\n",
    "        def wrapper(*args, **kwargs):\n",
    "            start = time.time()\n",
    "            result = func(*args, **kwargs)\n",
    "            end = time.time()\n",
    "            \n",
    "            if end - start > threshold:\n",
    "                print(\"[Warning] La ejecución ha tomado mucho tiempo\")\n",
    "            \n",
    "            return result\n",
    "        return wrapper\n",
    "    return check_time"
   ]
  },
  {
   "cell_type": "markdown",
   "metadata": {},
   "source": [
    "Creamos dos funciones de suma: una normal, y otra un poco más somnolienta.  \n",
    "Y además, aprovechamos de aplicarles distintos decoradores recién definidos."
   ]
  },
  {
   "cell_type": "code",
   "execution_count": 3,
   "metadata": {},
   "outputs": [],
   "source": [
    "@timer(1)\n",
    "def normal_sum(a, b):\n",
    "    return a + b\n",
    "\n",
    "@logger\n",
    "@timer(2)\n",
    "def sleepy_sum(a, b, c):\n",
    "    time.sleep(3)\n",
    "    return a + b + c"
   ]
  },
  {
   "cell_type": "code",
   "execution_count": 4,
   "metadata": {},
   "outputs": [
    {
     "name": "stdout",
     "output_type": "stream",
     "text": [
      "Resultado: 7\n",
      "\n",
      "\n",
      "Ejecutando la función...\n",
      "[Warning] La ejecución ha tomado mucho tiempo\n",
      "Finalizando la función. Demoró 3.0035 segundos.\n",
      "Resultado: 15\n"
     ]
    }
   ],
   "source": [
    "print(\"Resultado:\", normal_sum(3, 4))\n",
    "print()\n",
    "print()\n",
    "print(\"Resultado:\", sleepy_sum(4, 5, 6))"
   ]
  },
  {
   "cell_type": "markdown",
   "metadata": {},
   "source": [
    "### Más aplicaciones\n",
    "\n",
    "#### Memorización de cómputos\n",
    "\n",
    "\n",
    "Supongamos que tenemos la siguiente implementación recursiva de la función que retorna los números de Fibonacci."
   ]
  },
  {
   "cell_type": "code",
   "execution_count": 5,
   "metadata": {},
   "outputs": [],
   "source": [
    "def fib(n):\n",
    "    print(f\"Calculando el número {n} de Fibonacci\")\n",
    "    if n == 0 or n == 1:\n",
    "        return n\n",
    "    else:\n",
    "        return fib(n - 1) + fib(n - 2)"
   ]
  },
  {
   "cell_type": "markdown",
   "metadata": {},
   "source": [
    "Veamos qué pasa cuando queremos, por ejemplo, el cuarto número de Fibonacci."
   ]
  },
  {
   "cell_type": "code",
   "execution_count": 6,
   "metadata": {},
   "outputs": [
    {
     "name": "stdout",
     "output_type": "stream",
     "text": [
      "Calculando el número 4 de Fibonacci\n",
      "Calculando el número 3 de Fibonacci\n",
      "Calculando el número 2 de Fibonacci\n",
      "Calculando el número 1 de Fibonacci\n",
      "Calculando el número 0 de Fibonacci\n",
      "Calculando el número 1 de Fibonacci\n",
      "Calculando el número 2 de Fibonacci\n",
      "Calculando el número 1 de Fibonacci\n",
      "Calculando el número 0 de Fibonacci\n"
     ]
    },
    {
     "data": {
      "text/plain": [
       "3"
      ]
     },
     "execution_count": 6,
     "metadata": {},
     "output_type": "execute_result"
    }
   ],
   "source": [
    "fib(4)"
   ]
  },
  {
   "cell_type": "markdown",
   "metadata": {},
   "source": [
    "Si nos fijamos bien, hemos calculado dos veces el número 2, tres veces el 1 y otras dos veces el número 0. Esto empeora a la hora de pedir números más grandes. Podemos concluir que esta implementación no es muy eficiente, debido a que repetimos cálculos innecesariamente. Para resolver eso, podríamos \"memorizar\" los números ya calculados de tal manera de no tener que volver a computarlos si ya lo hemos hecho. \n",
    "\n",
    "Podemos usar un decorador que tome la función `fib` y le agregue una memoria, que verifique primero si ya hemos calculado un número (y si es así, lo retornamos). En caso de que no lo hayamos calculado, llamamos a la función original para que lo haga."
   ]
  },
  {
   "cell_type": "code",
   "execution_count": 7,
   "metadata": {},
   "outputs": [],
   "source": [
    "def memoize(function):\n",
    "    data = {}\n",
    "    def wrapper(x):  # Notar que este decorador sólo servirá para funciones con un parámetro.\n",
    "        if x not in data:\n",
    "            # En caso de que no hayamos calculado el número x, lo calculamos y guardamos.\n",
    "            data[x] = function(x)\n",
    "        return data[x]\n",
    "    return wrapper"
   ]
  },
  {
   "cell_type": "code",
   "execution_count": 8,
   "metadata": {},
   "outputs": [],
   "source": [
    "@memoize\n",
    "def fib(n):\n",
    "    print(f\"Calculando el número {n} de Fibonacci\")\n",
    "    if n == 0 or n == 1:\n",
    "        return n\n",
    "    else:\n",
    "        return fib(n - 1) + fib(n - 2)"
   ]
  },
  {
   "cell_type": "markdown",
   "metadata": {},
   "source": [
    "Ahora, veamos que sucede."
   ]
  },
  {
   "cell_type": "code",
   "execution_count": 9,
   "metadata": {},
   "outputs": [
    {
     "name": "stdout",
     "output_type": "stream",
     "text": [
      "Calculando el número 4 de Fibonacci\n",
      "Calculando el número 3 de Fibonacci\n",
      "Calculando el número 2 de Fibonacci\n",
      "Calculando el número 1 de Fibonacci\n",
      "Calculando el número 0 de Fibonacci\n"
     ]
    },
    {
     "data": {
      "text/plain": [
       "3"
      ]
     },
     "execution_count": 9,
     "metadata": {},
     "output_type": "execute_result"
    }
   ],
   "source": [
    "fib(4)"
   ]
  },
  {
   "cell_type": "markdown",
   "metadata": {},
   "source": [
    "Verificamos que calculamos cada número una sola vez."
   ]
  },
  {
   "cell_type": "markdown",
   "metadata": {},
   "source": [
    "#### Verificar tipo de los parámetros de las funciones\n",
    "\n",
    "Creemos un decorador que verifique el tipo de los parámetros recibidos en una función, y que en caso de no corresponder al tipo, lance una excepción.\n",
    "\n",
    "Queremos poder especificar el tipo a verificar, por lo que el decorador debe recibir un parámetro con esa información. Y antes de ejecutar la función a decorar, debemos verificar todos los parámetros recibidos. Una solución al problema se muestra abajo."
   ]
  },
  {
   "cell_type": "code",
   "execution_count": 10,
   "metadata": {},
   "outputs": [],
   "source": [
    "from itertools import chain\n",
    "\n",
    "def check_type(type_):\n",
    "    def decorator(function):\n",
    "        def wrapper(*args, **kwargs):\n",
    "            for argument in chain(args, kwargs.values()):\n",
    "                if not isinstance(argument, type_):\n",
    "                    raise TypeError(f\"El valor {argument} no es instancia de {type_}\")\n",
    "                return function(*args, **kwargs)\n",
    "        return wrapper\n",
    "    return decorator"
   ]
  },
  {
   "cell_type": "markdown",
   "metadata": {},
   "source": [
    "Ahora, definamos una función para concatenar dos _strings_."
   ]
  },
  {
   "cell_type": "code",
   "execution_count": 11,
   "metadata": {},
   "outputs": [
    {
     "name": "stdout",
     "output_type": "stream",
     "text": [
      "3\n",
      "JesusChrist\n"
     ]
    }
   ],
   "source": [
    "def concat_strings(str1, str2):\n",
    "    return str1 + str2\n",
    "\n",
    "print(concat_strings(1, 2))\n",
    "print(concat_strings(\"Jesus\", \"Christ\"))"
   ]
  },
  {
   "cell_type": "markdown",
   "metadata": {},
   "source": [
    "Este comportamiento no es el esperado de esta función, pues solo queríamos que permita concatenar strings. Vamos a decorarla."
   ]
  },
  {
   "cell_type": "code",
   "execution_count": 12,
   "metadata": {},
   "outputs": [],
   "source": [
    "@check_type(str)\n",
    "def concat_strings(str1, str2):\n",
    "    return str1 + str2"
   ]
  },
  {
   "cell_type": "markdown",
   "metadata": {},
   "source": [
    "Si intentamos usar la función decorada para sumar enteros, tendremos un error. Este error no ocurria cuando usábamos la función no decorada"
   ]
  },
  {
   "cell_type": "code",
   "execution_count": 13,
   "metadata": {},
   "outputs": [
    {
     "ename": "TypeError",
     "evalue": "El valor 1 no es instancia de <class 'str'>",
     "output_type": "error",
     "traceback": [
      "\u001b[0;31m---------------------------------------------------------------------------\u001b[0m",
      "\u001b[0;31mTypeError\u001b[0m                                 Traceback (most recent call last)",
      "\u001b[0;32m<ipython-input-13-fffd9ad2255d>\u001b[0m in \u001b[0;36m<module>\u001b[0;34m()\u001b[0m\n\u001b[0;32m----> 1\u001b[0;31m \u001b[0mconcat_strings\u001b[0m\u001b[0;34m(\u001b[0m\u001b[0;36m1\u001b[0m\u001b[0;34m,\u001b[0m \u001b[0;36m2\u001b[0m\u001b[0;34m)\u001b[0m\u001b[0;34m\u001b[0m\u001b[0m\n\u001b[0m",
      "\u001b[0;32m<ipython-input-10-e1462181d3de>\u001b[0m in \u001b[0;36mwrapper\u001b[0;34m(*args, **kwargs)\u001b[0m\n\u001b[1;32m      6\u001b[0m             \u001b[0;32mfor\u001b[0m \u001b[0margument\u001b[0m \u001b[0;32min\u001b[0m \u001b[0mchain\u001b[0m\u001b[0;34m(\u001b[0m\u001b[0margs\u001b[0m\u001b[0;34m,\u001b[0m \u001b[0mkwargs\u001b[0m\u001b[0;34m.\u001b[0m\u001b[0mvalues\u001b[0m\u001b[0;34m(\u001b[0m\u001b[0;34m)\u001b[0m\u001b[0;34m)\u001b[0m\u001b[0;34m:\u001b[0m\u001b[0;34m\u001b[0m\u001b[0m\n\u001b[1;32m      7\u001b[0m                 \u001b[0;32mif\u001b[0m \u001b[0;32mnot\u001b[0m \u001b[0misinstance\u001b[0m\u001b[0;34m(\u001b[0m\u001b[0margument\u001b[0m\u001b[0;34m,\u001b[0m \u001b[0mtype_\u001b[0m\u001b[0;34m)\u001b[0m\u001b[0;34m:\u001b[0m\u001b[0;34m\u001b[0m\u001b[0m\n\u001b[0;32m----> 8\u001b[0;31m                     \u001b[0;32mraise\u001b[0m \u001b[0mTypeError\u001b[0m\u001b[0;34m(\u001b[0m\u001b[0;34mf\"El valor {argument} no es instancia de {type_}\"\u001b[0m\u001b[0;34m)\u001b[0m\u001b[0;34m\u001b[0m\u001b[0m\n\u001b[0m\u001b[1;32m      9\u001b[0m                 \u001b[0;32mreturn\u001b[0m \u001b[0mfunction\u001b[0m\u001b[0;34m(\u001b[0m\u001b[0;34m*\u001b[0m\u001b[0margs\u001b[0m\u001b[0;34m,\u001b[0m \u001b[0;34m**\u001b[0m\u001b[0mkwargs\u001b[0m\u001b[0;34m)\u001b[0m\u001b[0;34m\u001b[0m\u001b[0m\n\u001b[1;32m     10\u001b[0m         \u001b[0;32mreturn\u001b[0m \u001b[0mwrapper\u001b[0m\u001b[0;34m\u001b[0m\u001b[0m\n",
      "\u001b[0;31mTypeError\u001b[0m: El valor 1 no es instancia de <class 'str'>"
     ]
    }
   ],
   "source": [
    "concat_strings(1, 2)"
   ]
  },
  {
   "cell_type": "markdown",
   "metadata": {},
   "source": [
    "Mientras tanto, si concatenamos _strings_ lo podremos hacer sin problemas:"
   ]
  },
  {
   "cell_type": "code",
   "execution_count": 14,
   "metadata": {},
   "outputs": [
    {
     "data": {
      "text/plain": [
       "'JesusChrist'"
      ]
     },
     "execution_count": 14,
     "metadata": {},
     "output_type": "execute_result"
    }
   ],
   "source": [
    "concat_strings(\"Jesus\", \"Christ\")"
   ]
  }
 ],
 "metadata": {
  "kernelspec": {
   "display_name": "Python 3",
   "language": "python",
   "name": "python3"
  },
  "language_info": {
   "codemirror_mode": {
    "name": "ipython",
    "version": 3
   },
   "file_extension": ".py",
   "mimetype": "text/x-python",
   "name": "python",
   "nbconvert_exporter": "python",
   "pygments_lexer": "ipython3",
   "version": "3.6.6"
  }
 },
 "nbformat": 4,
 "nbformat_minor": 2
}
