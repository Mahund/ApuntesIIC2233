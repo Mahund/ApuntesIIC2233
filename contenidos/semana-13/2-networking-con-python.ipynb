{
 "cells": [
  {
   "cell_type": "markdown",
   "metadata": {},
   "source": [
    "# _Networking_ con Python\n",
    "\n",
    "**Recuerda que al leer este documento directamente desde GitHub, no estás aprovechando su contenido al 100%.\n",
    "Editando el código puedes aprender más que leyéndolo. Te recomendamos descargarlo y ejecutarlo desde tu computador para que puedas hacer modificaciones e interactuar con el código.**\n",
    "\n",
    "En este _notebook_, veremos cómo implementar nuestros programas para que puedan comunicarse a través de la red."
   ]
  },
  {
   "cell_type": "markdown",
   "metadata": {},
   "source": [
    "## Arquitectura cliente-servidor\n",
    "\n",
    "Esta arquitectura corresponde a un modelo de conexión entre máquinas, donde un servidor ofrece un servicio y los clientes consumen estos servicios. El rol del cliente es **iniciar la conexión al servidor**, y establecer comunicación con el servidor de acuerdo a los protocolos establecidos previamente. Por otro lado, el rol del servidor es **escuchar conexiones entrantes**; esto es, estar atento a las conexiones que intenten hacer los clientes, decidir si aceptar o no tal conexión, y entregar los servicios requeridos por el cliente. Ambas partes en la arquitectura cliente-servidor pueden aceptar conexiones del tipo TCP y UDP.\n",
    "\n",
    "![Fuente: http://en.wikipedia.org/wiki/Client%E2%80%93server_model](imgs/client-server-model.png)\n",
    "Fuente de la imagen: [Wikipedia](http://en.wikipedia.org/wiki/Client%E2%80%93server_model)"
   ]
  },
  {
   "cell_type": "markdown",
   "metadata": {},
   "source": [
    "## _Sockets_\n",
    "\n",
    "Un _**socket**_ es un objeto encargado de manejar la comunicación con un proceso corriendo en otra máquina, o en la misma máquina pero en otro puerto. Para crear un _socket_, primero necesitaremos especificar qué tipo de dirección IP otorgaremos (IPv4 o IPv6) y qué protocolo usaremos (TCP o UDP).\n",
    "\n",
    "En Python, los _sockets_ son provistos por el módulo `socket`. Para crear un _socket_, debemos crear una instancia de la clase `socket(family, type)`, donde `family` es el tipo de dirección IP que usaremos, y `type` es el protocolo que utilizaremos. Algunos de los valores permitidos son:\n",
    "\n",
    "- `family`\n",
    "    - `AF_INET` para direcciones IPv4\n",
    "    - `AF_INET6` para direcciones IPv6\n",
    "- `type`\n",
    "    - `SOCK_STREAM` para TCP\n",
    "    - `SOCK_DGRAM` para UDP\n",
    "\n",
    "Por ejemplo, para crear un _socket_ TCP con IPv4, lo hacemos de la siguiente manera."
   ]
  },
  {
   "cell_type": "code",
   "execution_count": 15,
   "metadata": {},
   "outputs": [],
   "source": [
    "import socket\n",
    "\n",
    "sock = socket.socket(socket.AF_INET, socket.SOCK_STREAM)"
   ]
  },
  {
   "cell_type": "markdown",
   "metadata": {},
   "source": [
    "### TCP\n",
    "\n",
    "#### Cliente TCP\n",
    "\n",
    "El cliente se conecta a un servidor y puerto dado con anterioridad. Para ello, debemos llamar al método `connect((host, port))` del _socket_. El método recibe una tupla, cuyo primer elemento debe ser una dirección IP acorde a lo que especificamos al momento de crear el _socket_, y el segundo elemento es el puerto al que nos queremos conectar. \n",
    "\n",
    "Opcionalmente, el primer elemento de la tupla puede ser un _string_ con el _hostname_, como por ejemplo, _python.org_. En ese caso, el sistema se encargará de averiguar la dirección IP para ese _hostname_.\n",
    "\n",
    "Por ejemplo, hagamos un cliente que se conecte a `23.253.135.79` en el puerto 80 vía TCP."
   ]
  },
  {
   "cell_type": "code",
   "execution_count": 16,
   "metadata": {},
   "outputs": [],
   "source": [
    "import socket\n",
    "\n",
    "sock = socket.socket(socket.AF_INET, socket.SOCK_STREAM)\n",
    "sock.connect(('23.253.135.79', 80))"
   ]
  },
  {
   "cell_type": "markdown",
   "metadata": {},
   "source": [
    "Si nos queremos conectar a [python.org](https://www.python.org) también lo podemos hacer, sin conocer su dirección IP."
   ]
  },
  {
   "cell_type": "code",
   "execution_count": 17,
   "metadata": {},
   "outputs": [],
   "source": [
    "import socket\n",
    "\n",
    "sock = socket.socket(socket.AF_INET, socket.SOCK_STREAM)\n",
    "sock.connect(('python.org', 80))"
   ]
  },
  {
   "cell_type": "markdown",
   "metadata": {},
   "source": [
    "Llegó la hora de enviar algún mensaje. Los _sockets_ sólo transmiten _bytes_, por lo que cualquier cosa que enviemos debemos codificarla. Para enviar un mensaje, se puede ocupar el método `sendall(bytes)`."
   ]
  },
  {
   "cell_type": "code",
   "execution_count": 18,
   "metadata": {},
   "outputs": [],
   "source": [
    "sock.sendall('GET / HTTP/1.1\\n\\n\\n'.encode('ascii'))"
   ]
  },
  {
   "cell_type": "markdown",
   "metadata": {},
   "source": [
    "¿Qué nos habrá respondido el servidor? Para saberlo, debemos ocupar el método `recv(buffer)`, que nos retornará un objeto `bytes`. El parámetro que recibe este método es la cantidad máxima de _bytes_ que será leída. La documentación sugiere colocar una potencia de 2 pequeña, como 4.096."
   ]
  },
  {
   "cell_type": "code",
   "execution_count": 19,
   "metadata": {},
   "outputs": [
    {
     "name": "stdout",
     "output_type": "stream",
     "text": [
      "HTTP/1.1 301 Moved Permanently\r\n",
      "Location: https://23.253.135.79/\r\n",
      "Connection: Keep-Alive\r\n",
      "Content-length: 0\r\n",
      "\r\n",
      "\n"
     ]
    }
   ],
   "source": [
    "data = sock.recv(4096)\n",
    "print(data.decode('ascii'))"
   ]
  },
  {
   "cell_type": "markdown",
   "metadata": {},
   "source": [
    "El último paso, pero no el menos importante: **debemos cerrar la conexión**"
   ]
  },
  {
   "cell_type": "code",
   "execution_count": 20,
   "metadata": {},
   "outputs": [],
   "source": [
    "sock.close()"
   ]
  },
  {
   "cell_type": "markdown",
   "metadata": {},
   "source": [
    "Hagamos el ejercicio completo en una sola celda. Además, aprovechemos de manejar las excepciones pues, en _networking_, es muy probable que se produzcan errores."
   ]
  },
  {
   "cell_type": "code",
   "execution_count": 21,
   "metadata": {},
   "outputs": [
    {
     "name": "stdout",
     "output_type": "stream",
     "text": [
      "HTTP/1.1 301 Moved Permanently\r\n",
      "Location: https://23.253.135.79/\r\n",
      "Connection: Keep-Alive\r\n",
      "Content-length: 0\r\n",
      "\r\n",
      "\n"
     ]
    }
   ],
   "source": [
    "import socket\n",
    "\n",
    "sock = socket.socket(socket.AF_INET, socket.SOCK_STREAM)\n",
    "\n",
    "try:\n",
    "    sock.connect(('python.org', 80))\n",
    "    sock.sendall('GET / HTTP/1.1\\n\\n\\n'.encode('ascii'))\n",
    "    data = sock.recv(4096)\n",
    "    print(data.decode('ascii'))\n",
    "except ConnectionError as e:\n",
    "    print(\"Ocurrió un error.\")\n",
    "finally:\n",
    "    # ¡No olvidemos cerrar la conexión!\n",
    "    sock.close()"
   ]
  },
  {
   "cell_type": "markdown",
   "metadata": {},
   "source": [
    "#### Servidor TCP\n",
    "\n",
    "El servidor debe escuchar las conexiones que le llegan a él a cierto puerto. Para ello, debemos \"enlazar\" un _socket_ a ese puerto con el método `bind((host, port))`. El primer elemento de la tupla es el _hostname_ de la máquina en que estamos corriendo el servidor; el segundo elemento es el puerto donde queremos escuchar las conexiones.\n",
    "\n",
    "Supongamos que queremos escuchar en el puerto 9000."
   ]
  },
  {
   "cell_type": "code",
   "execution_count": null,
   "metadata": {},
   "outputs": [],
   "source": [
    "import socket\n",
    "\n",
    "sock = socket.socket(socket.AF_INET, socket.SOCK_STREAM)\n",
    "\n",
    "# Así podemos obtener el hostname de la máquina.\n",
    "host = socket.gethostname()\n",
    "port = 9000\n",
    "\n",
    "sock.bind((host, port))"
   ]
  },
  {
   "cell_type": "markdown",
   "metadata": {},
   "source": [
    "En el cliente no es necesario hacer un _bind_ entre el _host_ y el puerto, ya que el sistema operativo lo hace implícitamente a través del método `connect`, asignando al cliente un puerto aleatorio. Si el servidor al cual nos conectamos exigiera que el puerto de cada cliente esté en un rango específico, tendríamos que \"enlazar\" el cliente a un puerto específico también.\n",
    "\n",
    "Ahora, empecemos a escuchar conexiones con el método `listen()`."
   ]
  },
  {
   "cell_type": "code",
   "execution_count": null,
   "metadata": {},
   "outputs": [],
   "source": [
    "sock.listen()"
   ]
  },
  {
   "cell_type": "markdown",
   "metadata": {},
   "source": [
    "Ahora, empecemos a aceptar conexiones. Para ello, ocupamos el método `accept()`, que nos retornará un _socket_ con el que podremos comunicarnos con ese cliente en específico, y una dirección IP de ese cliente. El método esperará hasta que haya una conexión entrante; por lo tanto, si nadie se conecta, el programa quedará congelado."
   ]
  },
  {
   "cell_type": "code",
   "execution_count": null,
   "metadata": {},
   "outputs": [],
   "source": [
    "while True:\n",
    "    socket_cliente, address = sock.accept()\n",
    "    print(\"Conexión aceptada desde\", address)\n",
    "    socket_cliente.sendall(\"Gracias por conectarte\\n\".encode(\"ascii\"))\n",
    "    socket_cliente.close()"
   ]
  },
  {
   "cell_type": "markdown",
   "metadata": {},
   "source": [
    "Cuando queramos terminar el programa servidor, debemos cerrar el _socket_ que estaba aceptando las conexiones."
   ]
  },
  {
   "cell_type": "code",
   "execution_count": null,
   "metadata": {},
   "outputs": [],
   "source": [
    "sock.close()"
   ]
  },
  {
   "cell_type": "markdown",
   "metadata": {},
   "source": [
    "Hagamos el ejercicio completo en una sola celda. Supondremos que queremos que el servidor se cierre después de aceptar cinco clientes."
   ]
  },
  {
   "cell_type": "code",
   "execution_count": null,
   "metadata": {},
   "outputs": [],
   "source": [
    "import socket\n",
    "\n",
    "sock = socket.socket(socket.AF_INET, socket.SOCK_STREAM)\n",
    "\n",
    "# Así podemos obtener el hostname de la máquina.\n",
    "host = socket.gethostname()\n",
    "port = 9000\n",
    "\n",
    "sock.bind((host, port))\n",
    "sock.listen()\n",
    "\n",
    "counter = 0\n",
    "while counter < 5:\n",
    "    try:\n",
    "        socket_cliente, address = sock.accept()\n",
    "        print(\"Conexión aceptada desde\", address)\n",
    "        socket_cliente.sendall(\"Gracias por conectarte\\n\".encode(\"ascii\"))\n",
    "        socket_cliente.close()\n",
    "        counter += 1\n",
    "    except ConnectionError:\n",
    "        print(\"Ocurrió un error.\")\n",
    "\n",
    "sock.close()"
   ]
  },
  {
   "cell_type": "markdown",
   "metadata": {},
   "source": [
    "El siguiente código corresponde a un posible cliente para el servidor implementado en la celda anterior."
   ]
  },
  {
   "cell_type": "code",
   "execution_count": null,
   "metadata": {},
   "outputs": [],
   "source": [
    "import socket\n",
    "\n",
    "sock = socket.socket(socket.AF_INET, socket.SOCK_STREAM)\n",
    "\n",
    "# Obtenemos el nombre de la máquina a la que nos queremos conectar.\n",
    "# En este caso, nos queremos conectar a esta misma máquina.\n",
    "host = socket.gethostname()\n",
    "port = 9000\n",
    "\n",
    "sock.connect((host, port))\n",
    "data = sock.recv(4096)\n",
    "print(data.decode(\"ascii\"))\n",
    "print(\"lol\")\n",
    "sock.close() "
   ]
  },
  {
   "cell_type": "markdown",
   "metadata": {},
   "source": [
    "### UDP\n",
    "\n",
    "#### Cliente UDP\n",
    "\n",
    "Dado que el protocolo UDP no establece una conexión, la comunicación UDP es mucho más simple de implementar. Por ejemplo, para enviar un mensaje como cliente a un servidor simplemente ocupamos el método `sendto(mensaje, (host_destino, puerto_destino))` como se muestra a continuación."
   ]
  },
  {
   "cell_type": "code",
   "execution_count": null,
   "metadata": {},
   "outputs": [],
   "source": [
    "import socket\n",
    "\n",
    "server_host = socket.gethostname()\n",
    "server_port = 15000\n",
    "\n",
    "sock = socket.socket(socket.AF_INET, socket.SOCK_DGRAM)\n",
    "mensaje = \"Hola, simplemente te estoy enviando un mensaje.\".encode('ascii')\n",
    "sock.sendto(mensaje, (server_host, server_port))"
   ]
  },
  {
   "cell_type": "markdown",
   "metadata": {},
   "source": [
    "Opcionalmente, podemos recibir información enviada de vuelta. El metodo `recvfrom(buffer)` retorna, además de los datos, la dirección y puerto desde donde fueron enviados. Recordemos que el parámetro `buffer` es la cantidad máxima de _bytes_ que será leída, que se recomienda que sea una potencia de 2 pequeña."
   ]
  },
  {
   "cell_type": "code",
   "execution_count": null,
   "metadata": {},
   "outputs": [],
   "source": [
    "data, (host_origen, puerto_origen) = sock.recvfrom(4096)\n",
    "print(data.decode('utf-8'))"
   ]
  },
  {
   "cell_type": "markdown",
   "metadata": {},
   "source": [
    "Cuando terminemos de ocupar el _socket_, debemos cerrarlo."
   ]
  },
  {
   "cell_type": "code",
   "execution_count": null,
   "metadata": {},
   "outputs": [],
   "source": [
    "sock.close()"
   ]
  },
  {
   "cell_type": "markdown",
   "metadata": {},
   "source": [
    "#### Servidor UDP\n",
    "\n",
    "Si de forma similar queremos implementar un servidor que envía mensajes usando el protocolo UDP, simplemente debemos preocuparnos de responder a la misma dirección desde donde se nos ha enviado algún mensaje. Por ejemplo, el siguiente código podría representar al servidor que se comunica con el cliente implementado anteriormente."
   ]
  },
  {
   "cell_type": "code",
   "execution_count": null,
   "metadata": {},
   "outputs": [],
   "source": [
    "import socket\n",
    "\n",
    "sock = socket.socket(socket.AF_INET, socket.SOCK_DGRAM)\n",
    "\n",
    "# Con un string vacío como argumento del bind, indicamos que el socket es \n",
    "# alcanzable desde cualquier dirección que pueda tener el servidor.\n",
    "sock.bind((\"\", 15000))\n",
    "\n",
    "while True:\n",
    "    data, (host_cliente, puerto_cliente) = sock.recvfrom(4096)\n",
    "    print(data.decode('ascii'))\n",
    "    respuesta = f\"Aquí va mi respuesta para {host_cliente}.\"\n",
    "    sock.sendto(respuesta.encode('utf-8'), (host_cliente, puerto_cliente))"
   ]
  }
 ],
 "metadata": {
  "kernelspec": {
   "display_name": "Python 3",
   "language": "python",
   "name": "python3"
  },
  "language_info": {
   "codemirror_mode": {
    "name": "ipython",
    "version": 3
   },
   "file_extension": ".py",
   "mimetype": "text/x-python",
   "name": "python",
   "nbconvert_exporter": "python",
   "pygments_lexer": "ipython3",
   "version": "3.6.6"
  }
 },
 "nbformat": 4,
 "nbformat_minor": 2
}
