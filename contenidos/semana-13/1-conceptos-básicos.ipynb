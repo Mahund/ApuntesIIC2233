{
 "cells": [
  {
   "cell_type": "markdown",
   "metadata": {},
   "source": [
    "# _Networking_\n",
    "\n",
    "Hasta ahora, nuestros programas pueden leer o escribir archivos, y pueden correr varias tareas de forma pseudo-simultánea. Sin embargo, no hemos visto ninguna manera de interactuar con otros programas. La programación en redes nos permitirá crear programas capaces de comunicarse con otros programas, sin importar si están corriendo en la misma máquina o en distintas.\n",
    "\n",
    "## ¿Cómo se conectan los computadores?\n",
    "\n",
    "Para que los computadores se puedan comunicar, necesitamos:\n",
    "\n",
    "1. Un medio por donde transmitir los mensajes. Tenemos como ejemplo el Wi-Fi, un cable Ethernet, o una señal celular.\n",
    "3. Saber con qué máquina queremos comunicarnos.\n",
    "2. Un protocolo de comunicación; esto es, un conjunto de reglas que todos los actores deben respetar para comunicarse. Para efectos de este curso, veremos dos protocolos de red: TCP/IP y UDP.\n",
    "\n",
    "\n",
    "### ¿Cómo identificamos las máquinas dentro de internet?\n",
    "\n",
    "Todas las máquinas que se encuentran en una red reciben una etiqueta llamada **dirección IP**, que sirve para distinguirla de las demás. Para comunicarnos con una máquina, necesitaremos su dirección IP. En la actualidad, tenemos dos versiones.\n",
    "\n",
    "- **IPv4:** Es un número de 4 _bytes_ (32 bits). Normalmente se escriben en una notación _human-readable_, donde cada _byte_ se escribe separado por un punto, como por ejemplo, `192.30.253.112`. Hay $2^{32}$ posibles direcciones en este formato, cantidad que pronto será insuficiente para la cantidad de dispositivos conectados a internet. Por esto mismo, se desarrolló IPv6 para solucionar este problema.\n",
    "- **IPv6:** Este tipo de direcciones tiene 128 bits. Se escribe como ocho grupos de 16 bits separados por dos puntos, donde cada grupo de bits se escribe como un número hexadecimal, como por ejemplo, `2001:0db8:85a3:0000:0000:8a2e:0370:7334`. Hay $2^{128}$ direcciones posibles en este formato.\n",
    "\n",
    "Si estás leyendo esto desde GitHub, tu navegador se tuvo que comunicar con un servidor de GitHub para adquirir el contenido que estás viendo. Sin embargo, en ningún momento tuviste que ingresar la dirección IP de GitHub. Esto es gracias a los servidores DNS, que se encargan de traducir _hostnames_ como [github.com](https://github.com) a direcciones IP.\n",
    "\n",
    "#### Puertos\n",
    "\n",
    "Dentro de un mismo ordenador corren varios programas en forma simultánea. Varios de ellos podrían querer comunicarse a través de la red. Por ejemplo, tu navegador web y tu cliente de mensajería favorito. Ahora, ¿te imaginas lo complicado que sería si los mensajes llegaran mezclados? A raíz de esto, cada programa usa un **puerto** distinto para comunicarse.\n",
    "\n",
    "Un puerto es un número de 16 bits, por lo que existen $2^{16} = 65.536$ puertos posibles. Estos números van desde 0 hasta 65.535. Cada aplicación puede ocupar uno o más puertos de la máquina, pero sólo una aplicación puede estar ocupando un mismo puerto a la vez. El puerto de origen no tiene que ser igual que el puerto de destino. Por ejemplo, los servidores web usan el puerto 80 o 443 para recibir las solicitudes. No obstante, tu navegador web puede emitir su solicitud desde cualquier otro puerto.\n",
    "\n",
    "Normalmente, los servidores reciben las solicitudes en puertos estándares. En la tabla de abajo, hay algunos ejemplos.\n",
    "\n",
    "| Puerto | Descripción servidor     |\n",
    "| ------ | ------------------------ |\n",
    "| 21     | FTP                      |\n",
    "| 22     | SSH                      |\n",
    "| 25     | SMTP (email)             |\n",
    "| 37\t | Time                     |\n",
    "| 53\t | Domain Name System (DNS) |\n",
    "| 80     | HTTP (web)               |\n",
    "| 110    | POP3 (email)             |\n",
    "| 443    | HTTPS (web)              |\n",
    "\n",
    "En conclusión, para comunicarnos con un proceso remoto debemos tener **una dirección IP y un puerto**."
   ]
  },
  {
   "cell_type": "markdown",
   "metadata": {},
   "source": [
    "### TCP\n",
    "\n",
    "El protocolo TCP sirve para enviar y recibir un _stream_ de _bytes_ en forma confiable. El protocolo se preocupa de que los mensajes no se pierdan, lleguen en el orden en que se enviaron, y sin ningún tipo de alteraciones, obviamente mientras la conexión no falle. En caso de que se detecte pérdida de información o alguna falla en la conexión, los datos son retransmitidos hasta que lleguen satisfactoriamente. Cada paquete TCP lleva asociado una secuencia de números, de tal forma que el sistema que recibe los paquetes tiene la información necesaria para reensamblarlos en el orden correcto y ver si faltó alguno.\n",
    "\n",
    "Este protocolo es **orientado a conexión**; es decir, se debe establecer una conexión antes de enviar cualquier dato.\n",
    "\n",
    "La ventaja de este protocolo es la fiabilidad, a cambio de un poco más de latencia en la comunicación y encabezados más pesados. Ejemplos de uso incluyen los protocolos HTTP, HTTPS, o FTP."
   ]
  },
  {
   "cell_type": "markdown",
   "metadata": {},
   "source": [
    "### UDP\n",
    "\n",
    "El protocolo UDP sirve para enviar y recibir datos (datagramas), pero sin las garantías que entrega el protocolo TCP. Por ejemplo, los datos podrían llegar en distinto orden al que fueron enviados o simplemente nunca llegar. Cada paquete se maneja en forma independiente, por lo que los paquetes no llevan asociado un número de secuencia. Se dice que este protocolo hace _su mejor esfuerzo_ para enviar los mensajes, pero no entrega certezas.\n",
    "\n",
    "Este protocolo **no es orientado a conexión**; es decir, no es necesario establecer una conexión antes de enviar los datos.\n",
    "\n",
    "La ventaja de este protocolo es el poco _overhead_ en la comunicación, dado que no necesita mucha información en los encabezados de los paquetes, y una menor latencia que con el protocolo TCP. Ejemplos de uso incluyen aplicaciones donde es preferible que se pierdan algunos mensajes en vez de retrasar la comunicación, como el _streaming_ de audio o video, ciertos juegos en línea, etcétera."
   ]
  },
  {
   "cell_type": "markdown",
   "metadata": {},
   "source": [
    "## Encapsulamiento\n",
    "\n",
    "La comunicación entre dos dispositivos o procesos se divide conceptualmente en capas. Cada capa tiene una responsabilidad, usa la anterior y confía en que esta funciona correctamente. Existen dos modelos de capas: uno de ellos es el modelo OSI y el otro es el modelo TCP/IP.\n",
    "\n",
    "![](./imgs/osi.png)\n",
    "\n",
    "En las aplicaciones que hagas, sólo deberás usar la capa de transporte (protocolo TCP o UDP) que ya viene implementada. Tú, en cambio, deberás encargarte de mantener la conexión y reanudarla (capa de sesión), cifrar y comprimir la información si es necesario (capa de presentación), e implementar un protocolo para tu aplicación (capa de aplicación)."
   ]
  }
 ],
 "metadata": {
  "kernelspec": {
   "display_name": "Python 3",
   "language": "python",
   "name": "python3"
  },
  "language_info": {
   "codemirror_mode": {
    "name": "ipython",
    "version": 3
   },
   "file_extension": ".py",
   "mimetype": "text/x-python",
   "name": "python",
   "nbconvert_exporter": "python",
   "pygments_lexer": "ipython3",
   "version": "3.6.6"
  }
 },
 "nbformat": 4,
 "nbformat_minor": 2
}
